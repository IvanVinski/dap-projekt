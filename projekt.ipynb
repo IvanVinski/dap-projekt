{
 "cells": [
  {
   "attachments": {},
   "cell_type": "markdown",
   "metadata": {},
   "source": [
    "# Dubinska analiza podataka - projektni zadatak"
   ]
  },
  {
   "attachments": {},
   "cell_type": "markdown",
   "metadata": {},
   "source": [
    "## 1. Predprocesiranje podataka"
   ]
  },
  {
   "cell_type": "code",
   "execution_count": 147,
   "metadata": {
    "vscode": {
     "languageId": "r"
    }
   },
   "outputs": [],
   "source": [
    "# Ovo je tu jer ponekad zna prvu liniju u svakoj čeliji označit kao grešku makar sve radi,\n",
    "# ali me živcira to podcrtano. Pa treba ovo pokrenut, pa se od VS coda izbaci da se treba\n",
    "# instalirati 'languagepack' pa onda zatvorit i opet otvorit .ipynb file i nema više podcrtanog\n",
    "\n",
    "# lintr::use_lintr(type = \"tidyverse\")"
   ]
  },
  {
   "cell_type": "code",
   "execution_count": 5,
   "metadata": {
    "vscode": {
     "languageId": "r"
    }
   },
   "outputs": [
    {
     "name": "stderr",
     "output_type": "stream",
     "text": [
      "\n",
      "Attaching package: 'tidyr'\n",
      "\n",
      "\n",
      "The following object is masked from 'package:reshape2':\n",
      "\n",
      "    smiths\n",
      "\n",
      "\n",
      "The following objects are masked from 'package:Matrix':\n",
      "\n",
      "    expand, pack, unpack\n",
      "\n",
      "\n"
     ]
    }
   ],
   "source": [
    "#install.packages('neuralnet')\n",
    "#install.packages('randomForest')\n",
    "#install.packages('factoextra')\n",
    "#install.packages(\"arules\")\n",
    "#install.packages(\"arulesViz\")\n",
    "\n",
    "library(tidyr)\n",
    "library(dplyr)\n",
    "library(caret)\n",
    "library(neuralnet)\n",
    "library(randomForest)\n",
    "library(factoextra)\n",
    "library(arules)\n",
    "library(arulesViz)\n",
    "library(reshape2)\n",
    "library(cluster)"
   ]
  },
  {
   "cell_type": "code",
   "execution_count": 6,
   "metadata": {
    "vscode": {
     "languageId": "r"
    }
   },
   "outputs": [
    {
     "name": "stdout",
     "output_type": "stream",
     "text": [
      "'data.frame':\t1359 obs. of  22 variables:\n",
      " $ Index          : int  0 1 2 3 4 5 6 7 8 9 ...\n",
      " $ Name           : chr  \"OnePlus 7T Pro McLaren Edition\" \"Realme X2 Pro\" \"iPhone 11 Pro Max\" \"iPhone 11\" ...\n",
      " $ Brand          : chr  \"OnePlus\" \"Realme\" \"Apple\" \"Apple\" ...\n",
      " $ Model          : chr  \"7T Pro McLaren Edition\" \"X2 Pro\" \"iPhone 11 Pro Max\" \"iPhone 11\" ...\n",
      " $ BatteryCapacity: int  4085 4000 3969 3110 4000 3800 4085 4300 6000 4000 ...\n",
      " $ ScreenSize     : num  6.67 6.5 6.5 6.1 6.4 6.55 6.67 6.8 6.59 6.39 ...\n",
      " $ Touchscreen    : chr  \"Yes\" \"Yes\" \"Yes\" \"Yes\" ...\n",
      " $ ResolutionX    : int  1440 1080 1242 828 1080 1080 1440 1440 1080 1080 ...\n",
      " $ ResolutionY    : int  3120 2400 2688 1792 2340 2400 3120 3040 2340 2340 ...\n",
      " $ Processor      : int  8 8 6 6 8 8 8 8 8 8 ...\n",
      " $ RAM            : int  12000 6000 4000 4000 6000 8000 8000 12000 8000 6000 ...\n",
      " $ InternalStorage: num  256 64 64 64 128 128 256 256 128 128 ...\n",
      " $ RearCamera     : num  48 64 12 12 12 48 48 12 48 48 ...\n",
      " $ FrontCamera    : num  16 16 12 12 32 16 16 10 24 20 ...\n",
      " $ OS             : chr  \"Android\" \"Android\" \"iOS\" \"iOS\" ...\n",
      " $ WiFi           : chr  \"Yes\" \"Yes\" \"Yes\" \"Yes\" ...\n",
      " $ Bluetooth      : chr  \"Yes\" \"Yes\" \"Yes\" \"Yes\" ...\n",
      " $ GPS            : chr  \"Yes\" \"Yes\" \"Yes\" \"Yes\" ...\n",
      " $ SIMsNumber     : int  2 2 2 2 1 2 2 2 1 2 ...\n",
      " $ X3G            : chr  \"Yes\" \"Yes\" \"Yes\" \"Yes\" ...\n",
      " $ X4G.LTE        : chr  \"Yes\" \"Yes\" \"Yes\" \"Yes\" ...\n",
      " $ Price          : int  58998 27999 106900 62900 49990 34930 52990 79699 37999 23190 ...\n"
     ]
    }
   ],
   "source": [
    "# Importing data and displaying the internal structure\n",
    "phoneData <- read.csv('phone_specs.csv')\n",
    "\n",
    "str(phoneData)"
   ]
  },
  {
   "cell_type": "code",
   "execution_count": 7,
   "metadata": {
    "vscode": {
     "languageId": "r"
    }
   },
   "outputs": [
    {
     "data": {
      "text/plain": [
       "\n",
       "   Android BlackBerry   Cyanogen        iOS   Sailfish      Tizen    Windows \n",
       "      1299         10         10         17          1          3         19 "
      ]
     },
     "metadata": {},
     "output_type": "display_data"
    }
   ],
   "source": [
    "# OS data with name and frequency \n",
    "table(phoneData$OS)"
   ]
  },
  {
   "cell_type": "code",
   "execution_count": 8,
   "metadata": {
    "vscode": {
     "languageId": "r"
    }
   },
   "outputs": [],
   "source": [
    "phoneData <- phoneData %>%\n",
    "    filter(!(OS == 'Sailfish' | OS == 'Tizen')) %>%                       # delete rows with less know OS (only 3 rows) because One-hot-encoding\n",
    "    mutate(value = 1) %>% spread(OS, value,  fill = 0 ) %>%               # One-hot-encoding OS column\n",
    "    mutate(Price = round(Price / 87.95)) %>%                              # convert price (indian rupee to euro)\n",
    "    mutate(PriceCategory = ifelse(Price <= 200, 'Low-End',\n",
    "                           ifelse(Price <= 500, 'Mid-Range', 'High-End'))) %>%      # Defining price categories\n",
    "    filter(!(PriceCategory == 'Low-End' & RearCamera >= 20)) %>%\n",
    "    filter(!(PriceCategory == 'Low-End' & FrontCamera >= 10)) %>%\n",
    "    filter(!(PriceCategory == 'Low-End' & RAM > 4000)) %>%\n",
    "    filter(!(PriceCategory == 'Low-End' & InternalStorage > 64))          # Filtering some data to get better accuracy"
   ]
  },
  {
   "cell_type": "code",
   "execution_count": 9,
   "metadata": {
    "vscode": {
     "languageId": "r"
    }
   },
   "outputs": [
    {
     "data": {
      "text/html": [
       "<style>\n",
       ".list-inline {list-style: none; margin:0; padding: 0}\n",
       ".list-inline>li {display: inline-block}\n",
       ".list-inline>li:not(:last-child)::after {content: \"\\00b7\"; padding: 0 .5ex}\n",
       "</style>\n",
       "<ol class=list-inline><li>'Index'</li><li>'Name'</li><li>'Brand'</li><li>'Model'</li><li>'BatteryCapacity'</li><li>'ScreenSize'</li><li>'Touchscreen'</li><li>'ResolutionX'</li><li>'ResolutionY'</li><li>'Processor'</li><li>'RAM'</li><li>'InternalStorage'</li><li>'RearCamera'</li><li>'FrontCamera'</li><li>'WiFi'</li><li>'Bluetooth'</li><li>'GPS'</li><li>'SIMsNumber'</li><li>'X3G'</li><li>'X4G.LTE'</li><li>'Price'</li><li>'Android'</li><li>'BlackBerry'</li><li>'Cyanogen'</li><li>'iOS'</li><li>'Windows'</li><li>'PriceCategory'</li></ol>\n"
      ],
      "text/latex": [
       "\\begin{enumerate*}\n",
       "\\item 'Index'\n",
       "\\item 'Name'\n",
       "\\item 'Brand'\n",
       "\\item 'Model'\n",
       "\\item 'BatteryCapacity'\n",
       "\\item 'ScreenSize'\n",
       "\\item 'Touchscreen'\n",
       "\\item 'ResolutionX'\n",
       "\\item 'ResolutionY'\n",
       "\\item 'Processor'\n",
       "\\item 'RAM'\n",
       "\\item 'InternalStorage'\n",
       "\\item 'RearCamera'\n",
       "\\item 'FrontCamera'\n",
       "\\item 'WiFi'\n",
       "\\item 'Bluetooth'\n",
       "\\item 'GPS'\n",
       "\\item 'SIMsNumber'\n",
       "\\item 'X3G'\n",
       "\\item 'X4G.LTE'\n",
       "\\item 'Price'\n",
       "\\item 'Android'\n",
       "\\item 'BlackBerry'\n",
       "\\item 'Cyanogen'\n",
       "\\item 'iOS'\n",
       "\\item 'Windows'\n",
       "\\item 'PriceCategory'\n",
       "\\end{enumerate*}\n"
      ],
      "text/markdown": [
       "1. 'Index'\n",
       "2. 'Name'\n",
       "3. 'Brand'\n",
       "4. 'Model'\n",
       "5. 'BatteryCapacity'\n",
       "6. 'ScreenSize'\n",
       "7. 'Touchscreen'\n",
       "8. 'ResolutionX'\n",
       "9. 'ResolutionY'\n",
       "10. 'Processor'\n",
       "11. 'RAM'\n",
       "12. 'InternalStorage'\n",
       "13. 'RearCamera'\n",
       "14. 'FrontCamera'\n",
       "15. 'WiFi'\n",
       "16. 'Bluetooth'\n",
       "17. 'GPS'\n",
       "18. 'SIMsNumber'\n",
       "19. 'X3G'\n",
       "20. 'X4G.LTE'\n",
       "21. 'Price'\n",
       "22. 'Android'\n",
       "23. 'BlackBerry'\n",
       "24. 'Cyanogen'\n",
       "25. 'iOS'\n",
       "26. 'Windows'\n",
       "27. 'PriceCategory'\n",
       "\n",
       "\n"
      ],
      "text/plain": [
       " [1] \"Index\"           \"Name\"            \"Brand\"           \"Model\"          \n",
       " [5] \"BatteryCapacity\" \"ScreenSize\"      \"Touchscreen\"     \"ResolutionX\"    \n",
       " [9] \"ResolutionY\"     \"Processor\"       \"RAM\"             \"InternalStorage\"\n",
       "[13] \"RearCamera\"      \"FrontCamera\"     \"WiFi\"            \"Bluetooth\"      \n",
       "[17] \"GPS\"             \"SIMsNumber\"      \"X3G\"             \"X4G.LTE\"        \n",
       "[21] \"Price\"           \"Android\"         \"BlackBerry\"      \"Cyanogen\"       \n",
       "[25] \"iOS\"             \"Windows\"         \"PriceCategory\"  "
      ]
     },
     "metadata": {},
     "output_type": "display_data"
    }
   ],
   "source": [
    "names(phoneData)"
   ]
  },
  {
   "cell_type": "code",
   "execution_count": 10,
   "metadata": {
    "vscode": {
     "languageId": "r"
    }
   },
   "outputs": [],
   "source": [
    "# Removing columns that are not used for traning (Index, Name, Brand, Model and Price)\n",
    "phoneData <- phoneData[-c(1:4, 21)]"
   ]
  },
  {
   "cell_type": "code",
   "execution_count": 11,
   "metadata": {
    "vscode": {
     "languageId": "r"
    }
   },
   "outputs": [
    {
     "data": {
      "text/plain": [
       "\n",
       " High-End   Low-End Mid-Range \n",
       "       49       977       144 "
      ]
     },
     "metadata": {},
     "output_type": "display_data"
    }
   ],
   "source": [
    "table(phoneData$PriceCategory)"
   ]
  },
  {
   "attachments": {},
   "cell_type": "markdown",
   "metadata": {},
   "source": [
    "## 2. Klasifikacija - umjetne neuronske mreže"
   ]
  },
  {
   "cell_type": "code",
   "execution_count": 12,
   "metadata": {
    "vscode": {
     "languageId": "r"
    }
   },
   "outputs": [],
   "source": [
    "# Neuralnet requires normalized data and accepts only numerical values as input\n",
    "phoneData_nn <- phoneData %>%\n",
    "    mutate(across(c(Touchscreen, WiFi, Bluetooth, GPS, X3G, X4G.LTE), ~as.numeric(ifelse(.x == 'Yes', 1, 0)))) %>%    # convert categorical Yes/No to 1/0 \n",
    "    mutate(across(c(1:2, 4:10, 14), scale))                                                                           # normalization with scale() for numeric data"
   ]
  },
  {
   "attachments": {},
   "cell_type": "markdown",
   "metadata": {},
   "source": [
    "#### Prvi ANN model --> nauralnet paket"
   ]
  },
  {
   "cell_type": "code",
   "execution_count": 13,
   "metadata": {
    "vscode": {
     "languageId": "r"
    }
   },
   "outputs": [
    {
     "name": "stderr",
     "output_type": "stream",
     "text": [
      "hidden: 14    thresh: 0.01    rep: 1/1    steps: \n",
      "   1000\tmin thresh: 0.0996231409036611\n",
      "                                                 \n",
      "   2000\tmin thresh: 0.0546513793901923\n",
      "                                                 \n",
      "   3000\tmin thresh: 0.0253587093223993\n",
      "                                                 \n",
      "   4000\tmin thresh: 0.0108831842964161\n",
      "                                                 \n",
      "   4092\n",
      "\terror: 14.20329\n",
      "\ttime: 15.38 secs\n",
      "\n"
     ]
    }
   ],
   "source": [
    "# First ANN model with neuralnet package\n",
    "set.seed(123)\n",
    "\n",
    "trainIndex = createDataPartition(phoneData_nn$PriceCategory, p = 0.75, list = FALSE)\n",
    "trainData <- phoneData_nn[trainIndex, ]\n",
    "testData <- phoneData_nn[-trainIndex, ] \n",
    "\n",
    "nn = neuralnet(PriceCategory ~ .,\n",
    "                data = trainData,\n",
    "                hidden = 14,\n",
    "                lifesign = 'full',\n",
    "                linear.output = FALSE)"
   ]
  },
  {
   "cell_type": "code",
   "execution_count": 14,
   "metadata": {
    "vscode": {
     "languageId": "r"
    }
   },
   "outputs": [
    {
     "data": {
      "image/png": "[encoded data removed]",
      "text/plain": [
       "plot without title"
      ]
     },
     "metadata": {
      "image/png": {
       "height": 420,
       "width": 420
      }
     },
     "output_type": "display_data"
    }
   ],
   "source": [
    "plot(nn, rep=1)"
   ]
  },
  {
   "cell_type": "code",
   "execution_count": 15,
   "metadata": {
    "vscode": {
     "languageId": "r"
    }
   },
   "outputs": [
    {
     "name": "stdout",
     "output_type": "stream",
     "text": [
      "Confusion Matrix and Statistics\n",
      "\n",
      "           Reference\n",
      "Prediction  High-End Low-End Mid-Range\n",
      "  High-End         6       2         4\n",
      "  Low-End          0     240         4\n",
      "  Mid-Range        8       8        20\n",
      "\n",
      "Overall Statistics\n",
      "                                         \n",
      "               Accuracy : 0.911          \n",
      "                 95% CI : (0.8723, 0.941)\n",
      "    No Information Rate : 0.8562         \n",
      "    P-Value [Acc > NIR] : 0.003237       \n",
      "                                         \n",
      "                  Kappa : 0.6712         \n",
      "                                         \n",
      " Mcnemar's Test P-Value : 0.197897       \n",
      "\n",
      "Statistics by Class:\n",
      "\n",
      "                     Class: High-End Class: Low-End Class: Mid-Range\n",
      "Sensitivity                  0.42857         0.9600          0.71429\n",
      "Specificity                  0.97842         0.9048          0.93939\n",
      "Pos Pred Value               0.50000         0.9836          0.55556\n",
      "Neg Pred Value               0.97143         0.7917          0.96875\n",
      "Prevalence                   0.04795         0.8562          0.09589\n",
      "Detection Rate               0.02055         0.8219          0.06849\n",
      "Detection Prevalence         0.04110         0.8356          0.12329\n",
      "Balanced Accuracy            0.70349         0.9324          0.82684\n"
     ]
    }
   ],
   "source": [
    "predictions <- neuralnet::compute(nn, rep = 1, testData[, -23])\n",
    "\n",
    "pred <- predictions$net.result\n",
    "\n",
    "pred <- data.frame(\"pred\" = ifelse(max.col(pred[ ,1:3]) == 1, 'High-End',\n",
    "                            ifelse(max.col(pred[ ,1:3]) == 2, 'Low-End', 'Mid-Range')))\n",
    "\n",
    "cm <- confusionMatrix(as.factor(testData$PriceCategory), as.factor(pred$pred))\n",
    " \n",
    "print(cm)"
   ]
  },
  {
   "attachments": {},
   "cell_type": "markdown",
   "metadata": {},
   "source": [
    "#### Drugi ANN model --> train(method='nnet')"
   ]
  },
  {
   "cell_type": "code",
   "execution_count": 19,
   "metadata": {
    "vscode": {
     "languageId": "r"
    }
   },
   "outputs": [
    {
     "data": {
      "text/plain": [
       "Neural Network \n",
       "\n",
       "1170 samples\n",
       "  21 predictor\n",
       "   3 classes: 'High-End', 'Low-End', 'Mid-Range' \n",
       "\n",
       "No pre-processing\n",
       "Resampling: Cross-Validated (10 fold) \n",
       "Summary of sample sizes: 1052, 1052, 1053, 1054, 1054, 1052, ... \n",
       "Resampling results across tuning parameters:\n",
       "\n",
       "  size  decay  Accuracy   Kappa    \n",
       "  1     0e+00  0.8884726  0.6709041\n",
       "  1     1e-04  0.8760237  0.5611517\n",
       "  1     1e-03  0.8792644  0.6254778\n",
       "  1     1e-02  0.8781536  0.6244270\n",
       "  1     1e-01  0.8792899  0.6195292\n",
       "  3     0e+00  0.9007929  0.7061318\n",
       "  3     1e-04  0.9078186  0.7347591\n",
       "  3     1e-03  0.9111627  0.7375155\n",
       "  3     1e-02  0.9156699  0.7424988\n",
       "  3     1e-01  0.9133847  0.7329313\n",
       "  5     0e+00  0.9396905  0.8014908\n",
       "  5     1e-04  0.9339306  0.8019521\n",
       "  5     1e-03  0.9282880  0.7814341\n",
       "  5     1e-02  0.9407497  0.8236120\n",
       "  5     1e-01  0.9339571  0.7997686\n",
       "  7     0e+00  0.9373537  0.8034415\n",
       "  7     1e-04  0.9396775  0.8214573\n",
       "  7     1e-03  0.9519973  0.8587739\n",
       "  7     1e-02  0.9441852  0.8330079\n",
       "  7     1e-01  0.9327946  0.7977660\n",
       "  9     0e+00  0.9602502  0.8803788\n",
       "  9     1e-04  0.9647445  0.8966660\n",
       "  9     1e-03  0.9532375  0.8660813\n",
       "  9     1e-02  0.9532381  0.8645952\n",
       "  9     1e-01  0.9418602  0.8259453\n",
       "\n",
       "Accuracy was used to select the optimal model using the largest value.\n",
       "The final values used for the model were size = 9 and decay = 1e-04."
      ]
     },
     "metadata": {},
     "output_type": "display_data"
    }
   ],
   "source": [
    "# Second ANN model with train() function\n",
    "set.seed(1)\n",
    "\n",
    "train_index <- createFolds(trainData$PriceCategory, k = 10)\n",
    "\n",
    "nnetFit <- phoneData_nn %>% train(PriceCategory ~ .,\n",
    "    method = 'nnet',\n",
    "    data = .,\n",
    "    tuneLength = 5,\n",
    "    trControl = trainControl(method = 'cv', indexOut = train_index),\n",
    "    trace = FALSE)\n",
    "\n",
    "nnetFit"
   ]
  },
  {
   "cell_type": "code",
   "execution_count": 20,
   "metadata": {
    "vscode": {
     "languageId": "r"
    }
   },
   "outputs": [
    {
     "data": {
      "text/plain": [
       "Confusion Matrix and Statistics\n",
       "\n",
       "           Reference\n",
       "Prediction  High-End Low-End Mid-Range\n",
       "  High-End         9       0         2\n",
       "  Low-End          2     242         2\n",
       "  Mid-Range        1       2        32\n",
       "\n",
       "Overall Statistics\n",
       "                                          \n",
       "               Accuracy : 0.9692          \n",
       "                 95% CI : (0.9423, 0.9858)\n",
       "    No Information Rate : 0.8356          \n",
       "    P-Value [Acc > NIR] : 3.31e-13        \n",
       "                                          \n",
       "                  Kappa : 0.8898          \n",
       "                                          \n",
       " Mcnemar's Test P-Value : 0.5062          \n",
       "\n",
       "Statistics by Class:\n",
       "\n",
       "                     Class: High-End Class: Low-End Class: Mid-Range\n",
       "Sensitivity                  0.75000         0.9918           0.8889\n",
       "Specificity                  0.99286         0.9167           0.9883\n",
       "Pos Pred Value               0.81818         0.9837           0.9143\n",
       "Neg Pred Value               0.98932         0.9565           0.9844\n",
       "Prevalence                   0.04110         0.8356           0.1233\n",
       "Detection Rate               0.03082         0.8288           0.1096\n",
       "Detection Prevalence         0.03767         0.8425           0.1199\n",
       "Balanced Accuracy            0.87143         0.9542           0.9386"
      ]
     },
     "metadata": {},
     "output_type": "display_data"
    }
   ],
   "source": [
    "pr <- predict(nnetFit, testData)\n",
    "confusionMatrix(pr, as.factor(testData$PriceCategory))"
   ]
  },
  {
   "attachments": {},
   "cell_type": "markdown",
   "metadata": {},
   "source": [
    "## 3. Ansambli - slučajne šume"
   ]
  },
  {
   "cell_type": "code",
   "execution_count": 21,
   "metadata": {
    "vscode": {
     "languageId": "r"
    }
   },
   "outputs": [],
   "source": [
    "# Random forest only recive numerical and logical data as the input\n",
    "# so we convert categorical data to logical TRUE/FALSE\n",
    "\n",
    "phoneData_rf <- phoneData %>%\n",
    "    mutate(across(c(Touchscreen, WiFi, Bluetooth, GPS, X3G, X4G.LTE), ~as.logical(ifelse(.x == 'Yes', TRUE, FALSE))))"
   ]
  },
  {
   "attachments": {},
   "cell_type": "markdown",
   "metadata": {},
   "source": [
    "#### Prvi model slučajnih šuma --> train(method='rf')"
   ]
  },
  {
   "cell_type": "code",
   "execution_count": 23,
   "metadata": {
    "vscode": {
     "languageId": "r"
    }
   },
   "outputs": [
    {
     "data": {
      "text/plain": [
       "Random Forest \n",
       "\n",
       "878 samples\n",
       " 21 predictor\n",
       "  3 classes: 'High-End', 'Low-End', 'Mid-Range' \n",
       "\n",
       "No pre-processing\n",
       "Resampling: Cross-Validated (10 fold) \n",
       "Summary of sample sizes: 789, 790, 791, 790, 789, 791, ... \n",
       "Resampling results across tuning parameters:\n",
       "\n",
       "  mtry  Accuracy   Kappa    \n",
       "   2    0.9420268  0.7679104\n",
       "   6    0.9908948  0.9678357\n",
       "  11    0.9897454  0.9636043\n",
       "  16    0.9885960  0.9597307\n",
       "  21    0.9897196  0.9635986\n",
       "\n",
       "Accuracy was used to select the optimal model using the largest value.\n",
       "The final value used for the model was mtry = 6."
      ]
     },
     "metadata": {},
     "output_type": "display_data"
    }
   ],
   "source": [
    "set.seed(1)\n",
    "\n",
    "trainIndex = createDataPartition(phoneData_rf$PriceCategory, p = 0.75, list = FALSE)\n",
    "trainData <- phoneData_rf[trainIndex, ]\n",
    "testData <- phoneData_rf[-trainIndex, ]\n",
    "\n",
    "train_index <- createFolds(trainData$PriceCategory, k = 10)\n",
    "\n",
    "rf_model1 <- trainData %>% train(PriceCategory ~ .,\n",
    "    method = 'rf',\n",
    "    data = .,\n",
    "    tuneLength = 5,\n",
    "    trControl = trainControl(method = 'cv', indexOut = train_index))\n",
    "\n",
    "rf_model1"
   ]
  },
  {
   "cell_type": "code",
   "execution_count": 24,
   "metadata": {
    "vscode": {
     "languageId": "r"
    }
   },
   "outputs": [
    {
     "data": {
      "text/plain": [
       "Confusion Matrix and Statistics\n",
       "\n",
       "           Reference\n",
       "Prediction  High-End Low-End Mid-Range\n",
       "  High-End         5       0         5\n",
       "  Low-End          0     239         6\n",
       "  Mid-Range        7       5        25\n",
       "\n",
       "Overall Statistics\n",
       "                                          \n",
       "               Accuracy : 0.9212          \n",
       "                 95% CI : (0.8842, 0.9494)\n",
       "    No Information Rate : 0.8356          \n",
       "    P-Value [Acc > NIR] : 1.335e-05       \n",
       "                                          \n",
       "                  Kappa : 0.7205          \n",
       "                                          \n",
       " Mcnemar's Test P-Value : NA              \n",
       "\n",
       "Statistics by Class:\n",
       "\n",
       "                     Class: High-End Class: Low-End Class: Mid-Range\n",
       "Sensitivity                  0.41667         0.9795          0.69444\n",
       "Specificity                  0.98214         0.8750          0.95312\n",
       "Pos Pred Value               0.50000         0.9755          0.67568\n",
       "Neg Pred Value               0.97518         0.8936          0.95686\n",
       "Prevalence                   0.04110         0.8356          0.12329\n",
       "Detection Rate               0.01712         0.8185          0.08562\n",
       "Detection Prevalence         0.03425         0.8390          0.12671\n",
       "Balanced Accuracy            0.69940         0.9273          0.82378"
      ]
     },
     "metadata": {},
     "output_type": "display_data"
    }
   ],
   "source": [
    "prediction_rf1 <- predict(rf_model1, testData)\n",
    "confusionMatrix(prediction_rf1, as.factor(testData$PriceCategory))"
   ]
  },
  {
   "cell_type": "code",
   "execution_count": 25,
   "metadata": {
    "vscode": {
     "languageId": "r"
    }
   },
   "outputs": [
    {
     "data": {
      "image/png": "[encoded data removed]",
      "text/plain": [
       "plot without title"
      ]
     },
     "metadata": {
      "image/png": {
       "height": 420,
       "width": 420
      }
     },
     "output_type": "display_data"
    }
   ],
   "source": [
    "plot(rf_model1)"
   ]
  },
  {
   "attachments": {},
   "cell_type": "markdown",
   "metadata": {},
   "source": [
    "#### Drugi model slučajnih šuma --> randomForest paket"
   ]
  },
  {
   "cell_type": "code",
   "execution_count": 26,
   "metadata": {
    "vscode": {
     "languageId": "r"
    }
   },
   "outputs": [
    {
     "data": {
      "text/plain": [
       "\n",
       "Call:\n",
       " randomForest(x = trainData[-22], y = as.factor(trainData$PriceCategory),      ntree = 600) \n",
       "               Type of random forest: classification\n",
       "                     Number of trees: 600\n",
       "No. of variables tried at each split: 4\n",
       "\n",
       "        OOB estimate of  error rate: 9.11%\n",
       "Confusion matrix:\n",
       "          High-End Low-End Mid-Range class.error\n",
       "High-End        15       6        16  0.59459459\n",
       "Low-End          1     719        13  0.01909959\n",
       "Mid-Range        4      40        64  0.40740741"
      ]
     },
     "metadata": {},
     "output_type": "display_data"
    }
   ],
   "source": [
    "rf_model2 <- randomForest(x = trainData[-22], y = as.factor(trainData$PriceCategory), ntree = 600)\n",
    "rf_model2"
   ]
  },
  {
   "cell_type": "code",
   "execution_count": 28,
   "metadata": {
    "vscode": {
     "languageId": "r"
    }
   },
   "outputs": [
    {
     "data": {
      "text/plain": [
       "Confusion Matrix and Statistics\n",
       "\n",
       "           Reference\n",
       "Prediction  High-End Low-End Mid-Range\n",
       "  High-End         5       0         3\n",
       "  Low-End          1     239         7\n",
       "  Mid-Range        6       5        26\n",
       "\n",
       "Overall Statistics\n",
       "                                          \n",
       "               Accuracy : 0.9247          \n",
       "                 95% CI : (0.8882, 0.9522)\n",
       "    No Information Rate : 0.8356          \n",
       "    P-Value [Acc > NIR] : 5.596e-06       \n",
       "                                          \n",
       "                  Kappa : 0.7274          \n",
       "                                          \n",
       " Mcnemar's Test P-Value : 0.5062          \n",
       "\n",
       "Statistics by Class:\n",
       "\n",
       "                     Class: High-End Class: Low-End Class: Mid-Range\n",
       "Sensitivity                  0.41667         0.9795          0.72222\n",
       "Specificity                  0.98929         0.8333          0.95703\n",
       "Pos Pred Value               0.62500         0.9676          0.70270\n",
       "Neg Pred Value               0.97535         0.8889          0.96078\n",
       "Prevalence                   0.04110         0.8356          0.12329\n",
       "Detection Rate               0.01712         0.8185          0.08904\n",
       "Detection Prevalence         0.02740         0.8459          0.12671\n",
       "Balanced Accuracy            0.70298         0.9064          0.83963"
      ]
     },
     "metadata": {},
     "output_type": "display_data"
    }
   ],
   "source": [
    "predictions_rf2 = predict(rf_model2, testData[-22])\n",
    "  \n",
    "confusionMatrix(predictions_rf2, as.factor(testData$PriceCategory))"
   ]
  },
  {
   "cell_type": "code",
   "execution_count": 29,
   "metadata": {
    "vscode": {
     "languageId": "r"
    }
   },
   "outputs": [
    {
     "data": {
      "text/html": [
       "<table class=\"dataframe\">\n",
       "<caption>A matrix: 6 × 4 of type dbl</caption>\n",
       "<thead>\n",
       "\t<tr><th></th><th scope=col>OOB</th><th scope=col>High-End</th><th scope=col>Low-End</th><th scope=col>Mid-Range</th></tr>\n",
       "</thead>\n",
       "<tbody>\n",
       "\t<tr><th scope=row>[595,]</th><td>0.09111617</td><td>0.5945946</td><td>0.01909959</td><td>0.4074074</td></tr>\n",
       "\t<tr><th scope=row>[596,]</th><td>0.09111617</td><td>0.5945946</td><td>0.01909959</td><td>0.4074074</td></tr>\n",
       "\t<tr><th scope=row>[597,]</th><td>0.09111617</td><td>0.5945946</td><td>0.01909959</td><td>0.4074074</td></tr>\n",
       "\t<tr><th scope=row>[598,]</th><td>0.09111617</td><td>0.5945946</td><td>0.01909959</td><td>0.4074074</td></tr>\n",
       "\t<tr><th scope=row>[599,]</th><td>0.09111617</td><td>0.5945946</td><td>0.01909959</td><td>0.4074074</td></tr>\n",
       "\t<tr><th scope=row>[600,]</th><td>0.09111617</td><td>0.5945946</td><td>0.01909959</td><td>0.4074074</td></tr>\n",
       "</tbody>\n",
       "</table>\n"
      ],
      "text/latex": [
       "A matrix: 6 × 4 of type dbl\n",
       "\\begin{tabular}{r|llll}\n",
       "  & OOB & High-End & Low-End & Mid-Range\\\\\n",
       "\\hline\n",
       "\t{[}595,{]} & 0.09111617 & 0.5945946 & 0.01909959 & 0.4074074\\\\\n",
       "\t{[}596,{]} & 0.09111617 & 0.5945946 & 0.01909959 & 0.4074074\\\\\n",
       "\t{[}597,{]} & 0.09111617 & 0.5945946 & 0.01909959 & 0.4074074\\\\\n",
       "\t{[}598,{]} & 0.09111617 & 0.5945946 & 0.01909959 & 0.4074074\\\\\n",
       "\t{[}599,{]} & 0.09111617 & 0.5945946 & 0.01909959 & 0.4074074\\\\\n",
       "\t{[}600,{]} & 0.09111617 & 0.5945946 & 0.01909959 & 0.4074074\\\\\n",
       "\\end{tabular}\n"
      ],
      "text/markdown": [
       "\n",
       "A matrix: 6 × 4 of type dbl\n",
       "\n",
       "| <!--/--> | OOB | High-End | Low-End | Mid-Range |\n",
       "|---|---|---|---|---|\n",
       "| [595,] | 0.09111617 | 0.5945946 | 0.01909959 | 0.4074074 |\n",
       "| [596,] | 0.09111617 | 0.5945946 | 0.01909959 | 0.4074074 |\n",
       "| [597,] | 0.09111617 | 0.5945946 | 0.01909959 | 0.4074074 |\n",
       "| [598,] | 0.09111617 | 0.5945946 | 0.01909959 | 0.4074074 |\n",
       "| [599,] | 0.09111617 | 0.5945946 | 0.01909959 | 0.4074074 |\n",
       "| [600,] | 0.09111617 | 0.5945946 | 0.01909959 | 0.4074074 |\n",
       "\n"
      ],
      "text/plain": [
       "       OOB        High-End  Low-End    Mid-Range\n",
       "[595,] 0.09111617 0.5945946 0.01909959 0.4074074\n",
       "[596,] 0.09111617 0.5945946 0.01909959 0.4074074\n",
       "[597,] 0.09111617 0.5945946 0.01909959 0.4074074\n",
       "[598,] 0.09111617 0.5945946 0.01909959 0.4074074\n",
       "[599,] 0.09111617 0.5945946 0.01909959 0.4074074\n",
       "[600,] 0.09111617 0.5945946 0.01909959 0.4074074"
      ]
     },
     "metadata": {},
     "output_type": "display_data"
    },
    {
     "data": {
      "image/png": "[encoded data removed]",
      "text/plain": [
       "Plot with title \"rf_model2\""
      ]
     },
     "metadata": {
      "image/png": {
       "height": 420,
       "width": 420
      }
     },
     "output_type": "display_data"
    }
   ],
   "source": [
    "tail(plot(rf_model2))"
   ]
  },
  {
   "cell_type": "code",
   "execution_count": 31,
   "metadata": {
    "vscode": {
     "languageId": "r"
    }
   },
   "outputs": [
    {
     "data": {
      "text/html": [
       "<table class=\"dataframe\">\n",
       "<caption>A matrix: 21 × 1 of type dbl</caption>\n",
       "<thead>\n",
       "\t<tr><th></th><th scope=col>MeanDecreaseGini</th></tr>\n",
       "</thead>\n",
       "<tbody>\n",
       "\t<tr><th scope=row>BatteryCapacity</th><td>17.29254539</td></tr>\n",
       "\t<tr><th scope=row>ScreenSize</th><td>18.82166079</td></tr>\n",
       "\t<tr><th scope=row>Touchscreen</th><td> 0.01221481</td></tr>\n",
       "\t<tr><th scope=row>ResolutionX</th><td>22.09925061</td></tr>\n",
       "\t<tr><th scope=row>ResolutionY</th><td>37.87593893</td></tr>\n",
       "\t<tr><th scope=row>Processor</th><td> 7.52750376</td></tr>\n",
       "\t<tr><th scope=row>RAM</th><td>22.66039198</td></tr>\n",
       "\t<tr><th scope=row>InternalStorage</th><td>22.46578499</td></tr>\n",
       "\t<tr><th scope=row>RearCamera</th><td>23.74243767</td></tr>\n",
       "\t<tr><th scope=row>FrontCamera</th><td>31.72353186</td></tr>\n",
       "\t<tr><th scope=row>WiFi</th><td> 0.11888943</td></tr>\n",
       "\t<tr><th scope=row>Bluetooth</th><td> 0.14676227</td></tr>\n",
       "\t<tr><th scope=row>GPS</th><td> 0.89427402</td></tr>\n",
       "\t<tr><th scope=row>SIMsNumber</th><td> 7.97916974</td></tr>\n",
       "\t<tr><th scope=row>X3G</th><td> 1.67171096</td></tr>\n",
       "\t<tr><th scope=row>X4G.LTE</th><td> 2.19719708</td></tr>\n",
       "\t<tr><th scope=row>Android</th><td> 3.74872490</td></tr>\n",
       "\t<tr><th scope=row>BlackBerry</th><td> 0.45869379</td></tr>\n",
       "\t<tr><th scope=row>Cyanogen</th><td> 0.36317008</td></tr>\n",
       "\t<tr><th scope=row>iOS</th><td> 3.19433950</td></tr>\n",
       "\t<tr><th scope=row>Windows</th><td> 0.79612784</td></tr>\n",
       "</tbody>\n",
       "</table>\n"
      ],
      "text/latex": [
       "A matrix: 21 × 1 of type dbl\n",
       "\\begin{tabular}{r|l}\n",
       "  & MeanDecreaseGini\\\\\n",
       "\\hline\n",
       "\tBatteryCapacity & 17.29254539\\\\\n",
       "\tScreenSize & 18.82166079\\\\\n",
       "\tTouchscreen &  0.01221481\\\\\n",
       "\tResolutionX & 22.09925061\\\\\n",
       "\tResolutionY & 37.87593893\\\\\n",
       "\tProcessor &  7.52750376\\\\\n",
       "\tRAM & 22.66039198\\\\\n",
       "\tInternalStorage & 22.46578499\\\\\n",
       "\tRearCamera & 23.74243767\\\\\n",
       "\tFrontCamera & 31.72353186\\\\\n",
       "\tWiFi &  0.11888943\\\\\n",
       "\tBluetooth &  0.14676227\\\\\n",
       "\tGPS &  0.89427402\\\\\n",
       "\tSIMsNumber &  7.97916974\\\\\n",
       "\tX3G &  1.67171096\\\\\n",
       "\tX4G.LTE &  2.19719708\\\\\n",
       "\tAndroid &  3.74872490\\\\\n",
       "\tBlackBerry &  0.45869379\\\\\n",
       "\tCyanogen &  0.36317008\\\\\n",
       "\tiOS &  3.19433950\\\\\n",
       "\tWindows &  0.79612784\\\\\n",
       "\\end{tabular}\n"
      ],
      "text/markdown": [
       "\n",
       "A matrix: 21 × 1 of type dbl\n",
       "\n",
       "| <!--/--> | MeanDecreaseGini |\n",
       "|---|---|\n",
       "| BatteryCapacity | 17.29254539 |\n",
       "| ScreenSize | 18.82166079 |\n",
       "| Touchscreen |  0.01221481 |\n",
       "| ResolutionX | 22.09925061 |\n",
       "| ResolutionY | 37.87593893 |\n",
       "| Processor |  7.52750376 |\n",
       "| RAM | 22.66039198 |\n",
       "| InternalStorage | 22.46578499 |\n",
       "| RearCamera | 23.74243767 |\n",
       "| FrontCamera | 31.72353186 |\n",
       "| WiFi |  0.11888943 |\n",
       "| Bluetooth |  0.14676227 |\n",
       "| GPS |  0.89427402 |\n",
       "| SIMsNumber |  7.97916974 |\n",
       "| X3G |  1.67171096 |\n",
       "| X4G.LTE |  2.19719708 |\n",
       "| Android |  3.74872490 |\n",
       "| BlackBerry |  0.45869379 |\n",
       "| Cyanogen |  0.36317008 |\n",
       "| iOS |  3.19433950 |\n",
       "| Windows |  0.79612784 |\n",
       "\n"
      ],
      "text/plain": [
       "                MeanDecreaseGini\n",
       "BatteryCapacity 17.29254539     \n",
       "ScreenSize      18.82166079     \n",
       "Touchscreen      0.01221481     \n",
       "ResolutionX     22.09925061     \n",
       "ResolutionY     37.87593893     \n",
       "Processor        7.52750376     \n",
       "RAM             22.66039198     \n",
       "InternalStorage 22.46578499     \n",
       "RearCamera      23.74243767     \n",
       "FrontCamera     31.72353186     \n",
       "WiFi             0.11888943     \n",
       "Bluetooth        0.14676227     \n",
       "GPS              0.89427402     \n",
       "SIMsNumber       7.97916974     \n",
       "X3G              1.67171096     \n",
       "X4G.LTE          2.19719708     \n",
       "Android          3.74872490     \n",
       "BlackBerry       0.45869379     \n",
       "Cyanogen         0.36317008     \n",
       "iOS              3.19433950     \n",
       "Windows          0.79612784     "
      ]
     },
     "metadata": {},
     "output_type": "display_data"
    }
   ],
   "source": [
    "importance(rf_model2)"
   ]
  },
  {
   "cell_type": "code",
   "execution_count": 32,
   "metadata": {
    "vscode": {
     "languageId": "r"
    }
   },
   "outputs": [
    {
     "data": {
      "image/png": "[encoded data removed]",
      "text/plain": [
       "Plot with title \"rf_model2\""
      ]
     },
     "metadata": {
      "image/png": {
       "height": 420,
       "width": 420
      }
     },
     "output_type": "display_data"
    }
   ],
   "source": [
    "varImpPlot(rf_model2)"
   ]
  },
  {
   "attachments": {},
   "cell_type": "markdown",
   "metadata": {},
   "source": [
    "## 4. Asocijacijska analiza - učenje asocijacijskih pravila"
   ]
  },
  {
   "cell_type": "code",
   "execution_count": 33,
   "metadata": {
    "vscode": {
     "languageId": "r"
    }
   },
   "outputs": [
    {
     "data": {
      "text/html": [
       "<style>\n",
       ".list-inline {list-style: none; margin:0; padding: 0}\n",
       ".list-inline>li {display: inline-block}\n",
       ".list-inline>li:not(:last-child)::after {content: \"\\00b7\"; padding: 0 .5ex}\n",
       "</style>\n",
       "<ol class=list-inline><li>'Index'</li><li>'Name'</li><li>'Brand'</li><li>'Model'</li><li>'BatteryCapacity'</li><li>'ScreenSize'</li><li>'Touchscreen'</li><li>'ResolutionX'</li><li>'ResolutionY'</li><li>'Processor'</li><li>'RAM'</li><li>'InternalStorage'</li><li>'RearCamera'</li><li>'FrontCamera'</li><li>'OS'</li><li>'WiFi'</li><li>'Bluetooth'</li><li>'GPS'</li><li>'SIMsNumber'</li><li>'X3G'</li><li>'X4G.LTE'</li><li>'Price'</li></ol>\n"
      ],
      "text/latex": [
       "\\begin{enumerate*}\n",
       "\\item 'Index'\n",
       "\\item 'Name'\n",
       "\\item 'Brand'\n",
       "\\item 'Model'\n",
       "\\item 'BatteryCapacity'\n",
       "\\item 'ScreenSize'\n",
       "\\item 'Touchscreen'\n",
       "\\item 'ResolutionX'\n",
       "\\item 'ResolutionY'\n",
       "\\item 'Processor'\n",
       "\\item 'RAM'\n",
       "\\item 'InternalStorage'\n",
       "\\item 'RearCamera'\n",
       "\\item 'FrontCamera'\n",
       "\\item 'OS'\n",
       "\\item 'WiFi'\n",
       "\\item 'Bluetooth'\n",
       "\\item 'GPS'\n",
       "\\item 'SIMsNumber'\n",
       "\\item 'X3G'\n",
       "\\item 'X4G.LTE'\n",
       "\\item 'Price'\n",
       "\\end{enumerate*}\n"
      ],
      "text/markdown": [
       "1. 'Index'\n",
       "2. 'Name'\n",
       "3. 'Brand'\n",
       "4. 'Model'\n",
       "5. 'BatteryCapacity'\n",
       "6. 'ScreenSize'\n",
       "7. 'Touchscreen'\n",
       "8. 'ResolutionX'\n",
       "9. 'ResolutionY'\n",
       "10. 'Processor'\n",
       "11. 'RAM'\n",
       "12. 'InternalStorage'\n",
       "13. 'RearCamera'\n",
       "14. 'FrontCamera'\n",
       "15. 'OS'\n",
       "16. 'WiFi'\n",
       "17. 'Bluetooth'\n",
       "18. 'GPS'\n",
       "19. 'SIMsNumber'\n",
       "20. 'X3G'\n",
       "21. 'X4G.LTE'\n",
       "22. 'Price'\n",
       "\n",
       "\n"
      ],
      "text/plain": [
       " [1] \"Index\"           \"Name\"            \"Brand\"           \"Model\"          \n",
       " [5] \"BatteryCapacity\" \"ScreenSize\"      \"Touchscreen\"     \"ResolutionX\"    \n",
       " [9] \"ResolutionY\"     \"Processor\"       \"RAM\"             \"InternalStorage\"\n",
       "[13] \"RearCamera\"      \"FrontCamera\"     \"OS\"              \"WiFi\"           \n",
       "[17] \"Bluetooth\"       \"GPS\"             \"SIMsNumber\"      \"X3G\"            \n",
       "[21] \"X4G.LTE\"         \"Price\"          "
      ]
     },
     "metadata": {},
     "output_type": "display_data"
    }
   ],
   "source": [
    "phoneData3 <- read.csv('phone_specs.csv')\n",
    "ijdskj\n",
    "\n",
    "names(phoneData3)"
   ]
  },
  {
   "cell_type": "code",
   "execution_count": 34,
   "metadata": {
    "vscode": {
     "languageId": "r"
    }
   },
   "outputs": [],
   "source": [
    "phoneData_ar <- phoneData3 %>%\n",
    "    filter(RAM >= 1000) %>%\n",
    "    mutate(across(c(OS, SIMsNumber, RAM, InternalStorage), as.factor)) %>%\n",
    "    mutate(BatteryCapacity = discretize(BatteryCapacity, method = \"fixed\",\n",
    "                                        breaks = c(1000, 2000, 3000, 4000, 5000, 6000),\n",
    "                                        labels = c(\"[1000,2000)\", \"[2000,3000)\", \"[3000,4000)\", \"[4000,5000)\", \"[5000,6000)\"))) %>%\n",
    "    mutate(RearCamera = discretize(RearCamera, method = \"fixed\",\n",
    "                                        breaks = c(0, 10, 20, 40, 108),\n",
    "                                        labels = c(\"[0,10)\", \"[10,20)\", \"[20,40)\", \"[40,108)\"))) %>%\n",
    "    mutate(FrontCamera = discretize(FrontCamera, method = \"fixed\",\n",
    "                                        breaks = c(0, 10, 20, 48),\n",
    "                                        labels = c(\"[0,10)\", \"[10,20)\", \"[20,48)\")))"
   ]
  },
  {
   "cell_type": "code",
   "execution_count": 36,
   "metadata": {
    "vscode": {
     "languageId": "r"
    }
   },
   "outputs": [
    {
     "data": {
      "text/html": [
       "<style>\n",
       ".list-inline {list-style: none; margin:0; padding: 0}\n",
       ".list-inline>li {display: inline-block}\n",
       ".list-inline>li:not(:last-child)::after {content: \"\\00b7\"; padding: 0 .5ex}\n",
       "</style>\n",
       "<ol class=list-inline><li>'BatteryCapacity'</li><li>'RAM'</li><li>'InternalStorage'</li><li>'RearCamera'</li><li>'FrontCamera'</li><li>'OS'</li></ol>\n"
      ],
      "text/latex": [
       "\\begin{enumerate*}\n",
       "\\item 'BatteryCapacity'\n",
       "\\item 'RAM'\n",
       "\\item 'InternalStorage'\n",
       "\\item 'RearCamera'\n",
       "\\item 'FrontCamera'\n",
       "\\item 'OS'\n",
       "\\end{enumerate*}\n"
      ],
      "text/markdown": [
       "1. 'BatteryCapacity'\n",
       "2. 'RAM'\n",
       "3. 'InternalStorage'\n",
       "4. 'RearCamera'\n",
       "5. 'FrontCamera'\n",
       "6. 'OS'\n",
       "\n",
       "\n"
      ],
      "text/plain": [
       "[1] \"BatteryCapacity\" \"RAM\"             \"InternalStorage\" \"RearCamera\"     \n",
       "[5] \"FrontCamera\"     \"OS\"             "
      ]
     },
     "metadata": {},
     "output_type": "display_data"
    }
   ],
   "source": [
    "row.names(phoneData_ar) <- phoneData_ar$Name\n",
    "phoneData_ar <- phoneData_ar[-c(1:4, 6:10, 16:22)]\n",
    "names(phoneData_ar)"
   ]
  },
  {
   "cell_type": "code",
   "execution_count": 38,
   "metadata": {
    "vscode": {
     "languageId": "r"
    }
   },
   "outputs": [
    {
     "data": {
      "text/plain": [
       "transactions as itemMatrix in sparse format with\n",
       " 1273 rows (elements/itemsets/transactions) and\n",
       " 35 columns (items) and a density of 0.1714286 \n",
       "\n",
       "most frequent items:\n",
       "                 OS=Android          FrontCamera=[0,10) \n",
       "                       1224                        1028 \n",
       "         RearCamera=[10,20) BatteryCapacity=[2000,3000) \n",
       "                        694                         517 \n",
       "          RearCamera=[0,10)                     (Other) \n",
       "                        484                        3691 \n",
       "\n",
       "element (itemset/transaction) length distribution:\n",
       "sizes\n",
       "   6 \n",
       "1273 \n",
       "\n",
       "   Min. 1st Qu.  Median    Mean 3rd Qu.    Max. \n",
       "      6       6       6       6       6       6 \n",
       "\n",
       "includes extended item information - examples:\n",
       "                       labels       variables      levels\n",
       "1 BatteryCapacity=[1000,2000) BatteryCapacity [1000,2000)\n",
       "2 BatteryCapacity=[2000,3000) BatteryCapacity [2000,3000)\n",
       "3 BatteryCapacity=[3000,4000) BatteryCapacity [3000,4000)\n",
       "\n",
       "includes extended transaction information - examples:\n",
       "                   transactionID\n",
       "1 OnePlus 7T Pro McLaren Edition\n",
       "2                  Realme X2 Pro\n",
       "3              iPhone 11 Pro Max"
      ]
     },
     "metadata": {},
     "output_type": "display_data"
    }
   ],
   "source": [
    "trans <- transactions(phoneData_ar)\n",
    "summary(trans)"
   ]
  },
  {
   "cell_type": "code",
   "execution_count": 41,
   "metadata": {
    "vscode": {
     "languageId": "r"
    }
   },
   "outputs": [
    {
     "data": {
      "image/png": "[encoded data removed]",
      "text/plain": [
       "plot without title"
      ]
     },
     "metadata": {
      "image/png": {
       "height": 420,
       "width": 420
      }
     },
     "output_type": "display_data"
    }
   ],
   "source": [
    "itemFrequencyPlot(trans, topN = 20)"
   ]
  },
  {
   "cell_type": "code",
   "execution_count": 42,
   "metadata": {
    "vscode": {
     "languageId": "r"
    }
   },
   "outputs": [
    {
     "name": "stdout",
     "output_type": "stream",
     "text": [
      "Apriori\n",
      "\n",
      "Parameter specification:\n",
      " confidence minval smax arem  aval originalSupport maxtime support minlen\n",
      "        0.9    0.1    1 none FALSE            TRUE       5    0.05      1\n",
      " maxlen target  ext\n",
      "     10  rules TRUE\n",
      "\n",
      "Algorithmic control:\n",
      " filter tree heap memopt load sort verbose\n",
      "    0.1 TRUE TRUE  FALSE TRUE    2    TRUE\n",
      "\n",
      "Absolute minimum support count: 63 \n",
      "\n",
      "set item appearances ...[0 item(s)] done [0.00s].\n",
      "set transactions ...[35 item(s), 1273 transaction(s)] done [0.00s].\n",
      "sorting and recoding items ... [19 item(s)] done [0.00s].\n",
      "creating transaction tree ... done [0.00s].\n",
      "checking subsets of size 1 2 3 4 5 6 done [0.00s].\n",
      "writing ... [282 rule(s)] done [0.00s].\n",
      "creating S4 object  ... done [0.00s].\n"
     ]
    }
   ],
   "source": [
    "rules <- apriori(trans, parameter = list(support = 0.05, confidence = 0.9))"
   ]
  },
  {
   "cell_type": "code",
   "execution_count": 43,
   "metadata": {
    "vscode": {
     "languageId": "r"
    }
   },
   "outputs": [
    {
     "data": {
      "text/html": [
       "282"
      ],
      "text/latex": [
       "282"
      ],
      "text/markdown": [
       "282"
      ],
      "text/plain": [
       "[1] 282"
      ]
     },
     "metadata": {},
     "output_type": "display_data"
    }
   ],
   "source": [
    "length(rules)"
   ]
  },
  {
   "cell_type": "code",
   "execution_count": 44,
   "metadata": {
    "vscode": {
     "languageId": "r"
    }
   },
   "outputs": [
    {
     "name": "stdout",
     "output_type": "stream",
     "text": [
      "      lhs                               rhs                     support confidence   coverage      lift count\n",
      "[1]   {}                             => {OS=Android}         0.96150825  0.9615082 1.00000000 1.0000000  1224\n",
      "[2]   {InternalStorage=128}          => {OS=Android}         0.05420267  1.0000000 0.05420267 1.0400327    69\n",
      "[3]   {BatteryCapacity=[1000,2000)}  => {RearCamera=[0,10)}  0.05341712  0.9315068 0.05734485 2.4500170    68\n",
      "[4]   {BatteryCapacity=[1000,2000)}  => {FrontCamera=[0,10)} 0.05734485  1.0000000 0.05734485 1.2383268    73\n",
      "[5]   {FrontCamera=[20,48)}          => {OS=Android}         0.06205813  1.0000000 0.06205813 1.0400327    79\n",
      "[6]   {FrontCamera=[10,20)}          => {OS=Android}         0.12804399  0.9819277 0.13040063 1.0212369   163\n",
      "[7]   {InternalStorage=64}           => {OS=Android}         0.13197172  0.9438202 0.13982718 0.9816039   168\n",
      "[8]   {RAM=4000}                     => {OS=Android}         0.15161037  0.9650000 0.15710919 1.0036315   193\n",
      "[9]   {BatteryCapacity=[4000,5000)}  => {OS=Android}         0.16810683  0.9953488 0.16889238 1.0351953   214\n",
      "[10]  {RAM=3000}                     => {OS=Android}         0.21523959  0.9716312 0.22152396 1.0105282   274\n",
      "[11]  {InternalStorage=32}           => {OS=Android}         0.21602514  0.9683099 0.22309505 1.0070739   275\n",
      "[12]  {InternalStorage=8}            => {RAM=1000}           0.21681068  0.9355932 0.23173606 3.3739665   276\n",
      "[13]  {InternalStorage=8}            => {RearCamera=[0,10)}  0.21759623  0.9389831 0.23173606 2.4696806   277\n",
      "[14]  {InternalStorage=8}            => {FrontCamera=[0,10)} 0.23173606  1.0000000 0.23173606 1.2383268   295\n",
      "[15]  {InternalStorage=8}            => {OS=Android}         0.22152396  0.9559322 0.23173606 0.9942007   282\n",
      "[16]  {RAM=2000}                     => {FrontCamera=[0,10)} 0.26001571  0.9678363 0.26865672 1.1984976   331\n",
      "[17]  {RAM=2000}                     => {OS=Android}         0.25530244  0.9502924 0.26865672 0.9883351   325\n",
      "[18]  {RAM=1000}                     => {RearCamera=[0,10)}  0.26080126  0.9405099 0.27729772 2.4736965   332\n",
      "[19]  {RAM=1000}                     => {FrontCamera=[0,10)} 0.27729772  1.0000000 0.27729772 1.2383268   353\n",
      "[20]  {RAM=1000}                     => {OS=Android}         0.26394344  0.9518414 0.27729772 0.9899461   336\n",
      "[21]  {BatteryCapacity=[3000,4000)}  => {OS=Android}         0.31657502  0.9757869 0.32443048 1.0148503   403\n",
      "[22]  {InternalStorage=16}           => {FrontCamera=[0,10)} 0.31578947  0.9594272 0.32914375 1.1880845   402\n",
      "[23]  {InternalStorage=16}           => {OS=Android}         0.31578947  0.9594272 0.32914375 0.9978356   402\n",
      "[24]  {RearCamera=[0,10)}            => {FrontCamera=[0,10)} 0.37863315  0.9958678 0.38020424 1.2332098   482\n",
      "[25]  {RearCamera=[0,10)}            => {OS=Android}         0.36135114  0.9504132 0.38020424 0.9884608   460\n",
      "[26]  {BatteryCapacity=[2000,3000)}  => {FrontCamera=[0,10)} 0.39198743  0.9651838 0.40612726 1.1952130   499\n",
      "[27]  {BatteryCapacity=[2000,3000)}  => {OS=Android}         0.38570306  0.9497099 0.40612726 0.9877293   491\n",
      "[28]  {RearCamera=[10,20)}           => {OS=Android}         0.52945797  0.9711816 0.54516889 1.0100606   674\n",
      "[29]  {FrontCamera=[0,10)}           => {OS=Android}         0.77140613  0.9552529 0.80754124 0.9934943   982\n",
      "[30]  {BatteryCapacity=[1000,2000),                                                                          \n",
      "       RearCamera=[0,10)}            => {FrontCamera=[0,10)} 0.05341712  1.0000000 0.05341712 1.2383268    68\n",
      "[31]  {BatteryCapacity=[1000,2000),                                                                          \n",
      "       FrontCamera=[0,10)}           => {RearCamera=[0,10)}  0.05341712  0.9315068 0.05734485 2.4500170    68\n",
      "[32]  {RAM=4000,                                                                                             \n",
      "       FrontCamera=[10,20)}          => {OS=Android}         0.05263158  0.9571429 0.05498822 0.9954599    67\n",
      "[33]  {BatteryCapacity=[3000,4000),                                                                          \n",
      "       FrontCamera=[10,20)}          => {OS=Android}         0.06284368  0.9638554 0.06520031 1.0024411    80\n",
      "[34]  {RearCamera=[10,20),                                                                                   \n",
      "       FrontCamera=[10,20)}          => {OS=Android}         0.09976434  0.9769231 0.10212097 1.0160319   127\n",
      "[35]  {RAM=4000,                                                                                             \n",
      "       InternalStorage=64}           => {OS=Android}         0.09819324  0.9541985 0.10290652 0.9923976   125\n",
      "[36]  {BatteryCapacity=[3000,4000),                                                                          \n",
      "       InternalStorage=64}           => {RearCamera=[10,20)} 0.07305577  0.9300000 0.07855460 1.7058934    93\n",
      "[37]  {BatteryCapacity=[3000,4000),                                                                          \n",
      "       InternalStorage=64}           => {OS=Android}         0.07619796  0.9700000 0.07855460 1.0088317    97\n",
      "[38]  {InternalStorage=64,                                                                                   \n",
      "       FrontCamera=[0,10)}           => {RearCamera=[10,20)} 0.05813040  0.9487179 0.06127258 1.7402276    74\n",
      "[39]  {InternalStorage=64,                                                                                   \n",
      "       RearCamera=[10,20)}           => {OS=Android}         0.11154753  0.9342105 0.11940299 0.9716095   142\n",
      "[40]  {InternalStorage=64,                                                                                   \n",
      "       FrontCamera=[0,10)}           => {OS=Android}         0.05577376  0.9102564 0.06127258 0.9466964    71\n",
      "[41]  {BatteryCapacity=[3000,4000),                                                                          \n",
      "       RAM=4000}                     => {OS=Android}         0.09190888  0.9669421 0.09505106 1.0056514   117\n",
      "[42]  {RAM=4000,                                                                                             \n",
      "       FrontCamera=[0,10)}           => {RearCamera=[10,20)} 0.06834250  0.9255319 0.07384132 1.6976976    87\n",
      "[43]  {RAM=4000,                                                                                             \n",
      "       RearCamera=[10,20)}           => {OS=Android}         0.12804399  0.9644970 0.13275727 1.0031084   163\n",
      "[44]  {RAM=4000,                                                                                             \n",
      "       FrontCamera=[0,10)}           => {OS=Android}         0.07069914  0.9574468 0.07384132 0.9957760    90\n",
      "[45]  {BatteryCapacity=[4000,5000),                                                                          \n",
      "       RAM=3000}                     => {OS=Android}         0.05106049  1.0000000 0.05106049 1.0400327    65\n",
      "[46]  {BatteryCapacity=[4000,5000),                                                                          \n",
      "       InternalStorage=32}           => {RearCamera=[10,20)} 0.05184603  0.9295775 0.05577376 1.7051183    66\n",
      "[47]  {BatteryCapacity=[4000,5000),                                                                          \n",
      "       InternalStorage=32}           => {OS=Android}         0.05577376  1.0000000 0.05577376 1.0400327    71\n",
      "[48]  {BatteryCapacity=[4000,5000),                                                                          \n",
      "       RearCamera=[10,20)}           => {OS=Android}         0.11468971  0.9931973 0.11547526 1.0329576   146\n",
      "[49]  {BatteryCapacity=[4000,5000),                                                                          \n",
      "       FrontCamera=[0,10)}           => {OS=Android}         0.10133543  0.9923077 0.10212097 1.0320324   129\n",
      "[50]  {RAM=3000,                                                                                             \n",
      "       InternalStorage=32}           => {RearCamera=[10,20)} 0.14061273  0.9086294 0.15475255 1.6666935   179\n",
      "[51]  {RAM=3000,                                                                                             \n",
      "       InternalStorage=32}           => {OS=Android}         0.15161037  0.9796954 0.15475255 1.0189153   193\n",
      "[52]  {BatteryCapacity=[3000,4000),                                                                          \n",
      "       RAM=3000}                     => {OS=Android}         0.09505106  0.9680000 0.09819324 1.0067516   121\n",
      "[53]  {RAM=3000,                                                                                             \n",
      "       InternalStorage=16}           => {FrontCamera=[0,10)} 0.05184603  0.9041096 0.05734485 1.1195832    66\n",
      "[54]  {RAM=3000,                                                                                             \n",
      "       InternalStorage=16}           => {OS=Android}         0.05655931  0.9863014 0.05734485 1.0257857    72\n",
      "[55]  {BatteryCapacity=[2000,3000),                                                                          \n",
      "       RAM=3000}                     => {OS=Android}         0.05263158  0.9436620 0.05577376 0.9814393    67\n",
      "[56]  {RAM=3000,                                                                                             \n",
      "       RearCamera=[10,20)}           => {OS=Android}         0.18774548  0.9755102 0.19245876 1.0145625   239\n",
      "[57]  {RAM=3000,                                                                                             \n",
      "       FrontCamera=[0,10)}           => {OS=Android}         0.17124902  0.9646018 0.17753339 1.0032174   218\n",
      "[58]  {BatteryCapacity=[3000,4000),                                                                          \n",
      "       InternalStorage=32}           => {OS=Android}         0.10369207  0.9635036 0.10761980 1.0020753   132\n",
      "[59]  {InternalStorage=32,                                                                                   \n",
      "       RearCamera=[10,20)}           => {OS=Android}         0.19560094  0.9880952 0.19795758 1.0276513   249\n",
      "[60]  {InternalStorage=32,                                                                                   \n",
      "       OS=Android}                   => {RearCamera=[10,20)} 0.19560094  0.9054545 0.21602514 1.6608698   249\n",
      "[61]  {InternalStorage=32,                                                                                   \n",
      "       FrontCamera=[0,10)}           => {OS=Android}         0.16653574  0.9592760 0.17360566 0.9976784   212\n",
      "[62]  {RAM=1000,                                                                                             \n",
      "       InternalStorage=8}            => {RearCamera=[0,10)}  0.20659859  0.9528986 0.21681068 2.5062807   263\n",
      "[63]  {InternalStorage=8,                                                                                    \n",
      "       RearCamera=[0,10)}            => {RAM=1000}           0.20659859  0.9494585 0.21759623 3.4239678   263\n",
      "[64]  {BatteryCapacity=[2000,3000),                                                                          \n",
      "       InternalStorage=8}            => {RAM=1000}           0.15003928  0.9317073 0.16103692 3.3599530   191\n",
      "[65]  {RAM=1000,                                                                                             \n",
      "       InternalStorage=8}            => {FrontCamera=[0,10)} 0.21681068  1.0000000 0.21681068 1.2383268   276\n",
      "[66]  {InternalStorage=8,                                                                                    \n",
      "       FrontCamera=[0,10)}           => {RAM=1000}           0.21681068  0.9355932 0.23173606 3.3739665   276\n",
      "[67]  {RAM=1000,                                                                                             \n",
      "       InternalStorage=8}            => {OS=Android}         0.20738413  0.9565217 0.21681068 0.9948139   264\n",
      "[68]  {InternalStorage=8,                                                                                    \n",
      "       OS=Android}                   => {RAM=1000}           0.20738413  0.9361702 0.22152396 3.3760473   264\n",
      "[69]  {BatteryCapacity=[2000,3000),                                                                          \n",
      "       InternalStorage=8}            => {RearCamera=[0,10)}  0.15082482  0.9365854 0.16103692 2.4633743   192\n",
      "[70]  {InternalStorage=8,                                                                                    \n",
      "       RearCamera=[0,10)}            => {FrontCamera=[0,10)} 0.21759623  1.0000000 0.21759623 1.2383268   277\n",
      "[71]  {InternalStorage=8,                                                                                    \n",
      "       FrontCamera=[0,10)}           => {RearCamera=[0,10)}  0.21759623  0.9389831 0.23173606 2.4696806   277\n",
      "[72]  {InternalStorage=8,                                                                                    \n",
      "       RearCamera=[0,10)}            => {OS=Android}         0.20738413  0.9530686 0.21759623 0.9912225   264\n",
      "[73]  {InternalStorage=8,                                                                                    \n",
      "       OS=Android}                   => {RearCamera=[0,10)}  0.20738413  0.9361702 0.22152396 2.4622824   264\n",
      "[74]  {BatteryCapacity=[2000,3000),                                                                          \n",
      "       InternalStorage=8}            => {FrontCamera=[0,10)} 0.16103692  1.0000000 0.16103692 1.2383268   205\n",
      "[75]  {BatteryCapacity=[2000,3000),                                                                          \n",
      "       InternalStorage=8}            => {OS=Android}         0.15632364  0.9707317 0.16103692 1.0095927   199\n",
      "[76]  {InternalStorage=8,                                                                                    \n",
      "       FrontCamera=[0,10)}           => {OS=Android}         0.22152396  0.9559322 0.23173606 0.9942007   282\n",
      "[77]  {InternalStorage=8,                                                                                    \n",
      "       OS=Android}                   => {FrontCamera=[0,10)} 0.22152396  1.0000000 0.22152396 1.2383268   282\n",
      "[78]  {BatteryCapacity=[3000,4000),                                                                          \n",
      "       RAM=2000}                     => {FrontCamera=[0,10)} 0.06598586  0.9230769 0.07148468 1.1430709    84\n",
      "[79]  {BatteryCapacity=[3000,4000),                                                                          \n",
      "       RAM=2000}                     => {OS=Android}         0.07069914  0.9890110 0.07148468 1.0286037    90\n",
      "[80]  {RAM=2000,                                                                                             \n",
      "       InternalStorage=16}           => {FrontCamera=[0,10)} 0.21916732  0.9653979 0.22702278 1.1954782   279\n",
      "[81]  {RAM=2000,                                                                                             \n",
      "       InternalStorage=16}           => {OS=Android}         0.21759623  0.9584775 0.22702278 0.9968479   277\n",
      "[82]  {RAM=2000,                                                                                             \n",
      "       RearCamera=[0,10)}            => {FrontCamera=[0,10)} 0.10290652  0.9849624 0.10447761 1.2197054   131\n",
      "[83]  {RAM=2000,                                                                                             \n",
      "       RearCamera=[0,10)}            => {OS=Android}         0.09819324  0.9398496 0.10447761 0.9774743   125\n",
      "[84]  {BatteryCapacity=[2000,3000),                                                                          \n",
      "       RAM=2000}                     => {FrontCamera=[0,10)} 0.14375491  0.9786096 0.14689709 1.2118386   183\n",
      "[85]  {BatteryCapacity=[2000,3000),                                                                          \n",
      "       RAM=2000}                     => {OS=Android}         0.13825609  0.9411765 0.14689709 0.9788543   176\n",
      "[86]  {RAM=2000,                                                                                             \n",
      "       RearCamera=[10,20)}           => {FrontCamera=[0,10)} 0.15161037  0.9554455 0.15868028 1.1831539   193\n",
      "[87]  {RAM=2000,                                                                                             \n",
      "       RearCamera=[10,20)}           => {OS=Android}         0.15318146  0.9653465 0.15868028 1.0039919   195\n",
      "[88]  {RAM=2000,                                                                                             \n",
      "       FrontCamera=[0,10)}           => {OS=Android}         0.24666143  0.9486405 0.26001571 0.9866171   314\n",
      "[89]  {RAM=2000,                                                                                             \n",
      "       OS=Android}                   => {FrontCamera=[0,10)} 0.24666143  0.9661538 0.25530244 1.1964142   314\n",
      "[90]  {BatteryCapacity=[2000,3000),                                                                          \n",
      "       RAM=1000}                     => {RearCamera=[0,10)}  0.17910448  0.9344262 0.19167321 2.4576954   228\n",
      "[91]  {RAM=1000,                                                                                             \n",
      "       RearCamera=[0,10)}            => {FrontCamera=[0,10)} 0.26080126  1.0000000 0.26080126 1.2383268   332\n",
      "[92]  {RAM=1000,                                                                                             \n",
      "       FrontCamera=[0,10)}           => {RearCamera=[0,10)}  0.26080126  0.9405099 0.27729772 2.4736965   332\n",
      "[93]  {RAM=1000,                                                                                             \n",
      "       RearCamera=[0,10)}            => {OS=Android}         0.24823252  0.9518072 0.26080126 0.9899106   316\n",
      "[94]  {RAM=1000,                                                                                             \n",
      "       OS=Android}                   => {RearCamera=[0,10)}  0.24823252  0.9404762 0.26394344 2.4736078   316\n",
      "[95]  {BatteryCapacity=[2000,3000),                                                                          \n",
      "       RAM=1000}                     => {FrontCamera=[0,10)} 0.19167321  1.0000000 0.19167321 1.2383268   244\n",
      "[96]  {BatteryCapacity=[2000,3000),                                                                          \n",
      "       RAM=1000}                     => {OS=Android}         0.18460330  0.9631148 0.19167321 1.0016708   235\n",
      "[97]  {RAM=1000,                                                                                             \n",
      "       FrontCamera=[0,10)}           => {OS=Android}         0.26394344  0.9518414 0.27729772 0.9899461   336\n",
      "[98]  {RAM=1000,                                                                                             \n",
      "       OS=Android}                   => {FrontCamera=[0,10)} 0.26394344  1.0000000 0.26394344 1.2383268   336\n",
      "[99]  {BatteryCapacity=[3000,4000),                                                                          \n",
      "       InternalStorage=16}           => {FrontCamera=[0,10)} 0.08562451  0.9316239 0.09190888 1.1536549   109\n",
      "[100] {BatteryCapacity=[3000,4000),                                                                          \n",
      "       InternalStorage=16}           => {OS=Android}         0.09112333  0.9914530 0.09190888 1.0311435   116\n",
      "[101] {BatteryCapacity=[3000,4000),                                                                          \n",
      "       RearCamera=[10,20)}           => {OS=Android}         0.25294580  0.9847095 0.25687353 1.0241300   322\n",
      "[102] {BatteryCapacity=[3000,4000),                                                                          \n",
      "       FrontCamera=[0,10)}           => {OS=Android}         0.22388060  0.9760274 0.22937942 1.0151004   285\n",
      "[103] {InternalStorage=16,                                                                                   \n",
      "       RearCamera=[0,10)}            => {FrontCamera=[0,10)} 0.13668500  0.9886364 0.13825609 1.2242550   174\n",
      "[104] {InternalStorage=16,                                                                                   \n",
      "       RearCamera=[0,10)}            => {OS=Android}         0.13040063  0.9431818 0.13825609 0.9809399   166\n",
      "[105] {BatteryCapacity=[2000,3000),                                                                          \n",
      "       InternalStorage=16}           => {FrontCamera=[0,10)} 0.18146112  0.9705882 0.18695994 1.2019055   231\n",
      "[106] {BatteryCapacity=[2000,3000),                                                                          \n",
      "       InternalStorage=16}           => {OS=Android}         0.17753339  0.9495798 0.18695994 0.9875941   226\n",
      "[107] {InternalStorage=16,                                                                                   \n",
      "       RearCamera=[10,20)}           => {FrontCamera=[0,10)} 0.17282011  0.9442060 0.18303221 1.1692357   220\n",
      "[108] {InternalStorage=16,                                                                                   \n",
      "       RearCamera=[10,20)}           => {OS=Android}         0.17753339  0.9699571 0.18303221 1.0087871   226\n",
      "[109] {InternalStorage=16,                                                                                   \n",
      "       FrontCamera=[0,10)}           => {OS=Android}         0.30243519  0.9577114 0.31578947 0.9960512   385\n",
      "[110] {InternalStorage=16,                                                                                   \n",
      "       OS=Android}                   => {FrontCamera=[0,10)} 0.30243519  0.9577114 0.31578947 1.1859598   385\n",
      "[111] {BatteryCapacity=[2000,3000),                                                                          \n",
      "       RearCamera=[0,10)}            => {FrontCamera=[0,10)} 0.25844462  1.0000000 0.25844462 1.2383268   329\n",
      "[112] {BatteryCapacity=[2000,3000),                                                                          \n",
      "       RearCamera=[0,10)}            => {OS=Android}         0.24666143  0.9544073 0.25844462 0.9926148   314\n",
      "[113] {RearCamera=[0,10),                                                                                    \n",
      "       FrontCamera=[0,10)}           => {OS=Android}         0.35978005  0.9502075 0.37863315 0.9882468   458\n",
      "[114] {RearCamera=[0,10),                                                                                    \n",
      "       OS=Android}                   => {FrontCamera=[0,10)} 0.35978005  0.9956522 0.36135114 1.2329428   458\n",
      "[115] {BatteryCapacity=[2000,3000),                                                                          \n",
      "       RearCamera=[10,20)}           => {FrontCamera=[0,10)} 0.12804399  0.9261364 0.13825609 1.1468595   163\n",
      "[116] {BatteryCapacity=[2000,3000),                                                                          \n",
      "       RearCamera=[10,20)}           => {OS=Android}         0.13040063  0.9431818 0.13825609 0.9809399   166\n",
      "[117] {BatteryCapacity=[2000,3000),                                                                          \n",
      "       FrontCamera=[0,10)}           => {OS=Android}         0.37156324  0.9478958 0.39198743 0.9858426   473\n",
      "[118] {BatteryCapacity=[2000,3000),                                                                          \n",
      "       OS=Android}                   => {FrontCamera=[0,10)} 0.37156324  0.9633401 0.38570306 1.1929299   473\n",
      "[119] {RearCamera=[10,20),                                                                                   \n",
      "       FrontCamera=[0,10)}           => {OS=Android}         0.39198743  0.9670543 0.40534171 1.0057680   499\n",
      "[120] {BatteryCapacity=[3000,4000),                                                                          \n",
      "       RearCamera=[10,20),                                                                                   \n",
      "       FrontCamera=[10,20)}          => {OS=Android}         0.05420267  0.9583333 0.05655931 0.9966980    69\n",
      "[121] {BatteryCapacity=[3000,4000),                                                                          \n",
      "       RAM=4000,                                                                                             \n",
      "       InternalStorage=64}           => {RearCamera=[10,20)} 0.05577376  0.9220779 0.06048704 1.6913620    71\n",
      "[122] {BatteryCapacity=[3000,4000),                                                                          \n",
      "       RAM=4000,                                                                                             \n",
      "       InternalStorage=64}           => {OS=Android}         0.05813040  0.9610390 0.06048704 0.9995119    74\n",
      "[123] {RAM=4000,                                                                                             \n",
      "       InternalStorage=64,                                                                                   \n",
      "       RearCamera=[10,20)}           => {OS=Android}         0.08405342  0.9469027 0.08876669 0.9848097   107\n",
      "[124] {BatteryCapacity=[3000,4000),                                                                          \n",
      "       InternalStorage=64,                                                                                   \n",
      "       RearCamera=[10,20)}           => {OS=Android}         0.07069914  0.9677419 0.07305577 1.0064832    90\n",
      "[125] {BatteryCapacity=[3000,4000),                                                                          \n",
      "       InternalStorage=64,                                                                                   \n",
      "       OS=Android}                   => {RearCamera=[10,20)} 0.07069914  0.9278351 0.07619796 1.7019222    90\n",
      "[126] {InternalStorage=64,                                                                                   \n",
      "       RearCamera=[10,20),                                                                                   \n",
      "       FrontCamera=[0,10)}           => {OS=Android}         0.05263158  0.9054054 0.05813040 0.9416512    67\n",
      "[127] {InternalStorage=64,                                                                                   \n",
      "       FrontCamera=[0,10),                                                                                   \n",
      "       OS=Android}                   => {RearCamera=[10,20)} 0.05263158  0.9436620 0.05577376 1.7309534    67\n",
      "[128] {BatteryCapacity=[3000,4000),                                                                          \n",
      "       RAM=4000,                                                                                             \n",
      "       RearCamera=[10,20)}           => {OS=Android}         0.08091123  0.9716981 0.08326787 1.0105978   103\n",
      "[129] {RAM=4000,                                                                                             \n",
      "       RearCamera=[10,20),                                                                                   \n",
      "       FrontCamera=[0,10)}           => {OS=Android}         0.06598586  0.9655172 0.06834250 1.0041695    84\n",
      "[130] {RAM=4000,                                                                                             \n",
      "       FrontCamera=[0,10),                                                                                   \n",
      "       OS=Android}                   => {RearCamera=[10,20)} 0.06598586  0.9333333 0.07069914 1.7120077    84\n",
      "[131] {BatteryCapacity=[4000,5000),                                                                          \n",
      "       InternalStorage=32,                                                                                   \n",
      "       RearCamera=[10,20)}           => {OS=Android}         0.05184603  1.0000000 0.05184603 1.0400327    66\n",
      "[132] {BatteryCapacity=[4000,5000),                                                                          \n",
      "       InternalStorage=32,                                                                                   \n",
      "       OS=Android}                   => {RearCamera=[10,20)} 0.05184603  0.9295775 0.05577376 1.7051183    66\n",
      "[133] {BatteryCapacity=[4000,5000),                                                                          \n",
      "       RearCamera=[10,20),                                                                                   \n",
      "       FrontCamera=[0,10)}           => {OS=Android}         0.07619796  0.9897959 0.07698350 1.0294201    97\n",
      "[134] {BatteryCapacity=[3000,4000),                                                                          \n",
      "       RAM=3000,                                                                                             \n",
      "       InternalStorage=32}           => {RearCamera=[10,20)} 0.06520031  0.9120879 0.07148468 1.6730373    83\n",
      "[135] {BatteryCapacity=[3000,4000),                                                                          \n",
      "       RAM=3000,                                                                                             \n",
      "       InternalStorage=32}           => {OS=Android}         0.06912804  0.9670330 0.07148468 1.0057459    88\n",
      "[136] {RAM=3000,                                                                                             \n",
      "       InternalStorage=32,                                                                                   \n",
      "       FrontCamera=[0,10)}           => {RearCamera=[10,20)} 0.10683425  0.9006623 0.11861744 1.6520793   136\n",
      "[137] {RAM=3000,                                                                                             \n",
      "       InternalStorage=32,                                                                                   \n",
      "       RearCamera=[10,20)}           => {OS=Android}         0.13904163  0.9888268 0.14061273 1.0284122   177\n",
      "[138] {RAM=3000,                                                                                             \n",
      "       InternalStorage=32,                                                                                   \n",
      "       OS=Android}                   => {RearCamera=[10,20)} 0.13904163  0.9170984 0.15161037 1.6822281   177\n",
      "[139] {RAM=3000,                                                                                             \n",
      "       InternalStorage=32,                                                                                   \n",
      "       FrontCamera=[0,10)}           => {OS=Android}         0.11547526  0.9735099 0.11861744 1.0124821   147\n",
      "[140] {BatteryCapacity=[3000,4000),                                                                          \n",
      "       RAM=3000,                                                                                             \n",
      "       RearCamera=[10,20)}           => {OS=Android}         0.08641005  0.9821429 0.08798115 1.0214607   110\n",
      "[141] {BatteryCapacity=[3000,4000),                                                                          \n",
      "       RAM=3000,                                                                                             \n",
      "       OS=Android}                   => {RearCamera=[10,20)} 0.08641005  0.9090909 0.09505106 1.6675400   110\n",
      "[142] {BatteryCapacity=[3000,4000),                                                                          \n",
      "       RAM=3000,                                                                                             \n",
      "       FrontCamera=[0,10)}           => {OS=Android}         0.07698350  0.9607843 0.08012569 0.9992471    98\n",
      "[143] {RAM=3000,                                                                                             \n",
      "       InternalStorage=16,                                                                                   \n",
      "       FrontCamera=[0,10)}           => {OS=Android}         0.05106049  0.9848485 0.05184603 1.0242746    65\n",
      "[144] {RAM=3000,                                                                                             \n",
      "       InternalStorage=16,                                                                                   \n",
      "       OS=Android}                   => {FrontCamera=[0,10)} 0.05106049  0.9027778 0.05655931 1.1179340    65\n",
      "[145] {RAM=3000,                                                                                             \n",
      "       RearCamera=[10,20),                                                                                   \n",
      "       FrontCamera=[0,10)}           => {OS=Android}         0.14846819  0.9692308 0.15318146 1.0080317   189\n",
      "[146] {BatteryCapacity=[3000,4000),                                                                          \n",
      "       InternalStorage=32,                                                                                   \n",
      "       RearCamera=[10,20)}           => {OS=Android}         0.09505106  0.9918033 0.09583661 1.0315078   121\n",
      "[147] {BatteryCapacity=[3000,4000),                                                                          \n",
      "       InternalStorage=32,                                                                                   \n",
      "       OS=Android}                   => {RearCamera=[10,20)} 0.09505106  0.9166667 0.10369207 1.6814361   121\n",
      "[148] {BatteryCapacity=[3000,4000),                                                                          \n",
      "       InternalStorage=32,                                                                                   \n",
      "       FrontCamera=[0,10)}           => {OS=Android}         0.07776905  0.9519231 0.08169678 0.9900311    99\n",
      "[149] {InternalStorage=32,                                                                                   \n",
      "       RearCamera=[10,20),                                                                                   \n",
      "       FrontCamera=[0,10)}           => {OS=Android}         0.14925373  0.9844560 0.15161037 1.0238664   190\n",
      "[150] {BatteryCapacity=[2000,3000),                                                                          \n",
      "       RAM=1000,                                                                                             \n",
      "       InternalStorage=8}            => {RearCamera=[0,10)}  0.14218382  0.9476440 0.15003928 2.4924603   181\n",
      "[151] {BatteryCapacity=[2000,3000),                                                                          \n",
      "       InternalStorage=8,                                                                                    \n",
      "       RearCamera=[0,10)}            => {RAM=1000}           0.14218382  0.9427083 0.15082482 3.3996252   181\n",
      "[152] {RAM=1000,                                                                                             \n",
      "       InternalStorage=8,                                                                                    \n",
      "       RearCamera=[0,10)}            => {FrontCamera=[0,10)} 0.20659859  1.0000000 0.20659859 1.2383268   263\n",
      "[153] {RAM=1000,                                                                                             \n",
      "       InternalStorage=8,                                                                                    \n",
      "       FrontCamera=[0,10)}           => {RearCamera=[0,10)}  0.20659859  0.9528986 0.21681068 2.5062807   263\n",
      "[154] {InternalStorage=8,                                                                                    \n",
      "       RearCamera=[0,10),                                                                                    \n",
      "       FrontCamera=[0,10)}           => {RAM=1000}           0.20659859  0.9494585 0.21759623 3.4239678   263\n",
      "[155] {RAM=1000,                                                                                             \n",
      "       InternalStorage=8,                                                                                    \n",
      "       RearCamera=[0,10)}            => {OS=Android}         0.19717203  0.9543726 0.20659859 0.9925787   251\n",
      "[156] {RAM=1000,                                                                                             \n",
      "       InternalStorage=8,                                                                                    \n",
      "       OS=Android}                   => {RearCamera=[0,10)}  0.19717203  0.9507576 0.20738413 2.5006496   251\n",
      "[157] {InternalStorage=8,                                                                                    \n",
      "       RearCamera=[0,10),                                                                                    \n",
      "       OS=Android}                   => {RAM=1000}           0.19717203  0.9507576 0.20738413 3.4286527   251\n",
      "[158] {BatteryCapacity=[2000,3000),                                                                          \n",
      "       RAM=1000,                                                                                             \n",
      "       InternalStorage=8}            => {FrontCamera=[0,10)} 0.15003928  1.0000000 0.15003928 1.2383268   191\n",
      "[159] {BatteryCapacity=[2000,3000),                                                                          \n",
      "       InternalStorage=8,                                                                                    \n",
      "       FrontCamera=[0,10)}           => {RAM=1000}           0.15003928  0.9317073 0.16103692 3.3599530   191\n",
      "[160] {BatteryCapacity=[2000,3000),                                                                          \n",
      "       RAM=1000,                                                                                             \n",
      "       InternalStorage=8}            => {OS=Android}         0.14611155  0.9738220 0.15003928 1.0128067   186\n",
      "[161] {BatteryCapacity=[2000,3000),                                                                          \n",
      "       InternalStorage=8,                                                                                    \n",
      "       OS=Android}                   => {RAM=1000}           0.14611155  0.9346734 0.15632364 3.3706493   186\n",
      "[162] {RAM=1000,                                                                                             \n",
      "       InternalStorage=8,                                                                                    \n",
      "       FrontCamera=[0,10)}           => {OS=Android}         0.20738413  0.9565217 0.21681068 0.9948139   264\n",
      "[163] {RAM=1000,                                                                                             \n",
      "       InternalStorage=8,                                                                                    \n",
      "       OS=Android}                   => {FrontCamera=[0,10)} 0.20738413  1.0000000 0.20738413 1.2383268   264\n",
      "[164] {InternalStorage=8,                                                                                    \n",
      "       FrontCamera=[0,10),                                                                                   \n",
      "       OS=Android}                   => {RAM=1000}           0.20738413  0.9361702 0.22152396 3.3760473   264\n",
      "[165] {BatteryCapacity=[2000,3000),                                                                          \n",
      "       InternalStorage=8,                                                                                    \n",
      "       RearCamera=[0,10)}            => {FrontCamera=[0,10)} 0.15082482  1.0000000 0.15082482 1.2383268   192\n",
      "[166] {BatteryCapacity=[2000,3000),                                                                          \n",
      "       InternalStorage=8,                                                                                    \n",
      "       FrontCamera=[0,10)}           => {RearCamera=[0,10)}  0.15082482  0.9365854 0.16103692 2.4633743   192\n",
      "[167] {BatteryCapacity=[2000,3000),                                                                          \n",
      "       InternalStorage=8,                                                                                    \n",
      "       RearCamera=[0,10)}            => {OS=Android}         0.14611155  0.9687500 0.15082482 1.0075317   186\n",
      "[168] {BatteryCapacity=[2000,3000),                                                                          \n",
      "       InternalStorage=8,                                                                                    \n",
      "       OS=Android}                   => {RearCamera=[0,10)}  0.14611155  0.9346734 0.15632364 2.4583454   186\n",
      "[169] {InternalStorage=8,                                                                                    \n",
      "       RearCamera=[0,10),                                                                                    \n",
      "       FrontCamera=[0,10)}           => {OS=Android}         0.20738413  0.9530686 0.21759623 0.9912225   264\n",
      "[170] {InternalStorage=8,                                                                                    \n",
      "       RearCamera=[0,10),                                                                                    \n",
      "       OS=Android}                   => {FrontCamera=[0,10)} 0.20738413  1.0000000 0.20738413 1.2383268   264\n",
      "[171] {InternalStorage=8,                                                                                    \n",
      "       FrontCamera=[0,10),                                                                                   \n",
      "       OS=Android}                   => {RearCamera=[0,10)}  0.20738413  0.9361702 0.22152396 2.4622824   264\n",
      "[172] {BatteryCapacity=[2000,3000),                                                                          \n",
      "       InternalStorage=8,                                                                                    \n",
      "       FrontCamera=[0,10)}           => {OS=Android}         0.15632364  0.9707317 0.16103692 1.0095927   199\n",
      "[173] {BatteryCapacity=[2000,3000),                                                                          \n",
      "       InternalStorage=8,                                                                                    \n",
      "       OS=Android}                   => {FrontCamera=[0,10)} 0.15632364  1.0000000 0.15632364 1.2383268   199\n",
      "[174] {BatteryCapacity=[3000,4000),                                                                          \n",
      "       RAM=2000,                                                                                             \n",
      "       InternalStorage=16}           => {FrontCamera=[0,10)} 0.05813040  0.9250000 0.06284368 1.1454523    74\n",
      "[175] {BatteryCapacity=[3000,4000),                                                                          \n",
      "       RAM=2000,                                                                                             \n",
      "       InternalStorage=16}           => {OS=Android}         0.06284368  1.0000000 0.06284368 1.0400327    80\n",
      "[176] {BatteryCapacity=[3000,4000),                                                                          \n",
      "       RAM=2000,                                                                                             \n",
      "       RearCamera=[10,20)}           => {OS=Android}         0.05341712  1.0000000 0.05341712 1.0400327    68\n",
      "[177] {BatteryCapacity=[3000,4000),                                                                          \n",
      "       RAM=2000,                                                                                             \n",
      "       FrontCamera=[0,10)}           => {OS=Android}         0.06520031  0.9880952 0.06598586 1.0276513    83\n",
      "[178] {BatteryCapacity=[3000,4000),                                                                          \n",
      "       RAM=2000,                                                                                             \n",
      "       OS=Android}                   => {FrontCamera=[0,10)} 0.06520031  0.9222222 0.07069914 1.1420125    83\n",
      "[179] {RAM=2000,                                                                                             \n",
      "       InternalStorage=16,                                                                                   \n",
      "       RearCamera=[0,10)}            => {FrontCamera=[0,10)} 0.08876669  0.9826087 0.09033778 1.2167907   113\n",
      "[180] {RAM=2000,                                                                                             \n",
      "       InternalStorage=16,                                                                                   \n",
      "       RearCamera=[0,10)}            => {OS=Android}         0.08483896  0.9391304 0.09033778 0.9767263   108\n",
      "[181] {BatteryCapacity=[2000,3000),                                                                          \n",
      "       RAM=2000,                                                                                             \n",
      "       InternalStorage=16}           => {FrontCamera=[0,10)} 0.12411626  0.9753086 0.12725844 1.2077509   158\n",
      "[182] {BatteryCapacity=[2000,3000),                                                                          \n",
      "       RAM=2000,                                                                                             \n",
      "       InternalStorage=16}           => {OS=Android}         0.12018853  0.9444444 0.12725844 0.9822531   153\n",
      "[183] {RAM=2000,                                                                                             \n",
      "       InternalStorage=16,                                                                                   \n",
      "       RearCamera=[10,20)}           => {FrontCamera=[0,10)} 0.12647290  0.9526627 0.13275727 1.1797078   161\n",
      "[184] {RAM=2000,                                                                                             \n",
      "       InternalStorage=16,                                                                                   \n",
      "       RearCamera=[10,20)}           => {OS=Android}         0.12882954  0.9704142 0.13275727 1.0092625   164\n",
      "[185] {RAM=2000,                                                                                             \n",
      "       InternalStorage=16,                                                                                   \n",
      "       FrontCamera=[0,10)}           => {OS=Android}         0.20974077  0.9569892 0.21916732 0.9953001   267\n",
      "[186] {RAM=2000,                                                                                             \n",
      "       InternalStorage=16,                                                                                   \n",
      "       OS=Android}                   => {FrontCamera=[0,10)} 0.20974077  0.9638989 0.21759623 1.1936219   267\n",
      "[187] {BatteryCapacity=[2000,3000),                                                                          \n",
      "       RAM=2000,                                                                                             \n",
      "       RearCamera=[0,10)}            => {FrontCamera=[0,10)} 0.07069914  1.0000000 0.07069914 1.2383268    90\n",
      "[188] {BatteryCapacity=[2000,3000),                                                                          \n",
      "       RAM=2000,                                                                                             \n",
      "       RearCamera=[0,10)}            => {OS=Android}         0.06520031  0.9222222 0.07069914 0.9591412    83\n",
      "[189] {RAM=2000,                                                                                             \n",
      "       RearCamera=[0,10),                                                                                    \n",
      "       FrontCamera=[0,10)}           => {OS=Android}         0.09662215  0.9389313 0.10290652 0.9765192   123\n",
      "[190] {RAM=2000,                                                                                             \n",
      "       RearCamera=[0,10),                                                                                    \n",
      "       OS=Android}                   => {FrontCamera=[0,10)} 0.09662215  0.9840000 0.09819324 1.2185136   123\n",
      "[191] {BatteryCapacity=[2000,3000),                                                                          \n",
      "       RAM=2000,                                                                                             \n",
      "       RearCamera=[10,20)}           => {FrontCamera=[0,10)} 0.06991359  0.9569892 0.07305577 1.1850655    89\n",
      "[192] {BatteryCapacity=[2000,3000),                                                                          \n",
      "       RAM=2000,                                                                                             \n",
      "       RearCamera=[10,20)}           => {OS=Android}         0.07069914  0.9677419 0.07305577 1.0064832    90\n",
      "[193] {BatteryCapacity=[2000,3000),                                                                          \n",
      "       RAM=2000,                                                                                             \n",
      "       FrontCamera=[0,10)}           => {OS=Android}         0.13511390  0.9398907 0.14375491 0.9775171   172\n",
      "[194] {BatteryCapacity=[2000,3000),                                                                          \n",
      "       RAM=2000,                                                                                             \n",
      "       OS=Android}                   => {FrontCamera=[0,10)} 0.13511390  0.9772727 0.13825609 1.2101831   172\n",
      "[195] {RAM=2000,                                                                                             \n",
      "       RearCamera=[10,20),                                                                                   \n",
      "       FrontCamera=[0,10)}           => {OS=Android}         0.14611155  0.9637306 0.15161037 1.0023113   186\n",
      "[196] {RAM=2000,                                                                                             \n",
      "       RearCamera=[10,20),                                                                                   \n",
      "       OS=Android}                   => {FrontCamera=[0,10)} 0.14611155  0.9538462 0.15318146 1.1811733   186\n",
      "[197] {BatteryCapacity=[2000,3000),                                                                          \n",
      "       RAM=1000,                                                                                             \n",
      "       RearCamera=[0,10)}            => {FrontCamera=[0,10)} 0.17910448  1.0000000 0.17910448 1.2383268   228\n",
      "[198] {BatteryCapacity=[2000,3000),                                                                          \n",
      "       RAM=1000,                                                                                             \n",
      "       FrontCamera=[0,10)}           => {RearCamera=[0,10)}  0.17910448  0.9344262 0.19167321 2.4576954   228\n",
      "[199] {BatteryCapacity=[2000,3000),                                                                          \n",
      "       RAM=1000,                                                                                             \n",
      "       RearCamera=[0,10)}            => {OS=Android}         0.17282011  0.9649123 0.17910448 1.0035403   220\n",
      "[200] {BatteryCapacity=[2000,3000),                                                                          \n",
      "       RAM=1000,                                                                                             \n",
      "       OS=Android}                   => {RearCamera=[0,10)}  0.17282011  0.9361702 0.18460330 2.4622824   220\n",
      "[201] {RAM=1000,                                                                                             \n",
      "       RearCamera=[0,10),                                                                                    \n",
      "       FrontCamera=[0,10)}           => {OS=Android}         0.24823252  0.9518072 0.26080126 0.9899106   316\n",
      "[202] {RAM=1000,                                                                                             \n",
      "       RearCamera=[0,10),                                                                                    \n",
      "       OS=Android}                   => {FrontCamera=[0,10)} 0.24823252  1.0000000 0.24823252 1.2383268   316\n",
      "[203] {RAM=1000,                                                                                             \n",
      "       FrontCamera=[0,10),                                                                                   \n",
      "       OS=Android}                   => {RearCamera=[0,10)}  0.24823252  0.9404762 0.26394344 2.4736078   316\n",
      "[204] {BatteryCapacity=[2000,3000),                                                                          \n",
      "       RAM=1000,                                                                                             \n",
      "       FrontCamera=[0,10)}           => {OS=Android}         0.18460330  0.9631148 0.19167321 1.0016708   235\n",
      "[205] {BatteryCapacity=[2000,3000),                                                                          \n",
      "       RAM=1000,                                                                                             \n",
      "       OS=Android}                   => {FrontCamera=[0,10)} 0.18460330  1.0000000 0.18460330 1.2383268   235\n",
      "[206] {BatteryCapacity=[3000,4000),                                                                          \n",
      "       InternalStorage=16,                                                                                   \n",
      "       RearCamera=[10,20)}           => {FrontCamera=[0,10)} 0.06362922  0.9310345 0.06834250 1.1529250    81\n",
      "[207] {BatteryCapacity=[3000,4000),                                                                          \n",
      "       InternalStorage=16,                                                                                   \n",
      "       RearCamera=[10,20)}           => {OS=Android}         0.06755695  0.9885057 0.06834250 1.0280783    86\n",
      "[208] {BatteryCapacity=[3000,4000),                                                                          \n",
      "       InternalStorage=16,                                                                                   \n",
      "       FrontCamera=[0,10)}           => {OS=Android}         0.08483896  0.9908257 0.08562451 1.0304911   108\n",
      "[209] {BatteryCapacity=[3000,4000),                                                                          \n",
      "       InternalStorage=16,                                                                                   \n",
      "       OS=Android}                   => {FrontCamera=[0,10)} 0.08483896  0.9310345 0.09112333 1.1529250   108\n",
      "[210] {BatteryCapacity=[3000,4000),                                                                          \n",
      "       RearCamera=[10,20),                                                                                   \n",
      "       FrontCamera=[0,10)}           => {OS=Android}         0.17439120  0.9910714 0.17596229 1.0307467   222\n",
      "[211] {BatteryCapacity=[2000,3000),                                                                          \n",
      "       InternalStorage=16,                                                                                   \n",
      "       RearCamera=[0,10)}            => {FrontCamera=[0,10)} 0.09662215  1.0000000 0.09662215 1.2383268   123\n",
      "[212] {BatteryCapacity=[2000,3000),                                                                          \n",
      "       InternalStorage=16,                                                                                   \n",
      "       RearCamera=[0,10)}            => {OS=Android}         0.09033778  0.9349593 0.09662215 0.9723883   115\n",
      "[213] {InternalStorage=16,                                                                                   \n",
      "       RearCamera=[0,10),                                                                                    \n",
      "       FrontCamera=[0,10)}           => {OS=Android}         0.12882954  0.9425287 0.13668500 0.9802607   164\n",
      "[214] {InternalStorage=16,                                                                                   \n",
      "       RearCamera=[0,10),                                                                                    \n",
      "       OS=Android}                   => {FrontCamera=[0,10)} 0.12882954  0.9879518 0.13040063 1.2234072   164\n",
      "[215] {BatteryCapacity=[2000,3000),                                                                          \n",
      "       InternalStorage=16,                                                                                   \n",
      "       RearCamera=[10,20)}           => {FrontCamera=[0,10)} 0.08248233  0.9545455 0.08641005 1.1820393   105\n",
      "[216] {BatteryCapacity=[2000,3000),                                                                          \n",
      "       InternalStorage=16,                                                                                   \n",
      "       RearCamera=[10,20)}           => {OS=Android}         0.08326787  0.9636364 0.08641005 1.0022133   106\n",
      "[217] {BatteryCapacity=[2000,3000),                                                                          \n",
      "       InternalStorage=16,                                                                                   \n",
      "       FrontCamera=[0,10)}           => {OS=Android}         0.17203456  0.9480519 0.18146112 0.9860050   219\n",
      "[218] {BatteryCapacity=[2000,3000),                                                                          \n",
      "       InternalStorage=16,                                                                                   \n",
      "       OS=Android}                   => {FrontCamera=[0,10)} 0.17203456  0.9690265 0.17753339 1.1999716   219\n",
      "[219] {InternalStorage=16,                                                                                   \n",
      "       RearCamera=[10,20),                                                                                   \n",
      "       FrontCamera=[0,10)}           => {OS=Android}         0.16732129  0.9681818 0.17282011 1.0069407   213\n",
      "[220] {InternalStorage=16,                                                                                   \n",
      "       RearCamera=[10,20),                                                                                   \n",
      "       OS=Android}                   => {FrontCamera=[0,10)} 0.16732129  0.9424779 0.17753339 1.1670957   213\n",
      "[221] {BatteryCapacity=[2000,3000),                                                                          \n",
      "       RearCamera=[0,10),                                                                                    \n",
      "       FrontCamera=[0,10)}           => {OS=Android}         0.24666143  0.9544073 0.25844462 0.9926148   314\n",
      "[222] {BatteryCapacity=[2000,3000),                                                                          \n",
      "       RearCamera=[0,10),                                                                                    \n",
      "       OS=Android}                   => {FrontCamera=[0,10)} 0.24666143  1.0000000 0.24666143 1.2383268   314\n",
      "[223] {BatteryCapacity=[2000,3000),                                                                          \n",
      "       RearCamera=[10,20),                                                                                   \n",
      "       FrontCamera=[0,10)}           => {OS=Android}         0.12018853  0.9386503 0.12804399 0.9762270   153\n",
      "[224] {BatteryCapacity=[2000,3000),                                                                          \n",
      "       RearCamera=[10,20),                                                                                   \n",
      "       OS=Android}                   => {FrontCamera=[0,10)} 0.12018853  0.9216867 0.13040063 1.1413494   153\n",
      "[225] {BatteryCapacity=[3000,4000),                                                                          \n",
      "       RAM=4000,                                                                                             \n",
      "       InternalStorage=64,                                                                                   \n",
      "       RearCamera=[10,20)}           => {OS=Android}         0.05341712  0.9577465 0.05577376 0.9960876    68\n",
      "[226] {BatteryCapacity=[3000,4000),                                                                          \n",
      "       RAM=4000,                                                                                             \n",
      "       InternalStorage=64,                                                                                   \n",
      "       OS=Android}                   => {RearCamera=[10,20)} 0.05341712  0.9189189 0.05813040 1.6855674    68\n",
      "[227] {BatteryCapacity=[3000,4000),                                                                          \n",
      "       RAM=3000,                                                                                             \n",
      "       InternalStorage=32,                                                                                   \n",
      "       RearCamera=[10,20)}           => {OS=Android}         0.06441477  0.9879518 0.06520031 1.0275022    82\n",
      "[228] {BatteryCapacity=[3000,4000),                                                                          \n",
      "       RAM=3000,                                                                                             \n",
      "       InternalStorage=32,                                                                                   \n",
      "       OS=Android}                   => {RearCamera=[10,20)} 0.06441477  0.9318182 0.06912804 1.7092285    82\n",
      "[229] {BatteryCapacity=[3000,4000),                                                                          \n",
      "       RAM=3000,                                                                                             \n",
      "       InternalStorage=32,                                                                                   \n",
      "       FrontCamera=[0,10)}           => {OS=Android}         0.05420267  0.9583333 0.05655931 0.9966980    69\n",
      "[230] {RAM=3000,                                                                                             \n",
      "       InternalStorage=32,                                                                                   \n",
      "       RearCamera=[10,20),                                                                                   \n",
      "       FrontCamera=[0,10)}           => {OS=Android}         0.10526316  0.9852941 0.10683425 1.0247381   134\n",
      "[231] {RAM=3000,                                                                                             \n",
      "       InternalStorage=32,                                                                                   \n",
      "       FrontCamera=[0,10),                                                                                   \n",
      "       OS=Android}                   => {RearCamera=[10,20)} 0.10526316  0.9115646 0.11547526 1.6720775   134\n",
      "[232] {BatteryCapacity=[3000,4000),                                                                          \n",
      "       RAM=3000,                                                                                             \n",
      "       RearCamera=[10,20),                                                                                   \n",
      "       FrontCamera=[0,10)}           => {OS=Android}         0.06834250  0.9775281 0.06991359 1.0166612    87\n",
      "[233] {BatteryCapacity=[3000,4000),                                                                          \n",
      "       InternalStorage=32,                                                                                   \n",
      "       RearCamera=[10,20),                                                                                   \n",
      "       FrontCamera=[0,10)}           => {OS=Android}         0.06991359  0.9888889 0.07069914 1.0284768    89\n",
      "[234] {BatteryCapacity=[2000,3000),                                                                          \n",
      "       RAM=1000,                                                                                             \n",
      "       InternalStorage=8,                                                                                    \n",
      "       RearCamera=[0,10)}            => {FrontCamera=[0,10)} 0.14218382  1.0000000 0.14218382 1.2383268   181\n",
      "[235] {BatteryCapacity=[2000,3000),                                                                          \n",
      "       RAM=1000,                                                                                             \n",
      "       InternalStorage=8,                                                                                    \n",
      "       FrontCamera=[0,10)}           => {RearCamera=[0,10)}  0.14218382  0.9476440 0.15003928 2.4924603   181\n",
      "[236] {BatteryCapacity=[2000,3000),                                                                          \n",
      "       InternalStorage=8,                                                                                    \n",
      "       RearCamera=[0,10),                                                                                    \n",
      "       FrontCamera=[0,10)}           => {RAM=1000}           0.14218382  0.9427083 0.15082482 3.3996252   181\n",
      "[237] {BatteryCapacity=[2000,3000),                                                                          \n",
      "       RAM=1000,                                                                                             \n",
      "       InternalStorage=8,                                                                                    \n",
      "       RearCamera=[0,10)}            => {OS=Android}         0.13825609  0.9723757 0.14218382 1.0113025   176\n",
      "[238] {BatteryCapacity=[2000,3000),                                                                          \n",
      "       RAM=1000,                                                                                             \n",
      "       InternalStorage=8,                                                                                    \n",
      "       OS=Android}                   => {RearCamera=[0,10)}  0.13825609  0.9462366 0.14611155 2.4887586   176\n",
      "[239] {BatteryCapacity=[2000,3000),                                                                          \n",
      "       InternalStorage=8,                                                                                    \n",
      "       RearCamera=[0,10),                                                                                    \n",
      "       OS=Android}                   => {RAM=1000}           0.13825609  0.9462366 0.14611155 3.4123488   176\n",
      "[240] {RAM=1000,                                                                                             \n",
      "       InternalStorage=8,                                                                                    \n",
      "       RearCamera=[0,10),                                                                                    \n",
      "       FrontCamera=[0,10)}           => {OS=Android}         0.19717203  0.9543726 0.20659859 0.9925787   251\n",
      "[241] {RAM=1000,                                                                                             \n",
      "       InternalStorage=8,                                                                                    \n",
      "       RearCamera=[0,10),                                                                                    \n",
      "       OS=Android}                   => {FrontCamera=[0,10)} 0.19717203  1.0000000 0.19717203 1.2383268   251\n",
      "[242] {RAM=1000,                                                                                             \n",
      "       InternalStorage=8,                                                                                    \n",
      "       FrontCamera=[0,10),                                                                                   \n",
      "       OS=Android}                   => {RearCamera=[0,10)}  0.19717203  0.9507576 0.20738413 2.5006496   251\n",
      "[243] {InternalStorage=8,                                                                                    \n",
      "       RearCamera=[0,10),                                                                                    \n",
      "       FrontCamera=[0,10),                                                                                   \n",
      "       OS=Android}                   => {RAM=1000}           0.19717203  0.9507576 0.20738413 3.4286527   251\n",
      "[244] {BatteryCapacity=[2000,3000),                                                                          \n",
      "       RAM=1000,                                                                                             \n",
      "       InternalStorage=8,                                                                                    \n",
      "       FrontCamera=[0,10)}           => {OS=Android}         0.14611155  0.9738220 0.15003928 1.0128067   186\n",
      "[245] {BatteryCapacity=[2000,3000),                                                                          \n",
      "       RAM=1000,                                                                                             \n",
      "       InternalStorage=8,                                                                                    \n",
      "       OS=Android}                   => {FrontCamera=[0,10)} 0.14611155  1.0000000 0.14611155 1.2383268   186\n",
      "[246] {BatteryCapacity=[2000,3000),                                                                          \n",
      "       InternalStorage=8,                                                                                    \n",
      "       FrontCamera=[0,10),                                                                                   \n",
      "       OS=Android}                   => {RAM=1000}           0.14611155  0.9346734 0.15632364 3.3706493   186\n",
      "[247] {BatteryCapacity=[2000,3000),                                                                          \n",
      "       InternalStorage=8,                                                                                    \n",
      "       RearCamera=[0,10),                                                                                    \n",
      "       FrontCamera=[0,10)}           => {OS=Android}         0.14611155  0.9687500 0.15082482 1.0075317   186\n",
      "[248] {BatteryCapacity=[2000,3000),                                                                          \n",
      "       InternalStorage=8,                                                                                    \n",
      "       RearCamera=[0,10),                                                                                    \n",
      "       OS=Android}                   => {FrontCamera=[0,10)} 0.14611155  1.0000000 0.14611155 1.2383268   186\n",
      "[249] {BatteryCapacity=[2000,3000),                                                                          \n",
      "       InternalStorage=8,                                                                                    \n",
      "       FrontCamera=[0,10),                                                                                   \n",
      "       OS=Android}                   => {RearCamera=[0,10)}  0.14611155  0.9346734 0.15632364 2.4583454   186\n",
      "[250] {BatteryCapacity=[3000,4000),                                                                          \n",
      "       RAM=2000,                                                                                             \n",
      "       InternalStorage=16,                                                                                   \n",
      "       FrontCamera=[0,10)}           => {OS=Android}         0.05813040  1.0000000 0.05813040 1.0400327    74\n",
      "[251] {BatteryCapacity=[3000,4000),                                                                          \n",
      "       RAM=2000,                                                                                             \n",
      "       InternalStorage=16,                                                                                   \n",
      "       OS=Android}                   => {FrontCamera=[0,10)} 0.05813040  0.9250000 0.06284368 1.1454523    74\n",
      "[252] {BatteryCapacity=[2000,3000),                                                                          \n",
      "       RAM=2000,                                                                                             \n",
      "       InternalStorage=16,                                                                                   \n",
      "       RearCamera=[0,10)}            => {FrontCamera=[0,10)} 0.05970149  1.0000000 0.05970149 1.2383268    76\n",
      "[253] {BatteryCapacity=[2000,3000),                                                                          \n",
      "       RAM=2000,                                                                                             \n",
      "       InternalStorage=16,                                                                                   \n",
      "       RearCamera=[0,10)}            => {OS=Android}         0.05498822  0.9210526 0.05970149 0.9579248    70\n",
      "[254] {RAM=2000,                                                                                             \n",
      "       InternalStorage=16,                                                                                   \n",
      "       RearCamera=[0,10),                                                                                    \n",
      "       FrontCamera=[0,10)}           => {OS=Android}         0.08326787  0.9380531 0.08876669 0.9756059   106\n",
      "[255] {RAM=2000,                                                                                             \n",
      "       InternalStorage=16,                                                                                   \n",
      "       RearCamera=[0,10),                                                                                    \n",
      "       OS=Android}                   => {FrontCamera=[0,10)} 0.08326787  0.9814815 0.08483896 1.2153949   106\n",
      "[256] {BatteryCapacity=[2000,3000),                                                                          \n",
      "       RAM=2000,                                                                                             \n",
      "       InternalStorage=16,                                                                                   \n",
      "       RearCamera=[10,20)}           => {FrontCamera=[0,10)} 0.06205813  0.9518072 0.06520031 1.1786484    79\n",
      "[257] {BatteryCapacity=[2000,3000),                                                                          \n",
      "       RAM=2000,                                                                                             \n",
      "       InternalStorage=16,                                                                                   \n",
      "       RearCamera=[10,20)}           => {OS=Android}         0.06284368  0.9638554 0.06520031 1.0024411    80\n",
      "[258] {BatteryCapacity=[2000,3000),                                                                          \n",
      "       RAM=2000,                                                                                             \n",
      "       InternalStorage=16,                                                                                   \n",
      "       FrontCamera=[0,10)}           => {OS=Android}         0.11704635  0.9430380 0.12411626 0.9807903   149\n",
      "[259] {BatteryCapacity=[2000,3000),                                                                          \n",
      "       RAM=2000,                                                                                             \n",
      "       InternalStorage=16,                                                                                   \n",
      "       OS=Android}                   => {FrontCamera=[0,10)} 0.11704635  0.9738562 0.12018853 1.2059523   149\n",
      "[260] {RAM=2000,                                                                                             \n",
      "       InternalStorage=16,                                                                                   \n",
      "       RearCamera=[10,20),                                                                                   \n",
      "       FrontCamera=[0,10)}           => {OS=Android}         0.12254517  0.9689441 0.12647290 1.0077335   156\n",
      "[261] {RAM=2000,                                                                                             \n",
      "       InternalStorage=16,                                                                                   \n",
      "       RearCamera=[10,20),                                                                                   \n",
      "       OS=Android}                   => {FrontCamera=[0,10)} 0.12254517  0.9512195 0.12882954 1.1779207   156\n",
      "[262] {BatteryCapacity=[2000,3000),                                                                          \n",
      "       RAM=2000,                                                                                             \n",
      "       RearCamera=[0,10),                                                                                    \n",
      "       FrontCamera=[0,10)}           => {OS=Android}         0.06520031  0.9222222 0.07069914 0.9591412    83\n",
      "[263] {BatteryCapacity=[2000,3000),                                                                          \n",
      "       RAM=2000,                                                                                             \n",
      "       RearCamera=[0,10),                                                                                    \n",
      "       OS=Android}                   => {FrontCamera=[0,10)} 0.06520031  1.0000000 0.06520031 1.2383268    83\n",
      "[264] {BatteryCapacity=[2000,3000),                                                                          \n",
      "       RAM=2000,                                                                                             \n",
      "       RearCamera=[10,20),                                                                                   \n",
      "       FrontCamera=[0,10)}           => {OS=Android}         0.06755695  0.9662921 0.06991359 1.0049754    86\n",
      "[265] {BatteryCapacity=[2000,3000),                                                                          \n",
      "       RAM=2000,                                                                                             \n",
      "       RearCamera=[10,20),                                                                                   \n",
      "       OS=Android}                   => {FrontCamera=[0,10)} 0.06755695  0.9555556 0.07069914 1.1832901    86\n",
      "[266] {BatteryCapacity=[2000,3000),                                                                          \n",
      "       RAM=1000,                                                                                             \n",
      "       RearCamera=[0,10),                                                                                    \n",
      "       FrontCamera=[0,10)}           => {OS=Android}         0.17282011  0.9649123 0.17910448 1.0035403   220\n",
      "[267] {BatteryCapacity=[2000,3000),                                                                          \n",
      "       RAM=1000,                                                                                             \n",
      "       RearCamera=[0,10),                                                                                    \n",
      "       OS=Android}                   => {FrontCamera=[0,10)} 0.17282011  1.0000000 0.17282011 1.2383268   220\n",
      "[268] {BatteryCapacity=[2000,3000),                                                                          \n",
      "       RAM=1000,                                                                                             \n",
      "       FrontCamera=[0,10),                                                                                   \n",
      "       OS=Android}                   => {RearCamera=[0,10)}  0.17282011  0.9361702 0.18460330 2.4622824   220\n",
      "[269] {BatteryCapacity=[3000,4000),                                                                          \n",
      "       InternalStorage=16,                                                                                   \n",
      "       RearCamera=[10,20),                                                                                   \n",
      "       FrontCamera=[0,10)}           => {OS=Android}         0.06284368  0.9876543 0.06362922 1.0271928    80\n",
      "[270] {BatteryCapacity=[3000,4000),                                                                          \n",
      "       InternalStorage=16,                                                                                   \n",
      "       RearCamera=[10,20),                                                                                   \n",
      "       OS=Android}                   => {FrontCamera=[0,10)} 0.06284368  0.9302326 0.06755695 1.1519320    80\n",
      "[271] {BatteryCapacity=[2000,3000),                                                                          \n",
      "       InternalStorage=16,                                                                                   \n",
      "       RearCamera=[0,10),                                                                                    \n",
      "       FrontCamera=[0,10)}           => {OS=Android}         0.09033778  0.9349593 0.09662215 0.9723883   115\n",
      "[272] {BatteryCapacity=[2000,3000),                                                                          \n",
      "       InternalStorage=16,                                                                                   \n",
      "       RearCamera=[0,10),                                                                                    \n",
      "       OS=Android}                   => {FrontCamera=[0,10)} 0.09033778  1.0000000 0.09033778 1.2383268   115\n",
      "[273] {BatteryCapacity=[2000,3000),                                                                          \n",
      "       InternalStorage=16,                                                                                   \n",
      "       RearCamera=[10,20),                                                                                   \n",
      "       FrontCamera=[0,10)}           => {OS=Android}         0.07934014  0.9619048 0.08248233 1.0004124   101\n",
      "[274] {BatteryCapacity=[2000,3000),                                                                          \n",
      "       InternalStorage=16,                                                                                   \n",
      "       RearCamera=[10,20),                                                                                   \n",
      "       OS=Android}                   => {FrontCamera=[0,10)} 0.07934014  0.9528302 0.08326787 1.1799152   101\n",
      "[275] {BatteryCapacity=[2000,3000),                                                                          \n",
      "       RAM=1000,                                                                                             \n",
      "       InternalStorage=8,                                                                                    \n",
      "       RearCamera=[0,10),                                                                                    \n",
      "       FrontCamera=[0,10)}           => {OS=Android}         0.13825609  0.9723757 0.14218382 1.0113025   176\n",
      "[276] {BatteryCapacity=[2000,3000),                                                                          \n",
      "       RAM=1000,                                                                                             \n",
      "       InternalStorage=8,                                                                                    \n",
      "       RearCamera=[0,10),                                                                                    \n",
      "       OS=Android}                   => {FrontCamera=[0,10)} 0.13825609  1.0000000 0.13825609 1.2383268   176\n",
      "[277] {BatteryCapacity=[2000,3000),                                                                          \n",
      "       RAM=1000,                                                                                             \n",
      "       InternalStorage=8,                                                                                    \n",
      "       FrontCamera=[0,10),                                                                                   \n",
      "       OS=Android}                   => {RearCamera=[0,10)}  0.13825609  0.9462366 0.14611155 2.4887586   176\n",
      "[278] {BatteryCapacity=[2000,3000),                                                                          \n",
      "       InternalStorage=8,                                                                                    \n",
      "       RearCamera=[0,10),                                                                                    \n",
      "       FrontCamera=[0,10),                                                                                   \n",
      "       OS=Android}                   => {RAM=1000}           0.13825609  0.9462366 0.14611155 3.4123488   176\n",
      "[279] {BatteryCapacity=[2000,3000),                                                                          \n",
      "       RAM=2000,                                                                                             \n",
      "       InternalStorage=16,                                                                                   \n",
      "       RearCamera=[0,10),                                                                                    \n",
      "       FrontCamera=[0,10)}           => {OS=Android}         0.05498822  0.9210526 0.05970149 0.9579248    70\n",
      "[280] {BatteryCapacity=[2000,3000),                                                                          \n",
      "       RAM=2000,                                                                                             \n",
      "       InternalStorage=16,                                                                                   \n",
      "       RearCamera=[0,10),                                                                                    \n",
      "       OS=Android}                   => {FrontCamera=[0,10)} 0.05498822  1.0000000 0.05498822 1.2383268    70\n",
      "[281] {BatteryCapacity=[2000,3000),                                                                          \n",
      "       RAM=2000,                                                                                             \n",
      "       InternalStorage=16,                                                                                   \n",
      "       RearCamera=[10,20),                                                                                   \n",
      "       FrontCamera=[0,10)}           => {OS=Android}         0.05970149  0.9620253 0.06205813 1.0005378    76\n",
      "[282] {BatteryCapacity=[2000,3000),                                                                          \n",
      "       RAM=2000,                                                                                             \n",
      "       InternalStorage=16,                                                                                   \n",
      "       RearCamera=[10,20),                                                                                   \n",
      "       OS=Android}                   => {FrontCamera=[0,10)} 0.05970149  0.9500000 0.06284368 1.1764105    76\n"
     ]
    }
   ],
   "source": [
    "inspect(rules)"
   ]
  },
  {
   "attachments": {},
   "cell_type": "markdown",
   "metadata": {},
   "source": [
    "## 5. Grupiranje k-sredina"
   ]
  },
  {
   "cell_type": "code",
   "execution_count": 45,
   "metadata": {
    "vscode": {
     "languageId": "r"
    }
   },
   "outputs": [],
   "source": [
    "phoneData2 <- read.csv('phone_specs.csv')\n",
    "\n",
    "phoneData_kmeans <- phoneData2 %>%\n",
    "    mutate(Price = round(Price / 87.95)) %>%\n",
    "    mutate(PriceCategory = ifelse(Price <= 100, '1',\n",
    "                            ifelse(Price <= 200, '2', '3'))) %>%\n",
    "    filter(!(PriceCategory == '1' & (RAM <= 64 | RAM > 1000))) %>%\n",
    "    filter(!(PriceCategory == '1' & (InternalStorage <= 3 | InternalStorage > 8))) %>%\n",
    "    filter(!(PriceCategory == '1' & RearCamera > 5)) %>%\n",
    "    filter(!(PriceCategory == '1' & FrontCamera > 1.3)) %>%\n",
    "    filter(!(PriceCategory == '2' & (RAM <= 1000 | RAM >= 4000))) %>%\n",
    "    filter(!(PriceCategory == '2' & (InternalStorage <= 8 | InternalStorage > 32))) %>%\n",
    "    filter(!(PriceCategory == '2' & (RearCamera <= 5 | RearCamera > 13))) %>%\n",
    "    filter(!(PriceCategory == '2' & (FrontCamera <= 1.3 | FrontCamera > 5))) %>%\n",
    "    filter(!(PriceCategory == '3' & RAM < 4000)) %>%\n",
    "    filter(!(PriceCategory == '3' & (InternalStorage <= 32 | InternalStorage >= 256))) %>%\n",
    "    filter(!(PriceCategory == '3' & (RearCamera < 13 | RearCamera >= 64))) %>%\n",
    "    filter(!(PriceCategory == '3' & (FrontCamera < 8 | FrontCamera >= 40)))\n"
   ]
  },
  {
   "cell_type": "code",
   "execution_count": 46,
   "metadata": {
    "vscode": {
     "languageId": "r"
    }
   },
   "outputs": [
    {
     "data": {
      "text/plain": [
       "\n",
       " 1  2  3 \n",
       "85 71 54 "
      ]
     },
     "metadata": {},
     "output_type": "display_data"
    }
   ],
   "source": [
    "table(phoneData_kmeans$PriceCategory)"
   ]
  },
  {
   "cell_type": "code",
   "execution_count": 47,
   "metadata": {
    "vscode": {
     "languageId": "r"
    }
   },
   "outputs": [
    {
     "data": {
      "text/html": [
       "<style>\n",
       ".list-inline {list-style: none; margin:0; padding: 0}\n",
       ".list-inline>li {display: inline-block}\n",
       ".list-inline>li:not(:last-child)::after {content: \"\\00b7\"; padding: 0 .5ex}\n",
       "</style>\n",
       "<ol class=list-inline><li>'Index'</li><li>'Name'</li><li>'Brand'</li><li>'Model'</li><li>'BatteryCapacity'</li><li>'ScreenSize'</li><li>'Touchscreen'</li><li>'ResolutionX'</li><li>'ResolutionY'</li><li>'Processor'</li><li>'RAM'</li><li>'InternalStorage'</li><li>'RearCamera'</li><li>'FrontCamera'</li><li>'OS'</li><li>'WiFi'</li><li>'Bluetooth'</li><li>'GPS'</li><li>'SIMsNumber'</li><li>'X3G'</li><li>'X4G.LTE'</li><li>'Price'</li><li>'PriceCategory'</li></ol>\n"
      ],
      "text/latex": [
       "\\begin{enumerate*}\n",
       "\\item 'Index'\n",
       "\\item 'Name'\n",
       "\\item 'Brand'\n",
       "\\item 'Model'\n",
       "\\item 'BatteryCapacity'\n",
       "\\item 'ScreenSize'\n",
       "\\item 'Touchscreen'\n",
       "\\item 'ResolutionX'\n",
       "\\item 'ResolutionY'\n",
       "\\item 'Processor'\n",
       "\\item 'RAM'\n",
       "\\item 'InternalStorage'\n",
       "\\item 'RearCamera'\n",
       "\\item 'FrontCamera'\n",
       "\\item 'OS'\n",
       "\\item 'WiFi'\n",
       "\\item 'Bluetooth'\n",
       "\\item 'GPS'\n",
       "\\item 'SIMsNumber'\n",
       "\\item 'X3G'\n",
       "\\item 'X4G.LTE'\n",
       "\\item 'Price'\n",
       "\\item 'PriceCategory'\n",
       "\\end{enumerate*}\n"
      ],
      "text/markdown": [
       "1. 'Index'\n",
       "2. 'Name'\n",
       "3. 'Brand'\n",
       "4. 'Model'\n",
       "5. 'BatteryCapacity'\n",
       "6. 'ScreenSize'\n",
       "7. 'Touchscreen'\n",
       "8. 'ResolutionX'\n",
       "9. 'ResolutionY'\n",
       "10. 'Processor'\n",
       "11. 'RAM'\n",
       "12. 'InternalStorage'\n",
       "13. 'RearCamera'\n",
       "14. 'FrontCamera'\n",
       "15. 'OS'\n",
       "16. 'WiFi'\n",
       "17. 'Bluetooth'\n",
       "18. 'GPS'\n",
       "19. 'SIMsNumber'\n",
       "20. 'X3G'\n",
       "21. 'X4G.LTE'\n",
       "22. 'Price'\n",
       "23. 'PriceCategory'\n",
       "\n",
       "\n"
      ],
      "text/plain": [
       " [1] \"Index\"           \"Name\"            \"Brand\"           \"Model\"          \n",
       " [5] \"BatteryCapacity\" \"ScreenSize\"      \"Touchscreen\"     \"ResolutionX\"    \n",
       " [9] \"ResolutionY\"     \"Processor\"       \"RAM\"             \"InternalStorage\"\n",
       "[13] \"RearCamera\"      \"FrontCamera\"     \"OS\"              \"WiFi\"           \n",
       "[17] \"Bluetooth\"       \"GPS\"             \"SIMsNumber\"      \"X3G\"            \n",
       "[21] \"X4G.LTE\"         \"Price\"           \"PriceCategory\"  "
      ]
     },
     "metadata": {},
     "output_type": "display_data"
    }
   ],
   "source": [
    "names(phoneData_kmeans)"
   ]
  },
  {
   "cell_type": "code",
   "execution_count": 48,
   "metadata": {
    "vscode": {
     "languageId": "r"
    }
   },
   "outputs": [
    {
     "data": {
      "text/html": [
       "<style>\n",
       ".list-inline {list-style: none; margin:0; padding: 0}\n",
       ".list-inline>li {display: inline-block}\n",
       ".list-inline>li:not(:last-child)::after {content: \"\\00b7\"; padding: 0 .5ex}\n",
       "</style>\n",
       "<ol class=list-inline><li>'RAM'</li><li>'InternalStorage'</li><li>'RearCamera'</li><li>'FrontCamera'</li><li>'PriceCategory'</li></ol>\n"
      ],
      "text/latex": [
       "\\begin{enumerate*}\n",
       "\\item 'RAM'\n",
       "\\item 'InternalStorage'\n",
       "\\item 'RearCamera'\n",
       "\\item 'FrontCamera'\n",
       "\\item 'PriceCategory'\n",
       "\\end{enumerate*}\n"
      ],
      "text/markdown": [
       "1. 'RAM'\n",
       "2. 'InternalStorage'\n",
       "3. 'RearCamera'\n",
       "4. 'FrontCamera'\n",
       "5. 'PriceCategory'\n",
       "\n",
       "\n"
      ],
      "text/plain": [
       "[1] \"RAM\"             \"InternalStorage\" \"RearCamera\"      \"FrontCamera\"    \n",
       "[5] \"PriceCategory\"  "
      ]
     },
     "metadata": {},
     "output_type": "display_data"
    }
   ],
   "source": [
    "phoneData_kmeans <- phoneData_kmeans[-c(1:10, 15:22)]\n",
    "\n",
    "names(phoneData_kmeans)"
   ]
  },
  {
   "cell_type": "code",
   "execution_count": 49,
   "metadata": {
    "vscode": {
     "languageId": "r"
    }
   },
   "outputs": [],
   "source": [
    "phoneData_kmeans <- phoneData_kmeans %>% mutate(across(c(1:4), scale))"
   ]
  },
  {
   "cell_type": "code",
   "execution_count": 50,
   "metadata": {
    "vscode": {
     "languageId": "r"
    }
   },
   "outputs": [
    {
     "data": {
      "text/html": [
       "<table class=\"dataframe\">\n",
       "<caption>A data.frame: 6 × 5</caption>\n",
       "<thead>\n",
       "\t<tr><th></th><th scope=col>RAM</th><th scope=col>InternalStorage</th><th scope=col>RearCamera</th><th scope=col>FrontCamera</th><th scope=col>PriceCategory</th></tr>\n",
       "\t<tr><th></th><th scope=col>&lt;dbl[,1]&gt;</th><th scope=col>&lt;dbl[,1]&gt;</th><th scope=col>&lt;dbl[,1]&gt;</th><th scope=col>&lt;dbl[,1]&gt;</th><th scope=col>&lt;chr&gt;</th></tr>\n",
       "</thead>\n",
       "<tbody>\n",
       "\t<tr><th scope=row>1 3</th><td>2.360400</td><td>2.2399984</td><td>2.721428</td><td>1.211087</td><td>3</td></tr>\n",
       "\t<tr><th scope=row>2 3</th><td>2.360400</td><td>2.2399984</td><td>2.721428</td><td>2.204993</td><td>3</td></tr>\n",
       "\t<tr><th scope=row>3 3</th><td>1.477526</td><td>2.2399984</td><td>2.721428</td><td>1.708040</td><td>3</td></tr>\n",
       "\t<tr><th scope=row>4 3</th><td>1.477526</td><td>0.6916761</td><td>0.226204</td><td>1.211087</td><td>3</td></tr>\n",
       "\t<tr><th scope=row>5 3</th><td>1.477526</td><td>0.6916761</td><td>2.721428</td><td>1.708040</td><td>3</td></tr>\n",
       "\t<tr><th scope=row>6 3</th><td>1.477526</td><td>2.2399984</td><td>2.721428</td><td>1.211087</td><td>3</td></tr>\n",
       "</tbody>\n",
       "</table>\n"
      ],
      "text/latex": [
       "A data.frame: 6 × 5\n",
       "\\begin{tabular}{r|lllll}\n",
       "  & RAM & InternalStorage & RearCamera & FrontCamera & PriceCategory\\\\\n",
       "  & <dbl{[},1{]}> & <dbl{[},1{]}> & <dbl{[},1{]}> & <dbl{[},1{]}> & <chr>\\\\\n",
       "\\hline\n",
       "\t1 3 & 2.360400 & 2.2399984 & 2.721428 & 1.211087 & 3\\\\\n",
       "\t2 3 & 2.360400 & 2.2399984 & 2.721428 & 2.204993 & 3\\\\\n",
       "\t3 3 & 1.477526 & 2.2399984 & 2.721428 & 1.708040 & 3\\\\\n",
       "\t4 3 & 1.477526 & 0.6916761 & 0.226204 & 1.211087 & 3\\\\\n",
       "\t5 3 & 1.477526 & 0.6916761 & 2.721428 & 1.708040 & 3\\\\\n",
       "\t6 3 & 1.477526 & 2.2399984 & 2.721428 & 1.211087 & 3\\\\\n",
       "\\end{tabular}\n"
      ],
      "text/markdown": [
       "\n",
       "A data.frame: 6 × 5\n",
       "\n",
       "| <!--/--> | RAM &lt;dbl[,1]&gt; | InternalStorage &lt;dbl[,1]&gt; | RearCamera &lt;dbl[,1]&gt; | FrontCamera &lt;dbl[,1]&gt; | PriceCategory &lt;chr&gt; |\n",
       "|---|---|---|---|---|---|\n",
       "| 1 3 | 2.360400 | 2.2399984 | 2.721428 | 1.211087 | 3 |\n",
       "| 2 3 | 2.360400 | 2.2399984 | 2.721428 | 2.204993 | 3 |\n",
       "| 3 3 | 1.477526 | 2.2399984 | 2.721428 | 1.708040 | 3 |\n",
       "| 4 3 | 1.477526 | 0.6916761 | 0.226204 | 1.211087 | 3 |\n",
       "| 5 3 | 1.477526 | 0.6916761 | 2.721428 | 1.708040 | 3 |\n",
       "| 6 3 | 1.477526 | 2.2399984 | 2.721428 | 1.211087 | 3 |\n",
       "\n"
      ],
      "text/plain": [
       "    RAM      InternalStorage RearCamera FrontCamera PriceCategory\n",
       "1 3 2.360400 2.2399984       2.721428   1.211087    3            \n",
       "2 3 2.360400 2.2399984       2.721428   2.204993    3            \n",
       "3 3 1.477526 2.2399984       2.721428   1.708040    3            \n",
       "4 3 1.477526 0.6916761       0.226204   1.211087    3            \n",
       "5 3 1.477526 0.6916761       2.721428   1.708040    3            \n",
       "6 3 1.477526 2.2399984       2.721428   1.211087    3            "
      ]
     },
     "metadata": {},
     "output_type": "display_data"
    }
   ],
   "source": [
    "phoneData_kmeans$index <- 1:nrow(phoneData_kmeans)\n",
    "phoneData_kmeans$x <- paste(phoneData_kmeans$index, phoneData_kmeans$PriceCategory)\n",
    "rownames(phoneData_kmeans) <- phoneData_kmeans$x\n",
    "phoneData_kmeans <- phoneData_kmeans[-c(6:7)]\n",
    "head(phoneData_kmeans)"
   ]
  },
  {
   "cell_type": "code",
   "execution_count": 51,
   "metadata": {
    "vscode": {
     "languageId": "r"
    }
   },
   "outputs": [
    {
     "data": {
      "image/png": "[encoded data removed]",
      "text/plain": [
       "plot without title"
      ]
     },
     "metadata": {
      "image/png": {
       "height": 420,
       "width": 420
      }
     },
     "output_type": "display_data"
    }
   ],
   "source": [
    "fviz_nbclust(phoneData_kmeans[-5], kmeans, method = \"wss\") + geom_vline(xintercept = 3, linetype = 2) + labs(subtitle = \"Elbow method\")"
   ]
  },
  {
   "cell_type": "code",
   "execution_count": 52,
   "metadata": {
    "vscode": {
     "languageId": "r"
    }
   },
   "outputs": [
    {
     "data": {
      "text/plain": [
       "K-means clustering with 3 clusters of sizes 88, 84, 38\n",
       "\n",
       "Cluster means:\n",
       "          RAM InternalStorage   RearCamera FrontCamera\n",
       "1 -0.83945433      -0.6905974 -0.725631971 -0.72335986\n",
       "2  0.08489878      -0.1239579 -0.009579879 -0.06220788\n",
       "3  1.75632850       1.8732905  1.701587456  1.81266130\n",
       "\n",
       "Clustering vector:\n",
       "  1 3   2 3   3 3   4 3   5 3   6 3   7 3   8 3   9 3  10 3  11 3  12 3  13 3 \n",
       "    3     3     3     3     3     3     3     3     3     3     3     3     3 \n",
       " 14 3  15 3  16 3  17 3  18 3  19 3  20 3  21 3  22 3  23 3  24 3  25 3  26 3 \n",
       "    2     3     3     3     3     3     3     3     3     3     3     3     2 \n",
       " 27 3  28 3  29 1  30 3  31 2  32 3  33 2  34 2  35 2  36 2  37 2  38 2  39 2 \n",
       "    3     3     1     2     2     3     2     2     2     2     2     2     2 \n",
       " 40 2  41 2  42 3  43 3  44 3  45 3  46 3  47 3  48 2  49 3  50 2  51 3  52 2 \n",
       "    2     2     3     3     3     2     3     3     2     3     2     2     2 \n",
       " 53 2  54 2  55 3  56 2  57 2  58 2  59 2  60 2  61 2  62 2  63 2  64 1  65 2 \n",
       "    2     2     2     2     2     2     2     2     2     2     2     1     2 \n",
       " 66 2  67 1  68 1  69 2  70 2  71 2  72 2  73 1  74 1  75 2  76 2  77 2  78 2 \n",
       "    2     1     1     2     1     2     1     1     1     2     2     2     2 \n",
       " 79 2  80 2  81 2  82 2  83 1  84 2  85 2  86 2  87 1  88 1  89 2  90 1  91 1 \n",
       "    2     2     2     2     1     1     2     2     1     1     2     1     1 \n",
       " 92 1  93 1  94 1  95 1  96 1  97 3  98 3  99 3 100 3 101 3 102 2 103 3 104 3 \n",
       "    1     1     1     1     1     2     2     3     3     3     2     3     3 \n",
       "105 3 106 2 107 3 108 1 109 2 110 3 111 1 112 2 113 1 114 1 115 2 116 2 117 2 \n",
       "    2     2     2     1     2     2     1     2     1     1     2     2     2 \n",
       "118 1 119 1 120 1 121 2 122 1 123 3 124 1 125 2 126 3 127 1 128 1 129 1 130 2 \n",
       "    1     1     1     2     1     2     1     2     2     1     1     1     2 \n",
       "131 1 132 1 133 1 134 2 135 2 136 1 137 2 138 1 139 1 140 1 141 1 142 1 143 2 \n",
       "    1     1     1     2     2     1     2     1     1     1     1     1     2 \n",
       "144 1 145 1 146 2 147 1 148 3 149 1 150 1 151 2 152 3 153 1 154 1 155 1 156 1 \n",
       "    1     1     2     1     2     1     1     2     2     1     1     1     1 \n",
       "157 1 158 1 159 1 160 2 161 2 162 2 163 1 164 1 165 1 166 1 167 1 168 1 169 2 \n",
       "    1     1     1     2     2     2     1     1     1     1     1     1     2 \n",
       "170 3 171 1 172 2 173 2 174 1 175 1 176 1 177 2 178 1 179 1 180 1 181 1 182 2 \n",
       "    2     1     2     2     1     1     1     2     1     1     1     1     2 \n",
       "183 2 184 1 185 2 186 1 187 1 188 1 189 1 190 1 191 2 192 1 193 1 194 2 195 1 \n",
       "    2     1     2     1     1     1     1     1     2     1     1     2     1 \n",
       "196 1 197 1 198 1 199 1 200 1 201 1 202 1 203 2 204 1 205 1 206 1 207 1 208 2 \n",
       "    1     1     1     1     1     1     1     2     1     1     1     1     2 \n",
       "209 1 210 1 \n",
       "    1     1 \n",
       "\n",
       "Within cluster sum of squares by cluster:\n",
       "[1]   4.043496  43.110530 104.802051\n",
       " (between_SS / total_SS =  81.8 %)\n",
       "\n",
       "Available components:\n",
       "\n",
       "[1] \"cluster\"      \"centers\"      \"totss\"        \"withinss\"     \"tot.withinss\"\n",
       "[6] \"betweenss\"    \"size\"         \"iter\"         \"ifault\"      "
      ]
     },
     "metadata": {},
     "output_type": "display_data"
    }
   ],
   "source": [
    "set.seed(240)\n",
    "\n",
    "kmeans_model <- kmeans(phoneData_kmeans[-5], centers = 3)\n",
    "kmeans_model"
   ]
  },
  {
   "cell_type": "code",
   "execution_count": 53,
   "metadata": {
    "vscode": {
     "languageId": "r"
    }
   },
   "outputs": [
    {
     "data": {
      "image/png": "[encoded data removed]",
      "text/plain": [
       "Plot with title \"CLUSPLOT( phoneData_kmeans[-5] )\""
      ]
     },
     "metadata": {
      "image/png": {
       "height": 420,
       "width": 420
      }
     },
     "output_type": "display_data"
    }
   ],
   "source": [
    "clusplot(phoneData_kmeans[-5], kmeans_model$cluster, color=T, shade=T)"
   ]
  },
  {
   "cell_type": "code",
   "execution_count": 54,
   "metadata": {
    "vscode": {
     "languageId": "r"
    }
   },
   "outputs": [
    {
     "name": "stdout",
     "output_type": "stream",
     "text": [
      "  cluster size ave.sil.width\n",
      "1       1   88          0.82\n",
      "2       2   84          0.45\n",
      "3       3   38          0.38\n"
     ]
    },
    {
     "data": {
      "image/png": "[encoded data removed]",
      "text/plain": [
       "plot without title"
      ]
     },
     "metadata": {
      "image/png": {
       "height": 420,
       "width": 420
      }
     },
     "output_type": "display_data"
    }
   ],
   "source": [
    "sil <- silhouette(kmeans_model$cluster, dist(phoneData_kmeans[-5]), ordered = FALSE)\n",
    "fviz_silhouette(sil, label = FALSE)"
   ]
  },
  {
   "cell_type": "code",
   "execution_count": 55,
   "metadata": {
    "vscode": {
     "languageId": "r"
    }
   },
   "outputs": [
    {
     "data": {
      "image/png": "[encoded data removed]",
      "text/plain": [
       "plot without title"
      ]
     },
     "metadata": {
      "image/png": {
       "height": 420,
       "width": 420
      }
     },
     "output_type": "display_data"
    }
   ],
   "source": [
    "fviz_cluster(kmeans_model, data = phoneData_kmeans[-5])"
   ]
  },
  {
   "cell_type": "code",
   "execution_count": 56,
   "metadata": {
    "vscode": {
     "languageId": "r"
    }
   },
   "outputs": [
    {
     "data": {
      "text/plain": [
       "Confusion Matrix and Statistics\n",
       "\n",
       "          Reference\n",
       "Prediction  1  2  3\n",
       "         1 85  0  0\n",
       "         2  3 68  0\n",
       "         3  0 16 38\n",
       "\n",
       "Overall Statistics\n",
       "                                          \n",
       "               Accuracy : 0.9095          \n",
       "                 95% CI : (0.8623, 0.9446)\n",
       "    No Information Rate : 0.419           \n",
       "    P-Value [Acc > NIR] : < 2.2e-16       \n",
       "                                          \n",
       "                  Kappa : 0.8605          \n",
       "                                          \n",
       " Mcnemar's Test P-Value : NA              \n",
       "\n",
       "Statistics by Class:\n",
       "\n",
       "                     Class: 1 Class: 2 Class: 3\n",
       "Sensitivity            0.9659   0.8095   1.0000\n",
       "Specificity            1.0000   0.9762   0.9070\n",
       "Pos Pred Value         1.0000   0.9577   0.7037\n",
       "Neg Pred Value         0.9760   0.8849   1.0000\n",
       "Prevalence             0.4190   0.4000   0.1810\n",
       "Detection Rate         0.4048   0.3238   0.1810\n",
       "Detection Prevalence   0.4048   0.3381   0.2571\n",
       "Balanced Accuracy      0.9830   0.8929   0.9535"
      ]
     },
     "metadata": {},
     "output_type": "display_data"
    }
   ],
   "source": [
    "confusionMatrix(as.factor(phoneData_kmeans$PriceCategory), as.factor(kmeans_model$cluster))"
   ]
  }
 ],
 "metadata": {
  "kernelspec": {
   "display_name": "R",
   "language": "R",
   "name": "ir"
  },
  "language_info": {
   "codemirror_mode": "r",
   "file_extension": ".r",
   "mimetype": "text/x-r-source",
   "name": "R",
   "pygments_lexer": "r",
   "version": "4.2.2"
  },
  "orig_nbformat": 4,
  "vscode": {
   "interpreter": {
    "hash": "14db06bdfd394122bf25225892f39b871a66dbe84d5cc7816bbc4d63a39e4b03"
   }
  }
 },
 "nbformat": 4,
 "nbformat_minor": 2
}
