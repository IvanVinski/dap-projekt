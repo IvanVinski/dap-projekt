{
 "cells": [
  {
   "attachments": {},
   "cell_type": "markdown",
   "metadata": {},
   "source": [
    "# Dubinska analiza podataka - projektni zadatak\n",
    "\n",
    "## 1. Predprocesiranje podataka"
   ]
  },
  {
   "cell_type": "code",
   "execution_count": 147,
   "metadata": {
    "vscode": {
     "languageId": "r"
    }
   },
   "outputs": [],
   "source": [
    "# Ovo je tu jer ponekad zna prvu liniju u svakoj čeliji označit kao grešku makar sve radi,\n",
    "# ali me živcira to podcrtano. Pa treba ovo pokrenut, pa se od VS coda izbaci da se treba\n",
    "# instalirati 'languagepack' pa onda zatvorit i opet otvorit .ipynb file i nema više podcrtanog\n",
    "\n",
    "# lintr::use_lintr(type = \"tidyverse\")"
   ]
  },
  {
   "cell_type": "code",
   "execution_count": 1,
   "metadata": {
    "vscode": {
     "languageId": "r"
    }
   },
   "outputs": [
    {
     "name": "stderr",
     "output_type": "stream",
     "text": [
      "\n",
      "Attaching package: 'dplyr'\n",
      "\n",
      "\n",
      "The following objects are masked from 'package:stats':\n",
      "\n",
      "    filter, lag\n",
      "\n",
      "\n",
      "The following objects are masked from 'package:base':\n",
      "\n",
      "    intersect, setdiff, setequal, union\n",
      "\n",
      "\n",
      "Loading required package: ggplot2\n",
      "\n",
      "Loading required package: lattice\n",
      "\n",
      "\n",
      "Attaching package: 'neuralnet'\n",
      "\n",
      "\n",
      "The following object is masked from 'package:dplyr':\n",
      "\n",
      "    compute\n",
      "\n",
      "\n",
      "randomForest 4.7-1.1\n",
      "\n",
      "Type rfNews() to see new features/changes/bug fixes.\n",
      "\n",
      "\n",
      "Attaching package: 'randomForest'\n",
      "\n",
      "\n",
      "The following object is masked from 'package:ggplot2':\n",
      "\n",
      "    margin\n",
      "\n",
      "\n",
      "The following object is masked from 'package:dplyr':\n",
      "\n",
      "    combine\n",
      "\n",
      "\n",
      "Welcome! Want to learn more? See two factoextra-related books at https://goo.gl/ve3WBa\n",
      "\n"
     ]
    }
   ],
   "source": [
    "#install.packages('neuralnet')\n",
    "#install.packages('randomForest')\n",
    "#install.packages('factoextra')\n",
    "\n",
    "library(tidyr)\n",
    "library(dplyr)\n",
    "library(caret)\n",
    "library(neuralnet)\n",
    "library(randomForest)\n",
    "library(factoextra)"
   ]
  },
  {
   "cell_type": "code",
   "execution_count": 2,
   "metadata": {
    "vscode": {
     "languageId": "r"
    }
   },
   "outputs": [
    {
     "name": "stdout",
     "output_type": "stream",
     "text": [
      "'data.frame':\t1359 obs. of  22 variables:\n",
      " $ Index          : int  0 1 2 3 4 5 6 7 8 9 ...\n",
      " $ Name           : chr  \"OnePlus 7T Pro McLaren Edition\" \"Realme X2 Pro\" \"iPhone 11 Pro Max\" \"iPhone 11\" ...\n",
      " $ Brand          : chr  \"OnePlus\" \"Realme\" \"Apple\" \"Apple\" ...\n",
      " $ Model          : chr  \"7T Pro McLaren Edition\" \"X2 Pro\" \"iPhone 11 Pro Max\" \"iPhone 11\" ...\n",
      " $ BatteryCapacity: int  4085 4000 3969 3110 4000 3800 4085 4300 6000 4000 ...\n",
      " $ ScreenSize     : num  6.67 6.5 6.5 6.1 6.4 6.55 6.67 6.8 6.59 6.39 ...\n",
      " $ Touchscreen    : chr  \"Yes\" \"Yes\" \"Yes\" \"Yes\" ...\n",
      " $ ResolutionX    : int  1440 1080 1242 828 1080 1080 1440 1440 1080 1080 ...\n",
      " $ ResolutionY    : int  3120 2400 2688 1792 2340 2400 3120 3040 2340 2340 ...\n",
      " $ Processor      : int  8 8 6 6 8 8 8 8 8 8 ...\n",
      " $ RAM            : int  12000 6000 4000 4000 6000 8000 8000 12000 8000 6000 ...\n",
      " $ InternalStorage: num  256 64 64 64 128 128 256 256 128 128 ...\n",
      " $ RearCamera     : num  48 64 12 12 12 48 48 12 48 48 ...\n",
      " $ FrontCamera    : num  16 16 12 12 32 16 16 10 24 20 ...\n",
      " $ OS             : chr  \"Android\" \"Android\" \"iOS\" \"iOS\" ...\n",
      " $ WiFi           : chr  \"Yes\" \"Yes\" \"Yes\" \"Yes\" ...\n",
      " $ Bluetooth      : chr  \"Yes\" \"Yes\" \"Yes\" \"Yes\" ...\n",
      " $ GPS            : chr  \"Yes\" \"Yes\" \"Yes\" \"Yes\" ...\n",
      " $ SIMsNumber     : int  2 2 2 2 1 2 2 2 1 2 ...\n",
      " $ X3G            : chr  \"Yes\" \"Yes\" \"Yes\" \"Yes\" ...\n",
      " $ X4G.LTE        : chr  \"Yes\" \"Yes\" \"Yes\" \"Yes\" ...\n",
      " $ Price          : int  58998 27999 106900 62900 49990 34930 52990 79699 37999 23190 ...\n"
     ]
    }
   ],
   "source": [
    "# Importing data and displaying the internal structure\n",
    "phoneData <- read.csv('phone_specs.csv')\n",
    "\n",
    "str(phoneData)"
   ]
  },
  {
   "cell_type": "code",
   "execution_count": 4,
   "metadata": {
    "vscode": {
     "languageId": "r"
    }
   },
   "outputs": [
    {
     "data": {
      "text/plain": [
       "\n",
       "   Android BlackBerry   Cyanogen        iOS   Sailfish      Tizen    Windows \n",
       "      1299         10         10         17          1          3         19 "
      ]
     },
     "metadata": {},
     "output_type": "display_data"
    }
   ],
   "source": [
    "# OS data with name and frequency \n",
    "table(phoneData$OS)"
   ]
  },
  {
   "cell_type": "code",
   "execution_count": 3,
   "metadata": {
    "vscode": {
     "languageId": "r"
    }
   },
   "outputs": [],
   "source": [
    "phoneData <- phoneData %>%\n",
    "    filter(!(OS == 'Sailfish' | OS == 'Tizen')) %>%                       # delete rows with less know OS (only 3 rows) because One-hot-encoding\n",
    "    mutate(value = 1) %>% spread(OS, value,  fill = 0 ) %>%               # One-hot-encoding OS column\n",
    "    mutate(Price = round(Price / 87.95)) %>%                              # convert price (indian rupee to euro)\n",
    "    mutate(PriceCategory = ifelse(Price <= 200, 'Low-End',\n",
    "                           ifelse(Price <= 500, 'Mid-Range', 'High-End'))) %>%      # Defining price categories\n",
    "    filter(!(PriceCategory == 'Low-End' & RearCamera >= 20)) %>%\n",
    "    filter(!(PriceCategory == 'Low-End' & FrontCamera >= 10)) %>%\n",
    "    filter(!(PriceCategory == 'Low-End' & RAM > 4000)) %>%\n",
    "    filter(!(PriceCategory == 'Low-End' & InternalStorage > 64))          # Filtering some data to get better accuracy"
   ]
  },
  {
   "cell_type": "code",
   "execution_count": 6,
   "metadata": {
    "vscode": {
     "languageId": "r"
    }
   },
   "outputs": [
    {
     "data": {
      "text/html": [
       "<style>\n",
       ".list-inline {list-style: none; margin:0; padding: 0}\n",
       ".list-inline>li {display: inline-block}\n",
       ".list-inline>li:not(:last-child)::after {content: \"\\00b7\"; padding: 0 .5ex}\n",
       "</style>\n",
       "<ol class=list-inline><li>'Index'</li><li>'Name'</li><li>'Brand'</li><li>'Model'</li><li>'BatteryCapacity'</li><li>'ScreenSize'</li><li>'Touchscreen'</li><li>'ResolutionX'</li><li>'ResolutionY'</li><li>'Processor'</li><li>'RAM'</li><li>'InternalStorage'</li><li>'RearCamera'</li><li>'FrontCamera'</li><li>'WiFi'</li><li>'Bluetooth'</li><li>'GPS'</li><li>'SIMsNumber'</li><li>'X3G'</li><li>'X4G.LTE'</li><li>'Price'</li><li>'Android'</li><li>'BlackBerry'</li><li>'Cyanogen'</li><li>'iOS'</li><li>'Windows'</li><li>'PriceCategory'</li></ol>\n"
      ],
      "text/latex": [
       "\\begin{enumerate*}\n",
       "\\item 'Index'\n",
       "\\item 'Name'\n",
       "\\item 'Brand'\n",
       "\\item 'Model'\n",
       "\\item 'BatteryCapacity'\n",
       "\\item 'ScreenSize'\n",
       "\\item 'Touchscreen'\n",
       "\\item 'ResolutionX'\n",
       "\\item 'ResolutionY'\n",
       "\\item 'Processor'\n",
       "\\item 'RAM'\n",
       "\\item 'InternalStorage'\n",
       "\\item 'RearCamera'\n",
       "\\item 'FrontCamera'\n",
       "\\item 'WiFi'\n",
       "\\item 'Bluetooth'\n",
       "\\item 'GPS'\n",
       "\\item 'SIMsNumber'\n",
       "\\item 'X3G'\n",
       "\\item 'X4G.LTE'\n",
       "\\item 'Price'\n",
       "\\item 'Android'\n",
       "\\item 'BlackBerry'\n",
       "\\item 'Cyanogen'\n",
       "\\item 'iOS'\n",
       "\\item 'Windows'\n",
       "\\item 'PriceCategory'\n",
       "\\end{enumerate*}\n"
      ],
      "text/markdown": [
       "1. 'Index'\n",
       "2. 'Name'\n",
       "3. 'Brand'\n",
       "4. 'Model'\n",
       "5. 'BatteryCapacity'\n",
       "6. 'ScreenSize'\n",
       "7. 'Touchscreen'\n",
       "8. 'ResolutionX'\n",
       "9. 'ResolutionY'\n",
       "10. 'Processor'\n",
       "11. 'RAM'\n",
       "12. 'InternalStorage'\n",
       "13. 'RearCamera'\n",
       "14. 'FrontCamera'\n",
       "15. 'WiFi'\n",
       "16. 'Bluetooth'\n",
       "17. 'GPS'\n",
       "18. 'SIMsNumber'\n",
       "19. 'X3G'\n",
       "20. 'X4G.LTE'\n",
       "21. 'Price'\n",
       "22. 'Android'\n",
       "23. 'BlackBerry'\n",
       "24. 'Cyanogen'\n",
       "25. 'iOS'\n",
       "26. 'Windows'\n",
       "27. 'PriceCategory'\n",
       "\n",
       "\n"
      ],
      "text/plain": [
       " [1] \"Index\"           \"Name\"            \"Brand\"           \"Model\"          \n",
       " [5] \"BatteryCapacity\" \"ScreenSize\"      \"Touchscreen\"     \"ResolutionX\"    \n",
       " [9] \"ResolutionY\"     \"Processor\"       \"RAM\"             \"InternalStorage\"\n",
       "[13] \"RearCamera\"      \"FrontCamera\"     \"WiFi\"            \"Bluetooth\"      \n",
       "[17] \"GPS\"             \"SIMsNumber\"      \"X3G\"             \"X4G.LTE\"        \n",
       "[21] \"Price\"           \"Android\"         \"BlackBerry\"      \"Cyanogen\"       \n",
       "[25] \"iOS\"             \"Windows\"         \"PriceCategory\"  "
      ]
     },
     "metadata": {},
     "output_type": "display_data"
    }
   ],
   "source": [
    "names(phoneData)"
   ]
  },
  {
   "cell_type": "code",
   "execution_count": 7,
   "metadata": {
    "vscode": {
     "languageId": "r"
    }
   },
   "outputs": [],
   "source": [
    "# Removing columns that are not used for traning (Index, Name, Brand, Model and Price)\n",
    "phoneData <- phoneData[-c(1:4, 21)]"
   ]
  },
  {
   "cell_type": "code",
   "execution_count": 7,
   "metadata": {
    "vscode": {
     "languageId": "r"
    }
   },
   "outputs": [
    {
     "data": {
      "text/plain": [
       "\n",
       " High-End   Low-End Mid-Range \n",
       "       49       977       144 "
      ]
     },
     "metadata": {},
     "output_type": "display_data"
    }
   ],
   "source": [
    "table(phoneData$PriceCategory)"
   ]
  },
  {
   "attachments": {},
   "cell_type": "markdown",
   "metadata": {},
   "source": [
    "## 2. Klasifikacija - umjetne neuronske mreže"
   ]
  },
  {
   "cell_type": "code",
   "execution_count": null,
   "metadata": {
    "vscode": {
     "languageId": "r"
    }
   },
   "outputs": [],
   "source": [
    "# Neuralnet requires normalized data and accepts only numerical values as input\n",
    "phoneData_nn <- phoneData %>%\n",
    "    mutate(across(c(Touchscreen, WiFi, Bluetooth, GPS, X3G, X4G.LTE), ~as.numeric(ifelse(.x == 'Yes', 1, 0)))) %>%    # convert categorical Yes/No to 1/0 \n",
    "    mutate(across(c(1:2, 4:10, 14)), scale))                                                                          # normalization with scale() for numeric data"
   ]
  },
  {
   "attachments": {},
   "cell_type": "markdown",
   "metadata": {},
   "source": [
    "#### Prvi ANN model --> nauralnet paket"
   ]
  },
  {
   "cell_type": "code",
   "execution_count": 9,
   "metadata": {
    "vscode": {
     "languageId": "r"
    }
   },
   "outputs": [
    {
     "name": "stderr",
     "output_type": "stream",
     "text": [
      "hidden: 14    thresh: 0.01    rep: 1/1    steps: \n",
      "   1000\tmin thresh: 0.0996231409036611\n",
      "                                                 \n",
      "   2000\tmin thresh: 0.0546513793901923\n",
      "                                                 \n",
      "   3000\tmin thresh: 0.0253587093223993\n",
      "                                                 \n",
      "   4000\tmin thresh: 0.0108831842964161\n",
      "                                                 \n",
      "   4092\n",
      "\terror: 14.20329\n",
      "\ttime: 12.47 secs\n",
      "\n"
     ]
    }
   ],
   "source": [
    "# First ANN model with neuralnet package\n",
    "set.seed(123)\n",
    "\n",
    "trainIndex = createDataPartition(phoneData_nn$PriceCategory, p = 0.75, list = FALSE)\n",
    "trainData <- phoneData_nn[trainIndex, ]\n",
    "testData <- phoneData_nn[-trainIndex, ] \n",
    "\n",
    "nn = neuralnet(PriceCategory ~ .,\n",
    "                data = trainData,\n",
    "                hidden = 14,\n",
    "                lifesign = 'full',\n",
    "                linear.output = FALSE)"
   ]
  },
  {
   "cell_type": "code",
   "execution_count": 10,
   "metadata": {
    "vscode": {
     "languageId": "r"
    }
   },
   "outputs": [
    {
     "data": {
      "image/png": "[encoded data removed]",
      "text/plain": [
       "plot without title"
      ]
     },
     "metadata": {
      "image/png": {
       "height": 420,
       "width": 420
      }
     },
     "output_type": "display_data"
    }
   ],
   "source": [
    "plot(nn, rep=1)"
   ]
  },
  {
   "cell_type": "code",
   "execution_count": 11,
   "metadata": {
    "vscode": {
     "languageId": "r"
    }
   },
   "outputs": [
    {
     "name": "stdout",
     "output_type": "stream",
     "text": [
      "Confusion Matrix and Statistics\n",
      "\n",
      "           Reference\n",
      "Prediction  High-End Low-End Mid-Range\n",
      "  High-End         6       2         4\n",
      "  Low-End          0     240         4\n",
      "  Mid-Range        8       8        20\n",
      "\n",
      "Overall Statistics\n",
      "                                         \n",
      "               Accuracy : 0.911          \n",
      "                 95% CI : (0.8723, 0.941)\n",
      "    No Information Rate : 0.8562         \n",
      "    P-Value [Acc > NIR] : 0.003237       \n",
      "                                         \n",
      "                  Kappa : 0.6712         \n",
      "                                         \n",
      " Mcnemar's Test P-Value : 0.197897       \n",
      "\n",
      "Statistics by Class:\n",
      "\n",
      "                     Class: High-End Class: Low-End Class: Mid-Range\n",
      "Sensitivity                  0.42857         0.9600          0.71429\n",
      "Specificity                  0.97842         0.9048          0.93939\n",
      "Pos Pred Value               0.50000         0.9836          0.55556\n",
      "Neg Pred Value               0.97143         0.7917          0.96875\n",
      "Prevalence                   0.04795         0.8562          0.09589\n",
      "Detection Rate               0.02055         0.8219          0.06849\n",
      "Detection Prevalence         0.04110         0.8356          0.12329\n",
      "Balanced Accuracy            0.70349         0.9324          0.82684\n"
     ]
    }
   ],
   "source": [
    "predictions <- neuralnet::compute(nn, rep = 1, testData[, -23])\n",
    "\n",
    "pred <- predictions$net.result\n",
    "\n",
    "pred <- data.frame(\"pred\" = ifelse(max.col(pred[ ,1:3]) == 1, 'High-End',\n",
    "                            ifelse(max.col(pred[ ,1:3]) == 2, 'Low-End', 'Mid-Range')))\n",
    "\n",
    "cm <- confusionMatrix(as.factor(testData$PriceCategory), as.factor(pred$pred))\n",
    " \n",
    "print(cm)"
   ]
  },
  {
   "attachments": {},
   "cell_type": "markdown",
   "metadata": {},
   "source": [
    "#### Drugi ANN model --> train(method='nnet')"
   ]
  },
  {
   "cell_type": "code",
   "execution_count": null,
   "metadata": {
    "vscode": {
     "languageId": "r"
    }
   },
   "outputs": [
    {
     "data": {
      "text/plain": [
       "Neural Network \n",
       "\n",
       "1170 samples\n",
       "  21 predictor\n",
       "   3 classes: 'High-End', 'Low-End', 'Mid-Range' \n",
       "\n",
       "No pre-processing\n",
       "Resampling: Cross-Validated (10 fold) \n",
       "Summary of sample sizes: 1052, 1052, 1053, 1054, 1054, 1052, ... \n",
       "Resampling results across tuning parameters:\n",
       "\n",
       "  size  decay  Accuracy   Kappa    \n",
       "  1     0e+00  0.8884726  0.6709041\n",
       "  1     1e-04  0.8760237  0.5611517\n",
       "  1     1e-03  0.8792644  0.6254778\n",
       "  1     1e-02  0.8781536  0.6244270\n",
       "  1     1e-01  0.8792899  0.6195292\n",
       "  3     0e+00  0.9007929  0.7061318\n",
       "  3     1e-04  0.9078186  0.7347591\n",
       "  3     1e-03  0.9111627  0.7375155\n",
       "  3     1e-02  0.9156699  0.7424988\n",
       "  3     1e-01  0.9133847  0.7329313\n",
       "  5     0e+00  0.9396905  0.8014908\n",
       "  5     1e-04  0.9339306  0.8019521\n",
       "  5     1e-03  0.9282880  0.7814341\n",
       "  5     1e-02  0.9407497  0.8236120\n",
       "  5     1e-01  0.9339571  0.7997686\n",
       "  7     0e+00  0.9373537  0.8034415\n",
       "  7     1e-04  0.9396775  0.8214573\n",
       "  7     1e-03  0.9519973  0.8587739\n",
       "  7     1e-02  0.9441852  0.8330079\n",
       "  7     1e-01  0.9327946  0.7977660\n",
       "  9     0e+00  0.9602502  0.8803788\n",
       "  9     1e-04  0.9647445  0.8966660\n",
       "  9     1e-03  0.9532375  0.8660813\n",
       "  9     1e-02  0.9532381  0.8645952\n",
       "  9     1e-01  0.9418602  0.8259453\n",
       "\n",
       "Accuracy was used to select the optimal model using the largest value.\n",
       "The final values used for the model were size = 9 and decay = 1e-04."
      ]
     },
     "metadata": {},
     "output_type": "display_data"
    }
   ],
   "source": [
    "# Second ANN model with train() function\n",
    "set.seed(1)\n",
    "\n",
    "train_index <- createFolds(trainData$PriceCategory, k = 10)\n",
    "\n",
    "nnetFit <- phoneData %>% train(PriceCategory ~ .,\n",
    "    method = 'nnet',\n",
    "    data = .,\n",
    "    tuneLength = 5,\n",
    "    trControl = trainControl(method = 'cv', indexOut = train_index),\n",
    "    trace = FALSE)\n",
    "\n",
    "nnetFit"
   ]
  },
  {
   "cell_type": "code",
   "execution_count": 146,
   "metadata": {
    "vscode": {
     "languageId": "r"
    }
   },
   "outputs": [
    {
     "data": {
      "text/plain": [
       "Confusion Matrix and Statistics\n",
       "\n",
       "           Reference\n",
       "Prediction  High-End Low-End Mid-Range\n",
       "  High-End         9       0         2\n",
       "  Low-End          2     242         2\n",
       "  Mid-Range        1       2        32\n",
       "\n",
       "Overall Statistics\n",
       "                                          \n",
       "               Accuracy : 0.9692          \n",
       "                 95% CI : (0.9423, 0.9858)\n",
       "    No Information Rate : 0.8356          \n",
       "    P-Value [Acc > NIR] : 3.31e-13        \n",
       "                                          \n",
       "                  Kappa : 0.8898          \n",
       "                                          \n",
       " Mcnemar's Test P-Value : 0.5062          \n",
       "\n",
       "Statistics by Class:\n",
       "\n",
       "                     Class: High-End Class: Low-End Class: Mid-Range\n",
       "Sensitivity                  0.75000         0.9918           0.8889\n",
       "Specificity                  0.99286         0.9167           0.9883\n",
       "Pos Pred Value               0.81818         0.9837           0.9143\n",
       "Neg Pred Value               0.98932         0.9565           0.9844\n",
       "Prevalence                   0.04110         0.8356           0.1233\n",
       "Detection Rate               0.03082         0.8288           0.1096\n",
       "Detection Prevalence         0.03767         0.8425           0.1199\n",
       "Balanced Accuracy            0.87143         0.9542           0.9386"
      ]
     },
     "metadata": {},
     "output_type": "display_data"
    }
   ],
   "source": [
    "pr <- predict(nnetFit, testData)\n",
    "confusionMatrix(pr, reference = as.factor(testData$PriceCategory))"
   ]
  },
  {
   "attachments": {},
   "cell_type": "markdown",
   "metadata": {},
   "source": [
    "## 3. Ansambli - slučajne šume"
   ]
  },
  {
   "cell_type": "code",
   "execution_count": 110,
   "metadata": {
    "vscode": {
     "languageId": "r"
    }
   },
   "outputs": [],
   "source": [
    "# Random forest only recive numerical and logical data as the input\n",
    "# so we convert categorical data to logical TRUE/FALSE\n",
    "\n",
    "phoneData_rf <- phoneData %>%\n",
    "    mutate(across(c(Touchscreen, WiFi, Bluetooth, GPS, X3G, X4G.LTE), ~as.logical(ifelse(.x == 'Yes', TRUE, FALSE))))"
   ]
  },
  {
   "attachments": {},
   "cell_type": "markdown",
   "metadata": {},
   "source": [
    "#### Prvi model slučajnih šuma --> train(method='rf')"
   ]
  },
  {
   "cell_type": "code",
   "execution_count": 111,
   "metadata": {
    "vscode": {
     "languageId": "r"
    }
   },
   "outputs": [
    {
     "data": {
      "text/plain": [
       "Random Forest \n",
       "\n",
       "878 samples\n",
       " 21 predictor\n",
       "  3 classes: 'High-End', 'Low-End', 'Mid-Range' \n",
       "\n",
       "No pre-processing\n",
       "Resampling: Cross-Validated (10 fold) \n",
       "Summary of sample sizes: 789, 790, 791, 790, 789, 791, ... \n",
       "Resampling results across tuning parameters:\n",
       "\n",
       "  mtry  Accuracy   Kappa    \n",
       "   2    0.9420268  0.7679104\n",
       "   6    0.9908948  0.9678357\n",
       "  11    0.9897454  0.9636043\n",
       "  16    0.9885960  0.9597307\n",
       "  21    0.9897196  0.9635986\n",
       "\n",
       "Accuracy was used to select the optimal model using the largest value.\n",
       "The final value used for the model was mtry = 6."
      ]
     },
     "metadata": {},
     "output_type": "display_data"
    }
   ],
   "source": [
    "set.seed(1)\n",
    "\n",
    "trainIndex = createDataPartition(phoneData_rf$PriceCategory, p = 0.75, list = FALSE)\n",
    "trainData <- phoneData_rf[trainIndex, ]\n",
    "testData <- phoneData_rf[-trainIndex, ]\n",
    "\n",
    "train_index <- createFolds(trainData$PriceCategory, k = 10)\n",
    "\n",
    "rf_model1 <- trainData %>% train(PriceCategory ~ .,\n",
    "    method = 'rf',\n",
    "    data = .,\n",
    "    tuneLength = 5,\n",
    "    trControl = trainControl(method = 'cv', indexOut = train_index))\n",
    "\n",
    "rf_model1"
   ]
  },
  {
   "cell_type": "code",
   "execution_count": 112,
   "metadata": {
    "vscode": {
     "languageId": "r"
    }
   },
   "outputs": [
    {
     "data": {
      "text/plain": [
       "Confusion Matrix and Statistics\n",
       "\n",
       "           Reference\n",
       "Prediction  High-End Low-End Mid-Range\n",
       "  High-End         5       0         5\n",
       "  Low-End          0     239         6\n",
       "  Mid-Range        7       5        25\n",
       "\n",
       "Overall Statistics\n",
       "                                          \n",
       "               Accuracy : 0.9212          \n",
       "                 95% CI : (0.8842, 0.9494)\n",
       "    No Information Rate : 0.8356          \n",
       "    P-Value [Acc > NIR] : 1.335e-05       \n",
       "                                          \n",
       "                  Kappa : 0.7205          \n",
       "                                          \n",
       " Mcnemar's Test P-Value : NA              \n",
       "\n",
       "Statistics by Class:\n",
       "\n",
       "                     Class: High-End Class: Low-End Class: Mid-Range\n",
       "Sensitivity                  0.41667         0.9795          0.69444\n",
       "Specificity                  0.98214         0.8750          0.95312\n",
       "Pos Pred Value               0.50000         0.9755          0.67568\n",
       "Neg Pred Value               0.97518         0.8936          0.95686\n",
       "Prevalence                   0.04110         0.8356          0.12329\n",
       "Detection Rate               0.01712         0.8185          0.08562\n",
       "Detection Prevalence         0.03425         0.8390          0.12671\n",
       "Balanced Accuracy            0.69940         0.9273          0.82378"
      ]
     },
     "metadata": {},
     "output_type": "display_data"
    }
   ],
   "source": [
    "prediction_rf1 <- predict(rf_model1, testData)\n",
    "confusionMatrix(prediction_rf1, as.factor(testData$PriceCategory))"
   ]
  },
  {
   "cell_type": "code",
   "execution_count": 147,
   "metadata": {
    "vscode": {
     "languageId": "r"
    }
   },
   "outputs": [
    {
     "data": {
      "image/png": "[encoded data removed]",
      "text/plain": [
       "plot without title"
      ]
     },
     "metadata": {
      "image/png": {
       "height": 420,
       "width": 420
      }
     },
     "output_type": "display_data"
    }
   ],
   "source": [
    "plot(rf_model1)"
   ]
  },
  {
   "attachments": {},
   "cell_type": "markdown",
   "metadata": {},
   "source": [
    "#### Drugi model slučajnih šuma --> randomForest paket"
   ]
  },
  {
   "cell_type": "code",
   "execution_count": 141,
   "metadata": {
    "vscode": {
     "languageId": "r"
    }
   },
   "outputs": [
    {
     "data": {
      "text/plain": [
       "\n",
       "Call:\n",
       " randomForest(x = trainData[-22], y = as.factor(trainData$PriceCategory),      ntree = 600) \n",
       "               Type of random forest: classification\n",
       "                     Number of trees: 600\n",
       "No. of variables tried at each split: 4\n",
       "\n",
       "        OOB estimate of  error rate: 8.54%\n",
       "Confusion matrix:\n",
       "          High-End Low-End Mid-Range class.error\n",
       "High-End        16       6        15  0.56756757\n",
       "Low-End          2     720        11  0.01773533\n",
       "Mid-Range        5      36        67  0.37962963"
      ]
     },
     "metadata": {},
     "output_type": "display_data"
    }
   ],
   "source": [
    "rf_model2 <- randomForest(x = trainData[-22], y = as.factor(trainData$PriceCategory), ntree = 600)\n",
    "rf_model2"
   ]
  },
  {
   "cell_type": "code",
   "execution_count": 142,
   "metadata": {
    "vscode": {
     "languageId": "r"
    }
   },
   "outputs": [
    {
     "data": {
      "text/plain": [
       "Confusion Matrix and Statistics\n",
       "\n",
       "           Reference\n",
       "Prediction  High-End Low-End Mid-Range\n",
       "  High-End         5       0         3\n",
       "  Low-End          1     240         8\n",
       "  Mid-Range        6       4        25\n",
       "\n",
       "Overall Statistics\n",
       "                                          \n",
       "               Accuracy : 0.9247          \n",
       "                 95% CI : (0.8882, 0.9522)\n",
       "    No Information Rate : 0.8356          \n",
       "    P-Value [Acc > NIR] : 5.596e-06       \n",
       "                                          \n",
       "                  Kappa : 0.7225          \n",
       "                                          \n",
       " Mcnemar's Test P-Value : 0.343           \n",
       "\n",
       "Statistics by Class:\n",
       "\n",
       "                     Class: High-End Class: Low-End Class: Mid-Range\n",
       "Sensitivity                  0.41667         0.9836          0.69444\n",
       "Specificity                  0.98929         0.8125          0.96094\n",
       "Pos Pred Value               0.62500         0.9639          0.71429\n",
       "Neg Pred Value               0.97535         0.9070          0.95720\n",
       "Prevalence                   0.04110         0.8356          0.12329\n",
       "Detection Rate               0.01712         0.8219          0.08562\n",
       "Detection Prevalence         0.02740         0.8527          0.11986\n",
       "Balanced Accuracy            0.70298         0.8981          0.82769"
      ]
     },
     "metadata": {},
     "output_type": "display_data"
    }
   ],
   "source": [
    "predictions_rf2 = predict(rf_model2, testData[-22])\n",
    "  \n",
    "confusionMatrix(predictions_rf2, as.factor(testData$PriceCategory))"
   ]
  },
  {
   "cell_type": "code",
   "execution_count": 143,
   "metadata": {
    "vscode": {
     "languageId": "r"
    }
   },
   "outputs": [
    {
     "data": {
      "image/png": "[encoded data removed]",
      "text/plain": [
       "Plot with title \"rf_model2\""
      ]
     },
     "metadata": {
      "image/png": {
       "height": 420,
       "width": 420
      }
     },
     "output_type": "display_data"
    }
   ],
   "source": [
    "plot(rf_model2)"
   ]
  },
  {
   "cell_type": "code",
   "execution_count": 144,
   "metadata": {
    "vscode": {
     "languageId": "r"
    }
   },
   "outputs": [
    {
     "data": {
      "text/html": [
       "<table class=\"dataframe\">\n",
       "<caption>A matrix: 21 × 1 of type dbl</caption>\n",
       "<thead>\n",
       "\t<tr><th></th><th scope=col>MeanDecreaseGini</th></tr>\n",
       "</thead>\n",
       "<tbody>\n",
       "\t<tr><th scope=row>BatteryCapacity</th><td>17.02202164</td></tr>\n",
       "\t<tr><th scope=row>ScreenSize</th><td>18.34866368</td></tr>\n",
       "\t<tr><th scope=row>Touchscreen</th><td> 0.01293395</td></tr>\n",
       "\t<tr><th scope=row>ResolutionX</th><td>22.86650021</td></tr>\n",
       "\t<tr><th scope=row>ResolutionY</th><td>37.33413842</td></tr>\n",
       "\t<tr><th scope=row>Processor</th><td> 7.14002169</td></tr>\n",
       "\t<tr><th scope=row>RAM</th><td>22.02593862</td></tr>\n",
       "\t<tr><th scope=row>InternalStorage</th><td>26.65974442</td></tr>\n",
       "\t<tr><th scope=row>RearCamera</th><td>22.38503055</td></tr>\n",
       "\t<tr><th scope=row>FrontCamera</th><td>31.17916206</td></tr>\n",
       "\t<tr><th scope=row>WiFi</th><td> 0.11899409</td></tr>\n",
       "\t<tr><th scope=row>Bluetooth</th><td> 0.15315579</td></tr>\n",
       "\t<tr><th scope=row>GPS</th><td> 0.91148056</td></tr>\n",
       "\t<tr><th scope=row>SIMsNumber</th><td> 8.31918335</td></tr>\n",
       "\t<tr><th scope=row>X3G</th><td> 1.83999041</td></tr>\n",
       "\t<tr><th scope=row>X4G.LTE</th><td> 2.42261398</td></tr>\n",
       "\t<tr><th scope=row>Android</th><td> 3.76081343</td></tr>\n",
       "\t<tr><th scope=row>BlackBerry</th><td> 0.34323170</td></tr>\n",
       "\t<tr><th scope=row>Cyanogen</th><td> 0.39037517</td></tr>\n",
       "\t<tr><th scope=row>iOS</th><td> 3.29387980</td></tr>\n",
       "\t<tr><th scope=row>Windows</th><td> 0.86285007</td></tr>\n",
       "</tbody>\n",
       "</table>\n"
      ],
      "text/latex": [
       "A matrix: 21 × 1 of type dbl\n",
       "\\begin{tabular}{r|l}\n",
       "  & MeanDecreaseGini\\\\\n",
       "\\hline\n",
       "\tBatteryCapacity & 17.02202164\\\\\n",
       "\tScreenSize & 18.34866368\\\\\n",
       "\tTouchscreen &  0.01293395\\\\\n",
       "\tResolutionX & 22.86650021\\\\\n",
       "\tResolutionY & 37.33413842\\\\\n",
       "\tProcessor &  7.14002169\\\\\n",
       "\tRAM & 22.02593862\\\\\n",
       "\tInternalStorage & 26.65974442\\\\\n",
       "\tRearCamera & 22.38503055\\\\\n",
       "\tFrontCamera & 31.17916206\\\\\n",
       "\tWiFi &  0.11899409\\\\\n",
       "\tBluetooth &  0.15315579\\\\\n",
       "\tGPS &  0.91148056\\\\\n",
       "\tSIMsNumber &  8.31918335\\\\\n",
       "\tX3G &  1.83999041\\\\\n",
       "\tX4G.LTE &  2.42261398\\\\\n",
       "\tAndroid &  3.76081343\\\\\n",
       "\tBlackBerry &  0.34323170\\\\\n",
       "\tCyanogen &  0.39037517\\\\\n",
       "\tiOS &  3.29387980\\\\\n",
       "\tWindows &  0.86285007\\\\\n",
       "\\end{tabular}\n"
      ],
      "text/markdown": [
       "\n",
       "A matrix: 21 × 1 of type dbl\n",
       "\n",
       "| <!--/--> | MeanDecreaseGini |\n",
       "|---|---|\n",
       "| BatteryCapacity | 17.02202164 |\n",
       "| ScreenSize | 18.34866368 |\n",
       "| Touchscreen |  0.01293395 |\n",
       "| ResolutionX | 22.86650021 |\n",
       "| ResolutionY | 37.33413842 |\n",
       "| Processor |  7.14002169 |\n",
       "| RAM | 22.02593862 |\n",
       "| InternalStorage | 26.65974442 |\n",
       "| RearCamera | 22.38503055 |\n",
       "| FrontCamera | 31.17916206 |\n",
       "| WiFi |  0.11899409 |\n",
       "| Bluetooth |  0.15315579 |\n",
       "| GPS |  0.91148056 |\n",
       "| SIMsNumber |  8.31918335 |\n",
       "| X3G |  1.83999041 |\n",
       "| X4G.LTE |  2.42261398 |\n",
       "| Android |  3.76081343 |\n",
       "| BlackBerry |  0.34323170 |\n",
       "| Cyanogen |  0.39037517 |\n",
       "| iOS |  3.29387980 |\n",
       "| Windows |  0.86285007 |\n",
       "\n"
      ],
      "text/plain": [
       "                MeanDecreaseGini\n",
       "BatteryCapacity 17.02202164     \n",
       "ScreenSize      18.34866368     \n",
       "Touchscreen      0.01293395     \n",
       "ResolutionX     22.86650021     \n",
       "ResolutionY     37.33413842     \n",
       "Processor        7.14002169     \n",
       "RAM             22.02593862     \n",
       "InternalStorage 26.65974442     \n",
       "RearCamera      22.38503055     \n",
       "FrontCamera     31.17916206     \n",
       "WiFi             0.11899409     \n",
       "Bluetooth        0.15315579     \n",
       "GPS              0.91148056     \n",
       "SIMsNumber       8.31918335     \n",
       "X3G              1.83999041     \n",
       "X4G.LTE          2.42261398     \n",
       "Android          3.76081343     \n",
       "BlackBerry       0.34323170     \n",
       "Cyanogen         0.39037517     \n",
       "iOS              3.29387980     \n",
       "Windows          0.86285007     "
      ]
     },
     "metadata": {},
     "output_type": "display_data"
    }
   ],
   "source": [
    "importance(rf_model2)"
   ]
  },
  {
   "cell_type": "code",
   "execution_count": 145,
   "metadata": {
    "vscode": {
     "languageId": "r"
    }
   },
   "outputs": [
    {
     "data": {
      "image/png": "[encoded data removed]",
      "text/plain": [
       "Plot with title \"rf_model2\""
      ]
     },
     "metadata": {
      "image/png": {
       "height": 420,
       "width": 420
      }
     },
     "output_type": "display_data"
    }
   ],
   "source": [
    "varImpPlot(rf_model2)"
   ]
  },
  {
   "attachments": {},
   "cell_type": "markdown",
   "metadata": {},
   "source": [
    "## 4. Asocijacijska analiza - učenje asocijacijskih pravila"
   ]
  },
  {
   "cell_type": "code",
   "execution_count": null,
   "metadata": {
    "vscode": {
     "languageId": "r"
    }
   },
   "outputs": [],
   "source": [
    "# install.packages('arules')\n",
    "#install.packages('arulesViz')\n",
    "library(tidyverse)\n",
    "library(arules)\n",
    "library(arulesViz)"
   ]
  },
  {
   "cell_type": "code",
   "execution_count": null,
   "metadata": {
    "id": "-cCtU_TG8wOH",
    "vscode": {
     "languageId": "r"
    }
   },
   "outputs": [],
   "source": [
    "phoneData <- read.csv('phone_specs.csv')\n",
    "phoneData <- phoneData %>%\n",
    "    filter(!(OS == 'Sailfish' | OS == 'Tizen' |\n",
    "            OS == 'Cyanogen' | OS == 'BlackBerry')) %>%                       # delete rows with less know OS (only 24 rows)\n",
    "    mutate(across(c(Touchscreen, WiFi, Bluetooth, GPS, X3G, X4G.LTE),\n",
    "          ~as.logical(ifelse(.x == 'Yes', TRUE, FALSE)))) %>%                        # convert categorical Yes/No to 1/0\n",
    "    mutate(Price=round(Price/87.95))                                        # convert indian rupee to euro"
   ]
  },
  {
   "cell_type": "code",
   "execution_count": null,
   "metadata": {
    "id": "h1ixiwwR8zGD",
    "vscode": {
     "languageId": "r"
    }
   },
   "outputs": [],
   "source": [
    "row.names(phoneData) <- phoneData$Name\n",
    "phoneData <- phoneData[-c(1:4,25)]"
   ]
  },
  {
   "cell_type": "code",
   "execution_count": null,
   "metadata": {
    "colab": {
     "base_uri": "https://localhost:8080/",
     "height": 485
    },
    "id": "eO7ZoEibBJ25",
    "outputId": "161dbc3d-0564-4e87-c4fb-8ef06a65e331",
    "vscode": {
     "languageId": "r"
    }
   },
   "outputs": [
    {
     "data": {
      "text/html": [
       "<style>\n",
       ".list-inline {list-style: none; margin:0; padding: 0}\n",
       ".list-inline>li {display: inline-block}\n",
       ".list-inline>li:not(:last-child)::after {content: \"\\00b7\"; padding: 0 .5ex}\n",
       "</style>\n",
       "<ol class=list-inline><li>4085</li><li>4000</li><li>3969</li><li>3110</li><li>4000</li><li>3800</li></ol>\n",
       "\n",
       "<details>\n",
       "\t<summary style=display:list-item;cursor:pointer>\n",
       "\t\t<strong>Levels</strong>:\n",
       "\t</summary>\n",
       "\t<style>\n",
       "\t.list-inline {list-style: none; margin:0; padding: 0}\n",
       "\t.list-inline>li {display: inline-block}\n",
       "\t.list-inline>li:not(:last-child)::after {content: \"\\00b7\"; padding: 0 .5ex}\n",
       "\t</style>\n",
       "\t<ol class=list-inline><li>'1200'</li><li>'1250'</li><li>'1300'</li><li>'1320'</li><li>'1350'</li><li>'1400'</li><li>'1430'</li><li>'1450'</li><li>'1500'</li><li>'1507'</li><li>'1540'</li><li>'1550'</li><li>'1600'</li><li>'1624'</li><li>'1650'</li><li>'1700'</li><li>'1715'</li><li>'1750'</li><li>'1800'</li><li>'1810'</li><li>'1821'</li><li>'1850'</li><li>'1860'</li><li>'1900'</li><li>'1920'</li><li>'1950'</li><li>'1960'</li><li>'1980'</li><li>'2000'</li><li>'2050'</li><li>'2070'</li><li>'2100'</li><li>'2125'</li><li>'2140'</li><li>'2150'</li><li>'2200'</li><li>'2210'</li><li>'2230'</li><li>'2250'</li><li>'2260'</li><li>'2300'</li><li>'2330'</li><li>'2350'</li><li>'2370'</li><li>'2390'</li><li>'2400'</li><li>'2410'</li><li>'2420'</li><li>'2450'</li><li>'2470'</li><li>'2500'</li><li>'2520'</li><li>'2540'</li><li>'2550'</li><li>'2580'</li><li>'2600'</li><li>'2610'</li><li>'2620'</li><li>'2630'</li><li>'2650'</li><li>'2658'</li><li>'2670'</li><li>'2680'</li><li>'2691'</li><li>'2700'</li><li>'2716'</li><li>'2720'</li><li>'2730'</li><li>'2750'</li><li>'2770'</li><li>'2800'</li><li>'2820'</li><li>'2840'</li><li>'2850'</li><li>'2900'</li><li>'2910'</li><li>'2915'</li><li>'2920'</li><li>'2930'</li><li>'2942'</li><li>'2990'</li><li>'3000'</li><li>'3010'</li><li>'3020'</li><li>'3030'</li><li>'3046'</li><li>'3050'</li><li>'3055'</li><li>'3060'</li><li>'3075'</li><li>'3080'</li><li>'3090'</li><li>'3100'</li><li>'3110'</li><li>'3120'</li><li>'3130'</li><li>'3140'</li><li>'3150'</li><li>'3180'</li><li>'3200'</li><li>'3220'</li><li>'3225'</li><li>'3230'</li><li>'3250'</li><li>'3260'</li><li>'3285'</li><li>'3300'</li><li>'3315'</li><li>'3340'</li><li>'3360'</li><li>'3400'</li><li>'3410'</li><li>'3430'</li><li>'3450'</li><li>'3500'</li><li>'3510'</li><li>'3520'</li><li>'3550'</li><li>'3580'</li><li>'3600'</li><li>'3630'</li><li>'3650'</li><li>'3700'</li><li>'3730'</li><li>'3750'</li><li>'3760'</li><li>'3765'</li><li>'3800'</li><li>'3900'</li><li>'3930'</li><li>'3950'</li><li>'3969'</li><li>'4000'</li><li>'4010'</li><li>'4020'</li><li>'4030'</li><li>'4035'</li><li>'4045'</li><li>'4050'</li><li>'4060'</li><li>'4065'</li><li>'4070'</li><li>'4085'</li><li>'4100'</li><li>'4120'</li><li>'4150'</li><li>'4200'</li><li>'4230'</li><li>'4300'</li><li>'4350'</li><li>'4380'</li><li>'4500'</li><li>'4550'</li><li>'4850'</li><li>'4900'</li><li>'5000'</li><li>'5020'</li><li>'5100'</li><li>'5300'</li><li>'6000'</li></ol>\n",
       "</details>"
      ],
      "text/latex": [
       "\\begin{enumerate*}\n",
       "\\item 4085\n",
       "\\item 4000\n",
       "\\item 3969\n",
       "\\item 3110\n",
       "\\item 4000\n",
       "\\item 3800\n",
       "\\end{enumerate*}\n",
       "\n",
       "\\emph{Levels}: \\begin{enumerate*}\n",
       "\\item '1200'\n",
       "\\item '1250'\n",
       "\\item '1300'\n",
       "\\item '1320'\n",
       "\\item '1350'\n",
       "\\item '1400'\n",
       "\\item '1430'\n",
       "\\item '1450'\n",
       "\\item '1500'\n",
       "\\item '1507'\n",
       "\\item '1540'\n",
       "\\item '1550'\n",
       "\\item '1600'\n",
       "\\item '1624'\n",
       "\\item '1650'\n",
       "\\item '1700'\n",
       "\\item '1715'\n",
       "\\item '1750'\n",
       "\\item '1800'\n",
       "\\item '1810'\n",
       "\\item '1821'\n",
       "\\item '1850'\n",
       "\\item '1860'\n",
       "\\item '1900'\n",
       "\\item '1920'\n",
       "\\item '1950'\n",
       "\\item '1960'\n",
       "\\item '1980'\n",
       "\\item '2000'\n",
       "\\item '2050'\n",
       "\\item '2070'\n",
       "\\item '2100'\n",
       "\\item '2125'\n",
       "\\item '2140'\n",
       "\\item '2150'\n",
       "\\item '2200'\n",
       "\\item '2210'\n",
       "\\item '2230'\n",
       "\\item '2250'\n",
       "\\item '2260'\n",
       "\\item '2300'\n",
       "\\item '2330'\n",
       "\\item '2350'\n",
       "\\item '2370'\n",
       "\\item '2390'\n",
       "\\item '2400'\n",
       "\\item '2410'\n",
       "\\item '2420'\n",
       "\\item '2450'\n",
       "\\item '2470'\n",
       "\\item '2500'\n",
       "\\item '2520'\n",
       "\\item '2540'\n",
       "\\item '2550'\n",
       "\\item '2580'\n",
       "\\item '2600'\n",
       "\\item '2610'\n",
       "\\item '2620'\n",
       "\\item '2630'\n",
       "\\item '2650'\n",
       "\\item '2658'\n",
       "\\item '2670'\n",
       "\\item '2680'\n",
       "\\item '2691'\n",
       "\\item '2700'\n",
       "\\item '2716'\n",
       "\\item '2720'\n",
       "\\item '2730'\n",
       "\\item '2750'\n",
       "\\item '2770'\n",
       "\\item '2800'\n",
       "\\item '2820'\n",
       "\\item '2840'\n",
       "\\item '2850'\n",
       "\\item '2900'\n",
       "\\item '2910'\n",
       "\\item '2915'\n",
       "\\item '2920'\n",
       "\\item '2930'\n",
       "\\item '2942'\n",
       "\\item '2990'\n",
       "\\item '3000'\n",
       "\\item '3010'\n",
       "\\item '3020'\n",
       "\\item '3030'\n",
       "\\item '3046'\n",
       "\\item '3050'\n",
       "\\item '3055'\n",
       "\\item '3060'\n",
       "\\item '3075'\n",
       "\\item '3080'\n",
       "\\item '3090'\n",
       "\\item '3100'\n",
       "\\item '3110'\n",
       "\\item '3120'\n",
       "\\item '3130'\n",
       "\\item '3140'\n",
       "\\item '3150'\n",
       "\\item '3180'\n",
       "\\item '3200'\n",
       "\\item '3220'\n",
       "\\item '3225'\n",
       "\\item '3230'\n",
       "\\item '3250'\n",
       "\\item '3260'\n",
       "\\item '3285'\n",
       "\\item '3300'\n",
       "\\item '3315'\n",
       "\\item '3340'\n",
       "\\item '3360'\n",
       "\\item '3400'\n",
       "\\item '3410'\n",
       "\\item '3430'\n",
       "\\item '3450'\n",
       "\\item '3500'\n",
       "\\item '3510'\n",
       "\\item '3520'\n",
       "\\item '3550'\n",
       "\\item '3580'\n",
       "\\item '3600'\n",
       "\\item '3630'\n",
       "\\item '3650'\n",
       "\\item '3700'\n",
       "\\item '3730'\n",
       "\\item '3750'\n",
       "\\item '3760'\n",
       "\\item '3765'\n",
       "\\item '3800'\n",
       "\\item '3900'\n",
       "\\item '3930'\n",
       "\\item '3950'\n",
       "\\item '3969'\n",
       "\\item '4000'\n",
       "\\item '4010'\n",
       "\\item '4020'\n",
       "\\item '4030'\n",
       "\\item '4035'\n",
       "\\item '4045'\n",
       "\\item '4050'\n",
       "\\item '4060'\n",
       "\\item '4065'\n",
       "\\item '4070'\n",
       "\\item '4085'\n",
       "\\item '4100'\n",
       "\\item '4120'\n",
       "\\item '4150'\n",
       "\\item '4200'\n",
       "\\item '4230'\n",
       "\\item '4300'\n",
       "\\item '4350'\n",
       "\\item '4380'\n",
       "\\item '4500'\n",
       "\\item '4550'\n",
       "\\item '4850'\n",
       "\\item '4900'\n",
       "\\item '5000'\n",
       "\\item '5020'\n",
       "\\item '5100'\n",
       "\\item '5300'\n",
       "\\item '6000'\n",
       "\\end{enumerate*}\n"
      ],
      "text/markdown": [
       "1. 4085\n",
       "2. 4000\n",
       "3. 3969\n",
       "4. 3110\n",
       "5. 4000\n",
       "6. 3800\n",
       "\n",
       "\n",
       "\n",
       "**Levels**: 1. '1200'\n",
       "2. '1250'\n",
       "3. '1300'\n",
       "4. '1320'\n",
       "5. '1350'\n",
       "6. '1400'\n",
       "7. '1430'\n",
       "8. '1450'\n",
       "9. '1500'\n",
       "10. '1507'\n",
       "11. '1540'\n",
       "12. '1550'\n",
       "13. '1600'\n",
       "14. '1624'\n",
       "15. '1650'\n",
       "16. '1700'\n",
       "17. '1715'\n",
       "18. '1750'\n",
       "19. '1800'\n",
       "20. '1810'\n",
       "21. '1821'\n",
       "22. '1850'\n",
       "23. '1860'\n",
       "24. '1900'\n",
       "25. '1920'\n",
       "26. '1950'\n",
       "27. '1960'\n",
       "28. '1980'\n",
       "29. '2000'\n",
       "30. '2050'\n",
       "31. '2070'\n",
       "32. '2100'\n",
       "33. '2125'\n",
       "34. '2140'\n",
       "35. '2150'\n",
       "36. '2200'\n",
       "37. '2210'\n",
       "38. '2230'\n",
       "39. '2250'\n",
       "40. '2260'\n",
       "41. '2300'\n",
       "42. '2330'\n",
       "43. '2350'\n",
       "44. '2370'\n",
       "45. '2390'\n",
       "46. '2400'\n",
       "47. '2410'\n",
       "48. '2420'\n",
       "49. '2450'\n",
       "50. '2470'\n",
       "51. '2500'\n",
       "52. '2520'\n",
       "53. '2540'\n",
       "54. '2550'\n",
       "55. '2580'\n",
       "56. '2600'\n",
       "57. '2610'\n",
       "58. '2620'\n",
       "59. '2630'\n",
       "60. '2650'\n",
       "61. '2658'\n",
       "62. '2670'\n",
       "63. '2680'\n",
       "64. '2691'\n",
       "65. '2700'\n",
       "66. '2716'\n",
       "67. '2720'\n",
       "68. '2730'\n",
       "69. '2750'\n",
       "70. '2770'\n",
       "71. '2800'\n",
       "72. '2820'\n",
       "73. '2840'\n",
       "74. '2850'\n",
       "75. '2900'\n",
       "76. '2910'\n",
       "77. '2915'\n",
       "78. '2920'\n",
       "79. '2930'\n",
       "80. '2942'\n",
       "81. '2990'\n",
       "82. '3000'\n",
       "83. '3010'\n",
       "84. '3020'\n",
       "85. '3030'\n",
       "86. '3046'\n",
       "87. '3050'\n",
       "88. '3055'\n",
       "89. '3060'\n",
       "90. '3075'\n",
       "91. '3080'\n",
       "92. '3090'\n",
       "93. '3100'\n",
       "94. '3110'\n",
       "95. '3120'\n",
       "96. '3130'\n",
       "97. '3140'\n",
       "98. '3150'\n",
       "99. '3180'\n",
       "100. '3200'\n",
       "101. '3220'\n",
       "102. '3225'\n",
       "103. '3230'\n",
       "104. '3250'\n",
       "105. '3260'\n",
       "106. '3285'\n",
       "107. '3300'\n",
       "108. '3315'\n",
       "109. '3340'\n",
       "110. '3360'\n",
       "111. '3400'\n",
       "112. '3410'\n",
       "113. '3430'\n",
       "114. '3450'\n",
       "115. '3500'\n",
       "116. '3510'\n",
       "117. '3520'\n",
       "118. '3550'\n",
       "119. '3580'\n",
       "120. '3600'\n",
       "121. '3630'\n",
       "122. '3650'\n",
       "123. '3700'\n",
       "124. '3730'\n",
       "125. '3750'\n",
       "126. '3760'\n",
       "127. '3765'\n",
       "128. '3800'\n",
       "129. '3900'\n",
       "130. '3930'\n",
       "131. '3950'\n",
       "132. '3969'\n",
       "133. '4000'\n",
       "134. '4010'\n",
       "135. '4020'\n",
       "136. '4030'\n",
       "137. '4035'\n",
       "138. '4045'\n",
       "139. '4050'\n",
       "140. '4060'\n",
       "141. '4065'\n",
       "142. '4070'\n",
       "143. '4085'\n",
       "144. '4100'\n",
       "145. '4120'\n",
       "146. '4150'\n",
       "147. '4200'\n",
       "148. '4230'\n",
       "149. '4300'\n",
       "150. '4350'\n",
       "151. '4380'\n",
       "152. '4500'\n",
       "153. '4550'\n",
       "154. '4850'\n",
       "155. '4900'\n",
       "156. '5000'\n",
       "157. '5020'\n",
       "158. '5100'\n",
       "159. '5300'\n",
       "160. '6000'\n",
       "\n",
       "\n"
      ],
      "text/plain": [
       "[1] 4085 4000 3969 3110 4000 3800\n",
       "160 Levels: 1200 1250 1300 1320 1350 1400 1430 1450 1500 1507 1540 1550 ... 6000"
      ]
     },
     "metadata": {},
     "output_type": "display_data"
    },
    {
     "data": {
      "text/plain": [
       "\n",
       "[1.2e+03,3e+03)   [3e+03,6e+03] \n",
       "            655             680 "
      ]
     },
     "metadata": {},
     "output_type": "display_data"
    },
    {
     "data": {
      "text/html": [
       "<style>\n",
       ".list-inline {list-style: none; margin:0; padding: 0}\n",
       ".list-inline>li {display: inline-block}\n",
       ".list-inline>li:not(:last-child)::after {content: \"\\00b7\"; padding: 0 .5ex}\n",
       "</style>\n",
       "<ol class=list-inline><li>6.67</li><li>6.5</li><li>6.5</li><li>6.1</li><li>6.4</li><li>6.55</li></ol>\n",
       "\n",
       "<details>\n",
       "\t<summary style=display:list-item;cursor:pointer>\n",
       "\t\t<strong>Levels</strong>:\n",
       "\t</summary>\n",
       "\t<style>\n",
       "\t.list-inline {list-style: none; margin:0; padding: 0}\n",
       "\t.list-inline>li {display: inline-block}\n",
       "\t.list-inline>li:not(:last-child)::after {content: \"\\00b7\"; padding: 0 .5ex}\n",
       "\t</style>\n",
       "\t<ol class=list-inline><li>'2.6'</li><li>'2.8'</li><li>'3.2'</li><li>'3.5'</li><li>'3.7'</li><li>'3.8'</li><li>'4'</li><li>'4.3'</li><li>'4.5'</li><li>'4.6'</li><li>'4.69'</li><li>'4.7'</li><li>'4.8'</li><li>'4.93'</li><li>'4.95'</li><li>'5'</li><li>'5.1'</li><li>'5.15'</li><li>'5.2'</li><li>'5.3'</li><li>'5.34'</li><li>'5.4'</li><li>'5.45'</li><li>'5.47'</li><li>'5.5'</li><li>'5.6'</li><li>'5.65'</li><li>'5.67'</li><li>'5.7'</li><li>'5.71'</li><li>'5.72'</li><li>'5.8'</li><li>'5.84'</li><li>'5.86'</li><li>'5.9'</li><li>'5.93'</li><li>'5.96'</li><li>'5.98'</li><li>'5.99'</li><li>'6'</li><li>'6.01'</li><li>'6.08'</li><li>'6.09'</li><li>'6.1'</li><li>'6.18'</li><li>'6.19'</li><li>'6.2'</li><li>'6.21'</li><li>'6.22'</li><li>'6.23'</li><li>'6.26'</li><li>'6.28'</li><li>'6.3'</li><li>'6.35'</li><li>'6.38'</li><li>'6.39'</li><li>'6.4'</li><li>'6.41'</li><li>'6.42'</li><li>'6.44'</li><li>'6.47'</li><li>'6.5'</li><li>'6.52'</li><li>'6.53'</li><li>'6.55'</li><li>'6.59'</li><li>'6.6'</li><li>'6.65'</li><li>'6.67'</li><li>'6.7'</li><li>'6.8'</li><li>'6.9'</li><li>'7'</li><li>'7.3'</li></ol>\n",
       "</details>"
      ],
      "text/latex": [
       "\\begin{enumerate*}\n",
       "\\item 6.67\n",
       "\\item 6.5\n",
       "\\item 6.5\n",
       "\\item 6.1\n",
       "\\item 6.4\n",
       "\\item 6.55\n",
       "\\end{enumerate*}\n",
       "\n",
       "\\emph{Levels}: \\begin{enumerate*}\n",
       "\\item '2.6'\n",
       "\\item '2.8'\n",
       "\\item '3.2'\n",
       "\\item '3.5'\n",
       "\\item '3.7'\n",
       "\\item '3.8'\n",
       "\\item '4'\n",
       "\\item '4.3'\n",
       "\\item '4.5'\n",
       "\\item '4.6'\n",
       "\\item '4.69'\n",
       "\\item '4.7'\n",
       "\\item '4.8'\n",
       "\\item '4.93'\n",
       "\\item '4.95'\n",
       "\\item '5'\n",
       "\\item '5.1'\n",
       "\\item '5.15'\n",
       "\\item '5.2'\n",
       "\\item '5.3'\n",
       "\\item '5.34'\n",
       "\\item '5.4'\n",
       "\\item '5.45'\n",
       "\\item '5.47'\n",
       "\\item '5.5'\n",
       "\\item '5.6'\n",
       "\\item '5.65'\n",
       "\\item '5.67'\n",
       "\\item '5.7'\n",
       "\\item '5.71'\n",
       "\\item '5.72'\n",
       "\\item '5.8'\n",
       "\\item '5.84'\n",
       "\\item '5.86'\n",
       "\\item '5.9'\n",
       "\\item '5.93'\n",
       "\\item '5.96'\n",
       "\\item '5.98'\n",
       "\\item '5.99'\n",
       "\\item '6'\n",
       "\\item '6.01'\n",
       "\\item '6.08'\n",
       "\\item '6.09'\n",
       "\\item '6.1'\n",
       "\\item '6.18'\n",
       "\\item '6.19'\n",
       "\\item '6.2'\n",
       "\\item '6.21'\n",
       "\\item '6.22'\n",
       "\\item '6.23'\n",
       "\\item '6.26'\n",
       "\\item '6.28'\n",
       "\\item '6.3'\n",
       "\\item '6.35'\n",
       "\\item '6.38'\n",
       "\\item '6.39'\n",
       "\\item '6.4'\n",
       "\\item '6.41'\n",
       "\\item '6.42'\n",
       "\\item '6.44'\n",
       "\\item '6.47'\n",
       "\\item '6.5'\n",
       "\\item '6.52'\n",
       "\\item '6.53'\n",
       "\\item '6.55'\n",
       "\\item '6.59'\n",
       "\\item '6.6'\n",
       "\\item '6.65'\n",
       "\\item '6.67'\n",
       "\\item '6.7'\n",
       "\\item '6.8'\n",
       "\\item '6.9'\n",
       "\\item '7'\n",
       "\\item '7.3'\n",
       "\\end{enumerate*}\n"
      ],
      "text/markdown": [
       "1. 6.67\n",
       "2. 6.5\n",
       "3. 6.5\n",
       "4. 6.1\n",
       "5. 6.4\n",
       "6. 6.55\n",
       "\n",
       "\n",
       "\n",
       "**Levels**: 1. '2.6'\n",
       "2. '2.8'\n",
       "3. '3.2'\n",
       "4. '3.5'\n",
       "5. '3.7'\n",
       "6. '3.8'\n",
       "7. '4'\n",
       "8. '4.3'\n",
       "9. '4.5'\n",
       "10. '4.6'\n",
       "11. '4.69'\n",
       "12. '4.7'\n",
       "13. '4.8'\n",
       "14. '4.93'\n",
       "15. '4.95'\n",
       "16. '5'\n",
       "17. '5.1'\n",
       "18. '5.15'\n",
       "19. '5.2'\n",
       "20. '5.3'\n",
       "21. '5.34'\n",
       "22. '5.4'\n",
       "23. '5.45'\n",
       "24. '5.47'\n",
       "25. '5.5'\n",
       "26. '5.6'\n",
       "27. '5.65'\n",
       "28. '5.67'\n",
       "29. '5.7'\n",
       "30. '5.71'\n",
       "31. '5.72'\n",
       "32. '5.8'\n",
       "33. '5.84'\n",
       "34. '5.86'\n",
       "35. '5.9'\n",
       "36. '5.93'\n",
       "37. '5.96'\n",
       "38. '5.98'\n",
       "39. '5.99'\n",
       "40. '6'\n",
       "41. '6.01'\n",
       "42. '6.08'\n",
       "43. '6.09'\n",
       "44. '6.1'\n",
       "45. '6.18'\n",
       "46. '6.19'\n",
       "47. '6.2'\n",
       "48. '6.21'\n",
       "49. '6.22'\n",
       "50. '6.23'\n",
       "51. '6.26'\n",
       "52. '6.28'\n",
       "53. '6.3'\n",
       "54. '6.35'\n",
       "55. '6.38'\n",
       "56. '6.39'\n",
       "57. '6.4'\n",
       "58. '6.41'\n",
       "59. '6.42'\n",
       "60. '6.44'\n",
       "61. '6.47'\n",
       "62. '6.5'\n",
       "63. '6.52'\n",
       "64. '6.53'\n",
       "65. '6.55'\n",
       "66. '6.59'\n",
       "67. '6.6'\n",
       "68. '6.65'\n",
       "69. '6.67'\n",
       "70. '6.7'\n",
       "71. '6.8'\n",
       "72. '6.9'\n",
       "73. '7'\n",
       "74. '7.3'\n",
       "\n",
       "\n"
      ],
      "text/plain": [
       "[1] 6.67 6.5  6.5  6.1  6.4  6.55\n",
       "74 Levels: 2.6 2.8 3.2 3.5 3.7 3.8 4 4.3 4.5 4.6 4.69 4.7 4.8 4.93 4.95 ... 7.3"
      ]
     },
     "metadata": {},
     "output_type": "display_data"
    },
    {
     "data": {
      "text/html": [
       "<style>\n",
       ".list-inline {list-style: none; margin:0; padding: 0}\n",
       ".list-inline>li {display: inline-block}\n",
       ".list-inline>li:not(:last-child)::after {content: \"\\00b7\"; padding: 0 .5ex}\n",
       "</style>\n",
       "<ol class=list-inline><li>1440</li><li>1080</li><li>1242</li><li>828</li><li>1080</li><li>1080</li></ol>\n",
       "\n",
       "<details>\n",
       "\t<summary style=display:list-item;cursor:pointer>\n",
       "\t\t<strong>Levels</strong>:\n",
       "\t</summary>\n",
       "\t<style>\n",
       "\t.list-inline {list-style: none; margin:0; padding: 0}\n",
       "\t.list-inline>li {display: inline-block}\n",
       "\t.list-inline>li:not(:last-child)::after {content: \"\\00b7\"; padding: 0 .5ex}\n",
       "\t</style>\n",
       "\t<ol class=list-inline><li>'240'</li><li>'320'</li><li>'360'</li><li>'400'</li><li>'480'</li><li>'540'</li><li>'560'</li><li>'600'</li><li>'640'</li><li>'720'</li><li>'750'</li><li>'768'</li><li>'800'</li><li>'828'</li><li>'850'</li><li>'854'</li><li>'1024'</li><li>'1080'</li><li>'1125'</li><li>'1176'</li><li>'1242'</li><li>'1280'</li><li>'1440'</li><li>'1520'</li><li>'1536'</li><li>'1600'</li><li>'1880'</li><li>'2160'</li></ol>\n",
       "</details>"
      ],
      "text/latex": [
       "\\begin{enumerate*}\n",
       "\\item 1440\n",
       "\\item 1080\n",
       "\\item 1242\n",
       "\\item 828\n",
       "\\item 1080\n",
       "\\item 1080\n",
       "\\end{enumerate*}\n",
       "\n",
       "\\emph{Levels}: \\begin{enumerate*}\n",
       "\\item '240'\n",
       "\\item '320'\n",
       "\\item '360'\n",
       "\\item '400'\n",
       "\\item '480'\n",
       "\\item '540'\n",
       "\\item '560'\n",
       "\\item '600'\n",
       "\\item '640'\n",
       "\\item '720'\n",
       "\\item '750'\n",
       "\\item '768'\n",
       "\\item '800'\n",
       "\\item '828'\n",
       "\\item '850'\n",
       "\\item '854'\n",
       "\\item '1024'\n",
       "\\item '1080'\n",
       "\\item '1125'\n",
       "\\item '1176'\n",
       "\\item '1242'\n",
       "\\item '1280'\n",
       "\\item '1440'\n",
       "\\item '1520'\n",
       "\\item '1536'\n",
       "\\item '1600'\n",
       "\\item '1880'\n",
       "\\item '2160'\n",
       "\\end{enumerate*}\n"
      ],
      "text/markdown": [
       "1. 1440\n",
       "2. 1080\n",
       "3. 1242\n",
       "4. 828\n",
       "5. 1080\n",
       "6. 1080\n",
       "\n",
       "\n",
       "\n",
       "**Levels**: 1. '240'\n",
       "2. '320'\n",
       "3. '360'\n",
       "4. '400'\n",
       "5. '480'\n",
       "6. '540'\n",
       "7. '560'\n",
       "8. '600'\n",
       "9. '640'\n",
       "10. '720'\n",
       "11. '750'\n",
       "12. '768'\n",
       "13. '800'\n",
       "14. '828'\n",
       "15. '850'\n",
       "16. '854'\n",
       "17. '1024'\n",
       "18. '1080'\n",
       "19. '1125'\n",
       "20. '1176'\n",
       "21. '1242'\n",
       "22. '1280'\n",
       "23. '1440'\n",
       "24. '1520'\n",
       "25. '1536'\n",
       "26. '1600'\n",
       "27. '1880'\n",
       "28. '2160'\n",
       "\n",
       "\n"
      ],
      "text/plain": [
       "[1] 1440 1080 1242 828  1080 1080\n",
       "28 Levels: 240 320 360 400 480 540 560 600 640 720 750 768 800 828 850 ... 2160"
      ]
     },
     "metadata": {},
     "output_type": "display_data"
    },
    {
     "data": {
      "text/html": [
       "<style>\n",
       ".list-inline {list-style: none; margin:0; padding: 0}\n",
       ".list-inline>li {display: inline-block}\n",
       ".list-inline>li:not(:last-child)::after {content: \"\\00b7\"; padding: 0 .5ex}\n",
       "</style>\n",
       "<ol class=list-inline><li>3120</li><li>2400</li><li>2688</li><li>1792</li><li>2340</li><li>2400</li></ol>\n",
       "\n",
       "<details>\n",
       "\t<summary style=display:list-item;cursor:pointer>\n",
       "\t\t<strong>Levels</strong>:\n",
       "\t</summary>\n",
       "\t<style>\n",
       "\t.list-inline {list-style: none; margin:0; padding: 0}\n",
       "\t.list-inline>li {display: inline-block}\n",
       "\t.list-inline>li:not(:last-child)::after {content: \"\\00b7\"; padding: 0 .5ex}\n",
       "\t</style>\n",
       "\t<ol class=list-inline><li>'320'</li><li>'480'</li><li>'485'</li><li>'584'</li><li>'600'</li><li>'640'</li><li>'720'</li><li>'800'</li><li>'854'</li><li>'960'</li><li>'1080'</li><li>'1136'</li><li>'1280'</li><li>'1290'</li><li>'1334'</li><li>'1440'</li><li>'1480'</li><li>'1498'</li><li>'1500'</li><li>'1520'</li><li>'1544'</li><li>'1548'</li><li>'1560'</li><li>'1580'</li><li>'1600'</li><li>'1620'</li><li>'1792'</li><li>'1820'</li><li>'1920'</li><li>'2152'</li><li>'2160'</li><li>'2220'</li><li>'2240'</li><li>'2244'</li><li>'2246'</li><li>'2248'</li><li>'2270'</li><li>'2280'</li><li>'2310'</li><li>'2316'</li><li>'2340'</li><li>'2400'</li><li>'2436'</li><li>'2520'</li><li>'2560'</li><li>'2636'</li><li>'2688'</li><li>'2880'</li><li>'2960'</li><li>'3040'</li><li>'3120'</li><li>'3200'</li><li>'3840'</li></ol>\n",
       "</details>"
      ],
      "text/latex": [
       "\\begin{enumerate*}\n",
       "\\item 3120\n",
       "\\item 2400\n",
       "\\item 2688\n",
       "\\item 1792\n",
       "\\item 2340\n",
       "\\item 2400\n",
       "\\end{enumerate*}\n",
       "\n",
       "\\emph{Levels}: \\begin{enumerate*}\n",
       "\\item '320'\n",
       "\\item '480'\n",
       "\\item '485'\n",
       "\\item '584'\n",
       "\\item '600'\n",
       "\\item '640'\n",
       "\\item '720'\n",
       "\\item '800'\n",
       "\\item '854'\n",
       "\\item '960'\n",
       "\\item '1080'\n",
       "\\item '1136'\n",
       "\\item '1280'\n",
       "\\item '1290'\n",
       "\\item '1334'\n",
       "\\item '1440'\n",
       "\\item '1480'\n",
       "\\item '1498'\n",
       "\\item '1500'\n",
       "\\item '1520'\n",
       "\\item '1544'\n",
       "\\item '1548'\n",
       "\\item '1560'\n",
       "\\item '1580'\n",
       "\\item '1600'\n",
       "\\item '1620'\n",
       "\\item '1792'\n",
       "\\item '1820'\n",
       "\\item '1920'\n",
       "\\item '2152'\n",
       "\\item '2160'\n",
       "\\item '2220'\n",
       "\\item '2240'\n",
       "\\item '2244'\n",
       "\\item '2246'\n",
       "\\item '2248'\n",
       "\\item '2270'\n",
       "\\item '2280'\n",
       "\\item '2310'\n",
       "\\item '2316'\n",
       "\\item '2340'\n",
       "\\item '2400'\n",
       "\\item '2436'\n",
       "\\item '2520'\n",
       "\\item '2560'\n",
       "\\item '2636'\n",
       "\\item '2688'\n",
       "\\item '2880'\n",
       "\\item '2960'\n",
       "\\item '3040'\n",
       "\\item '3120'\n",
       "\\item '3200'\n",
       "\\item '3840'\n",
       "\\end{enumerate*}\n"
      ],
      "text/markdown": [
       "1. 3120\n",
       "2. 2400\n",
       "3. 2688\n",
       "4. 1792\n",
       "5. 2340\n",
       "6. 2400\n",
       "\n",
       "\n",
       "\n",
       "**Levels**: 1. '320'\n",
       "2. '480'\n",
       "3. '485'\n",
       "4. '584'\n",
       "5. '600'\n",
       "6. '640'\n",
       "7. '720'\n",
       "8. '800'\n",
       "9. '854'\n",
       "10. '960'\n",
       "11. '1080'\n",
       "12. '1136'\n",
       "13. '1280'\n",
       "14. '1290'\n",
       "15. '1334'\n",
       "16. '1440'\n",
       "17. '1480'\n",
       "18. '1498'\n",
       "19. '1500'\n",
       "20. '1520'\n",
       "21. '1544'\n",
       "22. '1548'\n",
       "23. '1560'\n",
       "24. '1580'\n",
       "25. '1600'\n",
       "26. '1620'\n",
       "27. '1792'\n",
       "28. '1820'\n",
       "29. '1920'\n",
       "30. '2152'\n",
       "31. '2160'\n",
       "32. '2220'\n",
       "33. '2240'\n",
       "34. '2244'\n",
       "35. '2246'\n",
       "36. '2248'\n",
       "37. '2270'\n",
       "38. '2280'\n",
       "39. '2310'\n",
       "40. '2316'\n",
       "41. '2340'\n",
       "42. '2400'\n",
       "43. '2436'\n",
       "44. '2520'\n",
       "45. '2560'\n",
       "46. '2636'\n",
       "47. '2688'\n",
       "48. '2880'\n",
       "49. '2960'\n",
       "50. '3040'\n",
       "51. '3120'\n",
       "52. '3200'\n",
       "53. '3840'\n",
       "\n",
       "\n"
      ],
      "text/plain": [
       "[1] 3120 2400 2688 1792 2340 2400\n",
       "53 Levels: 320 480 485 584 600 640 720 800 854 960 1080 1136 1280 1290 ... 3840"
      ]
     },
     "metadata": {},
     "output_type": "display_data"
    },
    {
     "data": {
      "text/html": [
       "<style>\n",
       ".list-inline {list-style: none; margin:0; padding: 0}\n",
       ".list-inline>li {display: inline-block}\n",
       ".list-inline>li:not(:last-child)::after {content: \"\\00b7\"; padding: 0 .5ex}\n",
       "</style>\n",
       "<ol class=list-inline><li>8</li><li>8</li><li>6</li><li>6</li><li>8</li><li>8</li></ol>\n",
       "\n",
       "<details>\n",
       "\t<summary style=display:list-item;cursor:pointer>\n",
       "\t\t<strong>Levels</strong>:\n",
       "\t</summary>\n",
       "\t<style>\n",
       "\t.list-inline {list-style: none; margin:0; padding: 0}\n",
       "\t.list-inline>li {display: inline-block}\n",
       "\t.list-inline>li:not(:last-child)::after {content: \"\\00b7\"; padding: 0 .5ex}\n",
       "\t</style>\n",
       "\t<ol class=list-inline><li>'1'</li><li>'2'</li><li>'4'</li><li>'6'</li><li>'8'</li><li>'10'</li></ol>\n",
       "</details>"
      ],
      "text/latex": [
       "\\begin{enumerate*}\n",
       "\\item 8\n",
       "\\item 8\n",
       "\\item 6\n",
       "\\item 6\n",
       "\\item 8\n",
       "\\item 8\n",
       "\\end{enumerate*}\n",
       "\n",
       "\\emph{Levels}: \\begin{enumerate*}\n",
       "\\item '1'\n",
       "\\item '2'\n",
       "\\item '4'\n",
       "\\item '6'\n",
       "\\item '8'\n",
       "\\item '10'\n",
       "\\end{enumerate*}\n"
      ],
      "text/markdown": [
       "1. 8\n",
       "2. 8\n",
       "3. 6\n",
       "4. 6\n",
       "5. 8\n",
       "6. 8\n",
       "\n",
       "\n",
       "\n",
       "**Levels**: 1. '1'\n",
       "2. '2'\n",
       "3. '4'\n",
       "4. '6'\n",
       "5. '8'\n",
       "6. '10'\n",
       "\n",
       "\n"
      ],
      "text/plain": [
       "[1] 8 8 6 6 8 8\n",
       "Levels: 1 2 4 6 8 10"
      ]
     },
     "metadata": {},
     "output_type": "display_data"
    },
    {
     "data": {
      "text/html": [
       "<style>\n",
       ".list-inline {list-style: none; margin:0; padding: 0}\n",
       ".list-inline>li {display: inline-block}\n",
       ".list-inline>li:not(:last-child)::after {content: \"\\00b7\"; padding: 0 .5ex}\n",
       "</style>\n",
       "<ol class=list-inline><li>12000</li><li>6000</li><li>4000</li><li>4000</li><li>6000</li><li>8000</li></ol>\n",
       "\n",
       "<details>\n",
       "\t<summary style=display:list-item;cursor:pointer>\n",
       "\t\t<strong>Levels</strong>:\n",
       "\t</summary>\n",
       "\t<style>\n",
       "\t.list-inline {list-style: none; margin:0; padding: 0}\n",
       "\t.list-inline>li {display: inline-block}\n",
       "\t.list-inline>li:not(:last-child)::after {content: \"\\00b7\"; padding: 0 .5ex}\n",
       "\t</style>\n",
       "\t<ol class=list-inline><li>'256'</li><li>'289'</li><li>'384'</li><li>'512'</li><li>'768'</li><li>'1000'</li><li>'2000'</li><li>'3000'</li><li>'4000'</li><li>'6000'</li><li>'8000'</li><li>'12000'</li></ol>\n",
       "</details>"
      ],
      "text/latex": [
       "\\begin{enumerate*}\n",
       "\\item 12000\n",
       "\\item 6000\n",
       "\\item 4000\n",
       "\\item 4000\n",
       "\\item 6000\n",
       "\\item 8000\n",
       "\\end{enumerate*}\n",
       "\n",
       "\\emph{Levels}: \\begin{enumerate*}\n",
       "\\item '256'\n",
       "\\item '289'\n",
       "\\item '384'\n",
       "\\item '512'\n",
       "\\item '768'\n",
       "\\item '1000'\n",
       "\\item '2000'\n",
       "\\item '3000'\n",
       "\\item '4000'\n",
       "\\item '6000'\n",
       "\\item '8000'\n",
       "\\item '12000'\n",
       "\\end{enumerate*}\n"
      ],
      "text/markdown": [
       "1. 12000\n",
       "2. 6000\n",
       "3. 4000\n",
       "4. 4000\n",
       "5. 6000\n",
       "6. 8000\n",
       "\n",
       "\n",
       "\n",
       "**Levels**: 1. '256'\n",
       "2. '289'\n",
       "3. '384'\n",
       "4. '512'\n",
       "5. '768'\n",
       "6. '1000'\n",
       "7. '2000'\n",
       "8. '3000'\n",
       "9. '4000'\n",
       "10. '6000'\n",
       "11. '8000'\n",
       "12. '12000'\n",
       "\n",
       "\n"
      ],
      "text/plain": [
       "[1] 12000 6000  4000  4000  6000  8000 \n",
       "Levels: 256 289 384 512 768 1000 2000 3000 4000 6000 8000 12000"
      ]
     },
     "metadata": {},
     "output_type": "display_data"
    },
    {
     "data": {
      "text/html": [
       "<style>\n",
       ".list-inline {list-style: none; margin:0; padding: 0}\n",
       ".list-inline>li {display: inline-block}\n",
       ".list-inline>li:not(:last-child)::after {content: \"\\00b7\"; padding: 0 .5ex}\n",
       "</style>\n",
       "<ol class=list-inline><li>256</li><li>64</li><li>64</li><li>64</li><li>128</li><li>128</li></ol>\n",
       "\n",
       "<details>\n",
       "\t<summary style=display:list-item;cursor:pointer>\n",
       "\t\t<strong>Levels</strong>:\n",
       "\t</summary>\n",
       "\t<style>\n",
       "\t.list-inline {list-style: none; margin:0; padding: 0}\n",
       "\t.list-inline>li {display: inline-block}\n",
       "\t.list-inline>li:not(:last-child)::after {content: \"\\00b7\"; padding: 0 .5ex}\n",
       "\t</style>\n",
       "\t<ol class=list-inline><li>'0.16'</li><li>'0.512'</li><li>'1'</li><li>'2'</li><li>'3'</li><li>'4'</li><li>'8'</li><li>'16'</li><li>'32'</li><li>'64'</li><li>'128'</li><li>'256'</li><li>'512'</li></ol>\n",
       "</details>"
      ],
      "text/latex": [
       "\\begin{enumerate*}\n",
       "\\item 256\n",
       "\\item 64\n",
       "\\item 64\n",
       "\\item 64\n",
       "\\item 128\n",
       "\\item 128\n",
       "\\end{enumerate*}\n",
       "\n",
       "\\emph{Levels}: \\begin{enumerate*}\n",
       "\\item '0.16'\n",
       "\\item '0.512'\n",
       "\\item '1'\n",
       "\\item '2'\n",
       "\\item '3'\n",
       "\\item '4'\n",
       "\\item '8'\n",
       "\\item '16'\n",
       "\\item '32'\n",
       "\\item '64'\n",
       "\\item '128'\n",
       "\\item '256'\n",
       "\\item '512'\n",
       "\\end{enumerate*}\n"
      ],
      "text/markdown": [
       "1. 256\n",
       "2. 64\n",
       "3. 64\n",
       "4. 64\n",
       "5. 128\n",
       "6. 128\n",
       "\n",
       "\n",
       "\n",
       "**Levels**: 1. '0.16'\n",
       "2. '0.512'\n",
       "3. '1'\n",
       "4. '2'\n",
       "5. '3'\n",
       "6. '4'\n",
       "7. '8'\n",
       "8. '16'\n",
       "9. '32'\n",
       "10. '64'\n",
       "11. '128'\n",
       "12. '256'\n",
       "13. '512'\n",
       "\n",
       "\n"
      ],
      "text/plain": [
       "[1] 256 64  64  64  128 128\n",
       "Levels: 0.16 0.512 1 2 3 4 8 16 32 64 128 256 512"
      ]
     },
     "metadata": {},
     "output_type": "display_data"
    },
    {
     "data": {
      "text/html": [
       "<style>\n",
       ".list-inline {list-style: none; margin:0; padding: 0}\n",
       ".list-inline>li {display: inline-block}\n",
       ".list-inline>li:not(:last-child)::after {content: \"\\00b7\"; padding: 0 .5ex}\n",
       "</style>\n",
       "<ol class=list-inline><li>48</li><li>64</li><li>12</li><li>12</li><li>12</li><li>48</li></ol>\n",
       "\n",
       "<details>\n",
       "\t<summary style=display:list-item;cursor:pointer>\n",
       "\t\t<strong>Levels</strong>:\n",
       "\t</summary>\n",
       "\t<style>\n",
       "\t.list-inline {list-style: none; margin:0; padding: 0}\n",
       "\t.list-inline>li {display: inline-block}\n",
       "\t.list-inline>li:not(:last-child)::after {content: \"\\00b7\"; padding: 0 .5ex}\n",
       "\t</style>\n",
       "\t<ol class=list-inline><li>'0'</li><li>'0.3'</li><li>'2'</li><li>'3'</li><li>'3.2'</li><li>'5'</li><li>'8'</li><li>'8.7'</li><li>'10'</li><li>'12'</li><li>'12.2'</li><li>'12.3'</li><li>'13'</li><li>'13.1'</li><li>'13.2'</li><li>'15'</li><li>'16'</li><li>'18'</li><li>'19'</li><li>'20'</li><li>'20.7'</li><li>'21'</li><li>'21.5'</li><li>'23'</li><li>'24'</li><li>'25'</li><li>'32'</li><li>'40'</li><li>'41'</li><li>'48'</li><li>'64'</li><li>'108'</li></ol>\n",
       "</details>"
      ],
      "text/latex": [
       "\\begin{enumerate*}\n",
       "\\item 48\n",
       "\\item 64\n",
       "\\item 12\n",
       "\\item 12\n",
       "\\item 12\n",
       "\\item 48\n",
       "\\end{enumerate*}\n",
       "\n",
       "\\emph{Levels}: \\begin{enumerate*}\n",
       "\\item '0'\n",
       "\\item '0.3'\n",
       "\\item '2'\n",
       "\\item '3'\n",
       "\\item '3.2'\n",
       "\\item '5'\n",
       "\\item '8'\n",
       "\\item '8.7'\n",
       "\\item '10'\n",
       "\\item '12'\n",
       "\\item '12.2'\n",
       "\\item '12.3'\n",
       "\\item '13'\n",
       "\\item '13.1'\n",
       "\\item '13.2'\n",
       "\\item '15'\n",
       "\\item '16'\n",
       "\\item '18'\n",
       "\\item '19'\n",
       "\\item '20'\n",
       "\\item '20.7'\n",
       "\\item '21'\n",
       "\\item '21.5'\n",
       "\\item '23'\n",
       "\\item '24'\n",
       "\\item '25'\n",
       "\\item '32'\n",
       "\\item '40'\n",
       "\\item '41'\n",
       "\\item '48'\n",
       "\\item '64'\n",
       "\\item '108'\n",
       "\\end{enumerate*}\n"
      ],
      "text/markdown": [
       "1. 48\n",
       "2. 64\n",
       "3. 12\n",
       "4. 12\n",
       "5. 12\n",
       "6. 48\n",
       "\n",
       "\n",
       "\n",
       "**Levels**: 1. '0'\n",
       "2. '0.3'\n",
       "3. '2'\n",
       "4. '3'\n",
       "5. '3.2'\n",
       "6. '5'\n",
       "7. '8'\n",
       "8. '8.7'\n",
       "9. '10'\n",
       "10. '12'\n",
       "11. '12.2'\n",
       "12. '12.3'\n",
       "13. '13'\n",
       "14. '13.1'\n",
       "15. '13.2'\n",
       "16. '15'\n",
       "17. '16'\n",
       "18. '18'\n",
       "19. '19'\n",
       "20. '20'\n",
       "21. '20.7'\n",
       "22. '21'\n",
       "23. '21.5'\n",
       "24. '23'\n",
       "25. '24'\n",
       "26. '25'\n",
       "27. '32'\n",
       "28. '40'\n",
       "29. '41'\n",
       "30. '48'\n",
       "31. '64'\n",
       "32. '108'\n",
       "\n",
       "\n"
      ],
      "text/plain": [
       "[1] 48 64 12 12 12 48\n",
       "32 Levels: 0 0.3 2 3 3.2 5 8 8.7 10 12 12.2 12.3 13 13.1 13.2 15 16 18 ... 108"
      ]
     },
     "metadata": {},
     "output_type": "display_data"
    },
    {
     "data": {
      "text/html": [
       "<style>\n",
       ".list-inline {list-style: none; margin:0; padding: 0}\n",
       ".list-inline>li {display: inline-block}\n",
       ".list-inline>li:not(:last-child)::after {content: \"\\00b7\"; padding: 0 .5ex}\n",
       "</style>\n",
       "<ol class=list-inline><li>16</li><li>16</li><li>12</li><li>12</li><li>32</li><li>16</li></ol>\n",
       "\n",
       "<details>\n",
       "\t<summary style=display:list-item;cursor:pointer>\n",
       "\t\t<strong>Levels</strong>:\n",
       "\t</summary>\n",
       "\t<style>\n",
       "\t.list-inline {list-style: none; margin:0; padding: 0}\n",
       "\t.list-inline>li {display: inline-block}\n",
       "\t.list-inline>li:not(:last-child)::after {content: \"\\00b7\"; padding: 0 .5ex}\n",
       "\t</style>\n",
       "\t<ol class=list-inline><li>'0'</li><li>'0.3'</li><li>'0.9'</li><li>'1.1'</li><li>'1.2'</li><li>'1.3'</li><li>'1.5'</li><li>'1.6'</li><li>'1.9'</li><li>'2'</li><li>'2.1'</li><li>'2.2'</li><li>'2.4'</li><li>'3'</li><li>'3.2'</li><li>'3.7'</li><li>'4'</li><li>'5'</li><li>'7'</li><li>'8'</li><li>'10'</li><li>'12'</li><li>'13'</li><li>'16'</li><li>'20'</li><li>'24'</li><li>'25'</li><li>'32'</li><li>'40'</li><li>'48'</li></ol>\n",
       "</details>"
      ],
      "text/latex": [
       "\\begin{enumerate*}\n",
       "\\item 16\n",
       "\\item 16\n",
       "\\item 12\n",
       "\\item 12\n",
       "\\item 32\n",
       "\\item 16\n",
       "\\end{enumerate*}\n",
       "\n",
       "\\emph{Levels}: \\begin{enumerate*}\n",
       "\\item '0'\n",
       "\\item '0.3'\n",
       "\\item '0.9'\n",
       "\\item '1.1'\n",
       "\\item '1.2'\n",
       "\\item '1.3'\n",
       "\\item '1.5'\n",
       "\\item '1.6'\n",
       "\\item '1.9'\n",
       "\\item '2'\n",
       "\\item '2.1'\n",
       "\\item '2.2'\n",
       "\\item '2.4'\n",
       "\\item '3'\n",
       "\\item '3.2'\n",
       "\\item '3.7'\n",
       "\\item '4'\n",
       "\\item '5'\n",
       "\\item '7'\n",
       "\\item '8'\n",
       "\\item '10'\n",
       "\\item '12'\n",
       "\\item '13'\n",
       "\\item '16'\n",
       "\\item '20'\n",
       "\\item '24'\n",
       "\\item '25'\n",
       "\\item '32'\n",
       "\\item '40'\n",
       "\\item '48'\n",
       "\\end{enumerate*}\n"
      ],
      "text/markdown": [
       "1. 16\n",
       "2. 16\n",
       "3. 12\n",
       "4. 12\n",
       "5. 32\n",
       "6. 16\n",
       "\n",
       "\n",
       "\n",
       "**Levels**: 1. '0'\n",
       "2. '0.3'\n",
       "3. '0.9'\n",
       "4. '1.1'\n",
       "5. '1.2'\n",
       "6. '1.3'\n",
       "7. '1.5'\n",
       "8. '1.6'\n",
       "9. '1.9'\n",
       "10. '2'\n",
       "11. '2.1'\n",
       "12. '2.2'\n",
       "13. '2.4'\n",
       "14. '3'\n",
       "15. '3.2'\n",
       "16. '3.7'\n",
       "17. '4'\n",
       "18. '5'\n",
       "19. '7'\n",
       "20. '8'\n",
       "21. '10'\n",
       "22. '12'\n",
       "23. '13'\n",
       "24. '16'\n",
       "25. '20'\n",
       "26. '24'\n",
       "27. '25'\n",
       "28. '32'\n",
       "29. '40'\n",
       "30. '48'\n",
       "\n",
       "\n"
      ],
      "text/plain": [
       "[1] 16 16 12 12 32 16\n",
       "30 Levels: 0 0.3 0.9 1.1 1.2 1.3 1.5 1.6 1.9 2 2.1 2.2 2.4 3 3.2 3.7 4 5 ... 48"
      ]
     },
     "metadata": {},
     "output_type": "display_data"
    },
    {
     "data": {
      "text/html": [
       "<style>\n",
       ".list-inline {list-style: none; margin:0; padding: 0}\n",
       ".list-inline>li {display: inline-block}\n",
       ".list-inline>li:not(:last-child)::after {content: \"\\00b7\"; padding: 0 .5ex}\n",
       "</style>\n",
       "<ol class=list-inline><li>2</li><li>2</li><li>2</li><li>2</li><li>1</li><li>2</li></ol>\n",
       "\n",
       "<details>\n",
       "\t<summary style=display:list-item;cursor:pointer>\n",
       "\t\t<strong>Levels</strong>:\n",
       "\t</summary>\n",
       "\t<style>\n",
       "\t.list-inline {list-style: none; margin:0; padding: 0}\n",
       "\t.list-inline>li {display: inline-block}\n",
       "\t.list-inline>li:not(:last-child)::after {content: \"\\00b7\"; padding: 0 .5ex}\n",
       "\t</style>\n",
       "\t<ol class=list-inline><li>'1'</li><li>'2'</li><li>'3'</li></ol>\n",
       "</details>"
      ],
      "text/latex": [
       "\\begin{enumerate*}\n",
       "\\item 2\n",
       "\\item 2\n",
       "\\item 2\n",
       "\\item 2\n",
       "\\item 1\n",
       "\\item 2\n",
       "\\end{enumerate*}\n",
       "\n",
       "\\emph{Levels}: \\begin{enumerate*}\n",
       "\\item '1'\n",
       "\\item '2'\n",
       "\\item '3'\n",
       "\\end{enumerate*}\n"
      ],
      "text/markdown": [
       "1. 2\n",
       "2. 2\n",
       "3. 2\n",
       "4. 2\n",
       "5. 1\n",
       "6. 2\n",
       "\n",
       "\n",
       "\n",
       "**Levels**: 1. '1'\n",
       "2. '2'\n",
       "3. '3'\n",
       "\n",
       "\n"
      ],
      "text/plain": [
       "[1] 2 2 2 2 1 2\n",
       "Levels: 1 2 3"
      ]
     },
     "metadata": {},
     "output_type": "display_data"
    },
    {
     "data": {
      "text/html": [
       "<style>\n",
       ".list-inline {list-style: none; margin:0; padding: 0}\n",
       ".list-inline>li {display: inline-block}\n",
       ".list-inline>li:not(:last-child)::after {content: \"\\00b7\"; padding: 0 .5ex}\n",
       "</style>\n",
       "<ol class=list-inline><li>671</li><li>318</li><li>1215</li><li>715</li><li>568</li><li>397</li></ol>\n",
       "\n",
       "<details>\n",
       "\t<summary style=display:list-item;cursor:pointer>\n",
       "\t\t<strong>Levels</strong>:\n",
       "\t</summary>\n",
       "\t<style>\n",
       "\t.list-inline {list-style: none; margin:0; padding: 0}\n",
       "\t.list-inline>li {display: inline-block}\n",
       "\t.list-inline>li:not(:last-child)::after {content: \"\\00b7\"; padding: 0 .5ex}\n",
       "\t</style>\n",
       "\t<ol class=list-inline><li>'6'</li><li>'11'</li><li>'23'</li><li>'25'</li><li>'26'</li><li>'27'</li><li>'28'</li><li>'29'</li><li>'30'</li><li>'31'</li><li>'32'</li><li>'33'</li><li>'34'</li><li>'35'</li><li>'36'</li><li>'37'</li><li>'38'</li><li>'39'</li><li>'40'</li><li>'41'</li><li>'42'</li><li>'43'</li><li>'44'</li><li>'45'</li><li>'46'</li><li>'47'</li><li>'48'</li><li>'49'</li><li>'50'</li><li>'51'</li><li>'52'</li><li>'53'</li><li>'54'</li><li>'55'</li><li>'56'</li><li>'57'</li><li>'58'</li><li>'59'</li><li>'60'</li><li>'61'</li><li>'62'</li><li>'63'</li><li>'64'</li><li>'65'</li><li>'66'</li><li>'67'</li><li>'68'</li><li>'69'</li><li>'70'</li><li>'71'</li><li>'72'</li><li>'73'</li><li>'74'</li><li>'75'</li><li>'76'</li><li>'77'</li><li>'78'</li><li>'79'</li><li>'80'</li><li>'81'</li><li>'82'</li><li>'83'</li><li>'84'</li><li>'85'</li><li>'86'</li><li>'87'</li><li>'88'</li><li>'89'</li><li>'90'</li><li>'91'</li><li>'92'</li><li>'93'</li><li>'94'</li><li>'95'</li><li>'96'</li><li>'97'</li><li>'98'</li><li>'99'</li><li>'101'</li><li>'102'</li><li>'103'</li><li>'105'</li><li>'106'</li><li>'107'</li><li>'108'</li><li>'109'</li><li>'110'</li><li>'111'</li><li>'112'</li><li>'113'</li><li>'114'</li><li>'116'</li><li>'117'</li><li>'118'</li><li>'119'</li><li>'121'</li><li>'124'</li><li>'125'</li><li>'126'</li><li>'127'</li><li>'128'</li><li>'131'</li><li>'132'</li><li>'133'</li><li>'134'</li><li>'135'</li><li>'136'</li><li>'137'</li><li>'142'</li><li>'144'</li><li>'145'</li><li>'146'</li><li>'147'</li><li>'148'</li><li>'151'</li><li>'153'</li><li>'155'</li><li>'156'</li><li>'158'</li><li>'159'</li><li>'161'</li><li>'162'</li><li>'163'</li><li>'164'</li><li>'165'</li><li>'167'</li><li>'168'</li><li>'170'</li><li>'171'</li><li>'174'</li><li>'175'</li><li>'176'</li><li>'181'</li><li>'182'</li><li>'187'</li><li>'188'</li><li>'189'</li><li>'190'</li><li>'191'</li><li>'192'</li><li>'193'</li><li>'195'</li><li>'199'</li><li>'200'</li><li>'204'</li><li>'205'</li><li>'206'</li><li>'208'</li><li>'210'</li><li>'211'</li><li>'213'</li><li>'216'</li><li>'219'</li><li>'222'</li><li>'224'</li><li>'227'</li><li>'230'</li><li>'236'</li><li>'238'</li><li>'239'</li><li>'240'</li><li>'242'</li><li>'244'</li><li>'250'</li><li>'254'</li><li>'256'</li><li>'261'</li><li>'262'</li><li>'263'</li><li>'264'</li><li>'272'</li><li>'273'</li><li>'283'</li><li>'284'</li><li>'286'</li><li>'290'</li><li>'294'</li><li>'296'</li><li>'298'</li><li>'301'</li><li>'307'</li><li>'311'</li><li>'314'</li><li>'317'</li><li>'318'</li><li>'324'</li><li>'331'</li><li>'341'</li><li>'343'</li><li>'352'</li><li>'364'</li><li>'369'</li><li>'381'</li><li>'387'</li><li>'397'</li><li>'398'</li><li>'409'</li><li>'421'</li><li>'432'</li><li>'443'</li><li>'455'</li><li>'471'</li><li>'478'</li><li>'489'</li><li>'512'</li><li>'517'</li><li>'523'</li><li>'534'</li><li>'546'</li><li>'568'</li><li>'576'</li><li>'603'</li><li>'614'</li><li>'617'</li><li>'622'</li><li>'625'</li><li>'645'</li><li>'648'</li><li>'654'</li><li>'658'</li><li>'671'</li><li>'672'</li><li>'682'</li><li>'715'</li><li>'728'</li><li>'762'</li><li>'772'</li><li>'790'</li><li>'796'</li><li>'833'</li><li>'841'</li><li>'843'</li><li>'853'</li><li>'879'</li><li>'906'</li><li>'954'</li><li>'1009'</li><li>'1057'</li><li>'1102'</li><li>'1215'</li><li>'1876'</li><li>'1990'</li></ol>\n",
       "</details>"
      ],
      "text/latex": [
       "\\begin{enumerate*}\n",
       "\\item 671\n",
       "\\item 318\n",
       "\\item 1215\n",
       "\\item 715\n",
       "\\item 568\n",
       "\\item 397\n",
       "\\end{enumerate*}\n",
       "\n",
       "\\emph{Levels}: \\begin{enumerate*}\n",
       "\\item '6'\n",
       "\\item '11'\n",
       "\\item '23'\n",
       "\\item '25'\n",
       "\\item '26'\n",
       "\\item '27'\n",
       "\\item '28'\n",
       "\\item '29'\n",
       "\\item '30'\n",
       "\\item '31'\n",
       "\\item '32'\n",
       "\\item '33'\n",
       "\\item '34'\n",
       "\\item '35'\n",
       "\\item '36'\n",
       "\\item '37'\n",
       "\\item '38'\n",
       "\\item '39'\n",
       "\\item '40'\n",
       "\\item '41'\n",
       "\\item '42'\n",
       "\\item '43'\n",
       "\\item '44'\n",
       "\\item '45'\n",
       "\\item '46'\n",
       "\\item '47'\n",
       "\\item '48'\n",
       "\\item '49'\n",
       "\\item '50'\n",
       "\\item '51'\n",
       "\\item '52'\n",
       "\\item '53'\n",
       "\\item '54'\n",
       "\\item '55'\n",
       "\\item '56'\n",
       "\\item '57'\n",
       "\\item '58'\n",
       "\\item '59'\n",
       "\\item '60'\n",
       "\\item '61'\n",
       "\\item '62'\n",
       "\\item '63'\n",
       "\\item '64'\n",
       "\\item '65'\n",
       "\\item '66'\n",
       "\\item '67'\n",
       "\\item '68'\n",
       "\\item '69'\n",
       "\\item '70'\n",
       "\\item '71'\n",
       "\\item '72'\n",
       "\\item '73'\n",
       "\\item '74'\n",
       "\\item '75'\n",
       "\\item '76'\n",
       "\\item '77'\n",
       "\\item '78'\n",
       "\\item '79'\n",
       "\\item '80'\n",
       "\\item '81'\n",
       "\\item '82'\n",
       "\\item '83'\n",
       "\\item '84'\n",
       "\\item '85'\n",
       "\\item '86'\n",
       "\\item '87'\n",
       "\\item '88'\n",
       "\\item '89'\n",
       "\\item '90'\n",
       "\\item '91'\n",
       "\\item '92'\n",
       "\\item '93'\n",
       "\\item '94'\n",
       "\\item '95'\n",
       "\\item '96'\n",
       "\\item '97'\n",
       "\\item '98'\n",
       "\\item '99'\n",
       "\\item '101'\n",
       "\\item '102'\n",
       "\\item '103'\n",
       "\\item '105'\n",
       "\\item '106'\n",
       "\\item '107'\n",
       "\\item '108'\n",
       "\\item '109'\n",
       "\\item '110'\n",
       "\\item '111'\n",
       "\\item '112'\n",
       "\\item '113'\n",
       "\\item '114'\n",
       "\\item '116'\n",
       "\\item '117'\n",
       "\\item '118'\n",
       "\\item '119'\n",
       "\\item '121'\n",
       "\\item '124'\n",
       "\\item '125'\n",
       "\\item '126'\n",
       "\\item '127'\n",
       "\\item '128'\n",
       "\\item '131'\n",
       "\\item '132'\n",
       "\\item '133'\n",
       "\\item '134'\n",
       "\\item '135'\n",
       "\\item '136'\n",
       "\\item '137'\n",
       "\\item '142'\n",
       "\\item '144'\n",
       "\\item '145'\n",
       "\\item '146'\n",
       "\\item '147'\n",
       "\\item '148'\n",
       "\\item '151'\n",
       "\\item '153'\n",
       "\\item '155'\n",
       "\\item '156'\n",
       "\\item '158'\n",
       "\\item '159'\n",
       "\\item '161'\n",
       "\\item '162'\n",
       "\\item '163'\n",
       "\\item '164'\n",
       "\\item '165'\n",
       "\\item '167'\n",
       "\\item '168'\n",
       "\\item '170'\n",
       "\\item '171'\n",
       "\\item '174'\n",
       "\\item '175'\n",
       "\\item '176'\n",
       "\\item '181'\n",
       "\\item '182'\n",
       "\\item '187'\n",
       "\\item '188'\n",
       "\\item '189'\n",
       "\\item '190'\n",
       "\\item '191'\n",
       "\\item '192'\n",
       "\\item '193'\n",
       "\\item '195'\n",
       "\\item '199'\n",
       "\\item '200'\n",
       "\\item '204'\n",
       "\\item '205'\n",
       "\\item '206'\n",
       "\\item '208'\n",
       "\\item '210'\n",
       "\\item '211'\n",
       "\\item '213'\n",
       "\\item '216'\n",
       "\\item '219'\n",
       "\\item '222'\n",
       "\\item '224'\n",
       "\\item '227'\n",
       "\\item '230'\n",
       "\\item '236'\n",
       "\\item '238'\n",
       "\\item '239'\n",
       "\\item '240'\n",
       "\\item '242'\n",
       "\\item '244'\n",
       "\\item '250'\n",
       "\\item '254'\n",
       "\\item '256'\n",
       "\\item '261'\n",
       "\\item '262'\n",
       "\\item '263'\n",
       "\\item '264'\n",
       "\\item '272'\n",
       "\\item '273'\n",
       "\\item '283'\n",
       "\\item '284'\n",
       "\\item '286'\n",
       "\\item '290'\n",
       "\\item '294'\n",
       "\\item '296'\n",
       "\\item '298'\n",
       "\\item '301'\n",
       "\\item '307'\n",
       "\\item '311'\n",
       "\\item '314'\n",
       "\\item '317'\n",
       "\\item '318'\n",
       "\\item '324'\n",
       "\\item '331'\n",
       "\\item '341'\n",
       "\\item '343'\n",
       "\\item '352'\n",
       "\\item '364'\n",
       "\\item '369'\n",
       "\\item '381'\n",
       "\\item '387'\n",
       "\\item '397'\n",
       "\\item '398'\n",
       "\\item '409'\n",
       "\\item '421'\n",
       "\\item '432'\n",
       "\\item '443'\n",
       "\\item '455'\n",
       "\\item '471'\n",
       "\\item '478'\n",
       "\\item '489'\n",
       "\\item '512'\n",
       "\\item '517'\n",
       "\\item '523'\n",
       "\\item '534'\n",
       "\\item '546'\n",
       "\\item '568'\n",
       "\\item '576'\n",
       "\\item '603'\n",
       "\\item '614'\n",
       "\\item '617'\n",
       "\\item '622'\n",
       "\\item '625'\n",
       "\\item '645'\n",
       "\\item '648'\n",
       "\\item '654'\n",
       "\\item '658'\n",
       "\\item '671'\n",
       "\\item '672'\n",
       "\\item '682'\n",
       "\\item '715'\n",
       "\\item '728'\n",
       "\\item '762'\n",
       "\\item '772'\n",
       "\\item '790'\n",
       "\\item '796'\n",
       "\\item '833'\n",
       "\\item '841'\n",
       "\\item '843'\n",
       "\\item '853'\n",
       "\\item '879'\n",
       "\\item '906'\n",
       "\\item '954'\n",
       "\\item '1009'\n",
       "\\item '1057'\n",
       "\\item '1102'\n",
       "\\item '1215'\n",
       "\\item '1876'\n",
       "\\item '1990'\n",
       "\\end{enumerate*}\n"
      ],
      "text/markdown": [
       "1. 671\n",
       "2. 318\n",
       "3. 1215\n",
       "4. 715\n",
       "5. 568\n",
       "6. 397\n",
       "\n",
       "\n",
       "\n",
       "**Levels**: 1. '6'\n",
       "2. '11'\n",
       "3. '23'\n",
       "4. '25'\n",
       "5. '26'\n",
       "6. '27'\n",
       "7. '28'\n",
       "8. '29'\n",
       "9. '30'\n",
       "10. '31'\n",
       "11. '32'\n",
       "12. '33'\n",
       "13. '34'\n",
       "14. '35'\n",
       "15. '36'\n",
       "16. '37'\n",
       "17. '38'\n",
       "18. '39'\n",
       "19. '40'\n",
       "20. '41'\n",
       "21. '42'\n",
       "22. '43'\n",
       "23. '44'\n",
       "24. '45'\n",
       "25. '46'\n",
       "26. '47'\n",
       "27. '48'\n",
       "28. '49'\n",
       "29. '50'\n",
       "30. '51'\n",
       "31. '52'\n",
       "32. '53'\n",
       "33. '54'\n",
       "34. '55'\n",
       "35. '56'\n",
       "36. '57'\n",
       "37. '58'\n",
       "38. '59'\n",
       "39. '60'\n",
       "40. '61'\n",
       "41. '62'\n",
       "42. '63'\n",
       "43. '64'\n",
       "44. '65'\n",
       "45. '66'\n",
       "46. '67'\n",
       "47. '68'\n",
       "48. '69'\n",
       "49. '70'\n",
       "50. '71'\n",
       "51. '72'\n",
       "52. '73'\n",
       "53. '74'\n",
       "54. '75'\n",
       "55. '76'\n",
       "56. '77'\n",
       "57. '78'\n",
       "58. '79'\n",
       "59. '80'\n",
       "60. '81'\n",
       "61. '82'\n",
       "62. '83'\n",
       "63. '84'\n",
       "64. '85'\n",
       "65. '86'\n",
       "66. '87'\n",
       "67. '88'\n",
       "68. '89'\n",
       "69. '90'\n",
       "70. '91'\n",
       "71. '92'\n",
       "72. '93'\n",
       "73. '94'\n",
       "74. '95'\n",
       "75. '96'\n",
       "76. '97'\n",
       "77. '98'\n",
       "78. '99'\n",
       "79. '101'\n",
       "80. '102'\n",
       "81. '103'\n",
       "82. '105'\n",
       "83. '106'\n",
       "84. '107'\n",
       "85. '108'\n",
       "86. '109'\n",
       "87. '110'\n",
       "88. '111'\n",
       "89. '112'\n",
       "90. '113'\n",
       "91. '114'\n",
       "92. '116'\n",
       "93. '117'\n",
       "94. '118'\n",
       "95. '119'\n",
       "96. '121'\n",
       "97. '124'\n",
       "98. '125'\n",
       "99. '126'\n",
       "100. '127'\n",
       "101. '128'\n",
       "102. '131'\n",
       "103. '132'\n",
       "104. '133'\n",
       "105. '134'\n",
       "106. '135'\n",
       "107. '136'\n",
       "108. '137'\n",
       "109. '142'\n",
       "110. '144'\n",
       "111. '145'\n",
       "112. '146'\n",
       "113. '147'\n",
       "114. '148'\n",
       "115. '151'\n",
       "116. '153'\n",
       "117. '155'\n",
       "118. '156'\n",
       "119. '158'\n",
       "120. '159'\n",
       "121. '161'\n",
       "122. '162'\n",
       "123. '163'\n",
       "124. '164'\n",
       "125. '165'\n",
       "126. '167'\n",
       "127. '168'\n",
       "128. '170'\n",
       "129. '171'\n",
       "130. '174'\n",
       "131. '175'\n",
       "132. '176'\n",
       "133. '181'\n",
       "134. '182'\n",
       "135. '187'\n",
       "136. '188'\n",
       "137. '189'\n",
       "138. '190'\n",
       "139. '191'\n",
       "140. '192'\n",
       "141. '193'\n",
       "142. '195'\n",
       "143. '199'\n",
       "144. '200'\n",
       "145. '204'\n",
       "146. '205'\n",
       "147. '206'\n",
       "148. '208'\n",
       "149. '210'\n",
       "150. '211'\n",
       "151. '213'\n",
       "152. '216'\n",
       "153. '219'\n",
       "154. '222'\n",
       "155. '224'\n",
       "156. '227'\n",
       "157. '230'\n",
       "158. '236'\n",
       "159. '238'\n",
       "160. '239'\n",
       "161. '240'\n",
       "162. '242'\n",
       "163. '244'\n",
       "164. '250'\n",
       "165. '254'\n",
       "166. '256'\n",
       "167. '261'\n",
       "168. '262'\n",
       "169. '263'\n",
       "170. '264'\n",
       "171. '272'\n",
       "172. '273'\n",
       "173. '283'\n",
       "174. '284'\n",
       "175. '286'\n",
       "176. '290'\n",
       "177. '294'\n",
       "178. '296'\n",
       "179. '298'\n",
       "180. '301'\n",
       "181. '307'\n",
       "182. '311'\n",
       "183. '314'\n",
       "184. '317'\n",
       "185. '318'\n",
       "186. '324'\n",
       "187. '331'\n",
       "188. '341'\n",
       "189. '343'\n",
       "190. '352'\n",
       "191. '364'\n",
       "192. '369'\n",
       "193. '381'\n",
       "194. '387'\n",
       "195. '397'\n",
       "196. '398'\n",
       "197. '409'\n",
       "198. '421'\n",
       "199. '432'\n",
       "200. '443'\n",
       "201. '455'\n",
       "202. '471'\n",
       "203. '478'\n",
       "204. '489'\n",
       "205. '512'\n",
       "206. '517'\n",
       "207. '523'\n",
       "208. '534'\n",
       "209. '546'\n",
       "210. '568'\n",
       "211. '576'\n",
       "212. '603'\n",
       "213. '614'\n",
       "214. '617'\n",
       "215. '622'\n",
       "216. '625'\n",
       "217. '645'\n",
       "218. '648'\n",
       "219. '654'\n",
       "220. '658'\n",
       "221. '671'\n",
       "222. '672'\n",
       "223. '682'\n",
       "224. '715'\n",
       "225. '728'\n",
       "226. '762'\n",
       "227. '772'\n",
       "228. '790'\n",
       "229. '796'\n",
       "230. '833'\n",
       "231. '841'\n",
       "232. '843'\n",
       "233. '853'\n",
       "234. '879'\n",
       "235. '906'\n",
       "236. '954'\n",
       "237. '1009'\n",
       "238. '1057'\n",
       "239. '1102'\n",
       "240. '1215'\n",
       "241. '1876'\n",
       "242. '1990'\n",
       "\n",
       "\n"
      ],
      "text/plain": [
       "[1] 671  318  1215 715  568  397 \n",
       "242 Levels: 6 11 23 25 26 27 28 29 30 31 32 33 34 35 36 37 38 39 40 41 42 ... 1990"
      ]
     },
     "metadata": {},
     "output_type": "display_data"
    },
    {
     "data": {
      "text/html": [
       "<style>\n",
       ".list-inline {list-style: none; margin:0; padding: 0}\n",
       ".list-inline>li {display: inline-block}\n",
       ".list-inline>li:not(:last-child)::after {content: \"\\00b7\"; padding: 0 .5ex}\n",
       "</style>\n",
       "<ol class=list-inline><li>Android</li><li>Android</li><li>iOS</li><li>iOS</li><li>Android</li><li>Android</li></ol>\n",
       "\n",
       "<details>\n",
       "\t<summary style=display:list-item;cursor:pointer>\n",
       "\t\t<strong>Levels</strong>:\n",
       "\t</summary>\n",
       "\t<style>\n",
       "\t.list-inline {list-style: none; margin:0; padding: 0}\n",
       "\t.list-inline>li {display: inline-block}\n",
       "\t.list-inline>li:not(:last-child)::after {content: \"\\00b7\"; padding: 0 .5ex}\n",
       "\t</style>\n",
       "\t<ol class=list-inline><li>'Android'</li><li>'iOS'</li><li>'Windows'</li></ol>\n",
       "</details>"
      ],
      "text/latex": [
       "\\begin{enumerate*}\n",
       "\\item Android\n",
       "\\item Android\n",
       "\\item iOS\n",
       "\\item iOS\n",
       "\\item Android\n",
       "\\item Android\n",
       "\\end{enumerate*}\n",
       "\n",
       "\\emph{Levels}: \\begin{enumerate*}\n",
       "\\item 'Android'\n",
       "\\item 'iOS'\n",
       "\\item 'Windows'\n",
       "\\end{enumerate*}\n"
      ],
      "text/markdown": [
       "1. Android\n",
       "2. Android\n",
       "3. iOS\n",
       "4. iOS\n",
       "5. Android\n",
       "6. Android\n",
       "\n",
       "\n",
       "\n",
       "**Levels**: 1. 'Android'\n",
       "2. 'iOS'\n",
       "3. 'Windows'\n",
       "\n",
       "\n"
      ],
      "text/plain": [
       "[1] Android Android iOS     iOS     Android Android\n",
       "Levels: Android iOS Windows"
      ]
     },
     "metadata": {},
     "output_type": "display_data"
    }
   ],
   "source": [
    "BatteryCapacityRange <- phoneData %>% mutate(BatteryCapacity = factor(BatteryCapacity))\n",
    "head(BatteryCapacityRange$BatteryCapacity)\n",
    "BatteryCapacityRange <- phoneData %>% mutate(\n",
    "  BatteryCapacity = discretize(BatteryCapacity, breaks = 2, method=\"frequency\")\n",
    ")\n",
    "table(BatteryCapacityRange$BatteryCapacity)\n",
    "ScreenSizeRange <- BatteryCapacityRange %>% mutate(ScreenSize = factor(ScreenSize))\n",
    "head(ScreenSizeRange$ScreenSize)\n",
    "ScreenSizeRange <- BatteryCapacityRange %>% mutate(\n",
    "  ScreenSize = discretize(ScreenSize, breaks = 2, method=\"frequency\")\n",
    ")\n",
    "ResolutionXRange <- ScreenSizeRange %>% mutate(ResolutionX = factor(ResolutionX))\n",
    "head(ResolutionXRange$ResolutionX)\n",
    "ResolutionXRange <- ScreenSizeRange %>% mutate(\n",
    "  ResolutionX = discretize(ResolutionX, breaks = 2, method=\"frequency\")\n",
    ")\n",
    "ResolutionYRange <- ResolutionXRange %>% mutate(ResolutionY = factor(ResolutionY))\n",
    "head(ResolutionYRange$ResolutionY)\n",
    "ResolutionYRange <- ResolutionXRange %>% mutate(\n",
    "  ResolutionY = discretize(ResolutionY, breaks = 2, method=\"frequency\")\n",
    ")\n",
    "ProcessorRange <- ResolutionYRange %>% mutate(Processor = factor(Processor))\n",
    "head(ProcessorRange$Processor)\n",
    "ProcessorRange <- ResolutionYRange %>% mutate(\n",
    "  Processor = discretize(Processor, breaks = 2, method=\"frequency\")\n",
    ")\n",
    "RAMRange <- ProcessorRange %>% mutate(RAM = factor(RAM))\n",
    "head(RAMRange$RAM)\n",
    "RAMRange <- ProcessorRange %>% mutate(\n",
    "  RAM = discretize(RAM, breaks = 2, method=\"frequency\")\n",
    ")\n",
    "InternalStorageRange <- RAMRange %>% mutate(InternalStorage = factor(InternalStorage))\n",
    "head(InternalStorageRange$InternalStorage)\n",
    "InternalStorageRange <- RAMRange %>% mutate(\n",
    "  InternalStorage = discretize(InternalStorage, breaks = 2, method=\"frequency\")\n",
    ")\n",
    "RearCameraRange <- InternalStorageRange %>% mutate(RearCamera = factor(RearCamera))\n",
    "head(RearCameraRange$RearCamera)\n",
    "RearCameraRange <- InternalStorageRange %>% mutate(\n",
    "  RearCamera = discretize(RearCamera, breaks = 2, method=\"frequency\")\n",
    ")\n",
    "FrontCameraRange <- RearCameraRange %>% mutate(FrontCamera = factor(FrontCamera))\n",
    "head(FrontCameraRange$FrontCamera)\n",
    "FrontCameraRange <- RearCameraRange %>% mutate(\n",
    "  FrontCamera = discretize(FrontCamera, breaks = 2, method=\"frequency\")\n",
    ")\n",
    "SIMsNumberRange <- FrontCameraRange %>% mutate(SIMsNumber = factor(SIMsNumber))\n",
    "head(SIMsNumberRange$SIMsNumber)\n",
    "SIMsNumberRange <- FrontCameraRange %>% mutate(\n",
    "  SIMsNumber = discretize(SIMsNumber, breaks = 2, method=\"frequency\")\n",
    ")\n",
    "PriceRange <- SIMsNumberRange %>% mutate(Price = factor(Price))\n",
    "head(PriceRange$Price)\n",
    "PriceRange <- SIMsNumberRange %>% mutate(\n",
    "  Price = discretize(Price, breaks = 3, method=\"frequency\")\n",
    ")\n",
    "OSRange <- PriceRange %>% mutate(OS = factor(OS))\n",
    "head(OSRange$OS)"
   ]
  },
  {
   "cell_type": "code",
   "execution_count": null,
   "metadata": {
    "colab": {
     "base_uri": "https://localhost:8080/",
     "height": 462
    },
    "id": "PkCGMdZdOb2C",
    "outputId": "82dbce46-b99a-4419-c9fa-3f42857c0ac8",
    "vscode": {
     "languageId": "r"
    }
   },
   "outputs": [
    {
     "data": {
      "text/html": [
       "<table class=\"dataframe\">\n",
       "<caption>A data.frame: 6 × 18</caption>\n",
       "<thead>\n",
       "\t<tr><th></th><th scope=col>BatteryCapacity</th><th scope=col>ScreenSize</th><th scope=col>Touchscreen</th><th scope=col>ResolutionX</th><th scope=col>ResolutionY</th><th scope=col>Processor</th><th scope=col>RAM</th><th scope=col>InternalStorage</th><th scope=col>RearCamera</th><th scope=col>FrontCamera</th><th scope=col>OS</th><th scope=col>WiFi</th><th scope=col>Bluetooth</th><th scope=col>GPS</th><th scope=col>SIMsNumber</th><th scope=col>X3G</th><th scope=col>X4G.LTE</th><th scope=col>Price</th></tr>\n",
       "\t<tr><th></th><th scope=col>&lt;fct&gt;</th><th scope=col>&lt;fct&gt;</th><th scope=col>&lt;lgl&gt;</th><th scope=col>&lt;fct&gt;</th><th scope=col>&lt;fct&gt;</th><th scope=col>&lt;fct&gt;</th><th scope=col>&lt;fct&gt;</th><th scope=col>&lt;fct&gt;</th><th scope=col>&lt;fct&gt;</th><th scope=col>&lt;fct&gt;</th><th scope=col>&lt;chr&gt;</th><th scope=col>&lt;lgl&gt;</th><th scope=col>&lt;lgl&gt;</th><th scope=col>&lt;lgl&gt;</th><th scope=col>&lt;fct&gt;</th><th scope=col>&lt;lgl&gt;</th><th scope=col>&lt;lgl&gt;</th><th scope=col>&lt;fct&gt;</th></tr>\n",
       "</thead>\n",
       "<tbody>\n",
       "\t<tr><th scope=row>OnePlus 7T Pro McLaren Edition</th><td>[3.5e+03,6e+03]</td><td>[5.7,7.3]</td><td>TRUE</td><td>[1.08e+03,2.16e+03]</td><td>[1.92e+03,3.84e+03]</td><td>[8,10]</td><td>[3e+03,1.2e+04]</td><td>[32,512]</td><td>[13,108]</td><td>[8,48]</td><td>Android</td><td>TRUE</td><td>TRUE</td><td> TRUE</td><td>[2,3]</td><td> TRUE</td><td> TRUE</td><td>[109,1.99e+03]</td></tr>\n",
       "\t<tr><th scope=row>Realme X2 Pro</th><td>[3.5e+03,6e+03]</td><td>[5.7,7.3]</td><td>TRUE</td><td>[1.08e+03,2.16e+03]</td><td>[1.92e+03,3.84e+03]</td><td>[8,10]</td><td>[3e+03,1.2e+04]</td><td>[32,512]</td><td>[13,108]</td><td>[8,48]</td><td>Android</td><td>TRUE</td><td>TRUE</td><td> TRUE</td><td>[2,3]</td><td> TRUE</td><td> TRUE</td><td>[109,1.99e+03]</td></tr>\n",
       "\t<tr><th scope=row>iPhone 11 Pro Max</th><td>[3.5e+03,6e+03]</td><td>[5.7,7.3]</td><td>TRUE</td><td>[1.08e+03,2.16e+03]</td><td>[1.92e+03,3.84e+03]</td><td>[4,8) </td><td>[3e+03,1.2e+04]</td><td>[32,512]</td><td>[8,13)  </td><td>[8,48]</td><td>iOS    </td><td>TRUE</td><td>TRUE</td><td> TRUE</td><td>[2,3]</td><td> TRUE</td><td> TRUE</td><td>[109,1.99e+03]</td></tr>\n",
       "\t<tr><th scope=row>iPhone 11</th><td>[3e+03,3.5e+03)</td><td>[5.7,7.3]</td><td>TRUE</td><td>[720,1.08e+03)     </td><td>[1.28e+03,1.92e+03)</td><td>[4,8) </td><td>[3e+03,1.2e+04]</td><td>[32,512]</td><td>[8,13)  </td><td>[8,48]</td><td>iOS    </td><td>TRUE</td><td>TRUE</td><td> TRUE</td><td>[2,3]</td><td> TRUE</td><td> TRUE</td><td>[109,1.99e+03]</td></tr>\n",
       "\t<tr><th scope=row>LG G8X ThinQ</th><td>[3.5e+03,6e+03]</td><td>[5.7,7.3]</td><td>TRUE</td><td>[1.08e+03,2.16e+03]</td><td>[1.92e+03,3.84e+03]</td><td>[8,10]</td><td>[3e+03,1.2e+04]</td><td>[32,512]</td><td>[8,13)  </td><td>[8,48]</td><td>Android</td><td>TRUE</td><td>TRUE</td><td> TRUE</td><td>[1,2)</td><td>FALSE</td><td>FALSE</td><td>[109,1.99e+03]</td></tr>\n",
       "\t<tr><th scope=row>OnePlus 7T</th><td>[3.5e+03,6e+03]</td><td>[5.7,7.3]</td><td>TRUE</td><td>[1.08e+03,2.16e+03]</td><td>[1.92e+03,3.84e+03]</td><td>[8,10]</td><td>[3e+03,1.2e+04]</td><td>[32,512]</td><td>[13,108]</td><td>[8,48]</td><td>Android</td><td>TRUE</td><td>TRUE</td><td>FALSE</td><td>[2,3]</td><td> TRUE</td><td> TRUE</td><td>[109,1.99e+03]</td></tr>\n",
       "</tbody>\n",
       "</table>\n"
      ],
      "text/latex": [
       "A data.frame: 6 × 18\n",
       "\\begin{tabular}{r|llllllllllllllllll}\n",
       "  & BatteryCapacity & ScreenSize & Touchscreen & ResolutionX & ResolutionY & Processor & RAM & InternalStorage & RearCamera & FrontCamera & OS & WiFi & Bluetooth & GPS & SIMsNumber & X3G & X4G.LTE & Price\\\\\n",
       "  & <fct> & <fct> & <lgl> & <fct> & <fct> & <fct> & <fct> & <fct> & <fct> & <fct> & <chr> & <lgl> & <lgl> & <lgl> & <fct> & <lgl> & <lgl> & <fct>\\\\\n",
       "\\hline\n",
       "\tOnePlus 7T Pro McLaren Edition & {[}3.5e+03,6e+03{]} & {[}5.7,7.3{]} & TRUE & {[}1.08e+03,2.16e+03{]} & {[}1.92e+03,3.84e+03{]} & {[}8,10{]} & {[}3e+03,1.2e+04{]} & {[}32,512{]} & {[}13,108{]} & {[}8,48{]} & Android & TRUE & TRUE &  TRUE & {[}2,3{]} &  TRUE &  TRUE & {[}109,1.99e+03{]}\\\\\n",
       "\tRealme X2 Pro & {[}3.5e+03,6e+03{]} & {[}5.7,7.3{]} & TRUE & {[}1.08e+03,2.16e+03{]} & {[}1.92e+03,3.84e+03{]} & {[}8,10{]} & {[}3e+03,1.2e+04{]} & {[}32,512{]} & {[}13,108{]} & {[}8,48{]} & Android & TRUE & TRUE &  TRUE & {[}2,3{]} &  TRUE &  TRUE & {[}109,1.99e+03{]}\\\\\n",
       "\tiPhone 11 Pro Max & {[}3.5e+03,6e+03{]} & {[}5.7,7.3{]} & TRUE & {[}1.08e+03,2.16e+03{]} & {[}1.92e+03,3.84e+03{]} & {[}4,8)  & {[}3e+03,1.2e+04{]} & {[}32,512{]} & {[}8,13)   & {[}8,48{]} & iOS     & TRUE & TRUE &  TRUE & {[}2,3{]} &  TRUE &  TRUE & {[}109,1.99e+03{]}\\\\\n",
       "\tiPhone 11 & {[}3e+03,3.5e+03) & {[}5.7,7.3{]} & TRUE & {[}720,1.08e+03)      & {[}1.28e+03,1.92e+03) & {[}4,8)  & {[}3e+03,1.2e+04{]} & {[}32,512{]} & {[}8,13)   & {[}8,48{]} & iOS     & TRUE & TRUE &  TRUE & {[}2,3{]} &  TRUE &  TRUE & {[}109,1.99e+03{]}\\\\\n",
       "\tLG G8X ThinQ & {[}3.5e+03,6e+03{]} & {[}5.7,7.3{]} & TRUE & {[}1.08e+03,2.16e+03{]} & {[}1.92e+03,3.84e+03{]} & {[}8,10{]} & {[}3e+03,1.2e+04{]} & {[}32,512{]} & {[}8,13)   & {[}8,48{]} & Android & TRUE & TRUE &  TRUE & {[}1,2) & FALSE & FALSE & {[}109,1.99e+03{]}\\\\\n",
       "\tOnePlus 7T & {[}3.5e+03,6e+03{]} & {[}5.7,7.3{]} & TRUE & {[}1.08e+03,2.16e+03{]} & {[}1.92e+03,3.84e+03{]} & {[}8,10{]} & {[}3e+03,1.2e+04{]} & {[}32,512{]} & {[}13,108{]} & {[}8,48{]} & Android & TRUE & TRUE & FALSE & {[}2,3{]} &  TRUE &  TRUE & {[}109,1.99e+03{]}\\\\\n",
       "\\end{tabular}\n"
      ],
      "text/markdown": [
       "\n",
       "A data.frame: 6 × 18\n",
       "\n",
       "| <!--/--> | BatteryCapacity &lt;fct&gt; | ScreenSize &lt;fct&gt; | Touchscreen &lt;lgl&gt; | ResolutionX &lt;fct&gt; | ResolutionY &lt;fct&gt; | Processor &lt;fct&gt; | RAM &lt;fct&gt; | InternalStorage &lt;fct&gt; | RearCamera &lt;fct&gt; | FrontCamera &lt;fct&gt; | OS &lt;chr&gt; | WiFi &lt;lgl&gt; | Bluetooth &lt;lgl&gt; | GPS &lt;lgl&gt; | SIMsNumber &lt;fct&gt; | X3G &lt;lgl&gt; | X4G.LTE &lt;lgl&gt; | Price &lt;fct&gt; |\n",
       "|---|---|---|---|---|---|---|---|---|---|---|---|---|---|---|---|---|---|---|\n",
       "| OnePlus 7T Pro McLaren Edition | [3.5e+03,6e+03] | [5.7,7.3] | TRUE | [1.08e+03,2.16e+03] | [1.92e+03,3.84e+03] | [8,10] | [3e+03,1.2e+04] | [32,512] | [13,108] | [8,48] | Android | TRUE | TRUE |  TRUE | [2,3] |  TRUE |  TRUE | [109,1.99e+03] |\n",
       "| Realme X2 Pro | [3.5e+03,6e+03] | [5.7,7.3] | TRUE | [1.08e+03,2.16e+03] | [1.92e+03,3.84e+03] | [8,10] | [3e+03,1.2e+04] | [32,512] | [13,108] | [8,48] | Android | TRUE | TRUE |  TRUE | [2,3] |  TRUE |  TRUE | [109,1.99e+03] |\n",
       "| iPhone 11 Pro Max | [3.5e+03,6e+03] | [5.7,7.3] | TRUE | [1.08e+03,2.16e+03] | [1.92e+03,3.84e+03] | [4,8)  | [3e+03,1.2e+04] | [32,512] | [8,13)   | [8,48] | iOS     | TRUE | TRUE |  TRUE | [2,3] |  TRUE |  TRUE | [109,1.99e+03] |\n",
       "| iPhone 11 | [3e+03,3.5e+03) | [5.7,7.3] | TRUE | [720,1.08e+03)      | [1.28e+03,1.92e+03) | [4,8)  | [3e+03,1.2e+04] | [32,512] | [8,13)   | [8,48] | iOS     | TRUE | TRUE |  TRUE | [2,3] |  TRUE |  TRUE | [109,1.99e+03] |\n",
       "| LG G8X ThinQ | [3.5e+03,6e+03] | [5.7,7.3] | TRUE | [1.08e+03,2.16e+03] | [1.92e+03,3.84e+03] | [8,10] | [3e+03,1.2e+04] | [32,512] | [8,13)   | [8,48] | Android | TRUE | TRUE |  TRUE | [1,2) | FALSE | FALSE | [109,1.99e+03] |\n",
       "| OnePlus 7T | [3.5e+03,6e+03] | [5.7,7.3] | TRUE | [1.08e+03,2.16e+03] | [1.92e+03,3.84e+03] | [8,10] | [3e+03,1.2e+04] | [32,512] | [13,108] | [8,48] | Android | TRUE | TRUE | FALSE | [2,3] |  TRUE |  TRUE | [109,1.99e+03] |\n",
       "\n"
      ],
      "text/plain": [
       "                               BatteryCapacity ScreenSize Touchscreen\n",
       "OnePlus 7T Pro McLaren Edition [3.5e+03,6e+03] [5.7,7.3]  TRUE       \n",
       "Realme X2 Pro                  [3.5e+03,6e+03] [5.7,7.3]  TRUE       \n",
       "iPhone 11 Pro Max              [3.5e+03,6e+03] [5.7,7.3]  TRUE       \n",
       "iPhone 11                      [3e+03,3.5e+03) [5.7,7.3]  TRUE       \n",
       "LG G8X ThinQ                   [3.5e+03,6e+03] [5.7,7.3]  TRUE       \n",
       "OnePlus 7T                     [3.5e+03,6e+03] [5.7,7.3]  TRUE       \n",
       "                               ResolutionX         ResolutionY        \n",
       "OnePlus 7T Pro McLaren Edition [1.08e+03,2.16e+03] [1.92e+03,3.84e+03]\n",
       "Realme X2 Pro                  [1.08e+03,2.16e+03] [1.92e+03,3.84e+03]\n",
       "iPhone 11 Pro Max              [1.08e+03,2.16e+03] [1.92e+03,3.84e+03]\n",
       "iPhone 11                      [720,1.08e+03)      [1.28e+03,1.92e+03)\n",
       "LG G8X ThinQ                   [1.08e+03,2.16e+03] [1.92e+03,3.84e+03]\n",
       "OnePlus 7T                     [1.08e+03,2.16e+03] [1.92e+03,3.84e+03]\n",
       "                               Processor RAM             InternalStorage\n",
       "OnePlus 7T Pro McLaren Edition [8,10]    [3e+03,1.2e+04] [32,512]       \n",
       "Realme X2 Pro                  [8,10]    [3e+03,1.2e+04] [32,512]       \n",
       "iPhone 11 Pro Max              [4,8)     [3e+03,1.2e+04] [32,512]       \n",
       "iPhone 11                      [4,8)     [3e+03,1.2e+04] [32,512]       \n",
       "LG G8X ThinQ                   [8,10]    [3e+03,1.2e+04] [32,512]       \n",
       "OnePlus 7T                     [8,10]    [3e+03,1.2e+04] [32,512]       \n",
       "                               RearCamera FrontCamera OS      WiFi Bluetooth\n",
       "OnePlus 7T Pro McLaren Edition [13,108]   [8,48]      Android TRUE TRUE     \n",
       "Realme X2 Pro                  [13,108]   [8,48]      Android TRUE TRUE     \n",
       "iPhone 11 Pro Max              [8,13)     [8,48]      iOS     TRUE TRUE     \n",
       "iPhone 11                      [8,13)     [8,48]      iOS     TRUE TRUE     \n",
       "LG G8X ThinQ                   [8,13)     [8,48]      Android TRUE TRUE     \n",
       "OnePlus 7T                     [13,108]   [8,48]      Android TRUE TRUE     \n",
       "                               GPS   SIMsNumber X3G   X4G.LTE Price         \n",
       "OnePlus 7T Pro McLaren Edition  TRUE [2,3]       TRUE  TRUE   [109,1.99e+03]\n",
       "Realme X2 Pro                   TRUE [2,3]       TRUE  TRUE   [109,1.99e+03]\n",
       "iPhone 11 Pro Max               TRUE [2,3]       TRUE  TRUE   [109,1.99e+03]\n",
       "iPhone 11                       TRUE [2,3]       TRUE  TRUE   [109,1.99e+03]\n",
       "LG G8X ThinQ                    TRUE [1,2)      FALSE FALSE   [109,1.99e+03]\n",
       "OnePlus 7T                     FALSE [2,3]       TRUE  TRUE   [109,1.99e+03]"
      ]
     },
     "metadata": {},
     "output_type": "display_data"
    }
   ],
   "source": [
    "head(PriceRange)"
   ]
  },
  {
   "cell_type": "code",
   "execution_count": null,
   "metadata": {
    "id": "ByjsH8aIFAVc",
    "vscode": {
     "languageId": "r"
    }
   },
   "outputs": [],
   "source": [
    "trans <- transactions(OSRange)"
   ]
  },
  {
   "cell_type": "code",
   "execution_count": null,
   "metadata": {
    "colab": {
     "base_uri": "https://localhost:8080/",
     "height": 520
    },
    "id": "f-lIiVKmF-QQ",
    "outputId": "512c8eee-af4a-40de-fae1-3d5e97e9544d",
    "vscode": {
     "languageId": "r"
    }
   },
   "outputs": [
    {
     "data": {
      "text/plain": [
       "transactions as itemMatrix in sparse format with\n",
       " 1335 rows (elements/itemsets/transactions) and\n",
       " 32 columns (items) and a density of 0.5479401 \n",
       "\n",
       "most frequent items:\n",
       "            WiFi      Touchscreen        Bluetooth       OS=Android \n",
       "            1327             1321             1320             1299 \n",
       "Processor=[4,10]          (Other) \n",
       "            1262            16879 \n",
       "\n",
       "element (itemset/transaction) length distribution:\n",
       "sizes\n",
       " 13  14  15  16  17  18 \n",
       "  2   3  22 106 322 880 \n",
       "\n",
       "   Min. 1st Qu.  Median    Mean 3rd Qu.    Max. \n",
       "  13.00   17.00   18.00   17.53   18.00   18.00 \n",
       "\n",
       "includes extended item information - examples:\n",
       "                           labels       variables          levels\n",
       "1 BatteryCapacity=[1.2e+03,3e+03) BatteryCapacity [1.2e+03,3e+03)\n",
       "2   BatteryCapacity=[3e+03,6e+03] BatteryCapacity   [3e+03,6e+03]\n",
       "3            ScreenSize=[2.6,5.2)      ScreenSize       [2.6,5.2)\n",
       "\n",
       "includes extended transaction information - examples:\n",
       "                   transactionID\n",
       "1 OnePlus 7T Pro McLaren Edition\n",
       "2                  Realme X2 Pro\n",
       "3              iPhone 11 Pro Max"
      ]
     },
     "metadata": {},
     "output_type": "display_data"
    }
   ],
   "source": [
    "summary(trans)"
   ]
  },
  {
   "attachments": {},
   "cell_type": "markdown",
   "metadata": {},
   "source": [
    "## 5. Grupiranje k-sredina"
   ]
  },
  {
   "cell_type": "code",
   "execution_count": 37,
   "metadata": {
    "vscode": {
     "languageId": "r"
    }
   },
   "outputs": [],
   "source": [
    "phoneData_kmeans <- phoneData %>%\n",
    "    mutate(across(c(Touchscreen, WiFi, Bluetooth, GPS, X3G, X4G.LTE), ~as.numeric(ifelse(.x == 'Yes', 1, 0)))) %>%   # convert categorical Yes/No to 1/0 \n",
    "    mutate(across(c(5:6, 8:14, 18), scale))"
   ]
  },
  {
   "cell_type": "code",
   "execution_count": 5,
   "metadata": {
    "vscode": {
     "languageId": "r"
    }
   },
   "outputs": [
    {
     "data": {
      "text/html": [
       "<style>\n",
       ".list-inline {list-style: none; margin:0; padding: 0}\n",
       ".list-inline>li {display: inline-block}\n",
       ".list-inline>li:not(:last-child)::after {content: \"\\00b7\"; padding: 0 .5ex}\n",
       "</style>\n",
       "<ol class=list-inline><li>'Index'</li><li>'Name'</li><li>'Brand'</li><li>'Model'</li><li>'BatteryCapacity'</li><li>'ScreenSize'</li><li>'Touchscreen'</li><li>'ResolutionX'</li><li>'ResolutionY'</li><li>'Processor'</li><li>'RAM'</li><li>'InternalStorage'</li><li>'RearCamera'</li><li>'FrontCamera'</li><li>'WiFi'</li><li>'Bluetooth'</li><li>'GPS'</li><li>'SIMsNumber'</li><li>'X3G'</li><li>'X4G.LTE'</li><li>'Price'</li><li>'Android'</li><li>'BlackBerry'</li><li>'Cyanogen'</li><li>'iOS'</li><li>'Windows'</li><li>'PriceCategory'</li></ol>\n"
      ],
      "text/latex": [
       "\\begin{enumerate*}\n",
       "\\item 'Index'\n",
       "\\item 'Name'\n",
       "\\item 'Brand'\n",
       "\\item 'Model'\n",
       "\\item 'BatteryCapacity'\n",
       "\\item 'ScreenSize'\n",
       "\\item 'Touchscreen'\n",
       "\\item 'ResolutionX'\n",
       "\\item 'ResolutionY'\n",
       "\\item 'Processor'\n",
       "\\item 'RAM'\n",
       "\\item 'InternalStorage'\n",
       "\\item 'RearCamera'\n",
       "\\item 'FrontCamera'\n",
       "\\item 'WiFi'\n",
       "\\item 'Bluetooth'\n",
       "\\item 'GPS'\n",
       "\\item 'SIMsNumber'\n",
       "\\item 'X3G'\n",
       "\\item 'X4G.LTE'\n",
       "\\item 'Price'\n",
       "\\item 'Android'\n",
       "\\item 'BlackBerry'\n",
       "\\item 'Cyanogen'\n",
       "\\item 'iOS'\n",
       "\\item 'Windows'\n",
       "\\item 'PriceCategory'\n",
       "\\end{enumerate*}\n"
      ],
      "text/markdown": [
       "1. 'Index'\n",
       "2. 'Name'\n",
       "3. 'Brand'\n",
       "4. 'Model'\n",
       "5. 'BatteryCapacity'\n",
       "6. 'ScreenSize'\n",
       "7. 'Touchscreen'\n",
       "8. 'ResolutionX'\n",
       "9. 'ResolutionY'\n",
       "10. 'Processor'\n",
       "11. 'RAM'\n",
       "12. 'InternalStorage'\n",
       "13. 'RearCamera'\n",
       "14. 'FrontCamera'\n",
       "15. 'WiFi'\n",
       "16. 'Bluetooth'\n",
       "17. 'GPS'\n",
       "18. 'SIMsNumber'\n",
       "19. 'X3G'\n",
       "20. 'X4G.LTE'\n",
       "21. 'Price'\n",
       "22. 'Android'\n",
       "23. 'BlackBerry'\n",
       "24. 'Cyanogen'\n",
       "25. 'iOS'\n",
       "26. 'Windows'\n",
       "27. 'PriceCategory'\n",
       "\n",
       "\n"
      ],
      "text/plain": [
       " [1] \"Index\"           \"Name\"            \"Brand\"           \"Model\"          \n",
       " [5] \"BatteryCapacity\" \"ScreenSize\"      \"Touchscreen\"     \"ResolutionX\"    \n",
       " [9] \"ResolutionY\"     \"Processor\"       \"RAM\"             \"InternalStorage\"\n",
       "[13] \"RearCamera\"      \"FrontCamera\"     \"WiFi\"            \"Bluetooth\"      \n",
       "[17] \"GPS\"             \"SIMsNumber\"      \"X3G\"             \"X4G.LTE\"        \n",
       "[21] \"Price\"           \"Android\"         \"BlackBerry\"      \"Cyanogen\"       \n",
       "[25] \"iOS\"             \"Windows\"         \"PriceCategory\"  "
      ]
     },
     "metadata": {},
     "output_type": "display_data"
    }
   ],
   "source": [
    "names(phoneData_kmeans)"
   ]
  },
  {
   "cell_type": "code",
   "execution_count": 38,
   "metadata": {
    "vscode": {
     "languageId": "r"
    }
   },
   "outputs": [],
   "source": [
    "phoneData_kmeans <- phoneData_kmeans[-c(1,3,4,7,15:26)]"
   ]
  },
  {
   "cell_type": "code",
   "execution_count": 39,
   "metadata": {
    "vscode": {
     "languageId": "r"
    }
   },
   "outputs": [],
   "source": [
    "#rownames(phoneData_kmeans) <- phoneData_kmeans$Name\n",
    "\n",
    "#remove original column from data frame\n",
    "phoneData_kmeans$Name <- NULL"
   ]
  },
  {
   "cell_type": "code",
   "execution_count": 23,
   "metadata": {
    "vscode": {
     "languageId": "r"
    }
   },
   "outputs": [
    {
     "data": {
      "text/html": [
       "<style>\n",
       ".list-inline {list-style: none; margin:0; padding: 0}\n",
       ".list-inline>li {display: inline-block}\n",
       ".list-inline>li:not(:last-child)::after {content: \"\\00b7\"; padding: 0 .5ex}\n",
       "</style>\n",
       "<ol class=list-inline><li>'BatteryCapacity'</li><li>'ScreenSize'</li><li>'ResolutionX'</li><li>'ResolutionY'</li><li>'Processor'</li><li>'RAM'</li><li>'InternalStorage'</li><li>'RearCamera'</li><li>'FrontCamera'</li><li>'SIMsNumber'</li><li>'PriceCategory'</li></ol>\n"
      ],
      "text/latex": [
       "\\begin{enumerate*}\n",
       "\\item 'BatteryCapacity'\n",
       "\\item 'ScreenSize'\n",
       "\\item 'ResolutionX'\n",
       "\\item 'ResolutionY'\n",
       "\\item 'Processor'\n",
       "\\item 'RAM'\n",
       "\\item 'InternalStorage'\n",
       "\\item 'RearCamera'\n",
       "\\item 'FrontCamera'\n",
       "\\item 'SIMsNumber'\n",
       "\\item 'PriceCategory'\n",
       "\\end{enumerate*}\n"
      ],
      "text/markdown": [
       "1. 'BatteryCapacity'\n",
       "2. 'ScreenSize'\n",
       "3. 'ResolutionX'\n",
       "4. 'ResolutionY'\n",
       "5. 'Processor'\n",
       "6. 'RAM'\n",
       "7. 'InternalStorage'\n",
       "8. 'RearCamera'\n",
       "9. 'FrontCamera'\n",
       "10. 'SIMsNumber'\n",
       "11. 'PriceCategory'\n",
       "\n",
       "\n"
      ],
      "text/plain": [
       " [1] \"BatteryCapacity\" \"ScreenSize\"      \"ResolutionX\"     \"ResolutionY\"    \n",
       " [5] \"Processor\"       \"RAM\"             \"InternalStorage\" \"RearCamera\"     \n",
       " [9] \"FrontCamera\"     \"SIMsNumber\"      \"PriceCategory\"  "
      ]
     },
     "metadata": {},
     "output_type": "display_data"
    }
   ],
   "source": [
    "names(phoneData_kmeans)"
   ]
  },
  {
   "cell_type": "code",
   "execution_count": 41,
   "metadata": {
    "vscode": {
     "languageId": "r"
    }
   },
   "outputs": [
    {
     "data": {
      "image/png": "[encoded data removed]",
      "text/plain": [
       "plot without title"
      ]
     },
     "metadata": {
      "image/png": {
       "height": 420,
       "width": 420
      }
     },
     "output_type": "display_data"
    }
   ],
   "source": [
    "fviz_nbclust(phoneData_kmeans[-10], kmeans, method = \"wss\") + geom_vline(xintercept = 3, linetype = 2) + labs(subtitle = \"Elbow method\")"
   ]
  },
  {
   "cell_type": "code",
   "execution_count": 47,
   "metadata": {
    "vscode": {
     "languageId": "r"
    }
   },
   "outputs": [
    {
     "data": {
      "image/png": "[encoded data removed]",
      "text/plain": [
       "plot without title"
      ]
     },
     "metadata": {
      "image/png": {
       "height": 420,
       "width": 420
      }
     },
     "output_type": "display_data"
    }
   ],
   "source": [
    "fviz_nbclust(phoneData_kmeans[-10], kmeans, method = \"silhouette\")"
   ]
  },
  {
   "cell_type": "code",
   "execution_count": 43,
   "metadata": {
    "vscode": {
     "languageId": "r"
    }
   },
   "outputs": [],
   "source": [
    "phoneData_kmeans1 <- phoneData_kmeans[-10] %>% mutate_all(as.numeric)"
   ]
  },
  {
   "cell_type": "code",
   "execution_count": 44,
   "metadata": {
    "vscode": {
     "languageId": "r"
    }
   },
   "outputs": [
    {
     "data": {
      "text/plain": [
       "K-means clustering with 4 clusters of sizes 335, 54, 296, 485\n",
       "\n",
       "Cluster means:\n",
       "  BatteryCapacity  ScreenSize ResolutionX ResolutionY  Processor        RAM\n",
       "1     0.684597408  0.68446764   1.0068124   0.9988728  1.0173505  0.6323610\n",
       "2     1.408186434  1.91963782   1.3874703   1.8637076  1.2190324  3.0606516\n",
       "3    -1.036197576 -1.10747350  -1.0190001  -1.0359874 -0.8254822 -0.8342593\n",
       "4     0.002746976 -0.01060813  -0.2280031  -0.2651760 -0.3346339 -0.2684028\n",
       "  InternalStorage RearCamera FrontCamera\n",
       "1       0.3601392  0.3403272   0.3540742\n",
       "2       3.3906052  3.1096341   3.1131169\n",
       "3      -0.5260730 -0.7455445  -0.7484083\n",
       "4      -0.3051994 -0.1262859  -0.1344213\n",
       "\n",
       "Clustering vector:\n",
       "   [1] 2 2 1 1 2 2 2 2 2 2 1 2 2 2 2 2 1 2 1 1 1 1 1 1 1 1 1 2 1 1 1 1 1 1 4 1 1\n",
       "  [38] 1 1 1 1 1 1 1 1 4 1 1 2 1 1 1 1 4 1 1 1 4 4 1 2 1 2 2 2 2 2 2 2 1 2 2 2 1\n",
       "  [75] 2 1 1 2 1 1 2 1 2 1 2 2 1 1 1 1 1 1 1 1 1 1 1 1 1 1 1 4 1 3 1 1 1 1 1 1 1\n",
       " [112] 1 2 4 4 1 1 1 1 1 1 1 1 1 1 1 1 1 1 1 1 3 1 4 1 1 1 1 1 4 1 1 1 1 4 1 1 1\n",
       " [149] 1 1 1 1 1 4 4 1 1 4 3 4 4 4 1 1 1 1 1 1 1 4 4 3 4 1 3 4 1 4 4 3 4 3 1 3 2\n",
       " [186] 2 1 1 1 1 1 1 1 4 1 1 1 4 2 1 4 1 1 1 2 1 1 1 2 2 1 4 1 1 1 2 1 1 1 1 4 4\n",
       " [223] 4 1 4 1 1 1 1 4 1 4 4 1 1 1 1 1 1 4 1 1 1 1 4 1 1 1 1 1 1 1 1 1 1 1 1 4 4\n",
       " [260] 1 4 4 4 1 1 1 1 4 1 4 1 1 4 4 3 1 1 4 4 1 4 4 1 1 1 1 1 4 4 4 4 3 3 4 1 3\n",
       " [297] 4 3 4 4 4 3 3 3 4 4 4 4 4 4 3 1 4 4 4 3 4 4 1 4 3 3 1 1 4 4 4 3 4 4 4 4 3\n",
       " [334] 3 4 3 3 3 4 3 3 4 3 3 1 1 4 1 1 1 4 4 4 4 4 4 4 4 1 4 3 4 4 4 1 4 3 1 4 4\n",
       " [371] 4 4 4 4 4 1 4 4 4 1 4 4 4 1 4 4 4 3 4 4 1 4 1 4 4 4 4 4 3 4 4 4 4 4 4 1 4\n",
       " [408] 3 3 3 4 3 4 4 3 4 3 3 4 3 4 4 4 4 4 1 4 4 4 3 4 4 3 4 3 3 3 3 3 1 4 3 4 1\n",
       " [445] 3 3 4 4 4 4 4 3 3 3 3 3 3 3 3 3 3 3 3 3 4 1 3 3 4 4 4 4 4 3 4 4 3 4 4 3 3\n",
       " [482] 3 4 2 2 1 4 2 2 1 4 3 1 1 1 1 2 1 1 2 1 1 1 2 2 1 4 2 2 4 1 1 1 3 2 4 4 4\n",
       " [519] 1 1 3 4 1 3 4 1 4 1 1 4 1 4 3 1 1 4 1 4 4 3 1 4 1 1 4 4 3 4 2 1 4 2 1 1 4\n",
       " [556] 1 4 3 1 1 1 3 1 4 4 4 3 1 1 4 4 4 1 1 3 4 1 1 1 4 4 4 4 1 4 4 4 4 4 1 1 4\n",
       " [593] 1 4 4 4 4 1 3 1 3 1 4 1 4 4 4 4 4 4 4 4 4 4 3 1 4 4 1 4 4 3 3 3 3 4 4 3 4\n",
       " [630] 4 4 4 4 4 4 3 3 3 1 3 4 4 4 4 4 3 3 4 4 4 3 4 4 4 3 4 1 4 4 4 4 4 3 4 3 3\n",
       " [667] 4 3 3 4 3 4 1 4 1 1 1 3 4 4 4 1 4 1 4 4 3 3 3 3 3 3 3 4 4 4 3 4 4 4 4 1 1\n",
       " [704] 3 4 4 1 3 4 4 4 4 1 4 1 4 3 4 4 4 3 3 4 4 4 1 4 4 1 4 3 3 4 3 3 4 4 4 4 4\n",
       " [741] 4 4 3 3 3 4 4 4 4 3 3 4 4 4 4 3 3 4 1 4 3 3 4 3 3 3 3 4 1 3 3 3 3 3 3 1 1\n",
       " [778] 4 3 4 4 4 4 4 3 4 3 3 3 4 4 4 3 4 3 3 4 4 1 4 4 1 4 1 4 3 1 4 3 4 3 3 1 1\n",
       " [815] 4 1 4 1 4 4 4 1 3 1 4 4 3 1 4 4 4 3 4 4 3 1 4 1 4 3 4 3 4 1 3 3 4 1 3 1 4\n",
       " [852] 4 3 4 3 4 4 4 4 4 4 4 3 3 4 3 3 4 3 4 4 4 3 3 3 3 4 3 4 3 3 4 4 4 4 4 3 1\n",
       " [889] 4 3 4 4 4 4 4 3 3 3 3 4 4 4 4 4 4 4 4 1 4 3 3 1 3 4 4 3 4 4 4 1 4 3 3 4 1\n",
       " [926] 4 4 4 3 4 3 1 3 4 1 4 3 3 3 3 4 3 4 3 4 3 4 4 4 4 3 3 4 3 3 1 4 3 1 4 4 3\n",
       " [963] 3 4 1 1 3 1 3 1 1 4 4 3 1 3 4 4 3 3 4 4 3 3 3 3 3 3 3 1 3 3 4 4 4 4 4 4 4\n",
       "[1000] 1 1 4 4 4 4 4 4 1 4 3 4 3 1 4 3 3 4 3 4 4 4 3 4 4 4 1 1 4 4 3 3 3 3 3 3 1\n",
       "[1037] 3 4 3 4 3 3 3 3 4 4 4 4 3 4 4 4 4 4 4 3 4 4 4 1 4 3 3 4 4 3 4 3 4 3 4 3 3\n",
       "[1074] 3 4 4 1 4 3 3 1 3 3 4 4 3 4 3 4 4 3 4 1 3 3 4 4 1 3 3 1 1 3 1 4 3 3 3 4 4\n",
       "[1111] 3 3 3 4 4 4 4 4 4 4 4 1 4 3 3 3 4 4 1 1 3 3 3 3 4 4 3 3 3 3 3 4 3 4 1 4 4\n",
       "[1148] 4 1 3 1 3 4 3 3 3 4 3 3 3 3 4 4 3 3 3 3 3 3 3\n",
       "\n",
       "Within cluster sum of squares by cluster:\n",
       "[1] 1352.0718  877.8478  473.1688 1039.0522\n",
       " (between_SS / total_SS =  64.4 %)\n",
       "\n",
       "Available components:\n",
       "\n",
       "[1] \"cluster\"      \"centers\"      \"totss\"        \"withinss\"     \"tot.withinss\"\n",
       "[6] \"betweenss\"    \"size\"         \"iter\"         \"ifault\"      "
      ]
     },
     "metadata": {},
     "output_type": "display_data"
    }
   ],
   "source": [
    "#set.seed(240)\n",
    "\n",
    "kmeans_model <- kmeans(phoneData_kmeans1, centers = 4, nstart = 20)\n",
    "kmeans_model"
   ]
  },
  {
   "cell_type": "code",
   "execution_count": 48,
   "metadata": {
    "vscode": {
     "languageId": "r"
    }
   },
   "outputs": [
    {
     "data": {
      "image/png": "[encoded data removed]",
      "text/plain": [
       "Plot with title \"CLUSPLOT( phoneData_kmeans1 )\""
      ]
     },
     "metadata": {
      "image/png": {
       "height": 420,
       "width": 420
      }
     },
     "output_type": "display_data"
    }
   ],
   "source": [
    "library(cluster)\n",
    "\n",
    "clusplot(phoneData_kmeans1, kmeans_model$cluster, color=T, shade=T)"
   ]
  },
  {
   "cell_type": "code",
   "execution_count": 45,
   "metadata": {
    "vscode": {
     "languageId": "r"
    }
   },
   "outputs": [
    {
     "data": {
      "image/png": "[encoded data removed]",
      "text/plain": [
       "plot without title"
      ]
     },
     "metadata": {
      "image/png": {
       "height": 420,
       "width": 420
      }
     },
     "output_type": "display_data"
    }
   ],
   "source": [
    "fviz_cluster(kmeans_model, data = phoneData_kmeans1)"
   ]
  },
  {
   "cell_type": "code",
   "execution_count": 46,
   "metadata": {
    "vscode": {
     "languageId": "r"
    }
   },
   "outputs": [
    {
     "data": {
      "text/plain": [
       "           \n",
       "              1   2   3   4\n",
       "  High-End   29  18   0   2\n",
       "  Low-End   224   0 291 462\n",
       "  Mid-Range  82  36   5  21"
      ]
     },
     "metadata": {},
     "output_type": "display_data"
    }
   ],
   "source": [
    "cm <- table(phoneData_kmeans$PriceCategory, kmeans_model$cluster)\n",
    "cm"
   ]
  }
 ],
 "metadata": {
  "kernelspec": {
   "display_name": "R",
   "language": "R",
   "name": "ir"
  },
  "language_info": {
   "codemirror_mode": "r",
   "file_extension": ".r",
   "mimetype": "text/x-r-source",
   "name": "R",
   "pygments_lexer": "r",
   "version": "4.2.2"
  },
  "orig_nbformat": 4,
  "vscode": {
   "interpreter": {
    "hash": "14db06bdfd394122bf25225892f39b871a66dbe84d5cc7816bbc4d63a39e4b03"
   }
  }
 },
 "nbformat": 4,
 "nbformat_minor": 2
}
