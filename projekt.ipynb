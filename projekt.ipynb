{
 "cells": [
  {
   "attachments": {},
   "cell_type": "markdown",
   "metadata": {},
   "source": [
    "# Dubinska analiza podataka - projektni zadatak\n",
    "\n",
    "## 1. Predprocesiranje podataka"
   ]
  },
  {
   "cell_type": "code",
   "execution_count": 2,
   "metadata": {
    "vscode": {
     "languageId": "r"
    }
   },
   "outputs": [],
   "source": [
    "# Ovo je tu jer ponekad zna prvu liniju u svakoj čeliji označit kao grešku makar sve radi,\n",
    "# ali me živcira to podcrtano. Pa treba ovo pokrenut, pa se od VS coda izbaci da se treba\n",
    "# instalirati 'languagepack' pa onda zatvorit i opet otvorit .ipynb file i nema više podcrtanog\n",
    "\n",
    "# lintr::use_lintr(type = \"tidyverse\")"
   ]
  },
  {
   "cell_type": "code",
   "execution_count": 74,
   "metadata": {
    "vscode": {
     "languageId": "r"
    }
   },
   "outputs": [],
   "source": [
    "library(tidyr)\n",
    "library(dplyr)\n",
    "library(neuralnet)\n",
    "library(caret)"
   ]
  },
  {
   "cell_type": "code",
   "execution_count": 116,
   "metadata": {
    "vscode": {
     "languageId": "r"
    }
   },
   "outputs": [
    {
     "name": "stdout",
     "output_type": "stream",
     "text": [
      "'data.frame':\t1359 obs. of  22 variables:\n",
      " $ Index          : int  0 1 2 3 4 5 6 7 8 9 ...\n",
      " $ Name           : chr  \"OnePlus 7T Pro McLaren Edition\" \"Realme X2 Pro\" \"iPhone 11 Pro Max\" \"iPhone 11\" ...\n",
      " $ Brand          : chr  \"OnePlus\" \"Realme\" \"Apple\" \"Apple\" ...\n",
      " $ Model          : chr  \"7T Pro McLaren Edition\" \"X2 Pro\" \"iPhone 11 Pro Max\" \"iPhone 11\" ...\n",
      " $ BatteryCapacity: int  4085 4000 3969 3110 4000 3800 4085 4300 6000 4000 ...\n",
      " $ ScreenSize     : num  6.67 6.5 6.5 6.1 6.4 6.55 6.67 6.8 6.59 6.39 ...\n",
      " $ Touchscreen    : chr  \"Yes\" \"Yes\" \"Yes\" \"Yes\" ...\n",
      " $ ResolutionX    : int  1440 1080 1242 828 1080 1080 1440 1440 1080 1080 ...\n",
      " $ ResolutionY    : int  3120 2400 2688 1792 2340 2400 3120 3040 2340 2340 ...\n",
      " $ Processor      : int  8 8 6 6 8 8 8 8 8 8 ...\n",
      " $ RAM            : int  12000 6000 4000 4000 6000 8000 8000 12000 8000 6000 ...\n",
      " $ InternalStorage: num  256 64 64 64 128 128 256 256 128 128 ...\n",
      " $ RearCamera     : num  48 64 12 12 12 48 48 12 48 48 ...\n",
      " $ FrontCamera    : num  16 16 12 12 32 16 16 10 24 20 ...\n",
      " $ OS             : chr  \"Android\" \"Android\" \"iOS\" \"iOS\" ...\n",
      " $ WiFi           : chr  \"Yes\" \"Yes\" \"Yes\" \"Yes\" ...\n",
      " $ Bluetooth      : chr  \"Yes\" \"Yes\" \"Yes\" \"Yes\" ...\n",
      " $ GPS            : chr  \"Yes\" \"Yes\" \"Yes\" \"Yes\" ...\n",
      " $ SIMsNumber     : int  2 2 2 2 1 2 2 2 1 2 ...\n",
      " $ X3G            : chr  \"Yes\" \"Yes\" \"Yes\" \"Yes\" ...\n",
      " $ X4G.LTE        : chr  \"Yes\" \"Yes\" \"Yes\" \"Yes\" ...\n",
      " $ Price          : int  58998 27999 106900 62900 49990 34930 52990 79699 37999 23190 ...\n"
     ]
    }
   ],
   "source": [
    "phoneData <- read.csv('phone_specs.csv')\n",
    "\n",
    "str(phoneData)"
   ]
  },
  {
   "cell_type": "code",
   "execution_count": 117,
   "metadata": {
    "vscode": {
     "languageId": "r"
    }
   },
   "outputs": [
    {
     "data": {
      "text/plain": [
       "\n",
       "   Android BlackBerry   Cyanogen        iOS   Sailfish      Tizen    Windows \n",
       "      1299         10         10         17          1          3         19 "
      ]
     },
     "metadata": {},
     "output_type": "display_data"
    }
   ],
   "source": [
    "table(phoneData$OS)"
   ]
  },
  {
   "cell_type": "code",
   "execution_count": 118,
   "metadata": {
    "vscode": {
     "languageId": "r"
    }
   },
   "outputs": [],
   "source": [
    "phoneData <- phoneData %>%\n",
    "    filter(!(OS == 'Sailfish' | OS == 'Tizen')) %>%                       # delete rows with less know OS (only 3 rows) because One-hot-encoding\n",
    "    mutate(value = 1) %>% spread(OS, value,  fill = 0 ) %>%               # One-hot-encoding OS column\n",
    "    mutate(across(c(Touchscreen, WiFi, Bluetooth, GPS, X3G, X4G.LTE),\n",
    "    ~as.numeric(ifelse(.x == 'Yes', 1, 0)))) %>%                          # convert categorical Yes/No to 1/0 \n",
    "    mutate(Price = round(Price / 87.95)) %>%                              # convert price (indian rupee to euro)\n",
    "    mutate(PriceCategory = ifelse(Price <= 200, 'Low-End',\n",
    "                           ifelse(Price <= 500, 'Mid-Range', 'High-End'))) %>%      # Defining price categories\n",
    "    filter(!(PriceCategory == 'Low-End' & RearCamera >= 20)) %>%\n",
    "    filter(!(PriceCategory == 'Low-End' & FrontCamera >= 10)) %>%\n",
    "    filter(!(PriceCategory == 'Low-End' & RAM > 4000)) %>%\n",
    "    filter(!(PriceCategory == 'Low-End' & InternalStorage > 64)) %>%          # Filtering some data to get better accuracy\n",
    "    mutate(across(c(5, 6, 8:14, 18), scale))                              # normalization with scale() for numeric data"
   ]
  },
  {
   "cell_type": "code",
   "execution_count": 119,
   "metadata": {
    "vscode": {
     "languageId": "r"
    }
   },
   "outputs": [
    {
     "data": {
      "text/html": [
       "<style>\n",
       ".list-inline {list-style: none; margin:0; padding: 0}\n",
       ".list-inline>li {display: inline-block}\n",
       ".list-inline>li:not(:last-child)::after {content: \"\\00b7\"; padding: 0 .5ex}\n",
       "</style>\n",
       "<ol class=list-inline><li>'Index'</li><li>'Name'</li><li>'Brand'</li><li>'Model'</li><li>'BatteryCapacity'</li><li>'ScreenSize'</li><li>'Touchscreen'</li><li>'ResolutionX'</li><li>'ResolutionY'</li><li>'Processor'</li><li>'RAM'</li><li>'InternalStorage'</li><li>'RearCamera'</li><li>'FrontCamera'</li><li>'WiFi'</li><li>'Bluetooth'</li><li>'GPS'</li><li>'SIMsNumber'</li><li>'X3G'</li><li>'X4G.LTE'</li><li>'Price'</li><li>'Android'</li><li>'BlackBerry'</li><li>'Cyanogen'</li><li>'iOS'</li><li>'Windows'</li><li>'PriceCategory'</li></ol>\n"
      ],
      "text/latex": [
       "\\begin{enumerate*}\n",
       "\\item 'Index'\n",
       "\\item 'Name'\n",
       "\\item 'Brand'\n",
       "\\item 'Model'\n",
       "\\item 'BatteryCapacity'\n",
       "\\item 'ScreenSize'\n",
       "\\item 'Touchscreen'\n",
       "\\item 'ResolutionX'\n",
       "\\item 'ResolutionY'\n",
       "\\item 'Processor'\n",
       "\\item 'RAM'\n",
       "\\item 'InternalStorage'\n",
       "\\item 'RearCamera'\n",
       "\\item 'FrontCamera'\n",
       "\\item 'WiFi'\n",
       "\\item 'Bluetooth'\n",
       "\\item 'GPS'\n",
       "\\item 'SIMsNumber'\n",
       "\\item 'X3G'\n",
       "\\item 'X4G.LTE'\n",
       "\\item 'Price'\n",
       "\\item 'Android'\n",
       "\\item 'BlackBerry'\n",
       "\\item 'Cyanogen'\n",
       "\\item 'iOS'\n",
       "\\item 'Windows'\n",
       "\\item 'PriceCategory'\n",
       "\\end{enumerate*}\n"
      ],
      "text/markdown": [
       "1. 'Index'\n",
       "2. 'Name'\n",
       "3. 'Brand'\n",
       "4. 'Model'\n",
       "5. 'BatteryCapacity'\n",
       "6. 'ScreenSize'\n",
       "7. 'Touchscreen'\n",
       "8. 'ResolutionX'\n",
       "9. 'ResolutionY'\n",
       "10. 'Processor'\n",
       "11. 'RAM'\n",
       "12. 'InternalStorage'\n",
       "13. 'RearCamera'\n",
       "14. 'FrontCamera'\n",
       "15. 'WiFi'\n",
       "16. 'Bluetooth'\n",
       "17. 'GPS'\n",
       "18. 'SIMsNumber'\n",
       "19. 'X3G'\n",
       "20. 'X4G.LTE'\n",
       "21. 'Price'\n",
       "22. 'Android'\n",
       "23. 'BlackBerry'\n",
       "24. 'Cyanogen'\n",
       "25. 'iOS'\n",
       "26. 'Windows'\n",
       "27. 'PriceCategory'\n",
       "\n",
       "\n"
      ],
      "text/plain": [
       " [1] \"Index\"           \"Name\"            \"Brand\"           \"Model\"          \n",
       " [5] \"BatteryCapacity\" \"ScreenSize\"      \"Touchscreen\"     \"ResolutionX\"    \n",
       " [9] \"ResolutionY\"     \"Processor\"       \"RAM\"             \"InternalStorage\"\n",
       "[13] \"RearCamera\"      \"FrontCamera\"     \"WiFi\"            \"Bluetooth\"      \n",
       "[17] \"GPS\"             \"SIMsNumber\"      \"X3G\"             \"X4G.LTE\"        \n",
       "[21] \"Price\"           \"Android\"         \"BlackBerry\"      \"Cyanogen\"       \n",
       "[25] \"iOS\"             \"Windows\"         \"PriceCategory\"  "
      ]
     },
     "metadata": {},
     "output_type": "display_data"
    }
   ],
   "source": [
    "names(phoneData)"
   ]
  },
  {
   "cell_type": "code",
   "execution_count": 120,
   "metadata": {
    "vscode": {
     "languageId": "r"
    }
   },
   "outputs": [],
   "source": [
    "# Removing columns that are not used for traning (Index, Name, Brand, Model and Price)\n",
    "phoneData <- phoneData[-c(1:4, 21)]"
   ]
  },
  {
   "cell_type": "code",
   "execution_count": 121,
   "metadata": {
    "vscode": {
     "languageId": "r"
    }
   },
   "outputs": [
    {
     "data": {
      "text/plain": [
       "\n",
       " High-End   Low-End Mid-Range \n",
       "       49       977       144 "
      ]
     },
     "metadata": {},
     "output_type": "display_data"
    }
   ],
   "source": [
    "table(phoneData$PriceCategory)"
   ]
  },
  {
   "attachments": {},
   "cell_type": "markdown",
   "metadata": {},
   "source": [
    "## 2. Klasifikacija - umjetne neuronske mreže"
   ]
  },
  {
   "cell_type": "code",
   "execution_count": 122,
   "metadata": {
    "vscode": {
     "languageId": "r"
    }
   },
   "outputs": [
    {
     "name": "stderr",
     "output_type": "stream",
     "text": [
      "hidden: 14    thresh: 0.01    rep: 1/1    steps: \n",
      "   1000\tmin thresh: 0.0996231409036611\n",
      "                                                 \n",
      "   2000\tmin thresh: 0.0546513793901923\n",
      "                                                 \n",
      "   3000\tmin thresh: 0.0253587093223993\n",
      "                                                 \n",
      "   4000\tmin thresh: 0.0108831842964161\n",
      "                                                 \n",
      "   4092\n",
      "\terror: 14.20329\n",
      "\ttime: 11.7 secs\n",
      "\n"
     ]
    }
   ],
   "source": [
    "# First ANN model with neuralnet package\n",
    "set.seed(123)\n",
    "\n",
    "trainIndex = createDataPartition(phoneData$PriceCategory, p = 0.75, list = FALSE)\n",
    "trainData <- phoneData[trainIndex, ]\n",
    "testData <- phoneData[-trainIndex, ] \n",
    "\n",
    "nn = neuralnet(PriceCategory ~ .,\n",
    "                data = trainData,\n",
    "                hidden = 14,\n",
    "                lifesign = 'full',\n",
    "                linear.output = FALSE)"
   ]
  },
  {
   "cell_type": "code",
   "execution_count": 123,
   "metadata": {
    "vscode": {
     "languageId": "r"
    }
   },
   "outputs": [
    {
     "data": {
      "image/png": "[encoded data removed]",
      "text/plain": [
       "plot without title"
      ]
     },
     "metadata": {
      "image/png": {
       "height": 420,
       "width": 420
      }
     },
     "output_type": "display_data"
    }
   ],
   "source": [
    "plot(nn, rep=1)"
   ]
  },
  {
   "cell_type": "code",
   "execution_count": 126,
   "metadata": {
    "vscode": {
     "languageId": "r"
    }
   },
   "outputs": [
    {
     "name": "stdout",
     "output_type": "stream",
     "text": [
      "Confusion Matrix and Statistics\n",
      "\n",
      "           Reference\n",
      "Prediction  High-End Low-End Mid-Range\n",
      "  High-End         6       2         4\n",
      "  Low-End          0     240         4\n",
      "  Mid-Range        8       8        20\n",
      "\n",
      "Overall Statistics\n",
      "                                         \n",
      "               Accuracy : 0.911          \n",
      "                 95% CI : (0.8723, 0.941)\n",
      "    No Information Rate : 0.8562         \n",
      "    P-Value [Acc > NIR] : 0.003237       \n",
      "                                         \n",
      "                  Kappa : 0.6712         \n",
      "                                         \n",
      " Mcnemar's Test P-Value : 0.197897       \n",
      "\n",
      "Statistics by Class:\n",
      "\n",
      "                     Class: High-End Class: Low-End Class: Mid-Range\n",
      "Sensitivity                  0.42857         0.9600          0.71429\n",
      "Specificity                  0.97842         0.9048          0.93939\n",
      "Pos Pred Value               0.50000         0.9836          0.55556\n",
      "Neg Pred Value               0.97143         0.7917          0.96875\n",
      "Prevalence                   0.04795         0.8562          0.09589\n",
      "Detection Rate               0.02055         0.8219          0.06849\n",
      "Detection Prevalence         0.04110         0.8356          0.12329\n",
      "Balanced Accuracy            0.70349         0.9324          0.82684\n"
     ]
    }
   ],
   "source": [
    "predictions <- neuralnet::compute(nn, rep = 1, testData[, -23])\n",
    "\n",
    "pred <- predictions$net.result\n",
    "\n",
    "pred <- data.frame(\"pred\" = ifelse(max.col(pred[ ,1:3]) == 1, 'High-End',\n",
    "                            ifelse(max.col(pred[ ,1:3]) == 2, 'Low-End', 'Mid-Range')))\n",
    "\n",
    "cm <- confusionMatrix(as.factor(testData$PriceCategory), as.factor(pred$pred))\n",
    " \n",
    "print(cm)"
   ]
  },
  {
   "cell_type": "code",
   "execution_count": 145,
   "metadata": {
    "vscode": {
     "languageId": "r"
    }
   },
   "outputs": [
    {
     "data": {
      "text/plain": [
       "Neural Network \n",
       "\n",
       "1170 samples\n",
       "  21 predictor\n",
       "   3 classes: 'High-End', 'Low-End', 'Mid-Range' \n",
       "\n",
       "No pre-processing\n",
       "Resampling: Cross-Validated (10 fold) \n",
       "Summary of sample sizes: 1052, 1052, 1053, 1054, 1054, 1052, ... \n",
       "Resampling results across tuning parameters:\n",
       "\n",
       "  size  decay  Accuracy   Kappa    \n",
       "  1     0e+00  0.8884726  0.6709041\n",
       "  1     1e-04  0.8760237  0.5611517\n",
       "  1     1e-03  0.8792644  0.6254778\n",
       "  1     1e-02  0.8781536  0.6244270\n",
       "  1     1e-01  0.8792899  0.6195292\n",
       "  3     0e+00  0.9007929  0.7061318\n",
       "  3     1e-04  0.9078186  0.7347591\n",
       "  3     1e-03  0.9111627  0.7375155\n",
       "  3     1e-02  0.9156699  0.7424988\n",
       "  3     1e-01  0.9133847  0.7329313\n",
       "  5     0e+00  0.9396905  0.8014908\n",
       "  5     1e-04  0.9339306  0.8019521\n",
       "  5     1e-03  0.9282880  0.7814341\n",
       "  5     1e-02  0.9407497  0.8236120\n",
       "  5     1e-01  0.9339571  0.7997686\n",
       "  7     0e+00  0.9373537  0.8034415\n",
       "  7     1e-04  0.9396775  0.8214573\n",
       "  7     1e-03  0.9519973  0.8587739\n",
       "  7     1e-02  0.9441852  0.8330079\n",
       "  7     1e-01  0.9327946  0.7977660\n",
       "  9     0e+00  0.9602502  0.8803788\n",
       "  9     1e-04  0.9647445  0.8966660\n",
       "  9     1e-03  0.9532375  0.8660813\n",
       "  9     1e-02  0.9532381  0.8645952\n",
       "  9     1e-01  0.9418602  0.8259453\n",
       "\n",
       "Accuracy was used to select the optimal model using the largest value.\n",
       "The final values used for the model were size = 9 and decay = 1e-04."
      ]
     },
     "metadata": {},
     "output_type": "display_data"
    }
   ],
   "source": [
    "# Second ANN model with train() function\n",
    "set.seed(1)\n",
    "\n",
    "train_index <- createFolds(trainData$PriceCategory, k = 10)\n",
    "\n",
    "nnetFit <- phoneData %>% train(PriceCategory ~ .,\n",
    "  method = \"nnet\",\n",
    "  data = .,\n",
    "  tuneLength = 5,\n",
    "  trControl = trainControl(method = \"cv\", indexOut = train_index),\n",
    "  trace = FALSE)\n",
    "nnetFit"
   ]
  },
  {
   "cell_type": "code",
   "execution_count": 146,
   "metadata": {
    "vscode": {
     "languageId": "r"
    }
   },
   "outputs": [
    {
     "data": {
      "text/plain": [
       "Confusion Matrix and Statistics\n",
       "\n",
       "           Reference\n",
       "Prediction  High-End Low-End Mid-Range\n",
       "  High-End         9       0         2\n",
       "  Low-End          2     242         2\n",
       "  Mid-Range        1       2        32\n",
       "\n",
       "Overall Statistics\n",
       "                                          \n",
       "               Accuracy : 0.9692          \n",
       "                 95% CI : (0.9423, 0.9858)\n",
       "    No Information Rate : 0.8356          \n",
       "    P-Value [Acc > NIR] : 3.31e-13        \n",
       "                                          \n",
       "                  Kappa : 0.8898          \n",
       "                                          \n",
       " Mcnemar's Test P-Value : 0.5062          \n",
       "\n",
       "Statistics by Class:\n",
       "\n",
       "                     Class: High-End Class: Low-End Class: Mid-Range\n",
       "Sensitivity                  0.75000         0.9918           0.8889\n",
       "Specificity                  0.99286         0.9167           0.9883\n",
       "Pos Pred Value               0.81818         0.9837           0.9143\n",
       "Neg Pred Value               0.98932         0.9565           0.9844\n",
       "Prevalence                   0.04110         0.8356           0.1233\n",
       "Detection Rate               0.03082         0.8288           0.1096\n",
       "Detection Prevalence         0.03767         0.8425           0.1199\n",
       "Balanced Accuracy            0.87143         0.9542           0.9386"
      ]
     },
     "metadata": {},
     "output_type": "display_data"
    }
   ],
   "source": [
    "pr <- predict(nnetFit, testData)\n",
    "confusionMatrix(pr, reference = as.factor(testData$PriceCategory))"
   ]
  },
  {
   "attachments": {},
   "cell_type": "markdown",
   "metadata": {},
   "source": [
    "## 3. Ansambli - slučajne šume"
   ]
  },
  {
   "cell_type": "code",
   "execution_count": null,
   "metadata": {
    "vscode": {
     "languageId": "r"
    }
   },
   "outputs": [],
   "source": []
  },
  {
   "attachments": {},
   "cell_type": "markdown",
   "metadata": {},
   "source": [
    "## 4. Asocijacijska analiza - učenje asocijacijskih pravila"
   ]
  },
  {
   "cell_type": "code",
   "execution_count": null,
   "metadata": {
    "vscode": {
     "languageId": "r"
    }
   },
   "outputs": [],
   "source": []
  },
  {
   "attachments": {},
   "cell_type": "markdown",
   "metadata": {},
   "source": [
    "## 5. Grupiranje k-sredina"
   ]
  },
  {
   "cell_type": "code",
   "execution_count": null,
   "metadata": {
    "vscode": {
     "languageId": "r"
    }
   },
   "outputs": [],
   "source": []
  }
 ],
 "metadata": {
  "kernelspec": {
   "display_name": "R",
   "language": "R",
   "name": "ir"
  },
  "language_info": {
   "codemirror_mode": "r",
   "file_extension": ".r",
   "mimetype": "text/x-r-source",
   "name": "R",
   "pygments_lexer": "r",
   "version": "4.2.0"
  },
  "orig_nbformat": 4
 },
 "nbformat": 4,
 "nbformat_minor": 2
}
