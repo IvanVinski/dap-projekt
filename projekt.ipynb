{
 "cells": [
  {
   "attachments": {},
   "cell_type": "markdown",
   "metadata": {},
   "source": [
    "# Dubinska analiza podataka - projektni zadatak\n",
    "\n",
    "## 1. Predprocesiranje podataka"
   ]
  },
  {
   "cell_type": "code",
   "execution_count": 140,
   "metadata": {
    "vscode": {
     "languageId": "r"
    }
   },
   "outputs": [
    {
     "name": "stdout",
     "output_type": "stream",
     "text": [
      "'data.frame':\t1359 obs. of  22 variables:\n",
      " $ Index                 : int  0 1 2 3 4 5 6 7 8 9 ...\n",
      " $ Name                  : chr  \"OnePlus 7T Pro McLaren Edition\" \"Realme X2 Pro\" \"iPhone 11 Pro Max\" \"iPhone 11\" ...\n",
      " $ Brand                 : chr  \"OnePlus\" \"Realme\" \"Apple\" \"Apple\" ...\n",
      " $ Model                 : chr  \"7T Pro McLaren Edition\" \"X2 Pro\" \"iPhone 11 Pro Max\" \"iPhone 11\" ...\n",
      " $ Battery.capacity..mAh.: int  4085 4000 3969 3110 4000 3800 4085 4300 6000 4000 ...\n",
      " $ Screen.size..inches.  : num  6.67 6.5 6.5 6.1 6.4 6.55 6.67 6.8 6.59 6.39 ...\n",
      " $ Touchscreen           : chr  \"Yes\" \"Yes\" \"Yes\" \"Yes\" ...\n",
      " $ Resolution.x          : int  1440 1080 1242 828 1080 1080 1440 1440 1080 1080 ...\n",
      " $ Resolution.y          : int  3120 2400 2688 1792 2340 2400 3120 3040 2340 2340 ...\n",
      " $ Processor             : int  8 8 6 6 8 8 8 8 8 8 ...\n",
      " $ RAM..MB.              : int  12000 6000 4000 4000 6000 8000 8000 12000 8000 6000 ...\n",
      " $ Internal.storage..GB. : num  256 64 64 64 128 128 256 256 128 128 ...\n",
      " $ Rear.camera           : num  48 64 12 12 12 48 48 12 48 48 ...\n",
      " $ Front.camera          : num  16 16 12 12 32 16 16 10 24 20 ...\n",
      " $ Operating.system      : chr  \"Android\" \"Android\" \"iOS\" \"iOS\" ...\n",
      " $ Wi.Fi                 : chr  \"Yes\" \"Yes\" \"Yes\" \"Yes\" ...\n",
      " $ Bluetooth             : chr  \"Yes\" \"Yes\" \"Yes\" \"Yes\" ...\n",
      " $ GPS                   : chr  \"Yes\" \"Yes\" \"Yes\" \"Yes\" ...\n",
      " $ Number.of.SIMs        : int  2 2 2 2 1 2 2 2 1 2 ...\n",
      " $ X3G                   : chr  \"Yes\" \"Yes\" \"Yes\" \"Yes\" ...\n",
      " $ X4G..LTE              : chr  \"Yes\" \"Yes\" \"Yes\" \"Yes\" ...\n",
      " $ Price                 : int  58998 27999 106900 62900 49990 34930 52990 79699 37999 23190 ...\n"
     ]
    }
   ],
   "source": [
    "phoneData <- read.csv('phone_specs.csv')\n",
    "\n",
    "str(phoneData)"
   ]
  },
  {
   "cell_type": "code",
   "execution_count": 141,
   "metadata": {
    "vscode": {
     "languageId": "r"
    }
   },
   "outputs": [
    {
     "data": {
      "text/plain": [
       "\n",
       "   Android BlackBerry   Cyanogen        iOS   Sailfish      Tizen    Windows \n",
       "      1299         10         10         17          1          3         19 "
      ]
     },
     "metadata": {},
     "output_type": "display_data"
    }
   ],
   "source": [
    "table(phoneData$Operating.system)"
   ]
  },
  {
   "cell_type": "code",
   "execution_count": 143,
   "metadata": {
    "vscode": {
     "languageId": "r"
    }
   },
   "outputs": [],
   "source": [
    "require(tidyr)\n",
    "\n",
    "phoneData <- phoneData %>%\n",
    "    filter(!(Operating.system == 'Sailfish' | Operating.system == 'Tizen' |\n",
    "            Operating.system == 'Cyanogen' | Operating.system == 'BlackBerry')) %>%    # delete rows with less know OS (only 24 rows)\n",
    "    mutate(across(c(Touchscreen, Wi.Fi, Bluetooth, GPS, X3G, X4G..LTE),\n",
    "          ~as.numeric(ifelse(.x == 'Yes', 1, 0)))) %>%                        # convert categorical Yes/No to 1/0\n",
    "    mutate(value = 1) %>% spread(Operating.system, value,  fill = 0 ) %>%     # One-hot-encoding OS column\n",
    "    mutate(across(c(5,6, 8:14, 18), scale)) %>%                               # normalization with scale() for numeric data\n",
    "    mutate(Price=round(Price/87.95)) %>%                                      # convert indian rupee to euro\n",
    "    mutate(PriceCategory = ifelse(Price <= 400, 'Low-End', ifelse(Price <= 700, 'Mid-Range', 'High-End')))"
   ]
  },
  {
   "attachments": {},
   "cell_type": "markdown",
   "metadata": {},
   "source": [
    "## 2. Klasifikacija - umjetne neuronske mreže"
   ]
  },
  {
   "cell_type": "code",
   "execution_count": null,
   "metadata": {
    "vscode": {
     "languageId": "r"
    }
   },
   "outputs": [],
   "source": []
  },
  {
   "attachments": {},
   "cell_type": "markdown",
   "metadata": {},
   "source": [
    "## 3. Ansambli - slučajne šume"
   ]
  },
  {
   "cell_type": "code",
   "execution_count": null,
   "metadata": {
    "vscode": {
     "languageId": "r"
    }
   },
   "outputs": [],
   "source": []
  },
  {
   "attachments": {},
   "cell_type": "markdown",
   "metadata": {},
   "source": [
    "## 4. Asocijacijska analiza - učenje asocijacijskih pravila"
   ]
  },
  {
   "cell_type": "code",
   "execution_count": null,
   "metadata": {
    "vscode": {
     "languageId": "r"
    }
   },
   "outputs": [],
   "source": []
  },
  {
   "attachments": {},
   "cell_type": "markdown",
   "metadata": {},
   "source": [
    "## 5. Grupiranje k-sredina"
   ]
  },
  {
   "cell_type": "code",
   "execution_count": null,
   "metadata": {
    "vscode": {
     "languageId": "r"
    }
   },
   "outputs": [],
   "source": []
  }
 ],
 "metadata": {
  "kernelspec": {
   "display_name": "R",
   "language": "R",
   "name": "ir"
  },
  "language_info": {
   "codemirror_mode": "r",
   "file_extension": ".r",
   "mimetype": "text/x-r-source",
   "name": "R",
   "pygments_lexer": "r",
   "version": "4.2.0"
  },
  "orig_nbformat": 4
 },
 "nbformat": 4,
 "nbformat_minor": 2
}
