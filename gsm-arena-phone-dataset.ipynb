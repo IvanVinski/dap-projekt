{
 "cells": [
  {
   "cell_type": "code",
   "execution_count": 13,
   "metadata": {
    "_cell_guid": "b1076dfc-b9ad-4769-8c92-a6c4dae69d19",
    "_uuid": "8f2839f25d086af736a60e9eeb907d3b93b6e0e5"
   },
   "outputs": [],
   "source": [
    "# This Python 3 environment comes with many helpful analytics libraries installed\n",
    "# It is defined by the kaggle/python docker image: https://github.com/kaggle/docker-python\n",
    "# For example, here's several helpful packages to load in \n",
    "\n",
    "import numpy as np # linear algebra\n",
    "import pandas as pd # data processing, CSV file I/O (e.g. pd.read_csv)"
   ]
  },
  {
   "cell_type": "code",
   "execution_count": 25,
   "metadata": {},
   "outputs": [],
   "source": [
    "import re"
   ]
  },
  {
   "cell_type": "code",
   "execution_count": 2,
   "metadata": {
    "_cell_guid": "79c7e3d0-c299-4dcb-8224-4455121ee9b0",
    "_uuid": "d629ff2d2480ee46fbb7e2d37f6b5fab8052498a"
   },
   "outputs": [],
   "source": [
    "import re\n",
    "import seaborn as sns\n",
    "import matplotlib.pyplot as plt\n",
    "from sklearn.model_selection import train_test_split as split\n",
    "from sklearn.metrics import confusion_matrix, classification_report, accuracy_score, pairwise_distances\n",
    "from sklearn.linear_model import LogisticRegression\n",
    "from sklearn.neighbors import KNeighborsClassifier\n",
    "from pandas.tools.plotting import scatter_matrix\n",
    "from mpl_toolkits.mplot3d import Axes3D\n",
    "from sklearn.model_selection import train_test_split as split\n",
    "from sklearn.preprocessing import StandardScaler, MinMaxScaler\n",
    "from sklearn.preprocessing import MaxAbsScaler, LabelEncoder\n",
    "\n",
    "import warnings\n",
    "\n",
    "warnings.filterwarnings('ignore')\n",
    "%matplotlib inline"
   ]
  },
  {
   "cell_type": "code",
   "execution_count": 14,
   "metadata": {},
   "outputs": [
    {
     "name": "stderr",
     "output_type": "stream",
     "text": [
      "C:\\Users\\ivanv\\AppData\\Local\\Temp\\ipykernel_11036\\4272890053.py:2: FutureWarning: The error_bad_lines argument has been deprecated and will be removed in a future version. Use on_bad_lines in the future.\n",
      "\n",
      "\n",
      "  phones = pd.read_csv(\"phone_dataset.csv\", error_bad_lines=False)\n",
      "b'Skipping line 821: expected 40 fields, saw 41\\nSkipping line 6060: expected 40 fields, saw 41\\nSkipping line 6663: expected 40 fields, saw 41\\n'\n"
     ]
    }
   ],
   "source": [
    "# use error_bad_lines to get rid of error in line 821\n",
    "phones = pd.read_csv(\"phone_dataset.csv\", error_bad_lines=False)"
   ]
  },
  {
   "cell_type": "code",
   "execution_count": null,
   "metadata": {},
   "outputs": [],
   "source": [
    "phones.info()"
   ]
  },
  {
   "cell_type": "code",
   "execution_count": null,
   "metadata": {},
   "outputs": [],
   "source": [
    "# number of nulls in each feature\n",
    "phones.isnull().sum()"
   ]
  },
  {
   "cell_type": "code",
   "execution_count": null,
   "metadata": {},
   "outputs": [],
   "source": [
    "# number of unique values in each feature\n",
    "phones.nunique()"
   ]
  },
  {
   "cell_type": "code",
   "execution_count": 15,
   "metadata": {},
   "outputs": [],
   "source": [
    "# remove the column img_url (a url for the image of the model)\n",
    "phones.drop(columns=['img_url'],inplace=True)"
   ]
  },
  {
   "cell_type": "code",
   "execution_count": 20,
   "metadata": {},
   "outputs": [],
   "source": [
    "# switch weight columns into floats\n",
    "phones.weight_g = pd.to_numeric(phones.weight_g, errors='coerce')\n",
    "phones.weight_oz = pd.to_numeric(phones.weight_oz, errors='coerce')"
   ]
  },
  {
   "cell_type": "code",
   "execution_count": 21,
   "metadata": {
    "_kg_hide-input": false
   },
   "outputs": [
    {
     "data": {
      "text/html": [
       "<div>\n",
       "<style scoped>\n",
       "    .dataframe tbody tr th:only-of-type {\n",
       "        vertical-align: middle;\n",
       "    }\n",
       "\n",
       "    .dataframe tbody tr th {\n",
       "        vertical-align: top;\n",
       "    }\n",
       "\n",
       "    .dataframe thead th {\n",
       "        text-align: right;\n",
       "    }\n",
       "</style>\n",
       "<table border=\"1\" class=\"dataframe\">\n",
       "  <thead>\n",
       "    <tr style=\"text-align: right;\">\n",
       "      <th></th>\n",
       "      <th>brand</th>\n",
       "      <th>model</th>\n",
       "      <th>network_technology</th>\n",
       "      <th>2G_bands</th>\n",
       "      <th>3G_bands</th>\n",
       "      <th>4G_bands</th>\n",
       "      <th>network_speed</th>\n",
       "      <th>GPRS</th>\n",
       "      <th>EDGE</th>\n",
       "      <th>announced</th>\n",
       "      <th>...</th>\n",
       "      <th>WLAN</th>\n",
       "      <th>bluetooth</th>\n",
       "      <th>GPS</th>\n",
       "      <th>NFC</th>\n",
       "      <th>radio</th>\n",
       "      <th>USB</th>\n",
       "      <th>sensors</th>\n",
       "      <th>battery</th>\n",
       "      <th>colors</th>\n",
       "      <th>approx_price_EUR</th>\n",
       "    </tr>\n",
       "  </thead>\n",
       "  <tbody>\n",
       "    <tr>\n",
       "      <th>18</th>\n",
       "      <td>Acer</td>\n",
       "      <td>Iconia Tab 10 A3-A30</td>\n",
       "      <td>No cellular connectivity</td>\n",
       "      <td>N/A</td>\n",
       "      <td>NaN</td>\n",
       "      <td>NaN</td>\n",
       "      <td>NaN</td>\n",
       "      <td>No</td>\n",
       "      <td>No</td>\n",
       "      <td>2015  April</td>\n",
       "      <td>...</td>\n",
       "      <td>Wi-Fi 802.11 a/b/g/n/ac| dual-band| hotspot</td>\n",
       "      <td>4.0| A2DP</td>\n",
       "      <td>A-GPS only</td>\n",
       "      <td>Yes</td>\n",
       "      <td>No</td>\n",
       "      <td>microUSB 2.0</td>\n",
       "      <td>Accelerometer</td>\n",
       "      <td>Non-removable Li-Ion 5910 mAh battery (22 Wh)</td>\n",
       "      <td>Various</td>\n",
       "      <td>250.0</td>\n",
       "    </tr>\n",
       "    <tr>\n",
       "      <th>20</th>\n",
       "      <td>Acer</td>\n",
       "      <td>Iconia Tab A3-A20</td>\n",
       "      <td>No cellular connectivity</td>\n",
       "      <td>N/A</td>\n",
       "      <td>NaN</td>\n",
       "      <td>NaN</td>\n",
       "      <td>NaN</td>\n",
       "      <td>No</td>\n",
       "      <td>No</td>\n",
       "      <td>2014  October</td>\n",
       "      <td>...</td>\n",
       "      <td>Wi-Fi 802.11 b/g/n| hotspot</td>\n",
       "      <td>4.0| A2DP</td>\n",
       "      <td>A-GPS only</td>\n",
       "      <td>NaN</td>\n",
       "      <td>No</td>\n",
       "      <td>microUSB 2.0</td>\n",
       "      <td>Accelerometer</td>\n",
       "      <td>Non-removable Li-Po 5910 mAh battery (A3-A20-K...</td>\n",
       "      <td>Black| White</td>\n",
       "      <td>190.0</td>\n",
       "    </tr>\n",
       "    <tr>\n",
       "      <th>21</th>\n",
       "      <td>Acer</td>\n",
       "      <td>Iconia Tab A3-A20FHD</td>\n",
       "      <td>No cellular connectivity</td>\n",
       "      <td>N/A</td>\n",
       "      <td>NaN</td>\n",
       "      <td>NaN</td>\n",
       "      <td>NaN</td>\n",
       "      <td>No</td>\n",
       "      <td>No</td>\n",
       "      <td>2014  October</td>\n",
       "      <td>...</td>\n",
       "      <td>Wi-Fi 802.11 b/g/n| hotspot</td>\n",
       "      <td>4.0| A2DP</td>\n",
       "      <td>A-GPS only</td>\n",
       "      <td>NaN</td>\n",
       "      <td>No</td>\n",
       "      <td>microUSB 2.0</td>\n",
       "      <td>Accelerometer</td>\n",
       "      <td>Non-removable Li-Po 5910 mAh battery (A3-A20FH...</td>\n",
       "      <td>Black| White</td>\n",
       "      <td>230.0</td>\n",
       "    </tr>\n",
       "    <tr>\n",
       "      <th>48</th>\n",
       "      <td>Acer</td>\n",
       "      <td>Iconia Tab A3</td>\n",
       "      <td>GSM / HSPA</td>\n",
       "      <td>GSM 850 / 900 / 1800 / 1900</td>\n",
       "      <td>HSDPA 850 / 900 / 1900 / 2100</td>\n",
       "      <td>NaN</td>\n",
       "      <td>HSPA 21.1/5.76 Mbps</td>\n",
       "      <td>Yes</td>\n",
       "      <td>Up to 236.8 kbps</td>\n",
       "      <td>2013  September</td>\n",
       "      <td>...</td>\n",
       "      <td>Wi-Fi 802.11 b/g/n| hotspot</td>\n",
       "      <td>4.0| A2DP</td>\n",
       "      <td>Yes with A-GPS</td>\n",
       "      <td>NaN</td>\n",
       "      <td>No</td>\n",
       "      <td>microUSB 2.0| USB Host</td>\n",
       "      <td>Accelerometer| gyro</td>\n",
       "      <td>Non-removable Li-Po 7300 mAh battery (27 Wh)</td>\n",
       "      <td>Black/Silver| White</td>\n",
       "      <td>190.0</td>\n",
       "    </tr>\n",
       "    <tr>\n",
       "      <th>52</th>\n",
       "      <td>Acer</td>\n",
       "      <td>Liquid Z2</td>\n",
       "      <td>GSM / HSPA</td>\n",
       "      <td>GSM 850 / 900 / 1800 / 1900 - SIM 1 &amp; SIM 2 (d...</td>\n",
       "      <td>HSDPA 900 / 2100</td>\n",
       "      <td>NaN</td>\n",
       "      <td>HSPA 7.2/5.76 Mbps</td>\n",
       "      <td>Yes</td>\n",
       "      <td>Yes</td>\n",
       "      <td>2013  February</td>\n",
       "      <td>...</td>\n",
       "      <td>Wi-Fi 802.11 b/g/n| hotspot</td>\n",
       "      <td>3.0| A2DP</td>\n",
       "      <td>Yes with A-GPS</td>\n",
       "      <td>NaN</td>\n",
       "      <td>FM radio| RDS</td>\n",
       "      <td>microUSB 2.0</td>\n",
       "      <td>Accelerometer| proximity</td>\n",
       "      <td>Removable Li-Ion 1300 mAh battery</td>\n",
       "      <td>Black| Black/White</td>\n",
       "      <td>100.0</td>\n",
       "    </tr>\n",
       "    <tr>\n",
       "      <th>...</th>\n",
       "      <td>...</td>\n",
       "      <td>...</td>\n",
       "      <td>...</td>\n",
       "      <td>...</td>\n",
       "      <td>...</td>\n",
       "      <td>...</td>\n",
       "      <td>...</td>\n",
       "      <td>...</td>\n",
       "      <td>...</td>\n",
       "      <td>...</td>\n",
       "      <td>...</td>\n",
       "      <td>...</td>\n",
       "      <td>...</td>\n",
       "      <td>...</td>\n",
       "      <td>...</td>\n",
       "      <td>...</td>\n",
       "      <td>...</td>\n",
       "      <td>...</td>\n",
       "      <td>...</td>\n",
       "      <td>...</td>\n",
       "      <td>...</td>\n",
       "    </tr>\n",
       "    <tr>\n",
       "      <th>7861</th>\n",
       "      <td>verykool</td>\n",
       "      <td>T7445</td>\n",
       "      <td>GSM / HSPA</td>\n",
       "      <td>GSM 850 / 900 / 1800 / 1900 - SIM1 &amp; SIM 2</td>\n",
       "      <td>HSDPA 850 / 1900</td>\n",
       "      <td>NaN</td>\n",
       "      <td>HSPA 21.1/5.76 Mbps</td>\n",
       "      <td>Yes</td>\n",
       "      <td>Yes</td>\n",
       "      <td>2017  June</td>\n",
       "      <td>...</td>\n",
       "      <td>Wi-Fi 802.11 b/g/n| Wi-Fi Direct| hotspot</td>\n",
       "      <td>4.0| A2DP| LE</td>\n",
       "      <td>Yes with A-GPS</td>\n",
       "      <td>NaN</td>\n",
       "      <td>FM radio</td>\n",
       "      <td>microUSB 2.0</td>\n",
       "      <td>Accelerometer</td>\n",
       "      <td>Li-Po 2500 mAh battery</td>\n",
       "      <td>Black</td>\n",
       "      <td>NaN</td>\n",
       "    </tr>\n",
       "    <tr>\n",
       "      <th>8078</th>\n",
       "      <td>Vodafone</td>\n",
       "      <td>Smart Tab III 10.1</td>\n",
       "      <td>GSM / HSPA</td>\n",
       "      <td>GSM 850 / 900 / 1800 / 1900</td>\n",
       "      <td>HSDPA 850 / 900 / 1900 / 2100</td>\n",
       "      <td>NaN</td>\n",
       "      <td>HSPA</td>\n",
       "      <td>Yes</td>\n",
       "      <td>Yes</td>\n",
       "      <td>2013  October</td>\n",
       "      <td>...</td>\n",
       "      <td>Wi-Fi 802.11 b/g/n| hotspot</td>\n",
       "      <td>4.0| A2DP| EDR</td>\n",
       "      <td>Yes with A-GPS</td>\n",
       "      <td>NaN</td>\n",
       "      <td>No</td>\n",
       "      <td>microUSB 2.0</td>\n",
       "      <td>Accelerometer</td>\n",
       "      <td>Non-removable Li-Ion battery</td>\n",
       "      <td>Black</td>\n",
       "      <td>NaN</td>\n",
       "    </tr>\n",
       "    <tr>\n",
       "      <th>8083</th>\n",
       "      <td>Vodafone</td>\n",
       "      <td>Smart Tab II 10</td>\n",
       "      <td>GSM / HSPA</td>\n",
       "      <td>GSM 900 / 1800 / 1900</td>\n",
       "      <td>HSDPA 900 / 2100</td>\n",
       "      <td>NaN</td>\n",
       "      <td>HSPA</td>\n",
       "      <td>Yes</td>\n",
       "      <td>Yes</td>\n",
       "      <td>2012  November</td>\n",
       "      <td>...</td>\n",
       "      <td>Wi-Fi 802.11 b/g/n| hotspot| DLNA</td>\n",
       "      <td>4.0| A2DP</td>\n",
       "      <td>Yes with A-GPS</td>\n",
       "      <td>NaN</td>\n",
       "      <td>No</td>\n",
       "      <td>2.0</td>\n",
       "      <td>Accelerometer</td>\n",
       "      <td>Non-removable Li-Ion 6340 mAh battery</td>\n",
       "      <td>Gray</td>\n",
       "      <td>270.0</td>\n",
       "    </tr>\n",
       "    <tr>\n",
       "      <th>8300</th>\n",
       "      <td>XOLO</td>\n",
       "      <td>Tab</td>\n",
       "      <td>GSM / HSPA</td>\n",
       "      <td>GSM 850 / 900 / 1800 / 1900</td>\n",
       "      <td>HSDPA 2100</td>\n",
       "      <td>NaN</td>\n",
       "      <td>HSPA 21.1/5.76 Mbps</td>\n",
       "      <td>Yes</td>\n",
       "      <td>Yes</td>\n",
       "      <td>2013  September</td>\n",
       "      <td>...</td>\n",
       "      <td>Wi-Fi 802.11 b/g/n| hotspot</td>\n",
       "      <td>3.0</td>\n",
       "      <td>Yes with A-GPS</td>\n",
       "      <td>NaN</td>\n",
       "      <td>FM radio</td>\n",
       "      <td>microUSB 2.0</td>\n",
       "      <td>Accelerometer</td>\n",
       "      <td>Non-removable Li-Ion 4000 mAh battery</td>\n",
       "      <td>White</td>\n",
       "      <td>120.0</td>\n",
       "    </tr>\n",
       "    <tr>\n",
       "      <th>8464</th>\n",
       "      <td>ZTE</td>\n",
       "      <td>Axon Pro</td>\n",
       "      <td>GSM / HSPA / LTE</td>\n",
       "      <td>GSM 850 / 900 / 1800 / 1900</td>\n",
       "      <td>HSDPA 850 / 1700(AWS) / 1900 / 2100</td>\n",
       "      <td>LTE band 2(1900)| 4(1700/2100)| 5(850)| 12(700...</td>\n",
       "      <td>HSPA  LTE</td>\n",
       "      <td>Yes</td>\n",
       "      <td>Yes</td>\n",
       "      <td>2015  July</td>\n",
       "      <td>...</td>\n",
       "      <td>Yes</td>\n",
       "      <td>4.0| A2DP</td>\n",
       "      <td>Yes with A-GPS</td>\n",
       "      <td>Yes</td>\n",
       "      <td>FM radio</td>\n",
       "      <td>microUSB 2.0</td>\n",
       "      <td>Accelerometer| gyro| proximity| compass</td>\n",
       "      <td>Non-removable Li-Ion 3000 mAh battery</td>\n",
       "      <td>Ion Gold| Chromium Silver| Phthalo Blue</td>\n",
       "      <td>350.0</td>\n",
       "    </tr>\n",
       "  </tbody>\n",
       "</table>\n",
       "<p>289 rows × 39 columns</p>\n",
       "</div>"
      ],
      "text/plain": [
       "         brand                 model        network_technology  \\\n",
       "18        Acer  Iconia Tab 10 A3-A30  No cellular connectivity   \n",
       "20        Acer     Iconia Tab A3-A20  No cellular connectivity   \n",
       "21        Acer  Iconia Tab A3-A20FHD  No cellular connectivity   \n",
       "48        Acer         Iconia Tab A3                GSM / HSPA   \n",
       "52        Acer             Liquid Z2                GSM / HSPA   \n",
       "...        ...                   ...                       ...   \n",
       "7861  verykool                 T7445                GSM / HSPA   \n",
       "8078  Vodafone    Smart Tab III 10.1                GSM / HSPA   \n",
       "8083  Vodafone       Smart Tab II 10                GSM / HSPA   \n",
       "8300      XOLO                   Tab                GSM / HSPA   \n",
       "8464       ZTE              Axon Pro          GSM / HSPA / LTE   \n",
       "\n",
       "                                               2G_bands  \\\n",
       "18                                                  N/A   \n",
       "20                                                  N/A   \n",
       "21                                                  N/A   \n",
       "48                         GSM 850 / 900 / 1800 / 1900    \n",
       "52    GSM 850 / 900 / 1800 / 1900 - SIM 1 & SIM 2 (d...   \n",
       "...                                                 ...   \n",
       "7861         GSM 850 / 900 / 1800 / 1900 - SIM1 & SIM 2   \n",
       "8078                       GSM 850 / 900 / 1800 / 1900    \n",
       "8083                             GSM 900 / 1800 / 1900    \n",
       "8300                       GSM 850 / 900 / 1800 / 1900    \n",
       "8464                       GSM 850 / 900 / 1800 / 1900    \n",
       "\n",
       "                                  3G_bands  \\\n",
       "18                                     NaN   \n",
       "20                                     NaN   \n",
       "21                                     NaN   \n",
       "48          HSDPA 850 / 900 / 1900 / 2100    \n",
       "52                       HSDPA 900 / 2100    \n",
       "...                                    ...   \n",
       "7861                     HSDPA 850 / 1900    \n",
       "8078        HSDPA 850 / 900 / 1900 / 2100    \n",
       "8083                     HSDPA 900 / 2100    \n",
       "8300                           HSDPA 2100    \n",
       "8464  HSDPA 850 / 1700(AWS) / 1900 / 2100    \n",
       "\n",
       "                                               4G_bands        network_speed  \\\n",
       "18                                                  NaN                  NaN   \n",
       "20                                                  NaN                  NaN   \n",
       "21                                                  NaN                  NaN   \n",
       "48                                                  NaN  HSPA 21.1/5.76 Mbps   \n",
       "52                                                  NaN   HSPA 7.2/5.76 Mbps   \n",
       "...                                                 ...                  ...   \n",
       "7861                                                NaN  HSPA 21.1/5.76 Mbps   \n",
       "8078                                                NaN                 HSPA   \n",
       "8083                                                NaN                 HSPA   \n",
       "8300                                                NaN  HSPA 21.1/5.76 Mbps   \n",
       "8464  LTE band 2(1900)| 4(1700/2100)| 5(850)| 12(700...            HSPA  LTE   \n",
       "\n",
       "     GPRS              EDGE        announced  ...  \\\n",
       "18     No                No      2015  April  ...   \n",
       "20     No                No    2014  October  ...   \n",
       "21     No                No    2014  October  ...   \n",
       "48    Yes  Up to 236.8 kbps  2013  September  ...   \n",
       "52    Yes               Yes   2013  February  ...   \n",
       "...   ...               ...              ...  ...   \n",
       "7861  Yes               Yes       2017  June  ...   \n",
       "8078  Yes               Yes    2013  October  ...   \n",
       "8083  Yes               Yes   2012  November  ...   \n",
       "8300  Yes               Yes  2013  September  ...   \n",
       "8464  Yes               Yes       2015  July  ...   \n",
       "\n",
       "                                             WLAN       bluetooth  \\\n",
       "18    Wi-Fi 802.11 a/b/g/n/ac| dual-band| hotspot       4.0| A2DP   \n",
       "20                    Wi-Fi 802.11 b/g/n| hotspot       4.0| A2DP   \n",
       "21                    Wi-Fi 802.11 b/g/n| hotspot       4.0| A2DP   \n",
       "48                    Wi-Fi 802.11 b/g/n| hotspot       4.0| A2DP   \n",
       "52                    Wi-Fi 802.11 b/g/n| hotspot       3.0| A2DP   \n",
       "...                                           ...             ...   \n",
       "7861    Wi-Fi 802.11 b/g/n| Wi-Fi Direct| hotspot   4.0| A2DP| LE   \n",
       "8078                  Wi-Fi 802.11 b/g/n| hotspot  4.0| A2DP| EDR   \n",
       "8083            Wi-Fi 802.11 b/g/n| hotspot| DLNA       4.0| A2DP   \n",
       "8300                  Wi-Fi 802.11 b/g/n| hotspot             3.0   \n",
       "8464                                          Yes       4.0| A2DP   \n",
       "\n",
       "                 GPS  NFC          radio                     USB  \\\n",
       "18        A-GPS only  Yes             No            microUSB 2.0   \n",
       "20        A-GPS only  NaN             No            microUSB 2.0   \n",
       "21        A-GPS only  NaN             No            microUSB 2.0   \n",
       "48    Yes with A-GPS  NaN             No  microUSB 2.0| USB Host   \n",
       "52    Yes with A-GPS  NaN  FM radio| RDS            microUSB 2.0   \n",
       "...              ...  ...            ...                     ...   \n",
       "7861  Yes with A-GPS  NaN       FM radio            microUSB 2.0   \n",
       "8078  Yes with A-GPS  NaN             No            microUSB 2.0   \n",
       "8083  Yes with A-GPS  NaN             No                     2.0   \n",
       "8300  Yes with A-GPS  NaN       FM radio            microUSB 2.0   \n",
       "8464  Yes with A-GPS  Yes       FM radio            microUSB 2.0   \n",
       "\n",
       "                                      sensors  \\\n",
       "18                              Accelerometer   \n",
       "20                              Accelerometer   \n",
       "21                              Accelerometer   \n",
       "48                        Accelerometer| gyro   \n",
       "52                   Accelerometer| proximity   \n",
       "...                                       ...   \n",
       "7861                            Accelerometer   \n",
       "8078                            Accelerometer   \n",
       "8083                            Accelerometer   \n",
       "8300                            Accelerometer   \n",
       "8464  Accelerometer| gyro| proximity| compass   \n",
       "\n",
       "                                                battery  \\\n",
       "18        Non-removable Li-Ion 5910 mAh battery (22 Wh)   \n",
       "20    Non-removable Li-Po 5910 mAh battery (A3-A20-K...   \n",
       "21    Non-removable Li-Po 5910 mAh battery (A3-A20FH...   \n",
       "48         Non-removable Li-Po 7300 mAh battery (27 Wh)   \n",
       "52                    Removable Li-Ion 1300 mAh battery   \n",
       "...                                                 ...   \n",
       "7861                             Li-Po 2500 mAh battery   \n",
       "8078                       Non-removable Li-Ion battery   \n",
       "8083              Non-removable Li-Ion 6340 mAh battery   \n",
       "8300              Non-removable Li-Ion 4000 mAh battery   \n",
       "8464              Non-removable Li-Ion 3000 mAh battery   \n",
       "\n",
       "                                       colors approx_price_EUR  \n",
       "18                                    Various            250.0  \n",
       "20                               Black| White            190.0  \n",
       "21                               Black| White            230.0  \n",
       "48                        Black/Silver| White            190.0  \n",
       "52                         Black| Black/White            100.0  \n",
       "...                                       ...              ...  \n",
       "7861                                    Black              NaN  \n",
       "8078                                    Black              NaN  \n",
       "8083                                     Gray            270.0  \n",
       "8300                                    White            120.0  \n",
       "8464  Ion Gold| Chromium Silver| Phthalo Blue            350.0  \n",
       "\n",
       "[289 rows x 39 columns]"
      ]
     },
     "execution_count": 21,
     "metadata": {},
     "output_type": "execute_result"
    }
   ],
   "source": [
    "# check for mismatch in weight conversion from oz to gr up to 0.03\n",
    "# how should we treat mismatched weight data ???\n",
    "phones[abs(0.03527396 * (phones.weight_g) - (phones.weight_oz)) >= 0.03]"
   ]
  },
  {
   "cell_type": "code",
   "execution_count": 22,
   "metadata": {},
   "outputs": [
    {
     "data": {
      "text/plain": [
       "0    Non-removable Li-Ion 3400 mAh battery (12.92 Wh)\n",
       "1                    Removable Li-Po 4080 mAh battery\n",
       "2                   Removable Li-Ion 2000 mAh battery\n",
       "3                        Non-removable Li-Ion battery\n",
       "4                    Removable Li-Po 4020 mAh battery\n",
       "Name: battery, dtype: object"
      ]
     },
     "execution_count": 22,
     "metadata": {},
     "output_type": "execute_result"
    }
   ],
   "source": [
    "# check what type of strings show up in battery column\n",
    "phones.battery.head()"
   ]
  },
  {
   "cell_type": "code",
   "execution_count": 23,
   "metadata": {},
   "outputs": [],
   "source": [
    "# a function to turn removable battery data into a boolean feature\n",
    "def removable(battery):\n",
    "    if battery[0] == 'Removable':\n",
    "        return True\n",
    "    elif battery[0] == 'Non-removable':\n",
    "        return False\n",
    "    else:\n",
    "        return np.nan"
   ]
  },
  {
   "cell_type": "code",
   "execution_count": 27,
   "metadata": {},
   "outputs": [],
   "source": [
    "# looking for regular expressions in battery column strings\n",
    "# the method 'findall' returns a list with a single element. that element is a tuple of the regular expressions found\n",
    "a = phones.battery.astype(str).apply(lambda x: \n",
    "                                        (re.findall('(Non-removable|Removable|)\\s*(Li-Ion|Li-Po|Li-ion|Li-po|NiMH|)\\s*(\\d*)',x))) \n",
    "\n",
    "phones['battery_removable'] = a.apply(lambda x: removable(x[0])) # the first regex indicates 'removable' / 'non-removable'\n",
    "phones['battery_type'] = a.apply(lambda x: (x[0])[1]) # the second regex indicates 'Li-Ion' / 'Li-Po' / 'Li-ion' / 'Li-po' / 'NiMH'\n",
    "phones['battery_mah'] = pd.to_numeric(a.apply(lambda x: ((x[0])[2]))) # the third regex gives the numerical data for mah\n"
   ]
  },
  {
   "cell_type": "code",
   "execution_count": 28,
   "metadata": {},
   "outputs": [
    {
     "data": {
      "text/html": [
       "<div>\n",
       "<style scoped>\n",
       "    .dataframe tbody tr th:only-of-type {\n",
       "        vertical-align: middle;\n",
       "    }\n",
       "\n",
       "    .dataframe tbody tr th {\n",
       "        vertical-align: top;\n",
       "    }\n",
       "\n",
       "    .dataframe thead th {\n",
       "        text-align: right;\n",
       "    }\n",
       "</style>\n",
       "<table border=\"1\" class=\"dataframe\">\n",
       "  <thead>\n",
       "    <tr style=\"text-align: right;\">\n",
       "      <th></th>\n",
       "      <th>brand</th>\n",
       "      <th>model</th>\n",
       "      <th>network_technology</th>\n",
       "      <th>2G_bands</th>\n",
       "      <th>3G_bands</th>\n",
       "      <th>4G_bands</th>\n",
       "      <th>network_speed</th>\n",
       "      <th>GPRS</th>\n",
       "      <th>EDGE</th>\n",
       "      <th>announced</th>\n",
       "      <th>...</th>\n",
       "      <th>NFC</th>\n",
       "      <th>radio</th>\n",
       "      <th>USB</th>\n",
       "      <th>sensors</th>\n",
       "      <th>battery</th>\n",
       "      <th>colors</th>\n",
       "      <th>approx_price_EUR</th>\n",
       "      <th>battery_removable</th>\n",
       "      <th>battery_type</th>\n",
       "      <th>battery_mah</th>\n",
       "    </tr>\n",
       "  </thead>\n",
       "  <tbody>\n",
       "    <tr>\n",
       "      <th>0</th>\n",
       "      <td>Acer</td>\n",
       "      <td>Iconia Talk S</td>\n",
       "      <td>GSM / HSPA / LTE</td>\n",
       "      <td>GSM 850 / 900 / 1800 / 1900 - SIM 1 &amp; SIM 2</td>\n",
       "      <td>HSDPA 850 / 1900 / 2100</td>\n",
       "      <td>LTE band 1(2100)| 3(1800)| 7(2600)| 8(900)| 20...</td>\n",
       "      <td>HSPA 42.2/11.5 Mbps  LTE Cat4 150/50 Mbps</td>\n",
       "      <td>Yes</td>\n",
       "      <td>Yes</td>\n",
       "      <td>2016  August</td>\n",
       "      <td>...</td>\n",
       "      <td>NaN</td>\n",
       "      <td>FM radio</td>\n",
       "      <td>microUSB 2.0</td>\n",
       "      <td>Accelerometer| proximity</td>\n",
       "      <td>Non-removable Li-Ion 3400 mAh battery (12.92 Wh)</td>\n",
       "      <td>Black</td>\n",
       "      <td>170.0</td>\n",
       "      <td>False</td>\n",
       "      <td>Li-Ion</td>\n",
       "      <td>3400.0</td>\n",
       "    </tr>\n",
       "    <tr>\n",
       "      <th>1</th>\n",
       "      <td>Acer</td>\n",
       "      <td>Liquid Z6 Plus</td>\n",
       "      <td>GSM / HSPA / LTE</td>\n",
       "      <td>GSM 850 / 900 / 1800 / 1900 - SIM 1 &amp; SIM 2 (d...</td>\n",
       "      <td>HSDPA</td>\n",
       "      <td>LTE</td>\n",
       "      <td>HSPA 42.2/5.76 Mbps  LTE Cat4 150/50 Mbps</td>\n",
       "      <td>Yes</td>\n",
       "      <td>Yes</td>\n",
       "      <td>2016  August</td>\n",
       "      <td>...</td>\n",
       "      <td>NaN</td>\n",
       "      <td>FM radio</td>\n",
       "      <td>microUSB 2.0</td>\n",
       "      <td>Fingerprint (front-mounted)| accelerometer| pr...</td>\n",
       "      <td>Removable Li-Po 4080 mAh battery</td>\n",
       "      <td>Black| White</td>\n",
       "      <td>250.0</td>\n",
       "      <td>True</td>\n",
       "      <td>Li-Po</td>\n",
       "      <td>4080.0</td>\n",
       "    </tr>\n",
       "    <tr>\n",
       "      <th>2</th>\n",
       "      <td>Acer</td>\n",
       "      <td>Liquid Z6</td>\n",
       "      <td>GSM / HSPA / LTE</td>\n",
       "      <td>GSM 850 / 900 / 1800 / 1900 - SIM 1 &amp; SIM 2 (d...</td>\n",
       "      <td>HSDPA</td>\n",
       "      <td>LTE</td>\n",
       "      <td>HSPA  LTE</td>\n",
       "      <td>Yes</td>\n",
       "      <td>Yes</td>\n",
       "      <td>2016  August</td>\n",
       "      <td>...</td>\n",
       "      <td>NaN</td>\n",
       "      <td>FM radio</td>\n",
       "      <td>microUSB 2.0</td>\n",
       "      <td>Accelerometer| proximity</td>\n",
       "      <td>Removable Li-Ion 2000 mAh battery</td>\n",
       "      <td>Black| White</td>\n",
       "      <td>120.0</td>\n",
       "      <td>True</td>\n",
       "      <td>Li-Ion</td>\n",
       "      <td>2000.0</td>\n",
       "    </tr>\n",
       "    <tr>\n",
       "      <th>3</th>\n",
       "      <td>Acer</td>\n",
       "      <td>Iconia Tab 10 A3-A40</td>\n",
       "      <td>No cellular connectivity</td>\n",
       "      <td>N/A</td>\n",
       "      <td>NaN</td>\n",
       "      <td>NaN</td>\n",
       "      <td>NaN</td>\n",
       "      <td>No</td>\n",
       "      <td>No</td>\n",
       "      <td>2016  April</td>\n",
       "      <td>...</td>\n",
       "      <td>NaN</td>\n",
       "      <td>No</td>\n",
       "      <td>microUSB 2.0</td>\n",
       "      <td>Accelerometer</td>\n",
       "      <td>Non-removable Li-Ion battery</td>\n",
       "      <td>Black</td>\n",
       "      <td>230.0</td>\n",
       "      <td>False</td>\n",
       "      <td>Li-Ion</td>\n",
       "      <td>NaN</td>\n",
       "    </tr>\n",
       "    <tr>\n",
       "      <th>4</th>\n",
       "      <td>Acer</td>\n",
       "      <td>Liquid X2</td>\n",
       "      <td>GSM / HSPA / LTE</td>\n",
       "      <td>GSM 850 / 900 / 1800 / 1900</td>\n",
       "      <td>HSDPA 900 / 1900 / 2100 - Europe| Taiwan</td>\n",
       "      <td>LTE 800 / 1800 / 2100 / 2600 - Europe</td>\n",
       "      <td>HSPA 42.2/5.76 Mbps  LTE Cat4 150/50 Mbps</td>\n",
       "      <td>Yes</td>\n",
       "      <td>Yes</td>\n",
       "      <td>2015  April</td>\n",
       "      <td>...</td>\n",
       "      <td>NaN</td>\n",
       "      <td>FM radio</td>\n",
       "      <td>microUSB 2.0</td>\n",
       "      <td>Accelerometer| proximity| compass</td>\n",
       "      <td>Removable Li-Po 4020 mAh battery</td>\n",
       "      <td>Black| Gold</td>\n",
       "      <td>230.0</td>\n",
       "      <td>True</td>\n",
       "      <td>Li-Po</td>\n",
       "      <td>4020.0</td>\n",
       "    </tr>\n",
       "  </tbody>\n",
       "</table>\n",
       "<p>5 rows × 42 columns</p>\n",
       "</div>"
      ],
      "text/plain": [
       "  brand                 model        network_technology  \\\n",
       "0  Acer         Iconia Talk S          GSM / HSPA / LTE   \n",
       "1  Acer        Liquid Z6 Plus          GSM / HSPA / LTE   \n",
       "2  Acer             Liquid Z6          GSM / HSPA / LTE   \n",
       "3  Acer  Iconia Tab 10 A3-A40  No cellular connectivity   \n",
       "4  Acer             Liquid X2          GSM / HSPA / LTE   \n",
       "\n",
       "                                            2G_bands  \\\n",
       "0        GSM 850 / 900 / 1800 / 1900 - SIM 1 & SIM 2   \n",
       "1  GSM 850 / 900 / 1800 / 1900 - SIM 1 & SIM 2 (d...   \n",
       "2  GSM 850 / 900 / 1800 / 1900 - SIM 1 & SIM 2 (d...   \n",
       "3                                                N/A   \n",
       "4                       GSM 850 / 900 / 1800 / 1900    \n",
       "\n",
       "                                   3G_bands  \\\n",
       "0                  HSDPA 850 / 1900 / 2100    \n",
       "1                                     HSDPA   \n",
       "2                                     HSDPA   \n",
       "3                                       NaN   \n",
       "4  HSDPA 900 / 1900 / 2100 - Europe| Taiwan   \n",
       "\n",
       "                                            4G_bands  \\\n",
       "0  LTE band 1(2100)| 3(1800)| 7(2600)| 8(900)| 20...   \n",
       "1                                                LTE   \n",
       "2                                                LTE   \n",
       "3                                                NaN   \n",
       "4              LTE 800 / 1800 / 2100 / 2600 - Europe   \n",
       "\n",
       "                               network_speed GPRS EDGE     announced  ...  \\\n",
       "0  HSPA 42.2/11.5 Mbps  LTE Cat4 150/50 Mbps  Yes  Yes  2016  August  ...   \n",
       "1  HSPA 42.2/5.76 Mbps  LTE Cat4 150/50 Mbps  Yes  Yes  2016  August  ...   \n",
       "2                                  HSPA  LTE  Yes  Yes  2016  August  ...   \n",
       "3                                        NaN   No   No   2016  April  ...   \n",
       "4  HSPA 42.2/5.76 Mbps  LTE Cat4 150/50 Mbps  Yes  Yes   2015  April  ...   \n",
       "\n",
       "   NFC     radio           USB  \\\n",
       "0  NaN  FM radio  microUSB 2.0   \n",
       "1  NaN  FM radio  microUSB 2.0   \n",
       "2  NaN  FM radio  microUSB 2.0   \n",
       "3  NaN        No  microUSB 2.0   \n",
       "4  NaN  FM radio  microUSB 2.0   \n",
       "\n",
       "                                             sensors  \\\n",
       "0                           Accelerometer| proximity   \n",
       "1  Fingerprint (front-mounted)| accelerometer| pr...   \n",
       "2                           Accelerometer| proximity   \n",
       "3                                      Accelerometer   \n",
       "4                  Accelerometer| proximity| compass   \n",
       "\n",
       "                                            battery        colors  \\\n",
       "0  Non-removable Li-Ion 3400 mAh battery (12.92 Wh)         Black   \n",
       "1                  Removable Li-Po 4080 mAh battery  Black| White   \n",
       "2                 Removable Li-Ion 2000 mAh battery  Black| White   \n",
       "3                      Non-removable Li-Ion battery         Black   \n",
       "4                  Removable Li-Po 4020 mAh battery   Black| Gold   \n",
       "\n",
       "  approx_price_EUR battery_removable battery_type battery_mah  \n",
       "0            170.0             False       Li-Ion      3400.0  \n",
       "1            250.0              True        Li-Po      4080.0  \n",
       "2            120.0              True       Li-Ion      2000.0  \n",
       "3            230.0             False       Li-Ion         NaN  \n",
       "4            230.0              True        Li-Po      4020.0  \n",
       "\n",
       "[5 rows x 42 columns]"
      ]
     },
     "execution_count": 28,
     "metadata": {},
     "output_type": "execute_result"
    }
   ],
   "source": [
    "# the battery column was translated into three new features:\n",
    "# 1. battery_removable (boolean)\n",
    "# 2. battery_type (string): Li-Ion / Li-Po / Li-ion / Li-po / NiMH\n",
    "# 3. battery_mah (float)\n",
    "phones.head()"
   ]
  },
  {
   "cell_type": "code",
   "execution_count": 29,
   "metadata": {},
   "outputs": [],
   "source": [
    "# now we can remove the original battery column...\n",
    "phones.drop(columns=['battery'],inplace=True)"
   ]
  },
  {
   "cell_type": "code",
   "execution_count": 30,
   "metadata": {},
   "outputs": [
    {
     "data": {
      "text/plain": [
       "0     7.0 inches (~69.8% screen-to-body ratio)\n",
       "1     5.5 inches (~71.7% screen-to-body ratio)\n",
       "2                                   5.0 inches\n",
       "3    10.1 inches (~68.4% screen-to-body ratio)\n",
       "4     5.5 inches (~69.0% screen-to-body ratio)\n",
       "Name: display_resolution, dtype: object"
      ]
     },
     "execution_count": 30,
     "metadata": {},
     "output_type": "execute_result"
    }
   ],
   "source": [
    "# begin work on display_resolution feature\n",
    "phones.display_resolution.head()"
   ]
  },
  {
   "cell_type": "code",
   "execution_count": 31,
   "metadata": {},
   "outputs": [],
   "source": [
    "# extract regex from display_resolution feature\n",
    "a = phones.display_resolution.astype(str).apply(lambda x: \n",
    "                                        (re.findall('(\\d*\\.\\d*)\\s*inches(\\s*\\(.(\\d*\\.\\d*)|)',x))) \n",
    "\n"
   ]
  },
  {
   "cell_type": "code",
   "execution_count": 32,
   "metadata": {},
   "outputs": [
    {
     "data": {
      "text/plain": [
       "350     []\n",
       "351     []\n",
       "374     []\n",
       "381     []\n",
       "383     []\n",
       "        ..\n",
       "8595    []\n",
       "8616    []\n",
       "8617    []\n",
       "8621    []\n",
       "8627    []\n",
       "Name: display_resolution, Length: 1233, dtype: object"
      ]
     },
     "execution_count": 32,
     "metadata": {},
     "output_type": "execute_result"
    }
   ],
   "source": [
    "# look at the empty regexes we got (1233 in total)\n",
    "a[a.apply(lambda x: len(x) == 0)]"
   ]
  },
  {
   "cell_type": "code",
   "execution_count": 33,
   "metadata": {},
   "outputs": [
    {
     "data": {
      "text/plain": [
       "1214"
      ]
     },
     "execution_count": 33,
     "metadata": {},
     "output_type": "execute_result"
    }
   ],
   "source": [
    "# there are origianlly 1214 NaNs in the display_resolution column \n",
    "# regex did not work for additional 19 values\n",
    "# let's look at those values ...\n",
    "phones.display_resolution.isnull().sum()"
   ]
  },
  {
   "cell_type": "code",
   "execution_count": 34,
   "metadata": {},
   "outputs": [
    {
     "data": {
      "text/plain": [
       "1410             | -\n",
       "2524             | -\n",
       "2600             | -\n",
       "2664             | -\n",
       "2668             | -\n",
       "3570             | -\n",
       "3884             | -\n",
       "3887             | -\n",
       "3889             | -\n",
       "5865    | 26 x 28 mm\n",
       "7586             | -\n",
       "7587             | -\n",
       "7598             | -\n",
       "7599             | -\n",
       "7600             | -\n",
       "7601             | -\n",
       "7731    | 53 x 40 mm\n",
       "8105             | -\n",
       "8572             | -\n",
       "Name: display_resolution, dtype: object"
      ]
     },
     "execution_count": 34,
     "metadata": {},
     "output_type": "execute_result"
    }
   ],
   "source": [
    "# here are the 19 \"weird\" display_resolution values that are not NaNs\n",
    "# conclusion: we're not missing anything by getting the empty regex for these\n",
    "phones.display_resolution[~phones.display_resolution.isnull() & a.apply(lambda x: len(x) == 0)]"
   ]
  },
  {
   "cell_type": "code",
   "execution_count": 35,
   "metadata": {},
   "outputs": [],
   "source": [
    "# functions to parse data from display_resolution regex\n",
    "\n",
    "def display_resolution_inches(regex):\n",
    "    if regex == []:\n",
    "        return np.nan\n",
    "    else:\n",
    "        return float((regex[0])[0])\n",
    "    \n",
    "def screen_to_body_ratio(regex):\n",
    "    if regex == []:\n",
    "        return np.nan\n",
    "    elif regex[0][-1] is None:\n",
    "        return np.nan\n",
    "    else:\n",
    "        return (regex[0][-1])"
   ]
  },
  {
   "cell_type": "code",
   "execution_count": 37,
   "metadata": {},
   "outputs": [],
   "source": [
    "phones['display_resolution_inches'] = a.apply(lambda x: display_resolution_inches(x))\n",
    "phones['screen_to_body_ratio_%'] = pd.to_numeric(a.apply(lambda x: screen_to_body_ratio(x)))"
   ]
  },
  {
   "cell_type": "code",
   "execution_count": 38,
   "metadata": {},
   "outputs": [
    {
     "data": {
      "text/html": [
       "<div>\n",
       "<style scoped>\n",
       "    .dataframe tbody tr th:only-of-type {\n",
       "        vertical-align: middle;\n",
       "    }\n",
       "\n",
       "    .dataframe tbody tr th {\n",
       "        vertical-align: top;\n",
       "    }\n",
       "\n",
       "    .dataframe thead th {\n",
       "        text-align: right;\n",
       "    }\n",
       "</style>\n",
       "<table border=\"1\" class=\"dataframe\">\n",
       "  <thead>\n",
       "    <tr style=\"text-align: right;\">\n",
       "      <th></th>\n",
       "      <th>brand</th>\n",
       "      <th>model</th>\n",
       "      <th>network_technology</th>\n",
       "      <th>2G_bands</th>\n",
       "      <th>3G_bands</th>\n",
       "      <th>4G_bands</th>\n",
       "      <th>network_speed</th>\n",
       "      <th>GPRS</th>\n",
       "      <th>EDGE</th>\n",
       "      <th>announced</th>\n",
       "      <th>...</th>\n",
       "      <th>radio</th>\n",
       "      <th>USB</th>\n",
       "      <th>sensors</th>\n",
       "      <th>colors</th>\n",
       "      <th>approx_price_EUR</th>\n",
       "      <th>battery_removable</th>\n",
       "      <th>battery_type</th>\n",
       "      <th>battery_mah</th>\n",
       "      <th>display_resolution_inches</th>\n",
       "      <th>screen_to_body_ratio_%</th>\n",
       "    </tr>\n",
       "  </thead>\n",
       "  <tbody>\n",
       "    <tr>\n",
       "      <th>0</th>\n",
       "      <td>Acer</td>\n",
       "      <td>Iconia Talk S</td>\n",
       "      <td>GSM / HSPA / LTE</td>\n",
       "      <td>GSM 850 / 900 / 1800 / 1900 - SIM 1 &amp; SIM 2</td>\n",
       "      <td>HSDPA 850 / 1900 / 2100</td>\n",
       "      <td>LTE band 1(2100)| 3(1800)| 7(2600)| 8(900)| 20...</td>\n",
       "      <td>HSPA 42.2/11.5 Mbps  LTE Cat4 150/50 Mbps</td>\n",
       "      <td>Yes</td>\n",
       "      <td>Yes</td>\n",
       "      <td>2016  August</td>\n",
       "      <td>...</td>\n",
       "      <td>FM radio</td>\n",
       "      <td>microUSB 2.0</td>\n",
       "      <td>Accelerometer| proximity</td>\n",
       "      <td>Black</td>\n",
       "      <td>170.0</td>\n",
       "      <td>False</td>\n",
       "      <td>Li-Ion</td>\n",
       "      <td>3400.0</td>\n",
       "      <td>7.0</td>\n",
       "      <td>69.8</td>\n",
       "    </tr>\n",
       "    <tr>\n",
       "      <th>1</th>\n",
       "      <td>Acer</td>\n",
       "      <td>Liquid Z6 Plus</td>\n",
       "      <td>GSM / HSPA / LTE</td>\n",
       "      <td>GSM 850 / 900 / 1800 / 1900 - SIM 1 &amp; SIM 2 (d...</td>\n",
       "      <td>HSDPA</td>\n",
       "      <td>LTE</td>\n",
       "      <td>HSPA 42.2/5.76 Mbps  LTE Cat4 150/50 Mbps</td>\n",
       "      <td>Yes</td>\n",
       "      <td>Yes</td>\n",
       "      <td>2016  August</td>\n",
       "      <td>...</td>\n",
       "      <td>FM radio</td>\n",
       "      <td>microUSB 2.0</td>\n",
       "      <td>Fingerprint (front-mounted)| accelerometer| pr...</td>\n",
       "      <td>Black| White</td>\n",
       "      <td>250.0</td>\n",
       "      <td>True</td>\n",
       "      <td>Li-Po</td>\n",
       "      <td>4080.0</td>\n",
       "      <td>5.5</td>\n",
       "      <td>71.7</td>\n",
       "    </tr>\n",
       "    <tr>\n",
       "      <th>2</th>\n",
       "      <td>Acer</td>\n",
       "      <td>Liquid Z6</td>\n",
       "      <td>GSM / HSPA / LTE</td>\n",
       "      <td>GSM 850 / 900 / 1800 / 1900 - SIM 1 &amp; SIM 2 (d...</td>\n",
       "      <td>HSDPA</td>\n",
       "      <td>LTE</td>\n",
       "      <td>HSPA  LTE</td>\n",
       "      <td>Yes</td>\n",
       "      <td>Yes</td>\n",
       "      <td>2016  August</td>\n",
       "      <td>...</td>\n",
       "      <td>FM radio</td>\n",
       "      <td>microUSB 2.0</td>\n",
       "      <td>Accelerometer| proximity</td>\n",
       "      <td>Black| White</td>\n",
       "      <td>120.0</td>\n",
       "      <td>True</td>\n",
       "      <td>Li-Ion</td>\n",
       "      <td>2000.0</td>\n",
       "      <td>5.0</td>\n",
       "      <td>NaN</td>\n",
       "    </tr>\n",
       "    <tr>\n",
       "      <th>3</th>\n",
       "      <td>Acer</td>\n",
       "      <td>Iconia Tab 10 A3-A40</td>\n",
       "      <td>No cellular connectivity</td>\n",
       "      <td>N/A</td>\n",
       "      <td>NaN</td>\n",
       "      <td>NaN</td>\n",
       "      <td>NaN</td>\n",
       "      <td>No</td>\n",
       "      <td>No</td>\n",
       "      <td>2016  April</td>\n",
       "      <td>...</td>\n",
       "      <td>No</td>\n",
       "      <td>microUSB 2.0</td>\n",
       "      <td>Accelerometer</td>\n",
       "      <td>Black</td>\n",
       "      <td>230.0</td>\n",
       "      <td>False</td>\n",
       "      <td>Li-Ion</td>\n",
       "      <td>NaN</td>\n",
       "      <td>10.1</td>\n",
       "      <td>68.4</td>\n",
       "    </tr>\n",
       "    <tr>\n",
       "      <th>4</th>\n",
       "      <td>Acer</td>\n",
       "      <td>Liquid X2</td>\n",
       "      <td>GSM / HSPA / LTE</td>\n",
       "      <td>GSM 850 / 900 / 1800 / 1900</td>\n",
       "      <td>HSDPA 900 / 1900 / 2100 - Europe| Taiwan</td>\n",
       "      <td>LTE 800 / 1800 / 2100 / 2600 - Europe</td>\n",
       "      <td>HSPA 42.2/5.76 Mbps  LTE Cat4 150/50 Mbps</td>\n",
       "      <td>Yes</td>\n",
       "      <td>Yes</td>\n",
       "      <td>2015  April</td>\n",
       "      <td>...</td>\n",
       "      <td>FM radio</td>\n",
       "      <td>microUSB 2.0</td>\n",
       "      <td>Accelerometer| proximity| compass</td>\n",
       "      <td>Black| Gold</td>\n",
       "      <td>230.0</td>\n",
       "      <td>True</td>\n",
       "      <td>Li-Po</td>\n",
       "      <td>4020.0</td>\n",
       "      <td>5.5</td>\n",
       "      <td>69.0</td>\n",
       "    </tr>\n",
       "  </tbody>\n",
       "</table>\n",
       "<p>5 rows × 43 columns</p>\n",
       "</div>"
      ],
      "text/plain": [
       "  brand                 model        network_technology  \\\n",
       "0  Acer         Iconia Talk S          GSM / HSPA / LTE   \n",
       "1  Acer        Liquid Z6 Plus          GSM / HSPA / LTE   \n",
       "2  Acer             Liquid Z6          GSM / HSPA / LTE   \n",
       "3  Acer  Iconia Tab 10 A3-A40  No cellular connectivity   \n",
       "4  Acer             Liquid X2          GSM / HSPA / LTE   \n",
       "\n",
       "                                            2G_bands  \\\n",
       "0        GSM 850 / 900 / 1800 / 1900 - SIM 1 & SIM 2   \n",
       "1  GSM 850 / 900 / 1800 / 1900 - SIM 1 & SIM 2 (d...   \n",
       "2  GSM 850 / 900 / 1800 / 1900 - SIM 1 & SIM 2 (d...   \n",
       "3                                                N/A   \n",
       "4                       GSM 850 / 900 / 1800 / 1900    \n",
       "\n",
       "                                   3G_bands  \\\n",
       "0                  HSDPA 850 / 1900 / 2100    \n",
       "1                                     HSDPA   \n",
       "2                                     HSDPA   \n",
       "3                                       NaN   \n",
       "4  HSDPA 900 / 1900 / 2100 - Europe| Taiwan   \n",
       "\n",
       "                                            4G_bands  \\\n",
       "0  LTE band 1(2100)| 3(1800)| 7(2600)| 8(900)| 20...   \n",
       "1                                                LTE   \n",
       "2                                                LTE   \n",
       "3                                                NaN   \n",
       "4              LTE 800 / 1800 / 2100 / 2600 - Europe   \n",
       "\n",
       "                               network_speed GPRS EDGE     announced  ...  \\\n",
       "0  HSPA 42.2/11.5 Mbps  LTE Cat4 150/50 Mbps  Yes  Yes  2016  August  ...   \n",
       "1  HSPA 42.2/5.76 Mbps  LTE Cat4 150/50 Mbps  Yes  Yes  2016  August  ...   \n",
       "2                                  HSPA  LTE  Yes  Yes  2016  August  ...   \n",
       "3                                        NaN   No   No   2016  April  ...   \n",
       "4  HSPA 42.2/5.76 Mbps  LTE Cat4 150/50 Mbps  Yes  Yes   2015  April  ...   \n",
       "\n",
       "      radio           USB                                            sensors  \\\n",
       "0  FM radio  microUSB 2.0                           Accelerometer| proximity   \n",
       "1  FM radio  microUSB 2.0  Fingerprint (front-mounted)| accelerometer| pr...   \n",
       "2  FM radio  microUSB 2.0                           Accelerometer| proximity   \n",
       "3        No  microUSB 2.0                                      Accelerometer   \n",
       "4  FM radio  microUSB 2.0                  Accelerometer| proximity| compass   \n",
       "\n",
       "         colors approx_price_EUR battery_removable battery_type battery_mah  \\\n",
       "0         Black            170.0             False       Li-Ion      3400.0   \n",
       "1  Black| White            250.0              True        Li-Po      4080.0   \n",
       "2  Black| White            120.0              True       Li-Ion      2000.0   \n",
       "3         Black            230.0             False       Li-Ion         NaN   \n",
       "4   Black| Gold            230.0              True        Li-Po      4020.0   \n",
       "\n",
       "  display_resolution_inches screen_to_body_ratio_%  \n",
       "0                       7.0                   69.8  \n",
       "1                       5.5                   71.7  \n",
       "2                       5.0                    NaN  \n",
       "3                      10.1                   68.4  \n",
       "4                       5.5                   69.0  \n",
       "\n",
       "[5 rows x 43 columns]"
      ]
     },
     "execution_count": 38,
     "metadata": {},
     "output_type": "execute_result"
    }
   ],
   "source": [
    "# the display_resolution was translated into two new features:\n",
    "# 1. display_resolution_inches (float)\n",
    "# 2. screen_to_body_ratio_% (float)\n",
    "phones.head()"
   ]
  },
  {
   "cell_type": "code",
   "execution_count": 39,
   "metadata": {},
   "outputs": [],
   "source": [
    "# now we can remove the original display_resolution column...\n",
    "phones.drop(columns=['display_resolution'],inplace=True)"
   ]
  },
  {
   "cell_type": "code",
   "execution_count": 40,
   "metadata": {},
   "outputs": [
    {
     "data": {
      "text/plain": [
       "19"
      ]
     },
     "execution_count": 40,
     "metadata": {},
     "output_type": "execute_result"
    }
   ],
   "source": [
    "phones.dimentions.isnull().sum()"
   ]
  },
  {
   "cell_type": "code",
   "execution_count": 41,
   "metadata": {},
   "outputs": [
    {
     "data": {
      "text/plain": [
       "-    331\n",
       "Name: dimentions, dtype: int64"
      ]
     },
     "execution_count": 41,
     "metadata": {},
     "output_type": "execute_result"
    }
   ],
   "source": [
    "# weird '-' as a value in 'dimentions'\n",
    "# there are 331 '-' and 19 nulls, that leaves us with 8628-331-19=8278 valid values\n",
    "phones.dimentions[phones.dimentions == '-'].value_counts()"
   ]
  },
  {
   "cell_type": "code",
   "execution_count": 42,
   "metadata": {},
   "outputs": [],
   "source": [
    "# extract regex from \"dimentions\" feature\n",
    "# eliminate 'mm' to include min value of thickness, we get two tuples, one for mm and one for inches\n",
    "a = phones.dimentions.astype(str).apply(lambda x: \n",
    "                                        (re.findall('(\\d*\\.\\d*|\\d*)\\sx\\s(\\d*\\.\\d*|\\d*)\\sx\\s(\\d*\\.\\d*|\\d*)',x))) \n",
    "# a = phones.dimentions.astype(str).apply(lambda x: \n",
    "#                                         (re.findall('(\\d*\\.\\d*|\\d*)\\sx\\s(\\d*\\.\\d*|\\d*)\\sx\\s(\\d*\\.\\d*|\\d*)\\smm',x))) \n"
   ]
  },
  {
   "cell_type": "code",
   "execution_count": 43,
   "metadata": {},
   "outputs": [
    {
     "data": {
      "text/plain": [
       "0     [(191.7, 101, 9.4), (7.55, 3.98, 0.37)]\n",
       "1    [(153.8, 75.6, 8.5), (6.06, 2.98, 0.33)]\n",
       "2                                          []\n",
       "3      [(259, 167, 8.9), (10.20, 6.57, 0.35)]\n",
       "4    [(153.3, 78.8, 8.5), (6.04, 3.10, 0.33)]\n",
       "Name: dimentions, dtype: object"
      ]
     },
     "execution_count": 43,
     "metadata": {},
     "output_type": "execute_result"
    }
   ],
   "source": [
    "a.head()"
   ]
  },
  {
   "cell_type": "code",
   "execution_count": 44,
   "metadata": {},
   "outputs": [
    {
     "data": {
      "text/plain": [
       "0     191.7 x 101 x 9.4 mm (7.55 x 3.98 x 0.37 in)\n",
       "1    153.8 x 75.6 x 8.5 mm (6.06 x 2.98 x 0.33 in)\n",
       "2                                                -\n",
       "3      259 x 167 x 8.9 mm (10.20 x 6.57 x 0.35 in)\n",
       "4    153.3 x 78.8 x 8.5 mm (6.04 x 3.10 x 0.33 in)\n",
       "Name: dimentions, dtype: object"
      ]
     },
     "execution_count": 44,
     "metadata": {},
     "output_type": "execute_result"
    }
   ],
   "source": [
    "phones.dimentions.head()"
   ]
  },
  {
   "cell_type": "code",
   "execution_count": 45,
   "metadata": {},
   "outputs": [
    {
     "data": {
      "text/plain": [
       "35                    8.9 mm thickness\n",
       "36                    8.9 mm thickness\n",
       "37                    8.9 mm thickness\n",
       "182                   9.9 mm thickness\n",
       "722                   6.9 mm thickness\n",
       "725                   8.9 mm thickness\n",
       "741       205.2 mm x 136.4 mm x X mm x\n",
       "1093                  9.5 mm thickness\n",
       "1930                  9.5 mm thickness\n",
       "2203                    8 mm thickness\n",
       "2831                      247 x 179 mm\n",
       "2833                  9.6 mm thickness\n",
       "2869                  8.5 mm thickness\n",
       "3383                 11.9 mm thickness\n",
       "3741                  5.1 mm thickness\n",
       "3743                  6.3 mm thickness\n",
       "3749                  8.5 mm thickness\n",
       "3758                    7 mm thickness\n",
       "3776                  6.9 mm thickness\n",
       "4368                            100 cc\n",
       "4982     118 x 42-50 x 18-21 mm| 98 cc\n",
       "5001    142 x 50-58 x 23-27 mm| 159 cc\n",
       "5071                  7.3 mm thickness\n",
       "5128                  7.9 mm thickness\n",
       "5169                  8.4 mm thickness\n",
       "5200                    8 mm thickness\n",
       "5201                  7.9 mm thickness\n",
       "5587                      143.3 x 73.9\n",
       "5689                  8.5 mm thickness\n",
       "5690                   11 mm thickness\n",
       "5781                  8.3 mm thickness\n",
       "5786                  9.3 mm thickness\n",
       "7065                             85 cc\n",
       "7364                       8.6mm thick\n",
       "8401                  8.3 mm thickness\n",
       "8404                  7.8 mm thickness\n",
       "8411                  7.9 mm thickness\n",
       "8559                  7.8 mm thickness\n",
       "Name: dimentions, dtype: object"
      ]
     },
     "execution_count": 45,
     "metadata": {},
     "output_type": "execute_result"
    }
   ],
   "source": [
    "# check which regex reads failed (but not because there was a NaN or '-')\n",
    "phones.dimentions[a.apply(lambda x: len(x) == 0) & ~phones.dimentions.isnull() & (phones.dimentions != '-')]"
   ]
  },
  {
   "cell_type": "code",
   "execution_count": 46,
   "metadata": {},
   "outputs": [],
   "source": [
    "# process mm thickness-only info\n",
    "b = phones.dimentions.astype(str).apply(lambda x: \n",
    "                                        (re.findall('(\\d*\\.\\d*|\\d*)\\smm\\sthickness',x)))"
   ]
  },
  {
   "cell_type": "code",
   "execution_count": 47,
   "metadata": {},
   "outputs": [],
   "source": [
    "# convert regex data into numerical data\n",
    "# return value as a list\n",
    "def dimension_conversion(regex):\n",
    "    if len(regex) == 0: # empty regex\n",
    "        return []\n",
    "    elif len(regex) == 1 & isinstance(regex[0],str): # regex coming from thickneww only data\n",
    "        new_regex = []\n",
    "        try:            \n",
    "            new_regex.append(float(regex[0]))\n",
    "        except:\n",
    "            pass\n",
    "        return new_regex\n",
    "    elif (len(regex) >= 1) & isinstance(regex[0],tuple): # regex coming from full dimension data\n",
    "        new_regex = list(regex[0])\n",
    "        for i in range(len(new_regex)):\n",
    "            try:\n",
    "                new_regex[i] = float(regex[0][i])\n",
    "            except:\n",
    "                pass\n",
    "        return new_regex\n",
    "    else:\n",
    "        return []"
   ]
  },
  {
   "cell_type": "code",
   "execution_count": 48,
   "metadata": {},
   "outputs": [],
   "source": [
    "# combine dimensions data\n",
    "# data that did not match one of the following (but wasn't NaN) was converted into NaN\n",
    "# 1. number x number x number mm\n",
    "# 2. number mm thickness\n",
    "# 3. '-'\n",
    "c = a.apply(lambda x: dimension_conversion(x)) + b.apply(lambda x: dimension_conversion(x))"
   ]
  },
  {
   "cell_type": "code",
   "execution_count": 49,
   "metadata": {},
   "outputs": [],
   "source": [
    "# define functions to extract data on each dimension\n",
    "def length(x):\n",
    "    if len(x) == 3:\n",
    "        if x[0] is not None:\n",
    "            return x[0]\n",
    "        else:\n",
    "            return np.nan\n",
    "    else:\n",
    "        return np.nan\n",
    "    \n",
    "def width(x):\n",
    "    if len(x) == 3:\n",
    "        if x[1] is not None:\n",
    "            return x[1]\n",
    "        else:\n",
    "            return np.nan\n",
    "    else:\n",
    "        return np.nan\n",
    "    \n",
    "def thickness(x):\n",
    "    if len(x) == 3:\n",
    "        if x[2] is not None:\n",
    "            return x[2]\n",
    "        else:\n",
    "            return np.nan\n",
    "    elif len(x) == 1:\n",
    "        if x[0] is not None:\n",
    "            return x[0]\n",
    "        else:\n",
    "            return np.nan\n",
    "    else:\n",
    "        return np.nan"
   ]
  },
  {
   "cell_type": "code",
   "execution_count": 50,
   "metadata": {},
   "outputs": [],
   "source": [
    "length = c.apply(lambda x: length(x))"
   ]
  },
  {
   "cell_type": "code",
   "execution_count": 51,
   "metadata": {},
   "outputs": [],
   "source": [
    "width = c.apply(lambda x: width(x))"
   ]
  },
  {
   "cell_type": "code",
   "execution_count": 52,
   "metadata": {},
   "outputs": [],
   "source": [
    "thickness = c.apply(lambda x: thickness(x))"
   ]
  },
  {
   "cell_type": "code",
   "execution_count": 53,
   "metadata": {},
   "outputs": [
    {
     "data": {
      "text/plain": [
       "35       8.9\n",
       "36       8.9\n",
       "37       8.9\n",
       "182      9.9\n",
       "722      6.9\n",
       "725      8.9\n",
       "1093     9.5\n",
       "1930     9.5\n",
       "2203     8.0\n",
       "2833     9.6\n",
       "2869     8.5\n",
       "3383    11.9\n",
       "3741     5.1\n",
       "3743     6.3\n",
       "3749     8.5\n",
       "3758     7.0\n",
       "3776     6.9\n",
       "5071     7.3\n",
       "5128     7.9\n",
       "5169     8.4\n",
       "5200     8.0\n",
       "5201     7.9\n",
       "5689     8.5\n",
       "5690    11.0\n",
       "5781     8.3\n",
       "5786     9.3\n",
       "8401     8.3\n",
       "8404     7.8\n",
       "8411     7.9\n",
       "8559     7.8\n",
       "Name: dimentions, dtype: object"
      ]
     },
     "execution_count": 53,
     "metadata": {},
     "output_type": "execute_result"
    }
   ],
   "source": [
    "# test thickness function against original b values\n",
    "thickness[c.apply(lambda x: len(x) == 1)]"
   ]
  },
  {
   "cell_type": "code",
   "execution_count": 54,
   "metadata": {},
   "outputs": [
    {
     "data": {
      "text/plain": [
       "2       NaN\n",
       "5       NaN\n",
       "146     NaN\n",
       "147     NaN\n",
       "186     NaN\n",
       "       ... \n",
       "8584    NaN\n",
       "8589    NaN\n",
       "8590    NaN\n",
       "8592    NaN\n",
       "8611    NaN\n",
       "Name: dimentions, Length: 358, dtype: object"
      ]
     },
     "execution_count": 54,
     "metadata": {},
     "output_type": "execute_result"
    }
   ],
   "source": [
    "# test thickness function against NaNs\n",
    "thickness[c.apply(lambda x: len(x) == 0)]"
   ]
  },
  {
   "cell_type": "code",
   "execution_count": 55,
   "metadata": {},
   "outputs": [],
   "source": [
    "phones['length_mm'] = length\n",
    "phones['width_mm'] = width\n",
    "phones['thickness_mm'] = thickness"
   ]
  },
  {
   "cell_type": "code",
   "execution_count": 56,
   "metadata": {},
   "outputs": [],
   "source": [
    "phones.drop(columns=['dimentions'],inplace=True)"
   ]
  },
  {
   "cell_type": "code",
   "execution_count": 57,
   "metadata": {},
   "outputs": [
    {
     "data": {
      "text/plain": [
       "8 GB                                     919\n",
       "4 GB                                     902\n",
       "16 GB                                    815\n",
       "32 GB                                    290\n",
       "512 MB                                   271\n",
       "                                        ... \n",
       "4.3 MB                                     1\n",
       "256 GB                                     1\n",
       "4.2 MB                                     1\n",
       "16GB (3G model); 16/32 GB (LTE model)      1\n",
       "512 MB (152 MB user available)             1\n",
       "Name: internal_memory, Length: 395, dtype: int64"
      ]
     },
     "execution_count": 57,
     "metadata": {},
     "output_type": "execute_result"
    }
   ],
   "source": [
    "phones.internal_memory.value_counts()"
   ]
  },
  {
   "cell_type": "code",
   "execution_count": 58,
   "metadata": {},
   "outputs": [],
   "source": [
    "# process internal_memory info\n",
    "a = phones.internal_memory.astype(str).apply(lambda x: \n",
    "                                        (re.findall('(?i)(\\d*|\\d*\\.\\d*)\\/*(\\d*)\\/*(\\d*)\\s(?=GB)|(\\d*|\\d*\\.\\d*)\\/*(\\d*)\\/*(\\d*)\\s(?=MB)|(\\d*|\\d*\\.\\d*)\\/*(\\d*)\\/*(\\d*)\\s(?=KB)',x,re.IGNORECASE)))"
   ]
  },
  {
   "cell_type": "code",
   "execution_count": 59,
   "metadata": {},
   "outputs": [
    {
     "data": {
      "text/plain": [
       "0      [(16, 32, , , , , , , )]\n",
       "1        [(32, , , , , , , , )]\n",
       "2         [(8, , , , , , , , )]\n",
       "3    [(16, 32, 64, , , , , , )]\n",
       "4        [(32, , , , , , , , )]\n",
       "5        [(32, , , , , , , , )]\n",
       "6        [(16, , , , , , , , )]\n",
       "7         [(8, , , , , , , , )]\n",
       "8      [(32, 64, , , , , , , )]\n",
       "9        [(32, , , , , , , , )]\n",
       "Name: internal_memory, dtype: object"
      ]
     },
     "execution_count": 59,
     "metadata": {},
     "output_type": "execute_result"
    }
   ],
   "source": [
    "a.head(10)"
   ]
  },
  {
   "cell_type": "code",
   "execution_count": 60,
   "metadata": {},
   "outputs": [
    {
     "data": {
      "text/plain": [
       "True"
      ]
     },
     "execution_count": 60,
     "metadata": {},
     "output_type": "execute_result"
    }
   ],
   "source": [
    "(a.iloc[3][0][3]=='')"
   ]
  },
  {
   "cell_type": "code",
   "execution_count": 61,
   "metadata": {},
   "outputs": [],
   "source": [
    "# functions for extracting internal_memory string data broken into types: GB / MB / KB\n",
    "\n",
    "def GB(regex):\n",
    "    gb = []\n",
    "    for i in range(3):\n",
    "        for j in range(2):\n",
    "            try:\n",
    "                gb.append(float(regex[j][i])) # GB found in regex groups 1, 2, and 3\n",
    "            except:\n",
    "                pass\n",
    "    return gb\n",
    "\n",
    "def MB(regex):\n",
    "    mb = []\n",
    "    for i in range(3):\n",
    "        for j in range(2):\n",
    "            try:\n",
    "                mb.append(float(regex[j][i+3])) # MB found in regex groups 4,5,6\n",
    "            except:\n",
    "                pass\n",
    "    return mb\n",
    "\n",
    "def KB(regex):\n",
    "    kb = []\n",
    "    for i in range(3):\n",
    "        for j in range(2):\n",
    "            try:\n",
    "                kb.append(float(regex[j][i+6])) # KB found in regex groups 7,8,9\n",
    "            except:\n",
    "                pass\n",
    "    return kb\n",
    "\n",
    "def GB_MB_KB(regex):\n",
    "    return [GB(regex),MB(regex),KB(regex)]"
   ]
  },
  {
   "cell_type": "code",
   "execution_count": 62,
   "metadata": {},
   "outputs": [
    {
     "data": {
      "text/plain": [
       "0             [[16.0, 32.0], [], []]\n",
       "1                   [[32.0], [], []]\n",
       "2                    [[8.0], [], []]\n",
       "3       [[16.0, 32.0, 64.0], [], []]\n",
       "4                   [[32.0], [], []]\n",
       "                    ...             \n",
       "8623                    [[], [], []]\n",
       "8624                    [[], [], []]\n",
       "8625                    [[], [], []]\n",
       "8626                    [[], [], []]\n",
       "8627                 [[], [4.0], []]\n",
       "Name: internal_memory, Length: 8628, dtype: object"
      ]
     },
     "execution_count": 62,
     "metadata": {},
     "output_type": "execute_result"
    }
   ],
   "source": [
    "a.apply(lambda x: GB_MB_KB(x))"
   ]
  },
  {
   "cell_type": "code",
   "execution_count": 63,
   "metadata": {},
   "outputs": [
    {
     "data": {
      "text/plain": [
       "165         [(8, , , , , , , , ), (5, , , , , , , , )]\n",
       "166         [(8, , , , , , , , ), (5, , , , , , , , )]\n",
       "171     [(16, , , , , , , , ), (12.9, , , , , , , , )]\n",
       "180      [(, , , 128, , , , , ), (, , , 64, , , , , )]\n",
       "197       [(16, , , , , , , , ), (32, , , , , , , , )]\n",
       "                             ...                      \n",
       "8544      [(4, , , , , , , , ), (2.3, , , , , , , , )]\n",
       "8545      [(4, , , , , , , , ), (2.6, , , , , , , , )]\n",
       "8547      [(4, , , , , , , , ), (2.5, , , , , , , , )]\n",
       "8564      [(4, , , , , , , , ), (2.5, , , , , , , , )]\n",
       "8578    [(, , , 512, , , , , ), (, , , 152, , , , , )]\n",
       "Name: internal_memory, Length: 141, dtype: object"
      ]
     },
     "execution_count": 63,
     "metadata": {},
     "output_type": "execute_result"
    }
   ],
   "source": [
    "# test internal_memory with mixed types (eg, GB and MB)\n",
    "a[a.apply(lambda x: len(x) == 2)]"
   ]
  },
  {
   "cell_type": "code",
   "execution_count": 64,
   "metadata": {},
   "outputs": [
    {
     "data": {
      "text/plain": [
       "165         [[8.0, 5.0], [], []]\n",
       "166         [[8.0, 5.0], [], []]\n",
       "171       [[16.0, 12.9], [], []]\n",
       "180      [[], [128.0, 64.0], []]\n",
       "197       [[16.0, 32.0], [], []]\n",
       "                  ...           \n",
       "8544        [[4.0, 2.3], [], []]\n",
       "8545        [[4.0, 2.6], [], []]\n",
       "8547        [[4.0, 2.5], [], []]\n",
       "8564        [[4.0, 2.5], [], []]\n",
       "8578    [[], [512.0, 152.0], []]\n",
       "Name: internal_memory, Length: 141, dtype: object"
      ]
     },
     "execution_count": 64,
     "metadata": {},
     "output_type": "execute_result"
    }
   ],
   "source": [
    "# apply BG_MB_KB to mixed type internal_memory strings to check validity\n",
    "a[a.apply(lambda x: len(x) == 2)].apply(lambda x: GB_MB_KB(x))"
   ]
  },
  {
   "cell_type": "code",
   "execution_count": 65,
   "metadata": {},
   "outputs": [],
   "source": [
    "a_GB = a.apply(lambda x: GB_MB_KB(x)[0])\n",
    "a_MB = a.apply(lambda x: GB_MB_KB(x)[1])\n",
    "a_KB = a.apply(lambda x: GB_MB_KB(x)[2])"
   ]
  },
  {
   "cell_type": "code",
   "execution_count": 66,
   "metadata": {},
   "outputs": [
    {
     "data": {
      "text/plain": [
       "0          [16.0, 32.0]\n",
       "1                [32.0]\n",
       "2                 [8.0]\n",
       "3    [16.0, 32.0, 64.0]\n",
       "4                [32.0]\n",
       "Name: internal_memory, dtype: object"
      ]
     },
     "execution_count": 66,
     "metadata": {},
     "output_type": "execute_result"
    }
   ],
   "source": [
    "a_GB.head()"
   ]
  },
  {
   "cell_type": "code",
   "execution_count": 67,
   "metadata": {},
   "outputs": [
    {
     "data": {
      "text/plain": [
       "180      [128.0, 64.0]\n",
       "1354    [256.0, 123.0]\n",
       "7351           [300.0]\n",
       "7381           [320.0]\n",
       "Name: internal_memory, dtype: object"
      ]
     },
     "execution_count": 67,
     "metadata": {},
     "output_type": "execute_result"
    }
   ],
   "source": [
    "a_MB.iloc[[180,1354,7351,7381]]"
   ]
  },
  {
   "cell_type": "code",
   "execution_count": 68,
   "metadata": {},
   "outputs": [
    {
     "data": {
      "text/plain": [
       "345     [500.0]\n",
       "450     [512.0]\n",
       "628     [650.0]\n",
       "932     [256.0]\n",
       "3479    [500.0]\n",
       "3549    [350.0]\n",
       "3552    [350.0]\n",
       "4265     [70.0]\n",
       "4266     [20.0]\n",
       "4277    [500.0]\n",
       "4297    [500.0]\n",
       "4319    [640.0]\n",
       "4403    [512.0]\n",
       "4419    [128.0]\n",
       "4961    [484.0]\n",
       "4967    [725.0]\n",
       "4970    [725.0]\n",
       "4971    [725.0]\n",
       "5223    [512.0]\n",
       "5233    [512.0]\n",
       "5320    [750.0]\n",
       "5473    [400.0]\n",
       "5542    [256.0]\n",
       "5892    [240.0]\n",
       "5905    [240.0]\n",
       "6452    [351.0]\n",
       "6453    [597.0]\n",
       "6634    [500.0]\n",
       "6701    [480.0]\n",
       "6712    [400.0]\n",
       "6739    [600.0]\n",
       "6830    [600.0]\n",
       "6832    [600.0]\n",
       "6833    [600.0]\n",
       "6834    [600.0]\n",
       "6853    [600.0]\n",
       "6875    [600.0]\n",
       "6876    [600.0]\n",
       "6877    [600.0]\n",
       "7016    [300.0]\n",
       "7203    [550.0]\n",
       "7215    [120.0]\n",
       "7217    [400.0]\n",
       "7523    [650.0]\n",
       "7524    [500.0]\n",
       "7525    [500.0]\n",
       "7530    [600.0]\n",
       "7540    [600.0]\n",
       "7541    [400.0]\n",
       "Name: internal_memory, dtype: object"
      ]
     },
     "execution_count": 68,
     "metadata": {},
     "output_type": "execute_result"
    }
   ],
   "source": [
    "# test KB types\n",
    "a_KB[a.apply(lambda x: GB_MB_KB(x)[2] != [])]"
   ]
  },
  {
   "cell_type": "code",
   "execution_count": 69,
   "metadata": {},
   "outputs": [],
   "source": [
    "# generate three seperate columns including all internal_memory options of a given type (GB / MB / KB) as floats\n",
    "# in the next step, turn categorical...\n",
    "phones[\"internal_memory_BG\"] = a_GB \n",
    "phones[\"internal_memory_MB\"] = a_MB\n",
    "phones[\"internal_memory_KB\"] = a_KB"
   ]
  },
  {
   "cell_type": "code",
   "execution_count": 70,
   "metadata": {},
   "outputs": [
    {
     "data": {
      "text/plain": [
       "1 GB RAM                                                               1449\n",
       "512 MB RAM                                                              862\n",
       "2 GB RAM                                                                618\n",
       "3 GB RAM                                                                267\n",
       "256 MB RAM                                                              241\n",
       "                                                                       ... \n",
       "3 GB RAM - ATH-AL00 model                                                 1\n",
       "2 GB RAM - KIW-CL00| KIW-TL00| KIW-TL00H| KII-L21| KII-L22| KII-L23       1\n",
       "3 GB RAM - NXT-L09| NXT-L29                                               1\n",
       "3 GB RAM (EVA-L19/EVA-L09)                                                1\n",
       "2 GB RAM/ 16 GB| 2 GB RAM (model for China)                               1\n",
       "Name: RAM, Length: 209, dtype: int64"
      ]
     },
     "execution_count": 70,
     "metadata": {},
     "output_type": "execute_result"
    }
   ],
   "source": [
    "phones.RAM.value_counts()"
   ]
  },
  {
   "cell_type": "code",
   "execution_count": 71,
   "metadata": {},
   "outputs": [],
   "source": [
    "phones_new=phones[phones['approx_price_EUR'].isnull()==0]"
   ]
  },
  {
   "cell_type": "code",
   "execution_count": 57,
   "metadata": {},
   "outputs": [
    {
     "data": {
      "text/plain": [
       "<matplotlib.axes._subplots.AxesSubplot at 0x7f91b9aacda0>"
      ]
     },
     "execution_count": 57,
     "metadata": {},
     "output_type": "execute_result"
    },
    {
     "data": {
      "image/png": "[encoded data removed]",
      "text/plain": [
       "<Figure size 432x288 with 1 Axes>"
      ]
     },
     "metadata": {},
     "output_type": "display_data"
    }
   ],
   "source": [
    "sns.heatmap(phones_new.isnull(),yticklabels=False,cbar=False,cmap='viridis')"
   ]
  },
  {
   "cell_type": "code",
   "execution_count": 72,
   "metadata": {},
   "outputs": [
    {
     "name": "stderr",
     "output_type": "stream",
     "text": [
      "C:\\Users\\ivanv\\AppData\\Local\\Temp\\ipykernel_11036\\2423259737.py:1: SettingWithCopyWarning: \n",
      "A value is trying to be set on a copy of a slice from a DataFrame\n",
      "\n",
      "See the caveats in the documentation: https://pandas.pydata.org/pandas-docs/stable/user_guide/indexing.html#returning-a-view-versus-a-copy\n",
      "  phones_new.drop('NFC',axis=1,inplace=True)\n"
     ]
    }
   ],
   "source": [
    "phones_new.drop('NFC',axis=1,inplace=True)"
   ]
  },
  {
   "cell_type": "code",
   "execution_count": 73,
   "metadata": {},
   "outputs": [
    {
     "name": "stderr",
     "output_type": "stream",
     "text": [
      "C:\\Users\\ivanv\\AppData\\Local\\Temp\\ipykernel_11036\\399891543.py:1: SettingWithCopyWarning: \n",
      "A value is trying to be set on a copy of a slice from a DataFrame\n",
      "\n",
      "See the caveats in the documentation: https://pandas.pydata.org/pandas-docs/stable/user_guide/indexing.html#returning-a-view-versus-a-copy\n",
      "  phones_new.drop('4G_bands',axis=1,inplace=True)\n"
     ]
    }
   ],
   "source": [
    "phones_new.drop('4G_bands',axis=1,inplace=True)"
   ]
  },
  {
   "cell_type": "code",
   "execution_count": 74,
   "metadata": {},
   "outputs": [
    {
     "name": "stderr",
     "output_type": "stream",
     "text": [
      "C:\\Users\\ivanv\\AppData\\Local\\Temp\\ipykernel_11036\\2184004960.py:8: SettingWithCopyWarning: \n",
      "A value is trying to be set on a copy of a slice from a DataFrame.\n",
      "Try using .loc[row_indexer,col_indexer] = value instead\n",
      "\n",
      "See the caveats in the documentation: https://pandas.pydata.org/pandas-docs/stable/user_guide/indexing.html#returning-a-view-versus-a-copy\n",
      "  phones_new['GPU_new'] = phones_new['GPU'].str.extract(a_regex).fillna('')\n",
      "C:\\Users\\ivanv\\AppData\\Local\\Temp\\ipykernel_11036\\2184004960.py:10: SettingWithCopyWarning: \n",
      "A value is trying to be set on a copy of a slice from a DataFrame.\n",
      "Try using .loc[row_indexer,col_indexer] = value instead\n",
      "\n",
      "See the caveats in the documentation: https://pandas.pydata.org/pandas-docs/stable/user_guide/indexing.html#returning-a-view-versus-a-copy\n",
      "  phones_new['GPU_new'] = phones_new['GPU_new'].apply(lambda x: GPU_replacements.get(x,''))\n"
     ]
    }
   ],
   "source": [
    "# GPU  (graphics processing unit) column will be categorial type\n",
    "\n",
    "a_regex = '(\"\"|Adreno|Intel|Mali|Broadcom|PowerVR|ULP|Vivante|Nvidia|Kepler|3D|Mediatek|SGX531u|VideoCore)'\n",
    "GPU_replacements = {'':0, 'Adreno':1,'Intel':2,'Mali':3,'Broadcom':4,'PowerVR':5,'ULP':6,'Vivante':7,'Nvidia':8,'Kepler':9\n",
    "                   ,'3D':10,'Mediatek':11,'SGX531u':12,'VideoCore':13}\n",
    "\n",
    "#Extract Using Regex\n",
    "phones_new['GPU_new'] = phones_new['GPU'].str.extract(a_regex).fillna('')\n",
    "#Look up values from dictionary\n",
    "phones_new['GPU_new'] = phones_new['GPU_new'].apply(lambda x: GPU_replacements.get(x,''))\n",
    "#Use default value from other coumn if no other value\n"
   ]
  },
  {
   "cell_type": "code",
   "execution_count": 75,
   "metadata": {},
   "outputs": [
    {
     "data": {
      "text/plain": [
       "0     2361\n",
       "1     1249\n",
       "3      754\n",
       "5      493\n",
       "6       87\n",
       "4       22\n",
       "7       15\n",
       "2       11\n",
       "10       5\n",
       "12       2\n",
       "8        1\n",
       "9        1\n",
       "11       1\n",
       "13       1\n",
       "Name: GPU_new, dtype: int64"
      ]
     },
     "execution_count": 75,
     "metadata": {},
     "output_type": "execute_result"
    }
   ],
   "source": [
    "phones_new['GPU_new'].value_counts()"
   ]
  },
  {
   "cell_type": "code",
   "execution_count": 76,
   "metadata": {},
   "outputs": [
    {
     "name": "stderr",
     "output_type": "stream",
     "text": [
      "C:\\Users\\ivanv\\AppData\\Local\\Temp\\ipykernel_11036\\3148670005.py:3: SettingWithCopyWarning: \n",
      "A value is trying to be set on a copy of a slice from a DataFrame.\n",
      "Try using .loc[row_indexer,col_indexer] = value instead\n",
      "\n",
      "See the caveats in the documentation: https://pandas.pydata.org/pandas-docs/stable/user_guide/indexing.html#returning-a-view-versus-a-copy\n",
      "  phones_new['brand_idx']=999\n",
      "C:\\Users\\ivanv\\AppData\\Local\\Temp\\ipykernel_11036\\3148670005.py:6: SettingWithCopyWarning: \n",
      "A value is trying to be set on a copy of a slice from a DataFrame\n",
      "\n",
      "See the caveats in the documentation: https://pandas.pydata.org/pandas-docs/stable/user_guide/indexing.html#returning-a-view-versus-a-copy\n",
      "  phones_new['brand_idx'].iloc[0]=1\n",
      "C:\\Users\\ivanv\\AppData\\Local\\Temp\\ipykernel_11036\\3148670005.py:10: SettingWithCopyWarning: \n",
      "A value is trying to be set on a copy of a slice from a DataFrame\n",
      "\n",
      "See the caveats in the documentation: https://pandas.pydata.org/pandas-docs/stable/user_guide/indexing.html#returning-a-view-versus-a-copy\n",
      "  phones_new['brand_idx'].iloc[i]=brands.index(phones_new['brand'].iloc[i])+1\n",
      "C:\\Users\\ivanv\\AppData\\Local\\Temp\\ipykernel_11036\\3148670005.py:14: SettingWithCopyWarning: \n",
      "A value is trying to be set on a copy of a slice from a DataFrame\n",
      "\n",
      "See the caveats in the documentation: https://pandas.pydata.org/pandas-docs/stable/user_guide/indexing.html#returning-a-view-versus-a-copy\n",
      "  phones_new['brand_idx'].iloc[i]=x\n"
     ]
    }
   ],
   "source": [
    "# indexing brands\n",
    "brands=[]\n",
    "phones_new['brand_idx']=999\n",
    "x=1\n",
    "brands.append(phones_new['brand'].iloc[0])\n",
    "phones_new['brand_idx'].iloc[0]=1\n",
    "i=1\n",
    "for i in range(1,len(phones_new['brand'])-1):\n",
    "    if phones_new['brand'].iloc[i] in brands:\n",
    "        phones_new['brand_idx'].iloc[i]=brands.index(phones_new['brand'].iloc[i])+1\n",
    "    else:\n",
    "        x=x+1\n",
    "        brands.append(phones_new['brand'].iloc[i])\n",
    "        phones_new['brand_idx'].iloc[i]=x"
   ]
  },
  {
   "cell_type": "code",
   "execution_count": 63,
   "metadata": {},
   "outputs": [],
   "source": [
    "# indexing models - irrelavant\n",
    "# models=[]\n",
    "# phones_new['model_idx']=999\n",
    "# x=1\n",
    "# models.append(phones_new['model'].iloc[0])\n",
    "# phones_new['model_idx'].iloc[0]=1\n",
    "# i=1\n",
    "# for i in range(1,len(df_new['model'])-1):\n",
    "#     if phones_new['model'].iloc[i] in models:\n",
    "#         phones_new['model_idx'].iloc[i]=models.index(phones_new['model'].iloc[i])+1\n",
    "#     else:\n",
    "#         x=x+1\n",
    "#         models.append(phones_new['model'].iloc[i])\n",
    "#         phones_new['model_idx'].iloc[i]=x"
   ]
  },
  {
   "cell_type": "code",
   "execution_count": 77,
   "metadata": {},
   "outputs": [
    {
     "name": "stderr",
     "output_type": "stream",
     "text": [
      "C:\\Users\\ivanv\\AppData\\Local\\Temp\\ipykernel_11036\\119531854.py:1: SettingWithCopyWarning: \n",
      "A value is trying to be set on a copy of a slice from a DataFrame.\n",
      "Try using .loc[row_indexer,col_indexer] = value instead\n",
      "\n",
      "See the caveats in the documentation: https://pandas.pydata.org/pandas-docs/stable/user_guide/indexing.html#returning-a-view-versus-a-copy\n",
      "  phones_new['year'] = phones_new['announced'].str.extract('(\\d\\d\\d\\d)', expand=True)\n",
      "C:\\Users\\ivanv\\AppData\\Local\\Temp\\ipykernel_11036\\119531854.py:2: SettingWithCopyWarning: \n",
      "A value is trying to be set on a copy of a slice from a DataFrame\n",
      "\n",
      "See the caveats in the documentation: https://pandas.pydata.org/pandas-docs/stable/user_guide/indexing.html#returning-a-view-versus-a-copy\n",
      "  phones_new['year'].fillna(phones_new['year'].value_counts().index[0],inplace=True)\n"
     ]
    },
    {
     "data": {
      "text/plain": [
       "2014    685\n",
       "2013    599\n",
       "2012    540\n",
       "2015    526\n",
       "2011    519\n",
       "2010    421\n",
       "2016    387\n",
       "2009    350\n",
       "2008    297\n",
       "2007    273\n",
       "2006    160\n",
       "2017    150\n",
       "2005     80\n",
       "2004     14\n",
       "2003      2\n",
       "Name: year, dtype: int64"
      ]
     },
     "execution_count": 77,
     "metadata": {},
     "output_type": "execute_result"
    }
   ],
   "source": [
    "phones_new['year'] = phones_new['announced'].str.extract('(\\d\\d\\d\\d)', expand=True)\n",
    "phones_new['year'].fillna(phones_new['year'].value_counts().index[0],inplace=True)\n",
    "phones_new['year'].value_counts()"
   ]
  },
  {
   "cell_type": "code",
   "execution_count": 78,
   "metadata": {},
   "outputs": [
    {
     "name": "stderr",
     "output_type": "stream",
     "text": [
      "C:\\Users\\ivanv\\AppData\\Local\\Temp\\ipykernel_11036\\3491606548.py:6: SettingWithCopyWarning: \n",
      "A value is trying to be set on a copy of a slice from a DataFrame.\n",
      "Try using .loc[row_indexer,col_indexer] = value instead\n",
      "\n",
      "See the caveats in the documentation: https://pandas.pydata.org/pandas-docs/stable/user_guide/indexing.html#returning-a-view-versus-a-copy\n",
      "  phones_new['Month'] = phones_new['announced'].str.extract(a_regex).fillna('')\n",
      "C:\\Users\\ivanv\\AppData\\Local\\Temp\\ipykernel_11036\\3491606548.py:8: SettingWithCopyWarning: \n",
      "A value is trying to be set on a copy of a slice from a DataFrame.\n",
      "Try using .loc[row_indexer,col_indexer] = value instead\n",
      "\n",
      "See the caveats in the documentation: https://pandas.pydata.org/pandas-docs/stable/user_guide/indexing.html#returning-a-view-versus-a-copy\n",
      "  phones_new['Month'] = phones_new['Month'].apply(lambda x: month_replacements.get(x,''))\n"
     ]
    }
   ],
   "source": [
    "a_regex = '(January|February|March|April|May|June|July|August|September|October|November|December)'\n",
    "month_replacements = {'January':1, 'February':2,\n",
    "            'March':3,'April':4 ,'May':5,'June':6,'July':7,'August':8,'September':9,'October':10,'November':11, 'December':12}\n",
    "\n",
    "#Extract Using Regex\n",
    "phones_new['Month'] = phones_new['announced'].str.extract(a_regex).fillna('')\n",
    "#Look up values from dictionary\n",
    "phones_new['Month'] = phones_new['Month'].apply(lambda x: month_replacements.get(x,''))\n",
    "#Use default value from other coumn if no other value"
   ]
  },
  {
   "cell_type": "code",
   "execution_count": 79,
   "metadata": {},
   "outputs": [
    {
     "data": {
      "text/plain": [
       "[44, 63, 29, 33, 33, 44, 27, 40, 49, 46, 29, 23]"
      ]
     },
     "execution_count": 79,
     "metadata": {},
     "output_type": "execute_result"
    }
   ],
   "source": [
    "# create a list of ratio of each month in data to complete missing data\n",
    "ratio=[]\n",
    "for i in range (1,13):\n",
    "    a=(phones_new['Month']==i).sum()/(sum(phones_new['Month'].value_counts())-(phones_new['Month']==\"\").sum())*(phones_new['Month']==\"\").sum()\n",
    "    ratio.append(round(a))\n",
    "ratio\n",
    "# sum(df_new['Month'].value_counts())"
   ]
  },
  {
   "cell_type": "code",
   "execution_count": 80,
   "metadata": {},
   "outputs": [
    {
     "name": "stderr",
     "output_type": "stream",
     "text": [
      "C:\\Users\\ivanv\\AppData\\Local\\Temp\\ipykernel_11036\\2338706264.py:2: SettingWithCopyWarning: \n",
      "A value is trying to be set on a copy of a slice from a DataFrame.\n",
      "Try using .loc[row_indexer,col_indexer] = value instead\n",
      "\n",
      "See the caveats in the documentation: https://pandas.pydata.org/pandas-docs/stable/user_guide/indexing.html#returning-a-view-versus-a-copy\n",
      "  phones_new['Month_new']=999\n",
      "C:\\Users\\ivanv\\AppData\\Local\\Temp\\ipykernel_11036\\2338706264.py:16: SettingWithCopyWarning: \n",
      "A value is trying to be set on a copy of a slice from a DataFrame\n",
      "\n",
      "See the caveats in the documentation: https://pandas.pydata.org/pandas-docs/stable/user_guide/indexing.html#returning-a-view-versus-a-copy\n",
      "  phones_new['Month_new'].iloc[i]=phones_new['Month'].iloc[i]\n",
      "C:\\Users\\ivanv\\AppData\\Local\\Temp\\ipykernel_11036\\2338706264.py:9: SettingWithCopyWarning: \n",
      "A value is trying to be set on a copy of a slice from a DataFrame\n",
      "\n",
      "See the caveats in the documentation: https://pandas.pydata.org/pandas-docs/stable/user_guide/indexing.html#returning-a-view-versus-a-copy\n",
      "  phones_new['Month_new'].iloc[i]=l\n"
     ]
    }
   ],
   "source": [
    "#creating new column-Month_new to replace \"\" with the number of month by ratio\n",
    "phones_new['Month_new']=999\n",
    "j=0 # place in list\n",
    "k=1\n",
    "l=1\n",
    "for i in range(0, len(phones_new)):\n",
    "    if phones_new['Month'].iloc[i]==\"\":\n",
    "        if k<=ratio[j]:\n",
    "            phones_new['Month_new'].iloc[i]=l\n",
    "            k=k+1\n",
    "        else:\n",
    "            k=1\n",
    "            l=l+1\n",
    "            j=j+1\n",
    "    else:\n",
    "         phones_new['Month_new'].iloc[i]=phones_new['Month'].iloc[i]"
   ]
  },
  {
   "cell_type": "code",
   "execution_count": 81,
   "metadata": {},
   "outputs": [
    {
     "name": "stderr",
     "output_type": "stream",
     "text": [
      "C:\\Users\\ivanv\\AppData\\Local\\Temp\\ipykernel_11036\\1280817381.py:1: SettingWithCopyWarning: \n",
      "A value is trying to be set on a copy of a slice from a DataFrame\n",
      "\n",
      "See the caveats in the documentation: https://pandas.pydata.org/pandas-docs/stable/user_guide/indexing.html#returning-a-view-versus-a-copy\n",
      "  phones_new['Month_new'].replace(999,12,inplace=True)\n"
     ]
    },
    {
     "data": {
      "text/plain": [
       "2     685\n",
       "9     533\n",
       "10    497\n",
       "6     483\n",
       "1     478\n",
       "8     434\n",
       "4     361\n",
       "5     356\n",
       "3     317\n",
       "11    312\n",
       "7     292\n",
       "12    255\n",
       "Name: Month_new, dtype: int64"
      ]
     },
     "execution_count": 81,
     "metadata": {},
     "output_type": "execute_result"
    }
   ],
   "source": [
    "phones_new['Month_new'].replace(999,12,inplace=True)\n",
    "phones_new['Month_new'].value_counts()"
   ]
  },
  {
   "cell_type": "code",
   "execution_count": 82,
   "metadata": {},
   "outputs": [
    {
     "name": "stderr",
     "output_type": "stream",
     "text": [
      "C:\\Users\\ivanv\\AppData\\Local\\Temp\\ipykernel_11036\\3886080971.py:4: SettingWithCopyWarning: \n",
      "A value is trying to be set on a copy of a slice from a DataFrame.\n",
      "Try using .loc[row_indexer,col_indexer] = value instead\n",
      "\n",
      "See the caveats in the documentation: https://pandas.pydata.org/pandas-docs/stable/user_guide/indexing.html#returning-a-view-versus-a-copy\n",
      "  phones_new['GPS_new']=phones_new['GPS']\n",
      "C:\\Users\\ivanv\\AppData\\Local\\Temp\\ipykernel_11036\\3886080971.py:6: SettingWithCopyWarning: \n",
      "A value is trying to be set on a copy of a slice from a DataFrame.\n",
      "Try using .loc[row_indexer,col_indexer] = value instead\n",
      "\n",
      "See the caveats in the documentation: https://pandas.pydata.org/pandas-docs/stable/user_guide/indexing.html#returning-a-view-versus-a-copy\n",
      "  phones_new['GPS_new']=phones_new['GPS_new'].str.contains(regstr, case=False, na=False)\n"
     ]
    }
   ],
   "source": [
    "#creating a binary column - GPS_new if there is a GPS in model\n",
    "check_list = ['Yes', 'GPS']\n",
    "regstr = '|'.join(check_list)\n",
    "phones_new['GPS_new']=phones_new['GPS']\n",
    "# df_new['GPS_new'] = np.where(df_new['GPS'].isin(check_list),'YES','NO')\n",
    "phones_new['GPS_new']=phones_new['GPS_new'].str.contains(regstr, case=False, na=False)"
   ]
  },
  {
   "cell_type": "code",
   "execution_count": 83,
   "metadata": {},
   "outputs": [
    {
     "name": "stderr",
     "output_type": "stream",
     "text": [
      "C:\\Users\\ivanv\\AppData\\Local\\Temp\\ipykernel_11036\\3436266700.py:1: SettingWithCopyWarning: \n",
      "A value is trying to be set on a copy of a slice from a DataFrame.\n",
      "Try using .loc[row_indexer,col_indexer] = value instead\n",
      "\n",
      "See the caveats in the documentation: https://pandas.pydata.org/pandas-docs/stable/user_guide/indexing.html#returning-a-view-versus-a-copy\n",
      "  phones_new['primary_cam_MP']=phones_new[\"primary_camera\"].str.split(' ',expand=True)[0]\n",
      "C:\\Users\\ivanv\\AppData\\Local\\Temp\\ipykernel_11036\\3436266700.py:2: SettingWithCopyWarning: \n",
      "A value is trying to be set on a copy of a slice from a DataFrame\n",
      "\n",
      "See the caveats in the documentation: https://pandas.pydata.org/pandas-docs/stable/user_guide/indexing.html#returning-a-view-versus-a-copy\n",
      "  phones_new['primary_cam_MP'].fillna(0,inplace=True)\n",
      "C:\\Users\\ivanv\\AppData\\Local\\Temp\\ipykernel_11036\\3436266700.py:3: SettingWithCopyWarning: \n",
      "A value is trying to be set on a copy of a slice from a DataFrame\n",
      "\n",
      "See the caveats in the documentation: https://pandas.pydata.org/pandas-docs/stable/user_guide/indexing.html#returning-a-view-versus-a-copy\n",
      "  phones_new['primary_cam_MP'].replace('2MP',2,inplace=True)\n",
      "C:\\Users\\ivanv\\AppData\\Local\\Temp\\ipykernel_11036\\3436266700.py:4: SettingWithCopyWarning: \n",
      "A value is trying to be set on a copy of a slice from a DataFrame\n",
      "\n",
      "See the caveats in the documentation: https://pandas.pydata.org/pandas-docs/stable/user_guide/indexing.html#returning-a-view-versus-a-copy\n",
      "  phones_new['primary_cam_MP'].replace('5MP|',5,inplace=True)\n",
      "C:\\Users\\ivanv\\AppData\\Local\\Temp\\ipykernel_11036\\3436266700.py:5: SettingWithCopyWarning: \n",
      "A value is trying to be set on a copy of a slice from a DataFrame\n",
      "\n",
      "See the caveats in the documentation: https://pandas.pydata.org/pandas-docs/stable/user_guide/indexing.html#returning-a-view-versus-a-copy\n",
      "  phones_new['primary_cam_MP'].replace('600',0,inplace=True)\n",
      "C:\\Users\\ivanv\\AppData\\Local\\Temp\\ipykernel_11036\\3436266700.py:6: SettingWithCopyWarning: \n",
      "A value is trying to be set on a copy of a slice from a DataFrame\n",
      "\n",
      "See the caveats in the documentation: https://pandas.pydata.org/pandas-docs/stable/user_guide/indexing.html#returning-a-view-versus-a-copy\n",
      "  phones_new['primary_cam_MP'].replace(['SVGA','Yes.','QVGA','Yes|','CIF','No','VGA|','Yes','Dual','VGA'],0,inplace=True)\n"
     ]
    }
   ],
   "source": [
    "phones_new['primary_cam_MP']=phones_new[\"primary_camera\"].str.split(' ',expand=True)[0]\n",
    "phones_new['primary_cam_MP'].fillna(0,inplace=True)\n",
    "phones_new['primary_cam_MP'].replace('2MP',2,inplace=True)\n",
    "phones_new['primary_cam_MP'].replace('5MP|',5,inplace=True)\n",
    "phones_new['primary_cam_MP'].replace('600',0,inplace=True)\n",
    "phones_new['primary_cam_MP'].replace(['SVGA','Yes.','QVGA','Yes|','CIF','No','VGA|','Yes','Dual','VGA'],0,inplace=True)\n",
    "\n"
   ]
  },
  {
   "cell_type": "code",
   "execution_count": 84,
   "metadata": {},
   "outputs": [
    {
     "name": "stderr",
     "output_type": "stream",
     "text": [
      "C:\\Users\\ivanv\\AppData\\Local\\Temp\\ipykernel_11036\\207009529.py:1: SettingWithCopyWarning: \n",
      "A value is trying to be set on a copy of a slice from a DataFrame.\n",
      "Try using .loc[row_indexer,col_indexer] = value instead\n",
      "\n",
      "See the caveats in the documentation: https://pandas.pydata.org/pandas-docs/stable/user_guide/indexing.html#returning-a-view-versus-a-copy\n",
      "  phones_new['secondary_cam_MP']=phones_new[\"secondary_camera\"].str.split(' ',expand=True)[0]\n",
      "C:\\Users\\ivanv\\AppData\\Local\\Temp\\ipykernel_11036\\207009529.py:2: SettingWithCopyWarning: \n",
      "A value is trying to be set on a copy of a slice from a DataFrame\n",
      "\n",
      "See the caveats in the documentation: https://pandas.pydata.org/pandas-docs/stable/user_guide/indexing.html#returning-a-view-versus-a-copy\n",
      "  phones_new['secondary_cam_MP'].fillna(0,inplace=True)\n"
     ]
    }
   ],
   "source": [
    "phones_new['secondary_cam_MP']=phones_new[\"secondary_camera\"].str.split(' ',expand=True)[0]\n",
    "phones_new['secondary_cam_MP'].fillna(0,inplace=True)"
   ]
  },
  {
   "cell_type": "code",
   "execution_count": 85,
   "metadata": {},
   "outputs": [
    {
     "name": "stderr",
     "output_type": "stream",
     "text": [
      "C:\\Users\\ivanv\\AppData\\Local\\Temp\\ipykernel_11036\\3243328648.py:1: SettingWithCopyWarning: \n",
      "A value is trying to be set on a copy of a slice from a DataFrame\n",
      "\n",
      "See the caveats in the documentation: https://pandas.pydata.org/pandas-docs/stable/user_guide/indexing.html#returning-a-view-versus-a-copy\n",
      "  phones_new['secondary_cam_MP'].replace('8MP',8,inplace=True)\n",
      "C:\\Users\\ivanv\\AppData\\Local\\Temp\\ipykernel_11036\\3243328648.py:2: SettingWithCopyWarning: \n",
      "A value is trying to be set on a copy of a slice from a DataFrame\n",
      "\n",
      "See the caveats in the documentation: https://pandas.pydata.org/pandas-docs/stable/user_guide/indexing.html#returning-a-view-versus-a-copy\n",
      "  phones_new['secondary_cam_MP'].replace('1.3MP',1.3,inplace=True)\n",
      "C:\\Users\\ivanv\\AppData\\Local\\Temp\\ipykernel_11036\\3243328648.py:3: SettingWithCopyWarning: \n",
      "A value is trying to be set on a copy of a slice from a DataFrame\n",
      "\n",
      "See the caveats in the documentation: https://pandas.pydata.org/pandas-docs/stable/user_guide/indexing.html#returning-a-view-versus-a-copy\n",
      "  phones_new['secondary_cam_MP'].replace(['No','Yes','QCIF','0.','QVGA','Videocalling','CIF','0','VGA|','HD','Dual','VGA','Spy','VGA@15fps','QCIF@15fps','VGA/','720p','Videocall',],0,inplace=True)\n"
     ]
    }
   ],
   "source": [
    "phones_new['secondary_cam_MP'].replace('8MP',8,inplace=True)\n",
    "phones_new['secondary_cam_MP'].replace('1.3MP',1.3,inplace=True)\n",
    "phones_new['secondary_cam_MP'].replace(['No','Yes','QCIF','0.','QVGA','Videocalling','CIF','0','VGA|','HD','Dual','VGA','Spy','VGA@15fps','QCIF@15fps','VGA/','720p','Videocall',],0,inplace=True)"
   ]
  },
  {
   "cell_type": "code",
   "execution_count": 86,
   "metadata": {},
   "outputs": [
    {
     "name": "stderr",
     "output_type": "stream",
     "text": [
      "C:\\Users\\ivanv\\AppData\\Local\\Temp\\ipykernel_11036\\268224.py:8: SettingWithCopyWarning: \n",
      "A value is trying to be set on a copy of a slice from a DataFrame.\n",
      "Try using .loc[row_indexer,col_indexer] = value instead\n",
      "\n",
      "See the caveats in the documentation: https://pandas.pydata.org/pandas-docs/stable/user_guide/indexing.html#returning-a-view-versus-a-copy\n",
      "  phones_new['OS'] = phones_new['OS'].str.extract(a_regex).fillna('')\n",
      "C:\\Users\\ivanv\\AppData\\Local\\Temp\\ipykernel_11036\\268224.py:10: SettingWithCopyWarning: \n",
      "A value is trying to be set on a copy of a slice from a DataFrame.\n",
      "Try using .loc[row_indexer,col_indexer] = value instead\n",
      "\n",
      "See the caveats in the documentation: https://pandas.pydata.org/pandas-docs/stable/user_guide/indexing.html#returning-a-view-versus-a-copy\n",
      "  phones_new['OS'] = phones_new['OS'].apply(lambda x: OS_replacements.get(x,''))\n"
     ]
    }
   ],
   "source": [
    "# OS  (Operation System) column will be int type\n",
    "\n",
    "a_regex = '(\"\"|Android|Windows|Firefox|iOS|BlackBerry|Linux|webOS|Sailfish|Nokia|Symbian|Tizen)'\n",
    "OS_replacements = {'':0, 'Android':1,'Windows':2,'Firefox':3,'iOS':4,'BlackBerry':5,'Linux':6,'webOS':7,'Sailfish':8,'Nokia':9\n",
    "                   ,'Symbian':10,'Tizen':11}\n",
    "\n",
    "#Extract Using Regex\n",
    "phones_new['OS'] = phones_new['OS'].str.extract(a_regex).fillna('')\n",
    "#Look up values from dictionary\n",
    "phones_new['OS'] = phones_new['OS'].apply(lambda x: OS_replacements.get(x,''))\n",
    "#Use default value from other coumn if no other value\n"
   ]
  },
  {
   "cell_type": "code",
   "execution_count": 87,
   "metadata": {},
   "outputs": [],
   "source": [
    "# drop rows with NAN and 0\n",
    "phones_new=phones_new[phones_new['length_mm']!=0]\n",
    "phones_new=phones_new[phones_new['length_mm']!=\"\"]"
   ]
  },
  {
   "cell_type": "code",
   "execution_count": 88,
   "metadata": {},
   "outputs": [],
   "source": [
    "#change data types (length_mm,Year, primary_cam_MP, secondary_cam_MP) to numeric\n",
    "phones_new['year'] = phones_new['year'].apply(lambda x: int(x))\n",
    "phones_new['primary_cam_MP'] = phones_new['primary_cam_MP'].apply(lambda x: float(x))\n",
    "phones_new['secondary_cam_MP'] = phones_new['secondary_cam_MP'].apply(lambda x: float(x))\n",
    "phones_new['length_mm']=phones_new['length_mm'].apply(lambda x: float(x))\n"
   ]
  },
  {
   "cell_type": "code",
   "execution_count": null,
   "metadata": {},
   "outputs": [],
   "source": [
    "# drop columns with over 1,000 empty cells\n",
    "phones_new.drop(['3G_bands','CPU','network_speed','Chipset','sensors','GPU','RAM'], axis=1, inplace=True)\n",
    "#sns.heatmap(phones_new.isnull(),yticklabels=False,cbar=False,cmap='viridis')"
   ]
  },
  {
   "cell_type": "markdown",
   "metadata": {},
   "source": [
    "# PLOTS"
   ]
  },
  {
   "cell_type": "code",
   "execution_count": 91,
   "metadata": {},
   "outputs": [
    {
     "data": {
      "text/html": [
       "<div>\n",
       "<style scoped>\n",
       "    .dataframe tbody tr th:only-of-type {\n",
       "        vertical-align: middle;\n",
       "    }\n",
       "\n",
       "    .dataframe tbody tr th {\n",
       "        vertical-align: top;\n",
       "    }\n",
       "\n",
       "    .dataframe thead th {\n",
       "        text-align: right;\n",
       "    }\n",
       "</style>\n",
       "<table border=\"1\" class=\"dataframe\">\n",
       "  <thead>\n",
       "    <tr style=\"text-align: right;\">\n",
       "      <th></th>\n",
       "      <th>brand</th>\n",
       "      <th>model</th>\n",
       "      <th>network_technology</th>\n",
       "      <th>2G_bands</th>\n",
       "      <th>GPRS</th>\n",
       "      <th>EDGE</th>\n",
       "      <th>announced</th>\n",
       "      <th>status</th>\n",
       "      <th>weight_g</th>\n",
       "      <th>weight_oz</th>\n",
       "      <th>...</th>\n",
       "      <th>internal_memory_MB</th>\n",
       "      <th>internal_memory_KB</th>\n",
       "      <th>GPU_new</th>\n",
       "      <th>brand_idx</th>\n",
       "      <th>year</th>\n",
       "      <th>Month</th>\n",
       "      <th>Month_new</th>\n",
       "      <th>GPS_new</th>\n",
       "      <th>primary_cam_MP</th>\n",
       "      <th>secondary_cam_MP</th>\n",
       "    </tr>\n",
       "  </thead>\n",
       "  <tbody>\n",
       "    <tr>\n",
       "      <th>0</th>\n",
       "      <td>Acer</td>\n",
       "      <td>Iconia Talk S</td>\n",
       "      <td>GSM / HSPA / LTE</td>\n",
       "      <td>GSM 850 / 900 / 1800 / 1900 - SIM 1 &amp; SIM 2</td>\n",
       "      <td>Yes</td>\n",
       "      <td>Yes</td>\n",
       "      <td>2016  August</td>\n",
       "      <td>Available. Released 2016  October</td>\n",
       "      <td>260.0</td>\n",
       "      <td>9.17</td>\n",
       "      <td>...</td>\n",
       "      <td>[]</td>\n",
       "      <td>[]</td>\n",
       "      <td>3</td>\n",
       "      <td>1</td>\n",
       "      <td>2016</td>\n",
       "      <td>8</td>\n",
       "      <td>8</td>\n",
       "      <td>True</td>\n",
       "      <td>13.00</td>\n",
       "      <td>2.0</td>\n",
       "    </tr>\n",
       "    <tr>\n",
       "      <th>1</th>\n",
       "      <td>Acer</td>\n",
       "      <td>Liquid Z6 Plus</td>\n",
       "      <td>GSM / HSPA / LTE</td>\n",
       "      <td>GSM 850 / 900 / 1800 / 1900 - SIM 1 &amp; SIM 2 (d...</td>\n",
       "      <td>Yes</td>\n",
       "      <td>Yes</td>\n",
       "      <td>2016  August</td>\n",
       "      <td>Available. Released 2016  December</td>\n",
       "      <td>169.0</td>\n",
       "      <td>5.96</td>\n",
       "      <td>...</td>\n",
       "      <td>[]</td>\n",
       "      <td>[]</td>\n",
       "      <td>3</td>\n",
       "      <td>1</td>\n",
       "      <td>2016</td>\n",
       "      <td>8</td>\n",
       "      <td>8</td>\n",
       "      <td>True</td>\n",
       "      <td>13.00</td>\n",
       "      <td>5.0</td>\n",
       "    </tr>\n",
       "    <tr>\n",
       "      <th>2</th>\n",
       "      <td>Acer</td>\n",
       "      <td>Liquid Z6</td>\n",
       "      <td>GSM / HSPA / LTE</td>\n",
       "      <td>GSM 850 / 900 / 1800 / 1900 - SIM 1 &amp; SIM 2 (d...</td>\n",
       "      <td>Yes</td>\n",
       "      <td>Yes</td>\n",
       "      <td>2016  August</td>\n",
       "      <td>Available. Released 2016  December</td>\n",
       "      <td>NaN</td>\n",
       "      <td>NaN</td>\n",
       "      <td>...</td>\n",
       "      <td>[]</td>\n",
       "      <td>[]</td>\n",
       "      <td>3</td>\n",
       "      <td>1</td>\n",
       "      <td>2016</td>\n",
       "      <td>8</td>\n",
       "      <td>8</td>\n",
       "      <td>True</td>\n",
       "      <td>8.00</td>\n",
       "      <td>2.0</td>\n",
       "    </tr>\n",
       "    <tr>\n",
       "      <th>3</th>\n",
       "      <td>Acer</td>\n",
       "      <td>Iconia Tab 10 A3-A40</td>\n",
       "      <td>No cellular connectivity</td>\n",
       "      <td>N/A</td>\n",
       "      <td>No</td>\n",
       "      <td>No</td>\n",
       "      <td>2016  April</td>\n",
       "      <td>Available. Released 2016  June</td>\n",
       "      <td>NaN</td>\n",
       "      <td>NaN</td>\n",
       "      <td>...</td>\n",
       "      <td>[]</td>\n",
       "      <td>[]</td>\n",
       "      <td>3</td>\n",
       "      <td>1</td>\n",
       "      <td>2016</td>\n",
       "      <td>4</td>\n",
       "      <td>4</td>\n",
       "      <td>False</td>\n",
       "      <td>5.00</td>\n",
       "      <td>2.0</td>\n",
       "    </tr>\n",
       "    <tr>\n",
       "      <th>4</th>\n",
       "      <td>Acer</td>\n",
       "      <td>Liquid X2</td>\n",
       "      <td>GSM / HSPA / LTE</td>\n",
       "      <td>GSM 850 / 900 / 1800 / 1900</td>\n",
       "      <td>Yes</td>\n",
       "      <td>Yes</td>\n",
       "      <td>2015  April</td>\n",
       "      <td>Available. Released 2016  February</td>\n",
       "      <td>166.0</td>\n",
       "      <td>5.86</td>\n",
       "      <td>...</td>\n",
       "      <td>[]</td>\n",
       "      <td>[]</td>\n",
       "      <td>3</td>\n",
       "      <td>1</td>\n",
       "      <td>2015</td>\n",
       "      <td>4</td>\n",
       "      <td>4</td>\n",
       "      <td>True</td>\n",
       "      <td>13.00</td>\n",
       "      <td>13.0</td>\n",
       "    </tr>\n",
       "    <tr>\n",
       "      <th>...</th>\n",
       "      <td>...</td>\n",
       "      <td>...</td>\n",
       "      <td>...</td>\n",
       "      <td>...</td>\n",
       "      <td>...</td>\n",
       "      <td>...</td>\n",
       "      <td>...</td>\n",
       "      <td>...</td>\n",
       "      <td>...</td>\n",
       "      <td>...</td>\n",
       "      <td>...</td>\n",
       "      <td>...</td>\n",
       "      <td>...</td>\n",
       "      <td>...</td>\n",
       "      <td>...</td>\n",
       "      <td>...</td>\n",
       "      <td>...</td>\n",
       "      <td>...</td>\n",
       "      <td>...</td>\n",
       "      <td>...</td>\n",
       "      <td>...</td>\n",
       "    </tr>\n",
       "    <tr>\n",
       "      <th>8591</th>\n",
       "      <td>ZTE</td>\n",
       "      <td>Racer II</td>\n",
       "      <td>GSM / HSPA</td>\n",
       "      <td>GSM 900 / 1800 / 1900</td>\n",
       "      <td>Yes</td>\n",
       "      <td>Yes</td>\n",
       "      <td>2011  August</td>\n",
       "      <td>Available. Released 2011  September</td>\n",
       "      <td>100.0</td>\n",
       "      <td>3.53</td>\n",
       "      <td>...</td>\n",
       "      <td>[256.0]</td>\n",
       "      <td>[]</td>\n",
       "      <td>0</td>\n",
       "      <td>77</td>\n",
       "      <td>2011</td>\n",
       "      <td>8</td>\n",
       "      <td>8</td>\n",
       "      <td>True</td>\n",
       "      <td>3.15</td>\n",
       "      <td>0.0</td>\n",
       "    </tr>\n",
       "    <tr>\n",
       "      <th>8592</th>\n",
       "      <td>ZTE</td>\n",
       "      <td>Libra</td>\n",
       "      <td>GSM / HSPA</td>\n",
       "      <td>GSM 850 / 900 / 1800 / 1900</td>\n",
       "      <td>Yes</td>\n",
       "      <td>Yes</td>\n",
       "      <td>2011  February</td>\n",
       "      <td>Available. Released 2011  September</td>\n",
       "      <td>NaN</td>\n",
       "      <td>NaN</td>\n",
       "      <td>...</td>\n",
       "      <td>[]</td>\n",
       "      <td>[]</td>\n",
       "      <td>1</td>\n",
       "      <td>77</td>\n",
       "      <td>2011</td>\n",
       "      <td>2</td>\n",
       "      <td>2</td>\n",
       "      <td>True</td>\n",
       "      <td>3.15</td>\n",
       "      <td>0.0</td>\n",
       "    </tr>\n",
       "    <tr>\n",
       "      <th>8594</th>\n",
       "      <td>ZTE</td>\n",
       "      <td>Blade</td>\n",
       "      <td>GSM / HSPA</td>\n",
       "      <td>GSM 900 / 1800 / 1900</td>\n",
       "      <td>Yes</td>\n",
       "      <td>Yes</td>\n",
       "      <td>2010  October. Released 2010  November</td>\n",
       "      <td>Discontinued</td>\n",
       "      <td>110.0</td>\n",
       "      <td>3.88</td>\n",
       "      <td>...</td>\n",
       "      <td>[512.0]</td>\n",
       "      <td>[]</td>\n",
       "      <td>1</td>\n",
       "      <td>77</td>\n",
       "      <td>2010</td>\n",
       "      <td>10</td>\n",
       "      <td>10</td>\n",
       "      <td>True</td>\n",
       "      <td>3.15</td>\n",
       "      <td>0.0</td>\n",
       "    </tr>\n",
       "    <tr>\n",
       "      <th>8606</th>\n",
       "      <td>ZTE</td>\n",
       "      <td>F107</td>\n",
       "      <td>GSM / UMTS</td>\n",
       "      <td>GSM 900 / 1800 / 1900</td>\n",
       "      <td>Yes</td>\n",
       "      <td>NaN</td>\n",
       "      <td>2010. Released 2010</td>\n",
       "      <td>Discontinued</td>\n",
       "      <td>90.0</td>\n",
       "      <td>3.17</td>\n",
       "      <td>...</td>\n",
       "      <td>[35.0]</td>\n",
       "      <td>[]</td>\n",
       "      <td>0</td>\n",
       "      <td>77</td>\n",
       "      <td>2010</td>\n",
       "      <td></td>\n",
       "      <td>12</td>\n",
       "      <td>False</td>\n",
       "      <td>2.00</td>\n",
       "      <td>0.0</td>\n",
       "    </tr>\n",
       "    <tr>\n",
       "      <th>8608</th>\n",
       "      <td>ZTE</td>\n",
       "      <td>Racer</td>\n",
       "      <td>GSM / HSPA</td>\n",
       "      <td>GSM 900 / 1800 / 1900</td>\n",
       "      <td>Yes</td>\n",
       "      <td>Yes</td>\n",
       "      <td>2010  July. Released 2010  July</td>\n",
       "      <td>Discontinued</td>\n",
       "      <td>100.0</td>\n",
       "      <td>3.53</td>\n",
       "      <td>...</td>\n",
       "      <td>[256.0]</td>\n",
       "      <td>[]</td>\n",
       "      <td>1</td>\n",
       "      <td>999</td>\n",
       "      <td>2010</td>\n",
       "      <td>7</td>\n",
       "      <td>7</td>\n",
       "      <td>True</td>\n",
       "      <td>3.15</td>\n",
       "      <td>0.0</td>\n",
       "    </tr>\n",
       "  </tbody>\n",
       "</table>\n",
       "<p>5002 rows × 46 columns</p>\n",
       "</div>"
      ],
      "text/plain": [
       "     brand                 model        network_technology  \\\n",
       "0     Acer         Iconia Talk S          GSM / HSPA / LTE   \n",
       "1     Acer        Liquid Z6 Plus          GSM / HSPA / LTE   \n",
       "2     Acer             Liquid Z6          GSM / HSPA / LTE   \n",
       "3     Acer  Iconia Tab 10 A3-A40  No cellular connectivity   \n",
       "4     Acer             Liquid X2          GSM / HSPA / LTE   \n",
       "...    ...                   ...                       ...   \n",
       "8591   ZTE              Racer II                GSM / HSPA   \n",
       "8592   ZTE                 Libra                GSM / HSPA   \n",
       "8594   ZTE                 Blade                GSM / HSPA   \n",
       "8606   ZTE                  F107                GSM / UMTS   \n",
       "8608   ZTE                 Racer                GSM / HSPA   \n",
       "\n",
       "                                               2G_bands GPRS EDGE  \\\n",
       "0           GSM 850 / 900 / 1800 / 1900 - SIM 1 & SIM 2  Yes  Yes   \n",
       "1     GSM 850 / 900 / 1800 / 1900 - SIM 1 & SIM 2 (d...  Yes  Yes   \n",
       "2     GSM 850 / 900 / 1800 / 1900 - SIM 1 & SIM 2 (d...  Yes  Yes   \n",
       "3                                                   N/A   No   No   \n",
       "4                          GSM 850 / 900 / 1800 / 1900   Yes  Yes   \n",
       "...                                                 ...  ...  ...   \n",
       "8591                             GSM 900 / 1800 / 1900   Yes  Yes   \n",
       "8592                       GSM 850 / 900 / 1800 / 1900   Yes  Yes   \n",
       "8594                             GSM 900 / 1800 / 1900   Yes  Yes   \n",
       "8606                             GSM 900 / 1800 / 1900   Yes  NaN   \n",
       "8608                             GSM 900 / 1800 / 1900   Yes  Yes   \n",
       "\n",
       "                                   announced  \\\n",
       "0                               2016  August   \n",
       "1                               2016  August   \n",
       "2                               2016  August   \n",
       "3                                2016  April   \n",
       "4                                2015  April   \n",
       "...                                      ...   \n",
       "8591                            2011  August   \n",
       "8592                          2011  February   \n",
       "8594  2010  October. Released 2010  November   \n",
       "8606                     2010. Released 2010   \n",
       "8608         2010  July. Released 2010  July   \n",
       "\n",
       "                                   status  weight_g  weight_oz  ...  \\\n",
       "0       Available. Released 2016  October     260.0       9.17  ...   \n",
       "1      Available. Released 2016  December     169.0       5.96  ...   \n",
       "2      Available. Released 2016  December       NaN        NaN  ...   \n",
       "3          Available. Released 2016  June       NaN        NaN  ...   \n",
       "4      Available. Released 2016  February     166.0       5.86  ...   \n",
       "...                                   ...       ...        ...  ...   \n",
       "8591  Available. Released 2011  September     100.0       3.53  ...   \n",
       "8592  Available. Released 2011  September       NaN        NaN  ...   \n",
       "8594                         Discontinued     110.0       3.88  ...   \n",
       "8606                         Discontinued      90.0       3.17  ...   \n",
       "8608                         Discontinued     100.0       3.53  ...   \n",
       "\n",
       "     internal_memory_MB internal_memory_KB GPU_new  brand_idx  year Month  \\\n",
       "0                    []                 []       3          1  2016     8   \n",
       "1                    []                 []       3          1  2016     8   \n",
       "2                    []                 []       3          1  2016     8   \n",
       "3                    []                 []       3          1  2016     4   \n",
       "4                    []                 []       3          1  2015     4   \n",
       "...                 ...                ...     ...        ...   ...   ...   \n",
       "8591            [256.0]                 []       0         77  2011     8   \n",
       "8592                 []                 []       1         77  2011     2   \n",
       "8594            [512.0]                 []       1         77  2010    10   \n",
       "8606             [35.0]                 []       0         77  2010         \n",
       "8608            [256.0]                 []       1        999  2010     7   \n",
       "\n",
       "     Month_new GPS_new primary_cam_MP secondary_cam_MP  \n",
       "0            8    True          13.00              2.0  \n",
       "1            8    True          13.00              5.0  \n",
       "2            8    True           8.00              2.0  \n",
       "3            4   False           5.00              2.0  \n",
       "4            4    True          13.00             13.0  \n",
       "...        ...     ...            ...              ...  \n",
       "8591         8    True           3.15              0.0  \n",
       "8592         2    True           3.15              0.0  \n",
       "8594        10    True           3.15              0.0  \n",
       "8606        12   False           2.00              0.0  \n",
       "8608         7    True           3.15              0.0  \n",
       "\n",
       "[5002 rows x 46 columns]"
      ]
     },
     "execution_count": 91,
     "metadata": {},
     "output_type": "execute_result"
    }
   ],
   "source": [
    "phones_new"
   ]
  },
  {
   "cell_type": "code",
   "execution_count": 77,
   "metadata": {},
   "outputs": [
    {
     "data": {
      "text/plain": [
       "<matplotlib.axes._subplots.AxesSubplot at 0x7f91b9333048>"
      ]
     },
     "execution_count": 77,
     "metadata": {},
     "output_type": "execute_result"
    },
    {
     "data": {
      "image/png": "[encoded data removed]",
      "text/plain": [
       "<Figure size 432x288 with 1 Axes>"
      ]
     },
     "metadata": {},
     "output_type": "display_data"
    }
   ],
   "source": [
    "# SUM PRICES OVER THE YEARS\n",
    "group_year_prices=phones_new.groupby('year')['approx_price_EUR'].sum()\n",
    "group_year_prices.plot.bar()"
   ]
  },
  {
   "cell_type": "code",
   "execution_count": 78,
   "metadata": {},
   "outputs": [
    {
     "data": {
      "text/plain": [
       "<matplotlib.axes._subplots.AxesSubplot at 0x7f91b9333550>"
      ]
     },
     "execution_count": 78,
     "metadata": {},
     "output_type": "execute_result"
    },
    {
     "data": {
      "image/png": "[encoded data removed]",
      "text/plain": [
       "<Figure size 432x288 with 1 Axes>"
      ]
     },
     "metadata": {},
     "output_type": "display_data"
    }
   ],
   "source": [
    "# MEAN PRICES PER YEAR\n",
    "group_year_prices_mean=phones_new.groupby('year')['approx_price_EUR'].mean()\n",
    "group_year_prices_mean.plot.bar()\n",
    "\n",
    "# 2003 AND 2017 SEEMS TO BE WITH OUTLIERS - NEED TO BE CHECKED"
   ]
  },
  {
   "cell_type": "code",
   "execution_count": 79,
   "metadata": {},
   "outputs": [
    {
     "data": {
      "image/png": "[encoded data removed]",
      "text/plain": [
       "<Figure size 432x288 with 1 Axes>"
      ]
     },
     "metadata": {},
     "output_type": "display_data"
    }
   ],
   "source": [
    "\n",
    "ax = sns.boxplot(x='year', y='approx_price_EUR', data=phones_new[phones_new['year']==2017])\n",
    "# OVER 5000 EURO'S - not reasonable"
   ]
  },
  {
   "cell_type": "code",
   "execution_count": 80,
   "metadata": {},
   "outputs": [],
   "source": []
  },
  {
   "cell_type": "code",
   "execution_count": 80,
   "metadata": {},
   "outputs": [
    {
     "data": {
      "image/png": "[encoded data removed]",
      "text/plain": [
       "<Figure size 864x576 with 1 Axes>"
      ]
     },
     "metadata": {},
     "output_type": "display_data"
    }
   ],
   "source": [
    "# Checking outliers by months\n",
    "phones_new_month=phones_new[['Month_new','approx_price_EUR']]\n",
    "plt.figure(figsize=(12,8))\n",
    "ax = sns.boxplot(x=\"Month_new\", y=\"approx_price_EUR\", data=phones_new_month,palette=\"Set3\")\n",
    "plt.show()\n",
    "\n",
    "#Several samples over ~1,000 euro, to be dropped\n"
   ]
  },
  {
   "cell_type": "code",
   "execution_count": 81,
   "metadata": {},
   "outputs": [
    {
     "data": {
      "text/plain": [
       "0-100       1844\n",
       "101-200     1728\n",
       "201-300      819\n",
       "301-400      309\n",
       "401-500      156\n",
       "501-600       55\n",
       "601-700       33\n",
       "1001+         28\n",
       "701-800       18\n",
       "801-900       10\n",
       "901-1000       2\n",
       "Name: Range, dtype: int64"
      ]
     },
     "execution_count": 81,
     "metadata": {},
     "output_type": "execute_result"
    }
   ],
   "source": [
    "# DECLARE RANGES AND CHECK NUMBER OF SAMPLES IN EACH RANGE\n",
    "bins = [0,100, 200, 300, 400, 500,600,700,800,900,1000, np.inf]\n",
    "names = ['0-100','101-200', '201-300', '301-400', '401-500', '501-600','601-700','701-800','801-900','901-1000','1001+']\n",
    "\n",
    "phones_new['Range'] = pd.cut(phones_new['approx_price_EUR'], bins, labels=names)\n",
    "phones_new['Range'].value_counts(dropna=False)"
   ]
  },
  {
   "cell_type": "code",
   "execution_count": 82,
   "metadata": {},
   "outputs": [],
   "source": [
    "# drop rows where price is over 1000 EURO\n",
    "phones_new = phones_new.drop(phones_new[(phones_new['approx_price_EUR'] >=1000)].index)"
   ]
  },
  {
   "cell_type": "code",
   "execution_count": 83,
   "metadata": {},
   "outputs": [
    {
     "data": {
      "image/png": "[encoded data removed]",
      "text/plain": [
       "<Figure size 1584x576 with 1 Axes>"
      ]
     },
     "metadata": {},
     "output_type": "display_data"
    }
   ],
   "source": [
    "# Check prices after dropping outliers - yearly\n",
    "phones_new_year=phones_new[['year','approx_price_EUR']]\n",
    "plt.figure(figsize=(22,8))\n",
    "ax = sns.boxplot(x=\"year\", y=\"approx_price_EUR\", data=phones_new_year,palette=\"Set3\")\n",
    "plt.show()"
   ]
  },
  {
   "cell_type": "code",
   "execution_count": 84,
   "metadata": {},
   "outputs": [
    {
     "data": {
      "image/png": "[encoded data removed]",
      "text/plain": [
       "<Figure size 864x576 with 1 Axes>"
      ]
     },
     "metadata": {},
     "output_type": "display_data"
    }
   ],
   "source": [
    "# Check prices after dropping outliers - monthly\n",
    "phones_new_month=phones_new[['Month_new','approx_price_EUR']]\n",
    "plt.figure(figsize=(12,8))\n",
    "ax = sns.boxplot(x=\"Month_new\", y=\"approx_price_EUR\", data=phones_new_month,palette=\"Set3\")\n",
    "plt.show()"
   ]
  },
  {
   "cell_type": "code",
   "execution_count": 85,
   "metadata": {},
   "outputs": [
    {
     "data": {
      "text/html": [
       "<div>\n",
       "<style scoped>\n",
       "    .dataframe tbody tr th:only-of-type {\n",
       "        vertical-align: middle;\n",
       "    }\n",
       "\n",
       "    .dataframe tbody tr th {\n",
       "        vertical-align: top;\n",
       "    }\n",
       "\n",
       "    .dataframe thead th {\n",
       "        text-align: right;\n",
       "    }\n",
       "</style>\n",
       "<table border=\"1\" class=\"dataframe\">\n",
       "  <thead>\n",
       "    <tr style=\"text-align: right;\">\n",
       "      <th></th>\n",
       "      <th>approx_price_EUR</th>\n",
       "      <th>OS</th>\n",
       "      <th>weight_g</th>\n",
       "      <th>weight_oz</th>\n",
       "      <th>GPS_new</th>\n",
       "      <th>primary_cam_MP</th>\n",
       "      <th>secondary_cam_MP</th>\n",
       "      <th>GPU_new</th>\n",
       "      <th>battery_mah</th>\n",
       "      <th>display_resolution_inches</th>\n",
       "      <th>screen_to_body_ratio_%</th>\n",
       "      <th>length_mm</th>\n",
       "      <th>brand_idx</th>\n",
       "    </tr>\n",
       "  </thead>\n",
       "  <tbody>\n",
       "    <tr>\n",
       "      <th>approx_price_EUR</th>\n",
       "      <td>1.000000</td>\n",
       "      <td>0.390443</td>\n",
       "      <td>0.483319</td>\n",
       "      <td>0.393728</td>\n",
       "      <td>0.433145</td>\n",
       "      <td>0.481305</td>\n",
       "      <td>0.440234</td>\n",
       "      <td>0.341186</td>\n",
       "      <td>0.437435</td>\n",
       "      <td>0.450440</td>\n",
       "      <td>0.489594</td>\n",
       "      <td>0.397510</td>\n",
       "      <td>-0.036488</td>\n",
       "    </tr>\n",
       "    <tr>\n",
       "      <th>OS</th>\n",
       "      <td>0.390443</td>\n",
       "      <td>1.000000</td>\n",
       "      <td>0.415906</td>\n",
       "      <td>0.371804</td>\n",
       "      <td>0.586010</td>\n",
       "      <td>0.359251</td>\n",
       "      <td>0.259043</td>\n",
       "      <td>0.375086</td>\n",
       "      <td>0.351907</td>\n",
       "      <td>0.366426</td>\n",
       "      <td>0.354346</td>\n",
       "      <td>0.334394</td>\n",
       "      <td>-0.155668</td>\n",
       "    </tr>\n",
       "    <tr>\n",
       "      <th>weight_g</th>\n",
       "      <td>0.483319</td>\n",
       "      <td>0.415906</td>\n",
       "      <td>1.000000</td>\n",
       "      <td>0.857274</td>\n",
       "      <td>0.507463</td>\n",
       "      <td>0.464918</td>\n",
       "      <td>0.427815</td>\n",
       "      <td>0.444383</td>\n",
       "      <td>0.664123</td>\n",
       "      <td>0.708358</td>\n",
       "      <td>0.550688</td>\n",
       "      <td>0.657263</td>\n",
       "      <td>-0.129089</td>\n",
       "    </tr>\n",
       "    <tr>\n",
       "      <th>weight_oz</th>\n",
       "      <td>0.393728</td>\n",
       "      <td>0.371804</td>\n",
       "      <td>0.857274</td>\n",
       "      <td>1.000000</td>\n",
       "      <td>0.472591</td>\n",
       "      <td>0.453538</td>\n",
       "      <td>0.377237</td>\n",
       "      <td>0.353177</td>\n",
       "      <td>0.555563</td>\n",
       "      <td>0.563174</td>\n",
       "      <td>0.489051</td>\n",
       "      <td>0.516838</td>\n",
       "      <td>-0.107328</td>\n",
       "    </tr>\n",
       "    <tr>\n",
       "      <th>GPS_new</th>\n",
       "      <td>0.433145</td>\n",
       "      <td>0.586010</td>\n",
       "      <td>0.507463</td>\n",
       "      <td>0.472591</td>\n",
       "      <td>1.000000</td>\n",
       "      <td>0.601401</td>\n",
       "      <td>0.473784</td>\n",
       "      <td>0.550016</td>\n",
       "      <td>0.544011</td>\n",
       "      <td>0.563222</td>\n",
       "      <td>0.555943</td>\n",
       "      <td>0.513580</td>\n",
       "      <td>-0.097858</td>\n",
       "    </tr>\n",
       "    <tr>\n",
       "      <th>primary_cam_MP</th>\n",
       "      <td>0.481305</td>\n",
       "      <td>0.359251</td>\n",
       "      <td>0.464918</td>\n",
       "      <td>0.453538</td>\n",
       "      <td>0.601401</td>\n",
       "      <td>1.000000</td>\n",
       "      <td>0.611281</td>\n",
       "      <td>0.438618</td>\n",
       "      <td>0.557748</td>\n",
       "      <td>0.600267</td>\n",
       "      <td>0.644859</td>\n",
       "      <td>0.516864</td>\n",
       "      <td>-0.044899</td>\n",
       "    </tr>\n",
       "    <tr>\n",
       "      <th>secondary_cam_MP</th>\n",
       "      <td>0.440234</td>\n",
       "      <td>0.259043</td>\n",
       "      <td>0.427815</td>\n",
       "      <td>0.377237</td>\n",
       "      <td>0.473784</td>\n",
       "      <td>0.611281</td>\n",
       "      <td>1.000000</td>\n",
       "      <td>0.419559</td>\n",
       "      <td>0.579766</td>\n",
       "      <td>0.574183</td>\n",
       "      <td>0.629735</td>\n",
       "      <td>0.566632</td>\n",
       "      <td>-0.039818</td>\n",
       "    </tr>\n",
       "    <tr>\n",
       "      <th>GPU_new</th>\n",
       "      <td>0.341186</td>\n",
       "      <td>0.375086</td>\n",
       "      <td>0.444383</td>\n",
       "      <td>0.353177</td>\n",
       "      <td>0.550016</td>\n",
       "      <td>0.438618</td>\n",
       "      <td>0.419559</td>\n",
       "      <td>1.000000</td>\n",
       "      <td>0.472068</td>\n",
       "      <td>0.507031</td>\n",
       "      <td>0.461181</td>\n",
       "      <td>0.487085</td>\n",
       "      <td>-0.109318</td>\n",
       "    </tr>\n",
       "    <tr>\n",
       "      <th>battery_mah</th>\n",
       "      <td>0.437435</td>\n",
       "      <td>0.351907</td>\n",
       "      <td>0.664123</td>\n",
       "      <td>0.555563</td>\n",
       "      <td>0.544011</td>\n",
       "      <td>0.557748</td>\n",
       "      <td>0.579766</td>\n",
       "      <td>0.472068</td>\n",
       "      <td>1.000000</td>\n",
       "      <td>0.812019</td>\n",
       "      <td>0.683340</td>\n",
       "      <td>0.775037</td>\n",
       "      <td>-0.082583</td>\n",
       "    </tr>\n",
       "    <tr>\n",
       "      <th>display_resolution_inches</th>\n",
       "      <td>0.450440</td>\n",
       "      <td>0.366426</td>\n",
       "      <td>0.708358</td>\n",
       "      <td>0.563174</td>\n",
       "      <td>0.563222</td>\n",
       "      <td>0.600267</td>\n",
       "      <td>0.574183</td>\n",
       "      <td>0.507031</td>\n",
       "      <td>0.812019</td>\n",
       "      <td>1.000000</td>\n",
       "      <td>0.798162</td>\n",
       "      <td>0.833828</td>\n",
       "      <td>-0.116648</td>\n",
       "    </tr>\n",
       "    <tr>\n",
       "      <th>screen_to_body_ratio_%</th>\n",
       "      <td>0.489594</td>\n",
       "      <td>0.354346</td>\n",
       "      <td>0.550688</td>\n",
       "      <td>0.489051</td>\n",
       "      <td>0.555943</td>\n",
       "      <td>0.644859</td>\n",
       "      <td>0.629735</td>\n",
       "      <td>0.461181</td>\n",
       "      <td>0.683340</td>\n",
       "      <td>0.798162</td>\n",
       "      <td>1.000000</td>\n",
       "      <td>0.629271</td>\n",
       "      <td>-0.079100</td>\n",
       "    </tr>\n",
       "    <tr>\n",
       "      <th>length_mm</th>\n",
       "      <td>0.397510</td>\n",
       "      <td>0.334394</td>\n",
       "      <td>0.657263</td>\n",
       "      <td>0.516838</td>\n",
       "      <td>0.513580</td>\n",
       "      <td>0.516864</td>\n",
       "      <td>0.566632</td>\n",
       "      <td>0.487085</td>\n",
       "      <td>0.775037</td>\n",
       "      <td>0.833828</td>\n",
       "      <td>0.629271</td>\n",
       "      <td>1.000000</td>\n",
       "      <td>-0.117753</td>\n",
       "    </tr>\n",
       "    <tr>\n",
       "      <th>brand_idx</th>\n",
       "      <td>-0.036488</td>\n",
       "      <td>-0.155668</td>\n",
       "      <td>-0.129089</td>\n",
       "      <td>-0.107328</td>\n",
       "      <td>-0.097858</td>\n",
       "      <td>-0.044899</td>\n",
       "      <td>-0.039818</td>\n",
       "      <td>-0.109318</td>\n",
       "      <td>-0.082583</td>\n",
       "      <td>-0.116648</td>\n",
       "      <td>-0.079100</td>\n",
       "      <td>-0.117753</td>\n",
       "      <td>1.000000</td>\n",
       "    </tr>\n",
       "  </tbody>\n",
       "</table>\n",
       "</div>"
      ],
      "text/plain": [
       "                           approx_price_EUR    ...      brand_idx\n",
       "approx_price_EUR                   1.000000    ...      -0.036488\n",
       "OS                                 0.390443    ...      -0.155668\n",
       "weight_g                           0.483319    ...      -0.129089\n",
       "weight_oz                          0.393728    ...      -0.107328\n",
       "GPS_new                            0.433145    ...      -0.097858\n",
       "primary_cam_MP                     0.481305    ...      -0.044899\n",
       "secondary_cam_MP                   0.440234    ...      -0.039818\n",
       "GPU_new                            0.341186    ...      -0.109318\n",
       "battery_mah                        0.437435    ...      -0.082583\n",
       "display_resolution_inches          0.450440    ...      -0.116648\n",
       "screen_to_body_ratio_%             0.489594    ...      -0.079100\n",
       "length_mm                          0.397510    ...      -0.117753\n",
       "brand_idx                         -0.036488    ...       1.000000\n",
       "\n",
       "[13 rows x 13 columns]"
      ]
     },
     "execution_count": 85,
     "metadata": {},
     "output_type": "execute_result"
    }
   ],
   "source": [
    "# creating subdata of numeric and bool features to see corr\n",
    "phones_corr=phones_new[['approx_price_EUR','OS','weight_g','weight_oz', 'GPS_new', 'primary_cam_MP', 'secondary_cam_MP','GPU_new', 'battery_mah','battery_removable',\n",
    "       'display_resolution_inches', 'screen_to_body_ratio_%', 'length_mm','brand_idx']]\n",
    "phones_corr.corr(method ='kendall')"
   ]
  },
  {
   "cell_type": "code",
   "execution_count": 86,
   "metadata": {},
   "outputs": [
    {
     "data": {
      "image/png": "[encoded data removed]",
      "text/plain": [
       "<Figure size 720x432 with 2 Axes>"
      ]
     },
     "metadata": {},
     "output_type": "display_data"
    }
   ],
   "source": [
    "# Heatmap of corr - check important features\n",
    "corr=phones_corr.corr()\n",
    "fig=plt.figure(figsize=(10,6))\n",
    "ax=fig.add_subplot(111)\n",
    "cax=ax.matshow(corr,cmap='coolwarm',vmin=-1, vmax=1)\n",
    "fig.colorbar(cax)\n",
    "ticks=np.arange(0,len(phones_corr.columns)-1,1)\n",
    "ax.set_xticks(ticks)\n",
    "plt.xticks(rotation=90)\n",
    "ax.set_yticks(ticks)\n",
    "ax.set_xticklabels(phones_corr.columns)\n",
    "ax.set_yticklabels(phones_corr.columns)\n",
    "plt.show()"
   ]
  },
  {
   "cell_type": "markdown",
   "metadata": {},
   "source": [
    "# Define the dataframe for the model "
   ]
  },
  {
   "cell_type": "code",
   "execution_count": 92,
   "metadata": {},
   "outputs": [],
   "source": [
    "phones_ready=phones_new[['approx_price_EUR','OS','weight_g','weight_oz', 'GPS_new', 'primary_cam_MP', 'secondary_cam_MP','GPU_new', 'battery_mah','battery_removable',\n",
    "       'display_resolution_inches', 'screen_to_body_ratio_%', 'length_mm','width_mm','brand_idx']]\n"
   ]
  },
  {
   "cell_type": "code",
   "execution_count": 93,
   "metadata": {},
   "outputs": [],
   "source": [
    "phones_ready=phones_ready.dropna(subset=['screen_to_body_ratio_%', 'battery_mah','length_mm','width_mm','battery_removable'])\n",
    "\n",
    "phones_ready['weight_g'].fillna(phones_ready['weight_g'].mean(),inplace=True)\n",
    "phones_ready['weight_oz'].fillna(phones_ready['weight_oz'].mean(),inplace=True)\n",
    "phones_ready['battery_removable'] = phones_ready['battery_removable'].apply(lambda x: bool(x))"
   ]
  },
  {
   "cell_type": "code",
   "execution_count": 94,
   "metadata": {},
   "outputs": [
    {
     "data": {
      "text/plain": [
       "100    1007\n",
       "150     862\n",
       "200     575\n",
       "50      415\n",
       "250     412\n",
       "300     311\n",
       "350     162\n",
       "800     121\n",
       "400     114\n",
       "450      88\n",
       "500      48\n",
       "Name: price_Range, dtype: int64"
      ]
     },
     "execution_count": 94,
     "metadata": {},
     "output_type": "execute_result"
    }
   ],
   "source": [
    "# Define ranges to each group for classification\n",
    "bins = [0,50, 100, 150, 200, 250,300,350,400,450,500, np.inf]\n",
    "names = [50,100, 150, 200, 250,300,350,400,450,500,800]\n",
    "\n",
    "phones_ready['price_Range'] = pd.cut(phones_ready['approx_price_EUR'], bins, labels=names)\n",
    "phones_ready['price_Range'].value_counts(dropna=False)"
   ]
  },
  {
   "cell_type": "code",
   "execution_count": 95,
   "metadata": {},
   "outputs": [
    {
     "name": "stdout",
     "output_type": "stream",
     "text": [
      "<class 'pandas.core.frame.DataFrame'>\n",
      "Int64Index: 4115 entries, 0 to 8608\n",
      "Data columns (total 16 columns):\n",
      " #   Column                     Non-Null Count  Dtype   \n",
      "---  ------                     --------------  -----   \n",
      " 0   approx_price_EUR           4115 non-null   float64 \n",
      " 1   OS                         4115 non-null   int64   \n",
      " 2   weight_g                   4115 non-null   float64 \n",
      " 3   weight_oz                  4115 non-null   float64 \n",
      " 4   GPS_new                    4115 non-null   bool    \n",
      " 5   primary_cam_MP             4115 non-null   float64 \n",
      " 6   secondary_cam_MP           4115 non-null   float64 \n",
      " 7   GPU_new                    4115 non-null   int64   \n",
      " 8   battery_mah                4115 non-null   float64 \n",
      " 9   battery_removable          4115 non-null   bool    \n",
      " 10  display_resolution_inches  4115 non-null   float64 \n",
      " 11  screen_to_body_ratio_%     4115 non-null   float64 \n",
      " 12  length_mm                  4115 non-null   float64 \n",
      " 13  width_mm                   4115 non-null   float64 \n",
      " 14  brand_idx                  4115 non-null   int64   \n",
      " 15  price_Range                4115 non-null   category\n",
      "dtypes: bool(2), category(1), float64(10), int64(3)\n",
      "memory usage: 462.5 KB\n"
     ]
    }
   ],
   "source": [
    "\n",
    "phones_ready.info()"
   ]
  },
  {
   "cell_type": "code",
   "execution_count": 98,
   "metadata": {},
   "outputs": [
    {
     "data": {
      "text/plain": [
       "0       1\n",
       "1       1\n",
       "2       1\n",
       "3       1\n",
       "4       1\n",
       "       ..\n",
       "8591    1\n",
       "8592    1\n",
       "8594    1\n",
       "8606    0\n",
       "8608    1\n",
       "Name: OS, Length: 5002, dtype: int64"
      ]
     },
     "execution_count": 98,
     "metadata": {},
     "output_type": "execute_result"
    }
   ],
   "source": [
    "phones_new['OS']"
   ]
  },
  {
   "cell_type": "code",
   "execution_count": 96,
   "metadata": {},
   "outputs": [
    {
     "data": {
      "text/html": [
       "<div>\n",
       "<style scoped>\n",
       "    .dataframe tbody tr th:only-of-type {\n",
       "        vertical-align: middle;\n",
       "    }\n",
       "\n",
       "    .dataframe tbody tr th {\n",
       "        vertical-align: top;\n",
       "    }\n",
       "\n",
       "    .dataframe thead th {\n",
       "        text-align: right;\n",
       "    }\n",
       "</style>\n",
       "<table border=\"1\" class=\"dataframe\">\n",
       "  <thead>\n",
       "    <tr style=\"text-align: right;\">\n",
       "      <th></th>\n",
       "      <th>approx_price_EUR</th>\n",
       "      <th>OS</th>\n",
       "      <th>weight_g</th>\n",
       "      <th>weight_oz</th>\n",
       "      <th>GPS_new</th>\n",
       "      <th>primary_cam_MP</th>\n",
       "      <th>secondary_cam_MP</th>\n",
       "      <th>GPU_new</th>\n",
       "      <th>battery_mah</th>\n",
       "      <th>battery_removable</th>\n",
       "      <th>display_resolution_inches</th>\n",
       "      <th>screen_to_body_ratio_%</th>\n",
       "      <th>length_mm</th>\n",
       "      <th>width_mm</th>\n",
       "      <th>brand_idx</th>\n",
       "      <th>price_Range</th>\n",
       "    </tr>\n",
       "  </thead>\n",
       "  <tbody>\n",
       "    <tr>\n",
       "      <th>0</th>\n",
       "      <td>170.0</td>\n",
       "      <td>1</td>\n",
       "      <td>260.000000</td>\n",
       "      <td>9.170000</td>\n",
       "      <td>True</td>\n",
       "      <td>13.00</td>\n",
       "      <td>2.0</td>\n",
       "      <td>3</td>\n",
       "      <td>3400.0</td>\n",
       "      <td>False</td>\n",
       "      <td>7.0</td>\n",
       "      <td>69.8</td>\n",
       "      <td>191.7</td>\n",
       "      <td>101.0</td>\n",
       "      <td>1</td>\n",
       "      <td>200</td>\n",
       "    </tr>\n",
       "    <tr>\n",
       "      <th>1</th>\n",
       "      <td>250.0</td>\n",
       "      <td>1</td>\n",
       "      <td>169.000000</td>\n",
       "      <td>5.960000</td>\n",
       "      <td>True</td>\n",
       "      <td>13.00</td>\n",
       "      <td>5.0</td>\n",
       "      <td>3</td>\n",
       "      <td>4080.0</td>\n",
       "      <td>True</td>\n",
       "      <td>5.5</td>\n",
       "      <td>71.7</td>\n",
       "      <td>153.8</td>\n",
       "      <td>75.6</td>\n",
       "      <td>1</td>\n",
       "      <td>250</td>\n",
       "    </tr>\n",
       "    <tr>\n",
       "      <th>4</th>\n",
       "      <td>230.0</td>\n",
       "      <td>1</td>\n",
       "      <td>166.000000</td>\n",
       "      <td>5.860000</td>\n",
       "      <td>True</td>\n",
       "      <td>13.00</td>\n",
       "      <td>13.0</td>\n",
       "      <td>3</td>\n",
       "      <td>4020.0</td>\n",
       "      <td>True</td>\n",
       "      <td>5.5</td>\n",
       "      <td>69.0</td>\n",
       "      <td>153.3</td>\n",
       "      <td>78.8</td>\n",
       "      <td>1</td>\n",
       "      <td>250</td>\n",
       "    </tr>\n",
       "    <tr>\n",
       "      <th>6</th>\n",
       "      <td>200.0</td>\n",
       "      <td>1</td>\n",
       "      <td>152.606661</td>\n",
       "      <td>4.759246</td>\n",
       "      <td>True</td>\n",
       "      <td>13.00</td>\n",
       "      <td>5.0</td>\n",
       "      <td>3</td>\n",
       "      <td>5000.0</td>\n",
       "      <td>False</td>\n",
       "      <td>5.5</td>\n",
       "      <td>70.3</td>\n",
       "      <td>154.0</td>\n",
       "      <td>77.0</td>\n",
       "      <td>1</td>\n",
       "      <td>200</td>\n",
       "    </tr>\n",
       "    <tr>\n",
       "      <th>7</th>\n",
       "      <td>110.0</td>\n",
       "      <td>1</td>\n",
       "      <td>125.000000</td>\n",
       "      <td>4.410000</td>\n",
       "      <td>True</td>\n",
       "      <td>8.00</td>\n",
       "      <td>5.0</td>\n",
       "      <td>3</td>\n",
       "      <td>2000.0</td>\n",
       "      <td>True</td>\n",
       "      <td>5.0</td>\n",
       "      <td>66.4</td>\n",
       "      <td>145.7</td>\n",
       "      <td>71.2</td>\n",
       "      <td>1</td>\n",
       "      <td>150</td>\n",
       "    </tr>\n",
       "    <tr>\n",
       "      <th>...</th>\n",
       "      <td>...</td>\n",
       "      <td>...</td>\n",
       "      <td>...</td>\n",
       "      <td>...</td>\n",
       "      <td>...</td>\n",
       "      <td>...</td>\n",
       "      <td>...</td>\n",
       "      <td>...</td>\n",
       "      <td>...</td>\n",
       "      <td>...</td>\n",
       "      <td>...</td>\n",
       "      <td>...</td>\n",
       "      <td>...</td>\n",
       "      <td>...</td>\n",
       "      <td>...</td>\n",
       "      <td>...</td>\n",
       "    </tr>\n",
       "    <tr>\n",
       "      <th>8585</th>\n",
       "      <td>170.0</td>\n",
       "      <td>1</td>\n",
       "      <td>403.000000</td>\n",
       "      <td>14.220000</td>\n",
       "      <td>True</td>\n",
       "      <td>3.15</td>\n",
       "      <td>0.0</td>\n",
       "      <td>0</td>\n",
       "      <td>3400.0</td>\n",
       "      <td>False</td>\n",
       "      <td>7.0</td>\n",
       "      <td>66.0</td>\n",
       "      <td>192.0</td>\n",
       "      <td>110.0</td>\n",
       "      <td>77</td>\n",
       "      <td>200</td>\n",
       "    </tr>\n",
       "    <tr>\n",
       "      <th>8587</th>\n",
       "      <td>250.0</td>\n",
       "      <td>1</td>\n",
       "      <td>120.000000</td>\n",
       "      <td>4.230000</td>\n",
       "      <td>True</td>\n",
       "      <td>5.00</td>\n",
       "      <td>0.0</td>\n",
       "      <td>0</td>\n",
       "      <td>1400.0</td>\n",
       "      <td>True</td>\n",
       "      <td>4.3</td>\n",
       "      <td>61.7</td>\n",
       "      <td>125.9</td>\n",
       "      <td>67.8</td>\n",
       "      <td>77</td>\n",
       "      <td>250</td>\n",
       "    </tr>\n",
       "    <tr>\n",
       "      <th>8591</th>\n",
       "      <td>200.0</td>\n",
       "      <td>1</td>\n",
       "      <td>100.000000</td>\n",
       "      <td>3.530000</td>\n",
       "      <td>True</td>\n",
       "      <td>3.15</td>\n",
       "      <td>0.0</td>\n",
       "      <td>0</td>\n",
       "      <td>1100.0</td>\n",
       "      <td>True</td>\n",
       "      <td>2.8</td>\n",
       "      <td>42.1</td>\n",
       "      <td>104.0</td>\n",
       "      <td>55.4</td>\n",
       "      <td>77</td>\n",
       "      <td>200</td>\n",
       "    </tr>\n",
       "    <tr>\n",
       "      <th>8594</th>\n",
       "      <td>170.0</td>\n",
       "      <td>1</td>\n",
       "      <td>110.000000</td>\n",
       "      <td>3.880000</td>\n",
       "      <td>True</td>\n",
       "      <td>3.15</td>\n",
       "      <td>0.0</td>\n",
       "      <td>1</td>\n",
       "      <td>1250.0</td>\n",
       "      <td>True</td>\n",
       "      <td>3.5</td>\n",
       "      <td>53.2</td>\n",
       "      <td>116.0</td>\n",
       "      <td>56.5</td>\n",
       "      <td>77</td>\n",
       "      <td>200</td>\n",
       "    </tr>\n",
       "    <tr>\n",
       "      <th>8608</th>\n",
       "      <td>180.0</td>\n",
       "      <td>1</td>\n",
       "      <td>100.000000</td>\n",
       "      <td>3.530000</td>\n",
       "      <td>True</td>\n",
       "      <td>3.15</td>\n",
       "      <td>0.0</td>\n",
       "      <td>1</td>\n",
       "      <td>1100.0</td>\n",
       "      <td>True</td>\n",
       "      <td>2.8</td>\n",
       "      <td>43.3</td>\n",
       "      <td>102.0</td>\n",
       "      <td>55.0</td>\n",
       "      <td>999</td>\n",
       "      <td>200</td>\n",
       "    </tr>\n",
       "  </tbody>\n",
       "</table>\n",
       "<p>4115 rows × 16 columns</p>\n",
       "</div>"
      ],
      "text/plain": [
       "      approx_price_EUR  OS    weight_g  weight_oz  GPS_new  primary_cam_MP  \\\n",
       "0                170.0   1  260.000000   9.170000     True           13.00   \n",
       "1                250.0   1  169.000000   5.960000     True           13.00   \n",
       "4                230.0   1  166.000000   5.860000     True           13.00   \n",
       "6                200.0   1  152.606661   4.759246     True           13.00   \n",
       "7                110.0   1  125.000000   4.410000     True            8.00   \n",
       "...                ...  ..         ...        ...      ...             ...   \n",
       "8585             170.0   1  403.000000  14.220000     True            3.15   \n",
       "8587             250.0   1  120.000000   4.230000     True            5.00   \n",
       "8591             200.0   1  100.000000   3.530000     True            3.15   \n",
       "8594             170.0   1  110.000000   3.880000     True            3.15   \n",
       "8608             180.0   1  100.000000   3.530000     True            3.15   \n",
       "\n",
       "      secondary_cam_MP  GPU_new  battery_mah  battery_removable  \\\n",
       "0                  2.0        3       3400.0              False   \n",
       "1                  5.0        3       4080.0               True   \n",
       "4                 13.0        3       4020.0               True   \n",
       "6                  5.0        3       5000.0              False   \n",
       "7                  5.0        3       2000.0               True   \n",
       "...                ...      ...          ...                ...   \n",
       "8585               0.0        0       3400.0              False   \n",
       "8587               0.0        0       1400.0               True   \n",
       "8591               0.0        0       1100.0               True   \n",
       "8594               0.0        1       1250.0               True   \n",
       "8608               0.0        1       1100.0               True   \n",
       "\n",
       "      display_resolution_inches  screen_to_body_ratio_%  length_mm  width_mm  \\\n",
       "0                           7.0                    69.8      191.7     101.0   \n",
       "1                           5.5                    71.7      153.8      75.6   \n",
       "4                           5.5                    69.0      153.3      78.8   \n",
       "6                           5.5                    70.3      154.0      77.0   \n",
       "7                           5.0                    66.4      145.7      71.2   \n",
       "...                         ...                     ...        ...       ...   \n",
       "8585                        7.0                    66.0      192.0     110.0   \n",
       "8587                        4.3                    61.7      125.9      67.8   \n",
       "8591                        2.8                    42.1      104.0      55.4   \n",
       "8594                        3.5                    53.2      116.0      56.5   \n",
       "8608                        2.8                    43.3      102.0      55.0   \n",
       "\n",
       "      brand_idx price_Range  \n",
       "0             1         200  \n",
       "1             1         250  \n",
       "4             1         250  \n",
       "6             1         200  \n",
       "7             1         150  \n",
       "...         ...         ...  \n",
       "8585         77         200  \n",
       "8587         77         250  \n",
       "8591         77         200  \n",
       "8594         77         200  \n",
       "8608        999         200  \n",
       "\n",
       "[4115 rows x 16 columns]"
      ]
     },
     "execution_count": 96,
     "metadata": {},
     "output_type": "execute_result"
    }
   ],
   "source": [
    "phones_ready"
   ]
  },
  {
   "cell_type": "code",
   "execution_count": 101,
   "metadata": {},
   "outputs": [],
   "source": [
    "phones_ready.to_csv('GSMArena.csv', index=False)"
   ]
  }
 ],
 "metadata": {
  "kernelspec": {
   "display_name": "Python 3",
   "language": "python",
   "name": "python3"
  },
  "language_info": {
   "codemirror_mode": {
    "name": "ipython",
    "version": 3
   },
   "file_extension": ".py",
   "mimetype": "text/x-python",
   "name": "python",
   "nbconvert_exporter": "python",
   "pygments_lexer": "ipython3",
   "version": "3.10.2"
  },
  "vscode": {
   "interpreter": {
    "hash": "239d1f10a7b779bc039f268e7a23836b8f99aff37dfb32b6c72a9342711a1fbe"
   }
  }
 },
 "nbformat": 4,
 "nbformat_minor": 1
}
