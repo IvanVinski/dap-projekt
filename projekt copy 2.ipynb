{
 "cells": [
  {
   "attachments": {},
   "cell_type": "markdown",
   "metadata": {},
   "source": [
    "# Dubinska analiza podataka - projektni zadatak\n",
    "\n",
    "## 1. Predprocesiranje podataka"
   ]
  },
  {
   "cell_type": "code",
   "execution_count": 4,
   "metadata": {
    "vscode": {
     "languageId": "r"
    }
   },
   "outputs": [
    {
     "name": "stderr",
     "output_type": "stream",
     "text": [
      "\n",
      "Attaching package: 'dplyr'\n",
      "\n",
      "\n",
      "The following objects are masked from 'package:stats':\n",
      "\n",
      "    filter, lag\n",
      "\n",
      "\n",
      "The following objects are masked from 'package:base':\n",
      "\n",
      "    intersect, setdiff, setequal, union\n",
      "\n",
      "\n",
      "\n",
      "Attaching package: 'neuralnet'\n",
      "\n",
      "\n",
      "The following object is masked from 'package:dplyr':\n",
      "\n",
      "    compute\n",
      "\n",
      "\n",
      "Loading required package: ggplot2\n",
      "\n",
      "Loading required package: lattice\n",
      "\n"
     ]
    }
   ],
   "source": [
    "library(tidyr)\n",
    "library(dplyr)\n",
    "library(neuralnet)\n",
    "library(caret)"
   ]
  },
  {
   "cell_type": "code",
   "execution_count": 13,
   "metadata": {
    "vscode": {
     "languageId": "r"
    }
   },
   "outputs": [],
   "source": [
    "phoneData <- read.csv('GSMArena.csv')\n",
    "\n",
    "#str(phoneData)"
   ]
  },
  {
   "cell_type": "code",
   "execution_count": 14,
   "metadata": {
    "vscode": {
     "languageId": "r"
    }
   },
   "outputs": [],
   "source": [
    "phoneData <- phoneData[ -c(4,15) ]\n",
    "#str(phoneData)"
   ]
  },
  {
   "cell_type": "code",
   "execution_count": 15,
   "metadata": {
    "vscode": {
     "languageId": "r"
    }
   },
   "outputs": [],
   "source": [
    "phoneData <- phoneData %>%\n",
    "    mutate(across(c(2:3,5:8,10:13), scale)) %>%\n",
    "    mutate(across(c(GPS_new, battery_removable), ~as.numeric(ifelse(.x == 'True', 1, 0)))) %>%\n",
    "    mutate(PriceCategory = ifelse(approx_price_EUR <= 200, '200',\n",
    "                           ifelse(approx_price_EUR <= 500, '500', '>500')))"
   ]
  },
  {
   "cell_type": "code",
   "execution_count": 16,
   "metadata": {
    "vscode": {
     "languageId": "r"
    }
   },
   "outputs": [
    {
     "data": {
      "text/plain": [
       "\n",
       ">500  200  500 \n",
       " 121 2859 1135 "
      ]
     },
     "metadata": {},
     "output_type": "display_data"
    }
   ],
   "source": [
    "table(phoneData$PriceCategory)"
   ]
  },
  {
   "cell_type": "code",
   "execution_count": 5,
   "metadata": {
    "vscode": {
     "languageId": "r"
    }
   },
   "outputs": [
    {
     "data": {
      "text/html": [
       "<style>\n",
       ".list-inline {list-style: none; margin:0; padding: 0}\n",
       ".list-inline>li {display: inline-block}\n",
       ".list-inline>li:not(:last-child)::after {content: \"\\00b7\"; padding: 0 .5ex}\n",
       "</style>\n",
       "<ol class=list-inline><li>'approx_price_EUR'</li><li>'OS'</li><li>'weight_g'</li><li>'GPS_new'</li><li>'primary_cam_MP'</li><li>'secondary_cam_MP'</li><li>'GPU_new'</li><li>'battery_mah'</li><li>'battery_removable'</li><li>'display_resolution_inches'</li><li>'screen_to_body_ratio_.'</li><li>'length_mm'</li><li>'width_mm'</li><li>'price_Range'</li><li>'PriceCategory'</li></ol>\n"
      ],
      "text/latex": [
       "\\begin{enumerate*}\n",
       "\\item 'approx\\_price\\_EUR'\n",
       "\\item 'OS'\n",
       "\\item 'weight\\_g'\n",
       "\\item 'GPS\\_new'\n",
       "\\item 'primary\\_cam\\_MP'\n",
       "\\item 'secondary\\_cam\\_MP'\n",
       "\\item 'GPU\\_new'\n",
       "\\item 'battery\\_mah'\n",
       "\\item 'battery\\_removable'\n",
       "\\item 'display\\_resolution\\_inches'\n",
       "\\item 'screen\\_to\\_body\\_ratio\\_.'\n",
       "\\item 'length\\_mm'\n",
       "\\item 'width\\_mm'\n",
       "\\item 'price\\_Range'\n",
       "\\item 'PriceCategory'\n",
       "\\end{enumerate*}\n"
      ],
      "text/markdown": [
       "1. 'approx_price_EUR'\n",
       "2. 'OS'\n",
       "3. 'weight_g'\n",
       "4. 'GPS_new'\n",
       "5. 'primary_cam_MP'\n",
       "6. 'secondary_cam_MP'\n",
       "7. 'GPU_new'\n",
       "8. 'battery_mah'\n",
       "9. 'battery_removable'\n",
       "10. 'display_resolution_inches'\n",
       "11. 'screen_to_body_ratio_.'\n",
       "12. 'length_mm'\n",
       "13. 'width_mm'\n",
       "14. 'price_Range'\n",
       "15. 'PriceCategory'\n",
       "\n",
       "\n"
      ],
      "text/plain": [
       " [1] \"approx_price_EUR\"          \"OS\"                       \n",
       " [3] \"weight_g\"                  \"GPS_new\"                  \n",
       " [5] \"primary_cam_MP\"            \"secondary_cam_MP\"         \n",
       " [7] \"GPU_new\"                   \"battery_mah\"              \n",
       " [9] \"battery_removable\"         \"display_resolution_inches\"\n",
       "[11] \"screen_to_body_ratio_.\"    \"length_mm\"                \n",
       "[13] \"width_mm\"                  \"price_Range\"              \n",
       "[15] \"PriceCategory\"            "
      ]
     },
     "metadata": {},
     "output_type": "display_data"
    }
   ],
   "source": [
    "names(phoneData)"
   ]
  },
  {
   "cell_type": "code",
   "execution_count": 17,
   "metadata": {
    "vscode": {
     "languageId": "r"
    }
   },
   "outputs": [],
   "source": [
    "phoneData_clean <- phoneData[, -c(1,14)]"
   ]
  },
  {
   "attachments": {},
   "cell_type": "markdown",
   "metadata": {},
   "source": [
    "## 2. Klasifikacija - umjetne neuronske mreže\n",
    "\n",
    "#### Na ovom datasetu radi dobro, točnost 95%"
   ]
  },
  {
   "cell_type": "code",
   "execution_count": 18,
   "metadata": {
    "vscode": {
     "languageId": "r"
    }
   },
   "outputs": [
    {
     "name": "stderr",
     "output_type": "stream",
     "text": [
      "hidden: 6    thresh: 0.01    rep: 1/1    steps: \n",
      "   1000\tmin thresh: 0.230423979162757\n",
      "                                                \n",
      "   2000\tmin thresh: 0.11744416210865\n",
      "                                                \n",
      "   3000\tmin thresh: 0.0746629290696639\n",
      "                                                \n",
      "   4000\tmin thresh: 0.0489593319255583\n",
      "                                                \n",
      "   5000\tmin thresh: 0.0329522019359734\n",
      "                                                \n",
      "   6000\tmin thresh: 0.0219641740119735\n",
      "                                                \n",
      "   7000\tmin thresh: 0.021016411245173\n",
      "                                                \n",
      "   8000\tmin thresh: 0.0183690744621649\n",
      "                                                \n",
      "   9000\tmin thresh: 0.0173255076723771\n",
      "                                                \n",
      "  10000\tmin thresh: 0.01606009105724\n",
      "                                                \n",
      "  11000\tmin thresh: 0.01606009105724\n",
      "                                                \n",
      "  12000\tmin thresh: 0.0148481014602686\n",
      "                                                \n",
      "  13000\tmin thresh: 0.0118879651998759\n",
      "                                                \n",
      "  14000\tmin thresh: 0.0118879651998759\n",
      "                                                \n",
      "  15000\tmin thresh: 0.0118879651998759\n",
      "                                                \n",
      "  16000\tmin thresh: 0.0118409860397649\n",
      "                                                \n",
      "  17000\tmin thresh: 0.0118409860397649\n",
      "                                                \n",
      "  18000\tmin thresh: 0.0110008930709963\n",
      "                                                \n",
      "  19000\tmin thresh: 0.0110008930709963\n",
      "                                                \n",
      "  20000\tmin thresh: 0.010414023852321\n",
      "                                                \n",
      "  21000\tmin thresh: 0.010414023852321\n",
      "                                                \n",
      "  22000\tmin thresh: 0.0102963441837784\n",
      "                                                \n",
      "  23000\tmin thresh: 0.0102963441837784\n",
      "                                                \n",
      "  24000\tmin thresh: 0.0102963441837784\n",
      "                                                \n",
      "  25000\tmin thresh: 0.0102963441837784\n",
      "                                                \n",
      "  26000\tmin thresh: 0.0102963441837784\n",
      "                                                \n",
      "  27000\tmin thresh: 0.0102963441837784\n",
      "                                                \n",
      "  28000\tmin thresh: 0.0102963441837784\n",
      "                                                \n",
      "  29000\tmin thresh: 0.0102963441837784\n",
      "                                                \n",
      "  30000\tmin thresh: 0.0102963441837784\n",
      "                                                \n",
      "  31000\tmin thresh: 0.0102963441837784\n",
      "                                                \n",
      "  32000\tmin thresh: 0.0102963441837784\n",
      "                                                \n",
      "  33000\tmin thresh: 0.0102963441837784\n",
      "                                                \n",
      "  34000\tmin thresh: 0.0102963441837784\n",
      "                                                \n",
      "  35000\tmin thresh: 0.0102963441837784\n",
      "                                                \n",
      "  36000\tmin thresh: 0.0102963441837784\n",
      "                                                \n",
      "  37000\tmin thresh: 0.0102963441837784\n",
      "                                                \n",
      "  38000\tmin thresh: 0.0102963441837784\n",
      "                                                \n",
      "  39000\tmin thresh: 0.0102963441837784\n",
      "                                                \n",
      "  40000\tmin thresh: 0.0102963441837784\n",
      "                                                \n",
      "  41000\tmin thresh: 0.0102963441837784\n",
      "                                                \n",
      "  42000\tmin thresh: 0.0102963441837784\n",
      "                                                \n",
      "  43000\tmin thresh: 0.0102963441837784\n",
      "                                                \n",
      "  44000\tmin thresh: 0.0100045527358475\n",
      "                                                \n",
      "  44761\n",
      "\terror: 355.2798 \n",
      "\ttime: 3.58 mins\n",
      "\n"
     ]
    }
   ],
   "source": [
    "indeksi = createDataPartition(phoneData_clean$PriceCategory, p = 0.7, list = FALSE)\n",
    "skup_tren <- phoneData_clean[indeksi, ]\n",
    "skup_test <- phoneData_clean[-indeksi, ] \n",
    "\n",
    "nn = neuralnet(PriceCategory ~ .,\n",
    "                data = skup_tren,\n",
    "                hidden = 6,\n",
    "                lifesign = 'full',\n",
    "                linear.output = FALSE,\n",
    "                stepmax = 100000)"
   ]
  },
  {
   "cell_type": "code",
   "execution_count": 19,
   "metadata": {
    "vscode": {
     "languageId": "r"
    }
   },
   "outputs": [
    {
     "data": {
      "image/png": "[encoded data removed]",
      "text/plain": [
       "plot without title"
      ]
     },
     "metadata": {
      "image/png": {
       "height": 420,
       "width": 420
      }
     },
     "output_type": "display_data"
    }
   ],
   "source": [
    "plot(nn, rep=1)"
   ]
  },
  {
   "cell_type": "code",
   "execution_count": 21,
   "metadata": {
    "vscode": {
     "languageId": "r"
    }
   },
   "outputs": [
    {
     "name": "stdout",
     "output_type": "stream",
     "text": [
      "Confusion Matrix and Statistics\n",
      "\n",
      "          Reference\n",
      "Prediction >500 200 500\n",
      "      >500    2   9  25\n",
      "      200     5 763  89\n",
      "      500     2 126 212\n",
      "\n",
      "Overall Statistics\n",
      "                                          \n",
      "               Accuracy : 0.7924          \n",
      "                 95% CI : (0.7686, 0.8147)\n",
      "    No Information Rate : 0.7283          \n",
      "    P-Value [Acc > NIR] : 1.224e-07       \n",
      "                                          \n",
      "                  Kappa : 0.5064          \n",
      "                                          \n",
      " Mcnemar's Test P-Value : 5.602e-06       \n",
      "\n",
      "Statistics by Class:\n",
      "\n",
      "                     Class: >500 Class: 200 Class: 500\n",
      "Sensitivity             0.222222     0.8497     0.6503\n",
      "Specificity             0.972222     0.7194     0.8589\n",
      "Pos Pred Value          0.055556     0.8903     0.6235\n",
      "Neg Pred Value          0.994152     0.6410     0.8723\n",
      "Prevalence              0.007299     0.7283     0.2644\n",
      "Detection Rate          0.001622     0.6188     0.1719\n",
      "Detection Prevalence    0.029197     0.6951     0.2758\n",
      "Balanced Accuracy       0.597222     0.7845     0.7546\n"
     ]
    }
   ],
   "source": [
    "predikcije <- neuralnet::compute(nn, rep = 1, skup_test[, -21])\n",
    "\n",
    "pred <- predikcije$net.result\n",
    "\n",
    "pred <- data.frame(\"pred\"=ifelse(max.col(pred[ ,1:3])==1, \">500\",\n",
    "                          ifelse(max.col(pred[ ,1:3])==2, \"200\", \"500\")))\n",
    "\n",
    "cm <- confusionMatrix(as.factor(skup_test$PriceCategory), as.factor(pred$pred))\n",
    " \n",
    "print(cm)"
   ]
  },
  {
   "attachments": {},
   "cell_type": "markdown",
   "metadata": {},
   "source": [
    "## 3. Ansambli - slučajne šume"
   ]
  },
  {
   "cell_type": "code",
   "execution_count": null,
   "metadata": {
    "vscode": {
     "languageId": "r"
    }
   },
   "outputs": [],
   "source": []
  },
  {
   "attachments": {},
   "cell_type": "markdown",
   "metadata": {},
   "source": [
    "## 4. Asocijacijska analiza - učenje asocijacijskih pravila"
   ]
  },
  {
   "cell_type": "code",
   "execution_count": null,
   "metadata": {
    "vscode": {
     "languageId": "r"
    }
   },
   "outputs": [],
   "source": []
  },
  {
   "attachments": {},
   "cell_type": "markdown",
   "metadata": {},
   "source": [
    "## 5. Grupiranje k-sredina"
   ]
  },
  {
   "cell_type": "code",
   "execution_count": null,
   "metadata": {
    "vscode": {
     "languageId": "r"
    }
   },
   "outputs": [],
   "source": []
  }
 ],
 "metadata": {
  "kernelspec": {
   "display_name": "R",
   "language": "R",
   "name": "ir"
  },
  "language_info": {
   "codemirror_mode": "r",
   "file_extension": ".r",
   "mimetype": "text/x-r-source",
   "name": "R",
   "pygments_lexer": "r",
   "version": "4.2.0"
  },
  "orig_nbformat": 4,
  "vscode": {
   "interpreter": {
    "hash": "14db06bdfd394122bf25225892f39b871a66dbe84d5cc7816bbc4d63a39e4b03"
   }
  }
 },
 "nbformat": 4,
 "nbformat_minor": 2
}
